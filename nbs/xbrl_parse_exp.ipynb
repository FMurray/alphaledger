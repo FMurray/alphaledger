{
 "cells": [
  {
   "cell_type": "code",
   "execution_count": 1,
   "metadata": {},
   "outputs": [],
   "source": [
    "%load_ext autoreload\n",
    "%autoreload 2"
   ]
  },
  {
   "cell_type": "code",
   "execution_count": 2,
   "metadata": {},
   "outputs": [],
   "source": [
    "import sys\n",
    "sys.argv = [sys.argv[0]]"
   ]
  },
  {
   "cell_type": "code",
   "execution_count": 4,
   "metadata": {},
   "outputs": [
    {
     "data": {
      "text/html": [
       "<pre style=\"white-space:pre;overflow-x:auto;line-height:normal;font-family:Menlo,'DejaVu Sans Mono',consolas,'Courier New',monospace\"><span style=\"color: #800080; text-decoration-color: #800080; font-weight: bold\">Using env file at /Users/forrest.murray/Documents/alphaledger/.env</span>\n",
       "</pre>\n"
      ],
      "text/plain": [
       "\u001b[1;35mUsing env file at \u001b[0m\u001b[1;35m/Users/forrest.murray/Documents/alphaledger/\u001b[0m\u001b[1;35m.env\u001b[0m\n"
      ]
     },
     "metadata": {},
     "output_type": "display_data"
    },
    {
     "name": "stderr",
     "output_type": "stream",
     "text": [
      "INFO:alphaledger.universe:Automatically triggering filings load for universe 'Cloud Computing Giants'...\n",
      "INFO:alphaledger.universe:No recent filings file found at /Users/forrest.murray/Documents/alphaledger/output/filings/Cloud Computing Giants/sec_filings.parquet or force_fetch=True. Fetching from SEC.\n",
      "INFO:alphaledger.universe:Fetching filings from SEC EDGAR...\n",
      "INFO:alphaledger.universe:Using 16 CIKs for fetching.\n",
      "INFO:alphaledger.sec:Searching for AMZN (CIK: 0001018724) filings between 2020-2025\n",
      "INFO:alphaledger.sec:Fetching filings index from: https://data.sec.gov/submissions/CIK0001018724.json\n",
      "INFO:alphaledger.sec:Successfully fetched filings index for CIK 0001018724\n",
      "INFO:alphaledger.sec:Found 6 10-K filings for AMZN between 2020-2025\n",
      "INFO:alphaledger.sec:Searching for MSFT (CIK: 0000789019) filings between 2020-2025\n",
      "INFO:alphaledger.sec:Fetching filings index from: https://data.sec.gov/submissions/CIK0000789019.json\n",
      "INFO:alphaledger.sec:Successfully fetched filings index for CIK 0000789019\n",
      "INFO:alphaledger.sec:Found 5 10-K filings for MSFT between 2020-2025\n",
      "INFO:alphaledger.sec:Searching for GOOGL (CIK: 0001652044) filings between 2020-2025\n",
      "INFO:alphaledger.sec:Fetching filings index from: https://data.sec.gov/submissions/CIK0001652044.json\n",
      "INFO:alphaledger.sec:Successfully fetched filings index for CIK 0001652044\n",
      "INFO:alphaledger.sec:Found 4 10-K filings for GOOGL between 2020-2025\n",
      "INFO:alphaledger.sec:Searching for IBM (CIK: 0000051143) filings between 2020-2025\n",
      "INFO:alphaledger.sec:Fetching filings index from: https://data.sec.gov/submissions/CIK0000051143.json\n",
      "INFO:alphaledger.sec:Successfully fetched filings index for CIK 0000051143\n",
      "INFO:alphaledger.sec:Found 6 10-K filings for IBM between 2020-2025\n",
      "INFO:alphaledger.sec:Searching for ORCL (CIK: 0001341439) filings between 2020-2025\n",
      "INFO:alphaledger.sec:Fetching filings index from: https://data.sec.gov/submissions/CIK0001341439.json\n",
      "INFO:alphaledger.sec:Successfully fetched filings index for CIK 0001341439\n",
      "INFO:alphaledger.sec:Found 5 10-K filings for ORCL between 2020-2025\n",
      "INFO:alphaledger.sec:Searching for CRM (CIK: 0001108524) filings between 2020-2025\n",
      "INFO:alphaledger.sec:Fetching filings index from: https://data.sec.gov/submissions/CIK0001108524.json\n",
      "INFO:alphaledger.sec:Successfully fetched filings index for CIK 0001108524\n",
      "INFO:alphaledger.sec:Found 3 10-K filings for CRM between 2020-2025\n",
      "INFO:alphaledger.sec:Searching for BABA (CIK: 0001577552) filings between 2020-2025\n",
      "INFO:alphaledger.sec:Fetching filings index from: https://data.sec.gov/submissions/CIK0001577552.json\n",
      "INFO:alphaledger.sec:Successfully fetched filings index for CIK 0001577552\n",
      "INFO:alphaledger.sec:No 10-K filings found in the recent filings for CIK 0001577552.\n",
      "INFO:alphaledger.sec:No 10-K filings found for BABA in period 2020-2025.\n",
      "INFO:alphaledger.sec:Searching for CSCO (CIK: 0000858877) filings between 2020-2025\n",
      "INFO:alphaledger.sec:Fetching filings index from: https://data.sec.gov/submissions/CIK0000858877.json\n",
      "INFO:alphaledger.sec:Successfully fetched filings index for CIK 0000858877\n",
      "INFO:alphaledger.sec:Found 5 10-K filings for CSCO between 2020-2025\n",
      "INFO:alphaledger.sec:Searching for AVGO (CIK: 0001730168) filings between 2020-2025\n",
      "INFO:alphaledger.sec:Fetching filings index from: https://data.sec.gov/submissions/CIK0001730168.json\n",
      "INFO:alphaledger.sec:Successfully fetched filings index for CIK 0001730168\n",
      "INFO:alphaledger.sec:Found 5 10-K filings for AVGO between 2020-2025\n",
      "INFO:alphaledger.sec:Searching for SAP (CIK: 0001000184) filings between 2020-2025\n",
      "INFO:alphaledger.sec:Fetching filings index from: https://data.sec.gov/submissions/CIK0001000184.json\n",
      "INFO:alphaledger.sec:Successfully fetched filings index for CIK 0001000184\n",
      "INFO:alphaledger.sec:No 10-K filings found in the recent filings for CIK 0001000184.\n",
      "INFO:alphaledger.sec:No 10-K filings found for SAP in period 2020-2025.\n",
      "INFO:alphaledger.sec:Searching for ADBE (CIK: 0000796343) filings between 2020-2025\n",
      "INFO:alphaledger.sec:Fetching filings index from: https://data.sec.gov/submissions/CIK0000796343.json\n",
      "INFO:alphaledger.sec:Successfully fetched filings index for CIK 0000796343\n",
      "INFO:alphaledger.sec:Found 6 10-K filings for ADBE between 2020-2025\n",
      "INFO:alphaledger.sec:Searching for WDAY (CIK: 0001327811) filings between 2020-2025\n",
      "INFO:alphaledger.sec:Fetching filings index from: https://data.sec.gov/submissions/CIK0001327811.json\n",
      "INFO:alphaledger.sec:Successfully fetched filings index for CIK 0001327811\n",
      "INFO:alphaledger.sec:Found 6 10-K filings for WDAY between 2020-2025\n",
      "INFO:alphaledger.sec:Searching for ZM (CIK: 0001585521) filings between 2020-2025\n",
      "INFO:alphaledger.sec:Fetching filings index from: https://data.sec.gov/submissions/CIK0001585521.json\n",
      "INFO:alphaledger.sec:Successfully fetched filings index for CIK 0001585521\n",
      "INFO:alphaledger.sec:Found 6 10-K filings for ZM between 2020-2025\n",
      "INFO:alphaledger.sec:Searching for NOW (CIK: 0001373715) filings between 2020-2025\n",
      "INFO:alphaledger.sec:Fetching filings index from: https://data.sec.gov/submissions/CIK0001373715.json\n",
      "INFO:alphaledger.sec:Successfully fetched filings index for CIK 0001373715\n",
      "INFO:alphaledger.sec:Found 5 10-K filings for NOW between 2020-2025\n",
      "INFO:alphaledger.sec:Searching for NET (CIK: 0001477333) filings between 2020-2025\n",
      "INFO:alphaledger.sec:Fetching filings index from: https://data.sec.gov/submissions/CIK0001477333.json\n",
      "INFO:alphaledger.sec:Successfully fetched filings index for CIK 0001477333\n",
      "INFO:alphaledger.sec:Found 6 10-K filings for NET between 2020-2025\n",
      "INFO:alphaledger.sec:Searching for DDOG (CIK: 0001561550) filings between 2020-2025\n",
      "INFO:alphaledger.sec:Fetching filings index from: https://data.sec.gov/submissions/CIK0001561550.json\n",
      "INFO:alphaledger.sec:Successfully fetched filings index for CIK 0001561550\n",
      "INFO:alphaledger.sec:Found 5 10-K filings for DDOG between 2020-2025\n",
      "INFO:alphaledger.sec:Combined 73 filings for universe 'Cloud Computing Giants'.\n",
      "INFO:alphaledger.universe:Successfully fetched 73 filings from SEC.\n",
      "INFO:alphaledger.sec:Saved 73 filings to /Users/forrest.murray/Documents/alphaledger/output/filings/Cloud Computing Giants/sec_filings_Cloud Computing Giants.parquet\n",
      "INFO:alphaledger.universe:Saved fetched filings to: /Users/forrest.murray/Documents/alphaledger/output/filings/Cloud Computing Giants/sec_filings_Cloud Computing Giants.parquet\n"
     ]
    },
    {
     "name": "stdout",
     "output_type": "stream",
     "text": [
      "['AMZN', 'MSFT', 'GOOGL', 'IBM', 'ORCL', 'CRM', 'BABA', 'CSCO', 'AVGO', 'SAP', 'ADBE', 'WDAY', 'ZM', 'NOW', 'NET', 'DDOG']\n"
     ]
    }
   ],
   "source": [
    "from alphaledger.config import settings\n",
    "from alphaledger.universe import load_from_yaml\n",
    "from alphaledger.sec import EDGARFetcher, load_ticker_to_cik_mapping\n",
    "import pathlib\n",
    "\n",
    "edgar_fetcher = EDGARFetcher(settings.sec_user_agent)\n",
    "universe_path = pathlib.Path(settings.universe_dir, settings.universe_name + \".yaml\")\n",
    "\n",
    "universe = load_from_yaml(universe_path)\n",
    "uni_tickers = universe.get_tickers()\n",
    "\n",
    "print(uni_tickers)"
   ]
  },
  {
   "cell_type": "code",
   "execution_count": 5,
   "metadata": {},
   "outputs": [
    {
     "name": "stderr",
     "output_type": "stream",
     "text": [
      "INFO:alphaledger.sec:Searching for AMZN (CIK: 0001018724) filings between 2020-2025\n",
      "INFO:alphaledger.sec:Fetching filings index from: https://data.sec.gov/submissions/CIK0001018724.json\n",
      "INFO:alphaledger.sec:Successfully fetched filings index for CIK 0001018724\n",
      "INFO:alphaledger.sec:Found 6 10-K filings for AMZN between 2020-2025\n",
      "INFO:alphaledger.sec:Searching for MSFT (CIK: 0000789019) filings between 2020-2025\n",
      "INFO:alphaledger.sec:Fetching filings index from: https://data.sec.gov/submissions/CIK0000789019.json\n",
      "INFO:alphaledger.sec:Successfully fetched filings index for CIK 0000789019\n",
      "INFO:alphaledger.sec:Found 5 10-K filings for MSFT between 2020-2025\n",
      "INFO:alphaledger.sec:Searching for GOOGL (CIK: 0001652044) filings between 2020-2025\n",
      "INFO:alphaledger.sec:Fetching filings index from: https://data.sec.gov/submissions/CIK0001652044.json\n",
      "INFO:alphaledger.sec:Successfully fetched filings index for CIK 0001652044\n",
      "INFO:alphaledger.sec:Found 4 10-K filings for GOOGL between 2020-2025\n",
      "INFO:alphaledger.sec:Searching for IBM (CIK: 0000051143) filings between 2020-2025\n",
      "INFO:alphaledger.sec:Fetching filings index from: https://data.sec.gov/submissions/CIK0000051143.json\n",
      "INFO:alphaledger.sec:Successfully fetched filings index for CIK 0000051143\n",
      "INFO:alphaledger.sec:Found 6 10-K filings for IBM between 2020-2025\n",
      "INFO:alphaledger.sec:Searching for ORCL (CIK: 0001341439) filings between 2020-2025\n",
      "INFO:alphaledger.sec:Fetching filings index from: https://data.sec.gov/submissions/CIK0001341439.json\n",
      "INFO:alphaledger.sec:Successfully fetched filings index for CIK 0001341439\n",
      "INFO:alphaledger.sec:Found 5 10-K filings for ORCL between 2020-2025\n",
      "INFO:alphaledger.sec:Searching for CRM (CIK: 0001108524) filings between 2020-2025\n",
      "INFO:alphaledger.sec:Fetching filings index from: https://data.sec.gov/submissions/CIK0001108524.json\n",
      "INFO:alphaledger.sec:Successfully fetched filings index for CIK 0001108524\n",
      "INFO:alphaledger.sec:Found 3 10-K filings for CRM between 2020-2025\n",
      "INFO:alphaledger.sec:Searching for BABA (CIK: 0001577552) filings between 2020-2025\n",
      "INFO:alphaledger.sec:Fetching filings index from: https://data.sec.gov/submissions/CIK0001577552.json\n",
      "INFO:alphaledger.sec:Successfully fetched filings index for CIK 0001577552\n",
      "INFO:alphaledger.sec:No 10-K filings found in the recent filings for CIK 0001577552.\n",
      "INFO:alphaledger.sec:No 10-K filings found for BABA in period 2020-2025.\n",
      "INFO:alphaledger.sec:Searching for CSCO (CIK: 0000858877) filings between 2020-2025\n",
      "INFO:alphaledger.sec:Fetching filings index from: https://data.sec.gov/submissions/CIK0000858877.json\n",
      "INFO:alphaledger.sec:Successfully fetched filings index for CIK 0000858877\n",
      "INFO:alphaledger.sec:Found 5 10-K filings for CSCO between 2020-2025\n",
      "INFO:alphaledger.sec:Searching for AVGO (CIK: 0001730168) filings between 2020-2025\n",
      "INFO:alphaledger.sec:Fetching filings index from: https://data.sec.gov/submissions/CIK0001730168.json\n",
      "INFO:alphaledger.sec:Successfully fetched filings index for CIK 0001730168\n",
      "INFO:alphaledger.sec:Found 5 10-K filings for AVGO between 2020-2025\n",
      "INFO:alphaledger.sec:Searching for SAP (CIK: 0001000184) filings between 2020-2025\n",
      "INFO:alphaledger.sec:Fetching filings index from: https://data.sec.gov/submissions/CIK0001000184.json\n",
      "INFO:alphaledger.sec:Successfully fetched filings index for CIK 0001000184\n",
      "INFO:alphaledger.sec:No 10-K filings found in the recent filings for CIK 0001000184.\n",
      "INFO:alphaledger.sec:No 10-K filings found for SAP in period 2020-2025.\n",
      "INFO:alphaledger.sec:Searching for ADBE (CIK: 0000796343) filings between 2020-2025\n",
      "INFO:alphaledger.sec:Fetching filings index from: https://data.sec.gov/submissions/CIK0000796343.json\n",
      "INFO:alphaledger.sec:Successfully fetched filings index for CIK 0000796343\n",
      "INFO:alphaledger.sec:Found 6 10-K filings for ADBE between 2020-2025\n",
      "INFO:alphaledger.sec:Searching for WDAY (CIK: 0001327811) filings between 2020-2025\n",
      "INFO:alphaledger.sec:Fetching filings index from: https://data.sec.gov/submissions/CIK0001327811.json\n",
      "INFO:alphaledger.sec:Successfully fetched filings index for CIK 0001327811\n",
      "INFO:alphaledger.sec:Found 6 10-K filings for WDAY between 2020-2025\n",
      "INFO:alphaledger.sec:Searching for ZM (CIK: 0001585521) filings between 2020-2025\n",
      "INFO:alphaledger.sec:Fetching filings index from: https://data.sec.gov/submissions/CIK0001585521.json\n",
      "INFO:alphaledger.sec:Successfully fetched filings index for CIK 0001585521\n",
      "INFO:alphaledger.sec:Found 6 10-K filings for ZM between 2020-2025\n",
      "INFO:alphaledger.sec:Searching for NOW (CIK: 0001373715) filings between 2020-2025\n",
      "INFO:alphaledger.sec:Fetching filings index from: https://data.sec.gov/submissions/CIK0001373715.json\n",
      "INFO:alphaledger.sec:Successfully fetched filings index for CIK 0001373715\n",
      "INFO:alphaledger.sec:Found 5 10-K filings for NOW between 2020-2025\n",
      "INFO:alphaledger.sec:Searching for NET (CIK: 0001477333) filings between 2020-2025\n",
      "INFO:alphaledger.sec:Fetching filings index from: https://data.sec.gov/submissions/CIK0001477333.json\n",
      "INFO:alphaledger.sec:Successfully fetched filings index for CIK 0001477333\n",
      "INFO:alphaledger.sec:Found 6 10-K filings for NET between 2020-2025\n",
      "INFO:alphaledger.sec:Searching for DDOG (CIK: 0001561550) filings between 2020-2025\n",
      "INFO:alphaledger.sec:Fetching filings index from: https://data.sec.gov/submissions/CIK0001561550.json\n",
      "INFO:alphaledger.sec:Successfully fetched filings index for CIK 0001561550\n",
      "INFO:alphaledger.sec:Found 5 10-K filings for DDOG between 2020-2025\n",
      "INFO:alphaledger.sec:Combined 73 filings for universe 'Cloud Computing Giants'.\n"
     ]
    }
   ],
   "source": [
    "ticker_to_cik_mapping = load_ticker_to_cik_mapping(uni_tickers)\n",
    "filings_df = edgar_fetcher.fetch_filings_for_universe(universe, ticker_to_cik_mapping)"
   ]
  },
  {
   "cell_type": "code",
   "execution_count": 7,
   "metadata": {},
   "outputs": [
    {
     "name": "stdout",
     "output_type": "stream",
     "text": [
      "Saved 73 filings to /Users/forrest.murray/Documents/alphaledger/output/filings/sec_filings_universe.parquet\n"
     ]
    },
    {
     "data": {
      "text/plain": [
       "'/Users/forrest.murray/Documents/alphaledger/output/filings/sec_filings_universe.parquet'"
      ]
     },
     "execution_count": 7,
     "metadata": {},
     "output_type": "execute_result"
    }
   ],
   "source": [
    "edgar_fetcher.save_filings_to_disk(filings_df, settings.output_dir / \"filings\")"
   ]
  },
  {
   "cell_type": "code",
   "execution_count": 6,
   "metadata": {},
   "outputs": [
    {
     "name": "stderr",
     "output_type": "stream",
     "text": [
      "INFO:alphaledger.sec:Saved 73 filings to /Users/forrest.murray/Documents/alphaledger/output/filings/sec_filings_universe.delta\n"
     ]
    },
    {
     "data": {
      "text/plain": [
       "'/Users/forrest.murray/Documents/alphaledger/output/filings/sec_filings_universe.delta'"
      ]
     },
     "execution_count": 6,
     "metadata": {},
     "output_type": "execute_result"
    }
   ],
   "source": [
    "edgar_fetcher.save_filings_to_disk(filings_df, settings.output_dir / \"filings\", file_format=\"delta\")"
   ]
  },
  {
   "cell_type": "code",
   "execution_count": 36,
   "metadata": {},
   "outputs": [
    {
     "name": "stderr",
     "output_type": "stream",
     "text": [
      "INFO:alphaledger.sec:Loading Delta file: /Users/forrest.murray/Documents/alphaledger/output/filings/sec_filings_universe.delta\n"
     ]
    }
   ],
   "source": [
    "import pathlib\n",
    "filings_df = edgar_fetcher.load_filings_from_disk(\"/Users/forrest.murray/Documents/alphaledger/output/filings/sec_filings_universe.delta\")"
   ]
  },
  {
   "cell_type": "code",
   "execution_count": 7,
   "metadata": {},
   "outputs": [],
   "source": [
    "import logging\n",
    "from xbrl.cache import HttpCache\n",
    "from xbrl.instance import XbrlParser, XbrlInstance\n",
    "\n",
    "from alphaledger.config import settings\n",
    "# just to see which files are downloaded\n",
    "# logging.basicConfig(level=logging.INFO)\n",
    "\n",
    "cache: HttpCache = HttpCache('./cache')\n",
    "cache.set_headers({'From': 'forrest.murray@databricks.com', 'User-Agent': settings.sec_user_agent})\n",
    "parser = XbrlParser(cache)\n",
    "\n",
    "# schema_url = \"https://www.sec.gov/Archives/edgar/data/1018724/000101872424000008/amzn-20231231.htm\"\n",
    "# inst: XbrlInstance = parser.parse_instance(schema_url)"
   ]
  },
  {
   "cell_type": "code",
   "execution_count": 42,
   "metadata": {},
   "outputs": [
    {
     "ename": "TypeError",
     "evalue": "IXBRLDocumentParser.__init__() takes 2 positional arguments but 3 were given",
     "output_type": "error",
     "traceback": [
      "\u001b[31m---------------------------------------------------------------------------\u001b[39m",
      "\u001b[31mTypeError\u001b[39m                                 Traceback (most recent call last)",
      "\u001b[36mCell\u001b[39m\u001b[36m \u001b[39m\u001b[32mIn[42]\u001b[39m\u001b[32m, line 3\u001b[39m\n\u001b[32m      1\u001b[39m \u001b[38;5;28;01mfrom\u001b[39;00m\u001b[38;5;250m \u001b[39m\u001b[34;01malphaledger\u001b[39;00m\u001b[34;01m.\u001b[39;00m\u001b[34;01mprocess_xbrl\u001b[39;00m\u001b[38;5;250m \u001b[39m\u001b[38;5;28;01mimport\u001b[39;00m IXBRLDocumentParser\n\u001b[32m----> \u001b[39m\u001b[32m3\u001b[39m ixbrl_parser = \u001b[43mIXBRLDocumentParser\u001b[49m\u001b[43m(\u001b[49m\u001b[33;43m\"\u001b[39;49m\u001b[33;43m./cache/www.sec.gov/Archives/edgar/data/1018724/000101872424000008/amzn-20231231.htm\u001b[39;49m\u001b[33;43m\"\u001b[39;49m\u001b[43m,\u001b[49m\u001b[43m \u001b[49m\u001b[43mgaap_facts\u001b[49m\u001b[43m)\u001b[49m\n\u001b[32m      5\u001b[39m document = ixbrl_parser.parse()\n",
      "\u001b[31mTypeError\u001b[39m: IXBRLDocumentParser.__init__() takes 2 positional arguments but 3 were given"
     ]
    }
   ],
   "source": [
    "from alphaledger.process_xbrl import IXBRLDocumentParser\n",
    "\n",
    "ixbrl_parser = IXBRLDocumentParser(\"./cache/www.sec.gov/Archives/edgar/data/1018724/000101872424000008/amzn-20231231.htm\", gaap_facts)\n",
    "\n",
    "document = ixbrl_parser.parse()\n"
   ]
  },
  {
   "cell_type": "code",
   "execution_count": 13,
   "metadata": {},
   "outputs": [
    {
     "name": "stdout",
     "output_type": "stream",
     "text": [
      "Processing: https://www.sec.gov/Archives/edgar/data/0001018724/000101872425000004/amzn-20241231.htm\n"
     ]
    },
    {
     "name": "stderr",
     "output_type": "stream",
     "text": [
      "WARNING:root:Found 240 tags with IDs that were NOT in the provided facts dictionary. First 5 unmatched: ['f-32', 'f-33', 'f-34', 'f-35', 'f-529']\n"
     ]
    },
    {
     "name": "stdout",
     "output_type": "stream",
     "text": [
      "Processing: https://www.sec.gov/Archives/edgar/data/0001018724/000101872424000008/amzn-20231231.htm\n"
     ]
    },
    {
     "name": "stderr",
     "output_type": "stream",
     "text": [
      "WARNING:root:Found 227 tags with IDs that were NOT in the provided facts dictionary. First 5 unmatched: ['f-32', 'f-33', 'f-34', 'f-35', 'f-528']\n"
     ]
    },
    {
     "name": "stdout",
     "output_type": "stream",
     "text": [
      "Processing: https://www.sec.gov/Archives/edgar/data/0001018724/000101872423000004/amzn-20221231.htm\n"
     ]
    },
    {
     "name": "stderr",
     "output_type": "stream",
     "text": [
      "WARNING:root:Found 188 tags with IDs that were NOT in the provided facts dictionary. First 5 unmatched: ['id3VybDovL2RvY3MudjEvZG9jOmNjMzJjNWM3MzI4NTRiN2Y5OTc1OTI5YzU3Y2Q1YmQ0L3NlYzpjYzMyYzVjNzMyODU0YjdmOTk3NTkyOWM1N2NkNWJkNF80L2ZyYWc6ZTMxM2QwNTYwMjg3NDljOGI4MGYxN2Y4YjkxYmQ2M2IvdGFibGU6ZDY4ZjdlZjE0NTQ5NGQ2NTliNTBiZGRlN2FmYWFlY2UvdGFibGVyYW5nZTpkNjhmN2VmMTQ1NDk0ZDY1OWI1MGJkZGU3YWZhYWVjZV8yLTEtMS0xLTIwMTA2Mg_5bd02d62-8103-45fa-98f6-b0dcedfc79a6', 'id3VybDovL2RvY3MudjEvZG9jOmNjMzJjNWM3MzI4NTRiN2Y5OTc1OTI5YzU3Y2Q1YmQ0L3NlYzpjYzMyYzVjNzMyODU0YjdmOTk3NTkyOWM1N2NkNWJkNF80L2ZyYWc6ZTMxM2QwNTYwMjg3NDljOGI4MGYxN2Y4YjkxYmQ2M2IvdGFibGU6ZDY4ZjdlZjE0NTQ5NGQ2NTliNTBiZGRlN2FmYWFlY2UvdGFibGVyYW5nZTpkNjhmN2VmMTQ1NDk0ZDY1OWI1MGJkZGU3YWZhYWVjZV8zLTEtMS0xLTIwMTA2Mg_d9732345-7984-4dd5-b3d1-a160dcfe0c47', 'id3VybDovL2RvY3MudjEvZG9jOmNjMzJjNWM3MzI4NTRiN2Y5OTc1OTI5YzU3Y2Q1YmQ0L3NlYzpjYzMyYzVjNzMyODU0YjdmOTk3NTkyOWM1N2NkNWJkNF80L2ZyYWc6ZTMxM2QwNTYwMjg3NDljOGI4MGYxN2Y4YjkxYmQ2M2IvdGFibGU6ZDY4ZjdlZjE0NTQ5NGQ2NTliNTBiZGRlN2FmYWFlY2UvdGFibGVyYW5nZTpkNjhmN2VmMTQ1NDk0ZDY1OWI1MGJkZGU3YWZhYWVjZV80LTEtMS0xLTIwMTA2Mg_e08d9880-461a-4ea9-80ca-6b3f6df26625', 'id3VybDovL2RvY3MudjEvZG9jOmNjMzJjNWM3MzI4NTRiN2Y5OTc1OTI5YzU3Y2Q1YmQ0L3NlYzpjYzMyYzVjNzMyODU0YjdmOTk3NTkyOWM1N2NkNWJkNF80L2ZyYWc6ZTMxM2QwNTYwMjg3NDljOGI4MGYxN2Y4YjkxYmQ2M2IvdGFibGU6ZDY4ZjdlZjE0NTQ5NGQ2NTliNTBiZGRlN2FmYWFlY2UvdGFibGVyYW5nZTpkNjhmN2VmMTQ1NDk0ZDY1OWI1MGJkZGU3YWZhYWVjZV81LTEtMS0xLTIwMTA2Mg_b91f486f-9fc6-4ef0-bef7-9ce91c318bb5', 'id3VybDovL2RvY3MudjEvZG9jOmNjMzJjNWM3MzI4NTRiN2Y5OTc1OTI5YzU3Y2Q1YmQ0L3NlYzpjYzMyYzVjNzMyODU0YjdmOTk3NTkyOWM1N2NkNWJkNF8xODQvZnJhZzoyZmY5ZWYzZjBiZjA0MTc5ODE0NGMxNzgwODg0ZmU1Ny90ZXh0cmVnaW9uOjJmZjllZjNmMGJmMDQxNzk4MTQ0YzE3ODA4ODRmZTU3XzQzNA_c671e79a-a71b-4537-bfa9-d0dad4e05f64']\n"
     ]
    },
    {
     "name": "stdout",
     "output_type": "stream",
     "text": [
      "Processing: https://www.sec.gov/Archives/edgar/data/0001018724/000101872422000005/amzn-20211231.htm\n"
     ]
    },
    {
     "name": "stderr",
     "output_type": "stream",
     "text": [
      "WARNING:root:Found 183 tags with IDs that were NOT in the provided facts dictionary. First 5 unmatched: ['id3VybDovL2RvY3MudjEvZG9jOjEwZmZjYzBkYjVkNzRhYzVhMmRlN2NhMmFkNzMxZjUwL3NlYzoxMGZmY2MwZGI1ZDc0YWM1YTJkZTdjYTJhZDczMWY1MF80L2ZyYWc6MTk2NGNkZmY4OWU4NDcwMGJmOWMyZTkyOGJkNDA5M2EvdGFibGU6NzRmZjM4YzVkNmE0NDBkZDliYWZlYWFhYjYwOGEyYjIvdGFibGVyYW5nZTo3NGZmMzhjNWQ2YTQ0MGRkOWJhZmVhYWFiNjA4YTJiMl8yLTEtMS0xLTMyMzQx_80ffd584-400d-45b4-9335-a1927041f0e5', 'id3VybDovL2RvY3MudjEvZG9jOjEwZmZjYzBkYjVkNzRhYzVhMmRlN2NhMmFkNzMxZjUwL3NlYzoxMGZmY2MwZGI1ZDc0YWM1YTJkZTdjYTJhZDczMWY1MF80L2ZyYWc6MTk2NGNkZmY4OWU4NDcwMGJmOWMyZTkyOGJkNDA5M2EvdGFibGU6NzRmZjM4YzVkNmE0NDBkZDliYWZlYWFhYjYwOGEyYjIvdGFibGVyYW5nZTo3NGZmMzhjNWQ2YTQ0MGRkOWJhZmVhYWFiNjA4YTJiMl8zLTEtMS0xLTMyMzQx_85b9689a-7c6c-4a5d-b58d-b3420a8feac5', 'id3VybDovL2RvY3MudjEvZG9jOjEwZmZjYzBkYjVkNzRhYzVhMmRlN2NhMmFkNzMxZjUwL3NlYzoxMGZmY2MwZGI1ZDc0YWM1YTJkZTdjYTJhZDczMWY1MF80L2ZyYWc6MTk2NGNkZmY4OWU4NDcwMGJmOWMyZTkyOGJkNDA5M2EvdGFibGU6NzRmZjM4YzVkNmE0NDBkZDliYWZlYWFhYjYwOGEyYjIvdGFibGVyYW5nZTo3NGZmMzhjNWQ2YTQ0MGRkOWJhZmVhYWFiNjA4YTJiMl80LTEtMS0xLTMyMzQx_13facb2c-1fc5-4526-a26a-0f2de9a55832', 'id3VybDovL2RvY3MudjEvZG9jOjEwZmZjYzBkYjVkNzRhYzVhMmRlN2NhMmFkNzMxZjUwL3NlYzoxMGZmY2MwZGI1ZDc0YWM1YTJkZTdjYTJhZDczMWY1MF80L2ZyYWc6MTk2NGNkZmY4OWU4NDcwMGJmOWMyZTkyOGJkNDA5M2EvdGFibGU6NzRmZjM4YzVkNmE0NDBkZDliYWZlYWFhYjYwOGEyYjIvdGFibGVyYW5nZTo3NGZmMzhjNWQ2YTQ0MGRkOWJhZmVhYWFiNjA4YTJiMl81LTEtMS0xLTMyMzQx_01c3d03d-7ed5-42ff-9e3f-56f5874200f6', 'id3VybDovL2RvY3MudjEvZG9jOjEwZmZjYzBkYjVkNzRhYzVhMmRlN2NhMmFkNzMxZjUwL3NlYzoxMGZmY2MwZGI1ZDc0YWM1YTJkZTdjYTJhZDczMWY1MF8xNzUvZnJhZzoxNTU3ZTJlZTEwYWY0ODE0YmJkYjg1NmRkZDZlNjA4Ny90ZXh0cmVnaW9uOjE1NTdlMmVlMTBhZjQ4MTRiYmRiODU2ZGRkNmU2MDg3XzQzNA_a7004290-ab2f-4138-8ab9-7e3e1651ee92']\n"
     ]
    },
    {
     "name": "stdout",
     "output_type": "stream",
     "text": [
      "Processing: https://www.sec.gov/Archives/edgar/data/0001018724/000101872421000004/amzn-20201231.htm\n"
     ]
    },
    {
     "name": "stderr",
     "output_type": "stream",
     "text": [
      "WARNING:root:Found 160 tags with IDs that were NOT in the provided facts dictionary. First 5 unmatched: ['id3VybDovL2RvY3MudjEvZG9jOjc1ZGU5OGI5MDk3ZjQwZjNiNTg4NGU1NDFmNTMyNDIxL3NlYzo3NWRlOThiOTA5N2Y0MGYzYjU4ODRlNTQxZjUzMjQyMV80L2ZyYWc6MzQ1NWE2NDExYjEwNDAzODkwZGMzYjhhMjk4ZGZkOWMvdGFibGU6YzZkMTMwZTA5ZGUwNDA1YTliOTllYjU2ZWRjNmEzZmEvdGFibGVyYW5nZTpjNmQxMzBlMDlkZTA0MDVhOWI5OWViNTZlZGM2YTNmYV8yLTEtMS0xLTA_415e02db-35d3-4d98-8ba6-218fb7edda9f', 'id3VybDovL2RvY3MudjEvZG9jOjc1ZGU5OGI5MDk3ZjQwZjNiNTg4NGU1NDFmNTMyNDIxL3NlYzo3NWRlOThiOTA5N2Y0MGYzYjU4ODRlNTQxZjUzMjQyMV80L2ZyYWc6MzQ1NWE2NDExYjEwNDAzODkwZGMzYjhhMjk4ZGZkOWMvdGFibGU6YzZkMTMwZTA5ZGUwNDA1YTliOTllYjU2ZWRjNmEzZmEvdGFibGVyYW5nZTpjNmQxMzBlMDlkZTA0MDVhOWI5OWViNTZlZGM2YTNmYV8zLTEtMS0xLTA_a147510d-914f-45a9-8333-3fb1a1e464fd', 'id3VybDovL2RvY3MudjEvZG9jOjc1ZGU5OGI5MDk3ZjQwZjNiNTg4NGU1NDFmNTMyNDIxL3NlYzo3NWRlOThiOTA5N2Y0MGYzYjU4ODRlNTQxZjUzMjQyMV80L2ZyYWc6MzQ1NWE2NDExYjEwNDAzODkwZGMzYjhhMjk4ZGZkOWMvdGFibGU6YzZkMTMwZTA5ZGUwNDA1YTliOTllYjU2ZWRjNmEzZmEvdGFibGVyYW5nZTpjNmQxMzBlMDlkZTA0MDVhOWI5OWViNTZlZGM2YTNmYV80LTEtMS0xLTA_f133b678-1b92-4b91-a7e6-c4a28a398036', 'id3VybDovL2RvY3MudjEvZG9jOjc1ZGU5OGI5MDk3ZjQwZjNiNTg4NGU1NDFmNTMyNDIxL3NlYzo3NWRlOThiOTA5N2Y0MGYzYjU4ODRlNTQxZjUzMjQyMV80L2ZyYWc6MzQ1NWE2NDExYjEwNDAzODkwZGMzYjhhMjk4ZGZkOWMvdGFibGU6YzZkMTMwZTA5ZGUwNDA1YTliOTllYjU2ZWRjNmEzZmEvdGFibGVyYW5nZTpjNmQxMzBlMDlkZTA0MDVhOWI5OWViNTZlZGM2YTNmYV81LTEtMS0xLTA_43f80395-2125-4af5-9ed3-7283a71a8b33', 'id3VybDovL2RvY3MudjEvZG9jOjc1ZGU5OGI5MDk3ZjQwZjNiNTg4NGU1NDFmNTMyNDIxL3NlYzo3NWRlOThiOTA5N2Y0MGYzYjU4ODRlNTQxZjUzMjQyMV84NS9mcmFnOmI1ZjkxZTlhZmMzMjQ3ZGNhNzVlOWY4OTFhMTlmODE1L3RleHRyZWdpb246YjVmOTFlOWFmYzMyNDdkY2E3NWU5Zjg5MWExOWY4MTVfMTA5OTUxMTY3NjI2Ng_bec44fae-5e5d-4072-ac1f-21b0fea70ac3']\n"
     ]
    },
    {
     "name": "stdout",
     "output_type": "stream",
     "text": [
      "Processing: https://www.sec.gov/Archives/edgar/data/0001018724/000101872420000004/amzn-20191231x10k.htm\n"
     ]
    },
    {
     "name": "stderr",
     "output_type": "stream",
     "text": [
      "WARNING:root:Found 152 tags with IDs that were NOT in the provided facts dictionary. First 5 unmatched: ['Fact-C4206A421BA32773FC8480286ED4707F-wk-Fact-C4206A421BA32773FC8480286ED4707F', 'Fact-4F565891401F35955ADCF2CD58CBE18E-wk-Fact-4F565891401F35955ADCF2CD58CBE18E', 'Fact-5C154B37788994637166F2B0434D54DB-wk-Fact-5C154B37788994637166F2B0434D54DB', 'Fact-7D2D9178F51B4C1B1DEC80286EF28225-wk-Fact-7D2D9178F51B4C1B1DEC80286EF28225', 'Fact-458C63FEA4D9ABEA2C0F68468F0868F8-wk-Fact-458C63FEA4D9ABEA2C0F68468F0868F8']\n"
     ]
    },
    {
     "name": "stdout",
     "output_type": "stream",
     "text": [
      "Processing: https://www.sec.gov/Archives/edgar/data/0000789019/000095017024087843/msft-20240630.htm\n"
     ]
    },
    {
     "name": "stderr",
     "output_type": "stream",
     "text": [
      "WARNING:root:Found 191 tags with IDs that were NOT in the provided facts dictionary. First 5 unmatched: ['F_928f4a1b-afa7-4c7a-881e-ad9ddc4747a9', 'F_b5f88b7a-48e8-4ea2-8da2-096878ab8f78', 'F_d10c2222-328b-4b9a-ab7b-b534b6a5cc60', 'F_c3a0478b-6842-4f5c-9468-32ec85f35112', 'F_b0e5f0ad-27e6-4a1b-8649-28ce5d2cfca1']\n"
     ]
    },
    {
     "name": "stdout",
     "output_type": "stream",
     "text": [
      "Processing: https://www.sec.gov/Archives/edgar/data/0000789019/000095017023035122/msft-20230630.htm\n"
     ]
    },
    {
     "name": "stderr",
     "output_type": "stream",
     "text": [
      "WARNING:root:Found 182 tags with IDs that were NOT in the provided facts dictionary. First 5 unmatched: ['F_4d46ed72-a63d-4d4c-9608-a10bafdee0b5', 'F_ac75e0f7-8ef2-4e37-9a47-400c7df0322c', 'F_6d1a8a53-ae44-4b79-be66-d5d854a44c24', 'F_c142108c-73fa-4431-a4a6-94a822aaeef0', 'F_81a37ece-0280-404c-975a-a09789d1ffcd']\n"
     ]
    },
    {
     "name": "stdout",
     "output_type": "stream",
     "text": [
      "Processing: https://www.sec.gov/Archives/edgar/data/0000789019/000156459022026876/msft-10k_20220630.htm\n"
     ]
    },
    {
     "name": "stderr",
     "output_type": "stream",
     "text": [
      "WARNING:root:Found 170 tags with IDs that were NOT in the provided facts dictionary. First 5 unmatched: ['F_000001', 'F_000004', 'F_000007', 'F_000008', 'F_001731']\n"
     ]
    },
    {
     "name": "stdout",
     "output_type": "stream",
     "text": [
      "Processing: https://www.sec.gov/Archives/edgar/data/0000789019/000156459021039151/msft-10k_20210630.htm\n"
     ]
    },
    {
     "name": "stderr",
     "output_type": "stream",
     "text": [
      "WARNING:root:Found 173 tags with IDs that were NOT in the provided facts dictionary. First 5 unmatched: ['F_000001', 'F_000004', 'F_000007', 'F_000008', 'F_001775']\n"
     ]
    },
    {
     "name": "stdout",
     "output_type": "stream",
     "text": [
      "Processing: https://www.sec.gov/Archives/edgar/data/0000789019/000156459020034944/msft-10k_20200630.htm\n"
     ]
    },
    {
     "name": "stderr",
     "output_type": "stream",
     "text": [
      "WARNING:root:Found 163 tags with IDs that were NOT in the provided facts dictionary. First 5 unmatched: ['F_000001', 'F_000004', 'F_000007', 'F_000008', 'F_000000']\n"
     ]
    },
    {
     "name": "stdout",
     "output_type": "stream",
     "text": [
      "Processing: https://www.sec.gov/Archives/edgar/data/0001652044/000165204425000014/goog-20241231.htm\n"
     ]
    },
    {
     "name": "stderr",
     "output_type": "stream",
     "text": [
      "WARNING:root:Found 274 tags with IDs that were NOT in the provided facts dictionary. First 5 unmatched: ['f-37', 'f-38', 'f-39', 'f-40', 'f-1706']\n"
     ]
    },
    {
     "name": "stdout",
     "output_type": "stream",
     "text": [
      "Processing: https://www.sec.gov/Archives/edgar/data/0001652044/000165204424000022/goog-20231231.htm\n"
     ]
    },
    {
     "name": "stderr",
     "output_type": "stream",
     "text": [
      "WARNING:root:Found 253 tags with IDs that were NOT in the provided facts dictionary. First 5 unmatched: ['f-37', 'f-38', 'f-39', 'f-40', 'f-1574']\n"
     ]
    },
    {
     "name": "stdout",
     "output_type": "stream",
     "text": [
      "Processing: https://www.sec.gov/Archives/edgar/data/0001652044/000165204423000016/goog-20221231.htm\n"
     ]
    },
    {
     "name": "stderr",
     "output_type": "stream",
     "text": [
      "WARNING:root:Found 238 tags with IDs that were NOT in the provided facts dictionary. First 5 unmatched: ['id3VybDovL2RvY3MudjEvZG9jOmE5NmU0ZmIwNDc2NTQ5Yzk5ZGMzYTJiMjM2OGY2NDNmL3NlYzphOTZlNGZiMDQ3NjU0OWM5OWRjM2EyYjIzNjhmNjQzZl80L2ZyYWc6ZWI4ZDFiZDU4YWEzNDU2N2E1NzIwMjJkNGFkMjNhODEvdGFibGU6MGRmMzhmNTBjZmJmNDkxMWE5MTI3N2JlODdkMWZmZDcvdGFibGVyYW5nZTowZGYzOGY1MGNmYmY0OTExYTkxMjc3YmU4N2QxZmZkN181LTEtMS0xLTIxOTI0NQ_80c1255c-5c51-4242-84af-79cf09c21567', 'id3VybDovL2RvY3MudjEvZG9jOmE5NmU0ZmIwNDc2NTQ5Yzk5ZGMzYTJiMjM2OGY2NDNmL3NlYzphOTZlNGZiMDQ3NjU0OWM5OWRjM2EyYjIzNjhmNjQzZl80L2ZyYWc6ZWI4ZDFiZDU4YWEzNDU2N2E1NzIwMjJkNGFkMjNhODEvdGFibGU6MGRmMzhmNTBjZmJmNDkxMWE5MTI3N2JlODdkMWZmZDcvdGFibGVyYW5nZTowZGYzOGY1MGNmYmY0OTExYTkxMjc3YmU4N2QxZmZkN183LTEtMS0xLTIxOTI0NQ_a10bda79-d92c-4de6-ac68-8d0e569b66e2', 'id3VybDovL2RvY3MudjEvZG9jOmE5NmU0ZmIwNDc2NTQ5Yzk5ZGMzYTJiMjM2OGY2NDNmL3NlYzphOTZlNGZiMDQ3NjU0OWM5OWRjM2EyYjIzNjhmNjQzZl80L2ZyYWc6ZWI4ZDFiZDU4YWEzNDU2N2E1NzIwMjJkNGFkMjNhODEvdGFibGU6MGRmMzhmNTBjZmJmNDkxMWE5MTI3N2JlODdkMWZmZDcvdGFibGVyYW5nZTowZGYzOGY1MGNmYmY0OTExYTkxMjc3YmU4N2QxZmZkN184LTEtMS0xLTIxOTI0NQ_9e452de8-a51f-465c-a833-52bb218b2bcc', 'id3VybDovL2RvY3MudjEvZG9jOmE5NmU0ZmIwNDc2NTQ5Yzk5ZGMzYTJiMjM2OGY2NDNmL3NlYzphOTZlNGZiMDQ3NjU0OWM5OWRjM2EyYjIzNjhmNjQzZl80L2ZyYWc6ZWI4ZDFiZDU4YWEzNDU2N2E1NzIwMjJkNGFkMjNhODEvdGFibGU6MGRmMzhmNTBjZmJmNDkxMWE5MTI3N2JlODdkMWZmZDcvdGFibGVyYW5nZTowZGYzOGY1MGNmYmY0OTExYTkxMjc3YmU4N2QxZmZkN18xMS0xLTEtMS0yMTkyNDU_0fdd00de-9838-4fb6-ad20-a893dc382f60', 'id3VybDovL2RvY3MudjEvZG9jOmE5NmU0ZmIwNDc2NTQ5Yzk5ZGMzYTJiMjM2OGY2NDNmL3NlYzphOTZlNGZiMDQ3NjU0OWM5OWRjM2EyYjIzNjhmNjQzZl8xL2ZyYWc6M2IwNTllNDQ3ZTk3NDkyODg5NzhmNmQ1N2Y0MDdmYzkvdGV4dHJlZ2lvbjozYjA1OWU0NDdlOTc0OTI4ODk3OGY2ZDU3ZjQwN2ZjOV8xMzE_b867f4fd-4222-471b-a30c-cde25e274522']\n"
     ]
    },
    {
     "name": "stdout",
     "output_type": "stream",
     "text": [
      "Processing: https://www.sec.gov/Archives/edgar/data/0001652044/000165204422000019/goog-20211231.htm\n"
     ]
    },
    {
     "name": "stderr",
     "output_type": "stream",
     "text": [
      "WARNING:root:Found 217 tags with IDs that were NOT in the provided facts dictionary. First 5 unmatched: ['id3VybDovL2RvY3MudjEvZG9jOjBlZjkzYzgyMGRhMDQyMDRhOWM1YTQ5ZjQ5YTNiMmViL3NlYzowZWY5M2M4MjBkYTA0MjA0YTljNWE0OWY0OWEzYjJlYl80L2ZyYWc6NTE2NjIyNzg1YzljNDZlMWE4Y2Y3M2I4NzExNTk4MjIvdGFibGU6MGFlMWM1NmRiN2U2NDdmOThmYjAwODgyYTk1OWJjNmIvdGFibGVyYW5nZTowYWUxYzU2ZGI3ZTY0N2Y5OGZiMDA4ODJhOTU5YmM2Yl81LTEtMS0xLTE0NTc4Ng_7a4c9755-57dc-4beb-b2ec-745363126bbd', 'id3VybDovL2RvY3MudjEvZG9jOjBlZjkzYzgyMGRhMDQyMDRhOWM1YTQ5ZjQ5YTNiMmViL3NlYzowZWY5M2M4MjBkYTA0MjA0YTljNWE0OWY0OWEzYjJlYl80L2ZyYWc6NTE2NjIyNzg1YzljNDZlMWE4Y2Y3M2I4NzExNTk4MjIvdGFibGU6MGFlMWM1NmRiN2U2NDdmOThmYjAwODgyYTk1OWJjNmIvdGFibGVyYW5nZTowYWUxYzU2ZGI3ZTY0N2Y5OGZiMDA4ODJhOTU5YmM2Yl83LTEtMS0xLTE0NTc4Ng_be066488-22c8-41b8-898b-8a512904904f', 'id3VybDovL2RvY3MudjEvZG9jOjBlZjkzYzgyMGRhMDQyMDRhOWM1YTQ5ZjQ5YTNiMmViL3NlYzowZWY5M2M4MjBkYTA0MjA0YTljNWE0OWY0OWEzYjJlYl80L2ZyYWc6NTE2NjIyNzg1YzljNDZlMWE4Y2Y3M2I4NzExNTk4MjIvdGFibGU6MGFlMWM1NmRiN2U2NDdmOThmYjAwODgyYTk1OWJjNmIvdGFibGVyYW5nZTowYWUxYzU2ZGI3ZTY0N2Y5OGZiMDA4ODJhOTU5YmM2Yl84LTEtMS0xLTE0NTc4Ng_a7d5b365-0bdc-45d8-8316-9970dff3f78a', 'id3VybDovL2RvY3MudjEvZG9jOjBlZjkzYzgyMGRhMDQyMDRhOWM1YTQ5ZjQ5YTNiMmViL3NlYzowZWY5M2M4MjBkYTA0MjA0YTljNWE0OWY0OWEzYjJlYl80L2ZyYWc6NTE2NjIyNzg1YzljNDZlMWE4Y2Y3M2I4NzExNTk4MjIvdGFibGU6MGFlMWM1NmRiN2U2NDdmOThmYjAwODgyYTk1OWJjNmIvdGFibGVyYW5nZTowYWUxYzU2ZGI3ZTY0N2Y5OGZiMDA4ODJhOTU5YmM2Yl8xMS0xLTEtMS0xNDU3ODY_86dd955e-6ff6-44ff-90e7-26237083d506', 'id3VybDovL2RvY3MudjEvZG9jOjBlZjkzYzgyMGRhMDQyMDRhOWM1YTQ5ZjQ5YTNiMmViL3NlYzowZWY5M2M4MjBkYTA0MjA0YTljNWE0OWY0OWEzYjJlYl8xL2ZyYWc6OGZiOGQ0MWVhNmVmNDNmNWFlNTU0YTg3MmQwZjI3ZDAvdGV4dHJlZ2lvbjo4ZmI4ZDQxZWE2ZWY0M2Y1YWU1NTRhODcyZDBmMjdkMF8xMzE_7b7c3174-36b1-48ab-84b6-c912f099f71e']\n"
     ]
    },
    {
     "name": "stdout",
     "output_type": "stream",
     "text": [
      "Processing: https://www.sec.gov/Archives/edgar/data/0000051143/000005114325000015/ibm-20241231.htm\n"
     ]
    },
    {
     "name": "stderr",
     "output_type": "stream",
     "text": [
      "WARNING:root:Found 146 tags with IDs that were NOT in the provided facts dictionary. First 5 unmatched: ['f-115', 'f-116', 'f-117', 'f-118', 'f-119']\n"
     ]
    },
    {
     "name": "stdout",
     "output_type": "stream",
     "text": [
      "Processing: https://www.sec.gov/Archives/edgar/data/0000051143/000005114324000012/ibm-20231231.htm\n"
     ]
    },
    {
     "name": "stderr",
     "output_type": "stream",
     "text": [
      "WARNING:root:Found 123 tags with IDs that were NOT in the provided facts dictionary. First 5 unmatched: ['f-109', 'f-110', 'f-111', 'f-112', 'f-113']\n"
     ]
    },
    {
     "name": "stdout",
     "output_type": "stream",
     "text": [
      "Processing: https://www.sec.gov/Archives/edgar/data/0000051143/000155837023002376/ibm-20221231x10k.htm\n"
     ]
    },
    {
     "name": "stderr",
     "output_type": "stream",
     "text": [
      "WARNING:root:Could not transform value \"New York Stock Exchange\" with format ixt-sec:exchnameen\n",
      "WARNING:root:Could not transform value \"New York Stock Exchange\" with format ixt-sec:exchnameen\n",
      "WARNING:root:Could not transform value \"New York Stock Exchange\" with format ixt-sec:exchnameen\n",
      "WARNING:root:Could not transform value \"New York Stock Exchange\" with format ixt-sec:exchnameen\n",
      "WARNING:root:Could not transform value \"New York Stock Exchange\" with format ixt-sec:exchnameen\n",
      "WARNING:root:Could not transform value \"New York Stock Exchange\" with format ixt-sec:exchnameen\n",
      "WARNING:root:Could not transform value \"New York Stock Exchange\" with format ixt-sec:exchnameen\n",
      "WARNING:root:Could not transform value \"New York Stock Exchange\" with format ixt-sec:exchnameen\n",
      "WARNING:root:Could not transform value \"New York Stock Exchange\" with format ixt-sec:exchnameen\n",
      "WARNING:root:Could not transform value \"New York Stock Exchange\" with format ixt-sec:exchnameen\n",
      "WARNING:root:Could not transform value \"New York Stock Exchange\" with format ixt-sec:exchnameen\n",
      "WARNING:root:Could not transform value \"New York Stock Exchange\" with format ixt-sec:exchnameen\n",
      "WARNING:root:Could not transform value \"New York Stock Exchange\" with format ixt-sec:exchnameen\n",
      "WARNING:root:Could not transform value \"New York Stock Exchange\" with format ixt-sec:exchnameen\n",
      "WARNING:root:Could not transform value \"New York Stock Exchange\" with format ixt-sec:exchnameen\n",
      "WARNING:root:Could not transform value \"New York Stock Exchange\" with format ixt-sec:exchnameen\n",
      "WARNING:root:Could not transform value \"New York Stock Exchange\" with format ixt-sec:exchnameen\n",
      "WARNING:root:Could not transform value \"New York Stock Exchange\" with format ixt-sec:exchnameen\n",
      "WARNING:root:Could not transform value \"New York Stock Exchange\" with format ixt-sec:exchnameen\n",
      "WARNING:root:Could not transform value \"New York Stock Exchange\" with format ixt-sec:exchnameen\n",
      "WARNING:root:Could not transform value \"New York Stock Exchange\" with format ixt-sec:exchnameen\n",
      "WARNING:root:Found 118 tags with IDs that were NOT in the provided facts dictionary. First 5 unmatched: ['Hidden_YTeUuSDf3k6xlJeR4UNPdg', 'Hidden_ltvNLdEvM0yaZIYalncaaQ', 'Hidden_bENtdFoe1E-KHKBZszdqNA', 'Tc_ivNzqE4U90esuwU5KA6Ffw_2_1', 'Tc_c3zkn4xHuUCbvOgY2419Rw_3_1']\n"
     ]
    },
    {
     "name": "stdout",
     "output_type": "stream",
     "text": [
      "Processing: https://www.sec.gov/Archives/edgar/data/0000051143/000155837022001584/ibm-20211231x10k.htm\n"
     ]
    },
    {
     "name": "stderr",
     "output_type": "stream",
     "text": [
      "WARNING:root:Could not transform value \"New York Stock Exchange\" with format ixt-sec:exchnameen\n",
      "WARNING:root:Could not transform value \"New York Stock Exchange\" with format ixt-sec:exchnameen\n",
      "WARNING:root:Could not transform value \"New York Stock Exchange\" with format ixt-sec:exchnameen\n",
      "WARNING:root:Could not transform value \"New York Stock Exchange\" with format ixt-sec:exchnameen\n",
      "WARNING:root:Could not transform value \"New York Stock Exchange\" with format ixt-sec:exchnameen\n",
      "WARNING:root:Could not transform value \"New York Stock Exchange\" with format ixt-sec:exchnameen\n",
      "WARNING:root:Could not transform value \"New York Stock Exchange\" with format ixt-sec:exchnameen\n",
      "WARNING:root:Could not transform value \"New York Stock Exchange\" with format ixt-sec:exchnameen\n",
      "WARNING:root:Could not transform value \"New York Stock Exchange\" with format ixt-sec:exchnameen\n",
      "WARNING:root:Could not transform value \"New York Stock Exchange\" with format ixt-sec:exchnameen\n",
      "WARNING:root:Could not transform value \"New York Stock Exchange\" with format ixt-sec:exchnameen\n",
      "WARNING:root:Could not transform value \"New York Stock Exchange\" with format ixt-sec:exchnameen\n",
      "WARNING:root:Could not transform value \"New York Stock Exchange\" with format ixt-sec:exchnameen\n",
      "WARNING:root:Could not transform value \"New York Stock Exchange\" with format ixt-sec:exchnameen\n",
      "WARNING:root:Could not transform value \"New York Stock Exchange\" with format ixt-sec:exchnameen\n",
      "WARNING:root:Could not transform value \"New York Stock Exchange\" with format ixt-sec:exchnameen\n",
      "WARNING:root:Could not transform value \"New York Stock Exchange\" with format ixt-sec:exchnameen\n",
      "WARNING:root:Could not transform value \"New York Stock Exchange\" with format ixt-sec:exchnameen\n",
      "WARNING:root:Found 106 tags with IDs that were NOT in the provided facts dictionary. First 5 unmatched: ['Hidden_Jz4m58ohH0CSYZ-Atbui1A', 'Hidden_t15TAWwAM0KLfW2oFar7tg', 'Hidden_Fc_v7J8HGUCA_I-D4bdunA', 'Tc_p87YxsjxCUmb3nDF84CGnw_2_1', 'Tc_gkxB0CgpCkKtyp0y4Q47Vg_3_1']\n"
     ]
    },
    {
     "name": "stdout",
     "output_type": "stream",
     "text": [
      "Processing: https://www.sec.gov/Archives/edgar/data/0000051143/000155837021001489/ibm-20201231x10k.htm\n"
     ]
    },
    {
     "name": "stderr",
     "output_type": "stream",
     "text": [
      "WARNING:root:Could not transform value \"New York Stock Exchange\" with format ixt-sec:exchnameen\n",
      "WARNING:root:Could not transform value \"New York Stock Exchange\" with format ixt-sec:exchnameen\n",
      "WARNING:root:Could not transform value \"New York Stock Exchange\" with format ixt-sec:exchnameen\n",
      "WARNING:root:Could not transform value \"New York Stock Exchange\" with format ixt-sec:exchnameen\n",
      "WARNING:root:Could not transform value \"New York Stock Exchange\" with format ixt-sec:exchnameen\n",
      "WARNING:root:Could not transform value \"New York Stock Exchange\" with format ixt-sec:exchnameen\n",
      "WARNING:root:Could not transform value \"New York Stock Exchange\" with format ixt-sec:exchnameen\n",
      "WARNING:root:Could not transform value \"New York Stock Exchange\" with format ixt-sec:exchnameen\n",
      "WARNING:root:Could not transform value \"New York Stock Exchange\" with format ixt-sec:exchnameen\n",
      "WARNING:root:Could not transform value \"New York Stock Exchange\" with format ixt-sec:exchnameen\n",
      "WARNING:root:Could not transform value \"New York Stock Exchange\" with format ixt-sec:exchnameen\n",
      "WARNING:root:Could not transform value \"New York Stock Exchange\" with format ixt-sec:exchnameen\n",
      "WARNING:root:Could not transform value \"New York Stock Exchange\" with format ixt-sec:exchnameen\n",
      "WARNING:root:Could not transform value \"New York Stock Exchange\" with format ixt-sec:exchnameen\n",
      "WARNING:root:Could not transform value \"New York Stock Exchange\" with format ixt-sec:exchnameen\n",
      "WARNING:root:Could not transform value \"New York Stock Exchange\" with format ixt-sec:exchnameen\n",
      "WARNING:root:Could not transform value \"New York Stock Exchange\" with format ixt-sec:exchnameen\n",
      "WARNING:root:Could not transform value \"New York Stock Exchange\" with format ixt-sec:exchnameen\n",
      "WARNING:root:Could not transform value \"New York Stock Exchange\" with format ixt-sec:exchnameen\n",
      "WARNING:root:Found 100 tags with IDs that were NOT in the provided facts dictionary. First 5 unmatched: ['Hidden_MzkMbamDD0mQLJj47OWQ4g', 'Hidden_DKAVeDAqS0i72UuvhD96kg', 'Hidden_tkPjdr4r30CvayNAfqtNDQ', 'Tc_OGWavvHQ4EmOuLbXS0ar1Q_2_1', 'Tc__wzoQXVjjEiU1eSWlNRnTQ_3_1']\n"
     ]
    },
    {
     "name": "stdout",
     "output_type": "stream",
     "text": [
      "Processing: https://www.sec.gov/Archives/edgar/data/0000051143/000155837020001334/ibm-20191231x10k2af531.htm\n"
     ]
    },
    {
     "name": "stderr",
     "output_type": "stream",
     "text": [
      "WARNING:root:Could not transform value \"New York Stock Exchange\" with format ixt-sec:exchnameen\n",
      "WARNING:root:Could not transform value \"Chicago Stock Exchange\" with format ixt-sec:exchnameen\n",
      "WARNING:root:Could not transform value \"New York Stock Exchange\" with format ixt-sec:exchnameen\n",
      "WARNING:root:Could not transform value \"New York Stock Exchange\" with format ixt-sec:exchnameen\n",
      "WARNING:root:Could not transform value \"New York Stock Exchange\" with format ixt-sec:exchnameen\n",
      "WARNING:root:Could not transform value \"New York Stock Exchange\" with format ixt-sec:exchnameen\n",
      "WARNING:root:Could not transform value \"New York Stock Exchange\" with format ixt-sec:exchnameen\n",
      "WARNING:root:Could not transform value \"New York Stock Exchange\" with format ixt-sec:exchnameen\n",
      "WARNING:root:Could not transform value \"New York Stock Exchange\" with format ixt-sec:exchnameen\n",
      "WARNING:root:Could not transform value \"New York Stock Exchange\" with format ixt-sec:exchnameen\n",
      "WARNING:root:Could not transform value \"New York Stock Exchange\" with format ixt-sec:exchnameen\n",
      "WARNING:root:Could not transform value \"New York Stock Exchange\" with format ixt-sec:exchnameen\n",
      "WARNING:root:Could not transform value \"New York Stock Exchange\" with format ixt-sec:exchnameen\n",
      "WARNING:root:Could not transform value \"New York Stock Exchange\" with format ixt-sec:exchnameen\n",
      "WARNING:root:Could not transform value \"New York Stock Exchange\" with format ixt-sec:exchnameen\n",
      "WARNING:root:Could not transform value \"New York Stock Exchange\" with format ixt-sec:exchnameen\n",
      "WARNING:root:Could not transform value \"New York Stock Exchange\" with format ixt-sec:exchnameen\n",
      "WARNING:root:Could not transform value \"New York Stock Exchange\" with format ixt-sec:exchnameen\n",
      "WARNING:root:Could not transform value \"New York Stock Exchange\" with format ixt-sec:exchnameen\n",
      "WARNING:root:Could not transform value \"New York Stock Exchange\" with format ixt-sec:exchnameen\n",
      "WARNING:root:Could not transform value \"New York Stock Exchange\" with format ixt-sec:exchnameen\n",
      "WARNING:root:Could not transform value \"New York Stock Exchange\" with format ixt-sec:exchnameen\n",
      "WARNING:root:Found 105 tags with IDs that were NOT in the provided facts dictionary. First 5 unmatched: ['Tc_Kt8TWMt70kylAufnjW9_Fg_3_0', 'Tc_kXTAUuIqfUWZzOCay0ZQhQ_3_2', 'Tc_xSIp95hUOkKRFEjYbkpA1w_2_1', 'Tc_8mLQDumkHUS9HW7zZzBw9w_3_1', 'Tc_HY9Ub3mld0Sr7YGVVPRHFA_4_1']\n"
     ]
    },
    {
     "name": "stdout",
     "output_type": "stream",
     "text": [
      "Processing: https://www.sec.gov/Archives/edgar/data/0001341439/000095017024075605/orcl-20240531.htm\n"
     ]
    },
    {
     "name": "stderr",
     "output_type": "stream",
     "text": [
      "WARNING:root:Found 264 tags with IDs that were NOT in the provided facts dictionary. First 5 unmatched: ['F_04e50164-9da6-423a-aee8-bcb017c17227', 'F_cee6bd57-a139-43ba-9c9a-9a7768e5d8ad', 'F_0881e20c-85cb-4ba8-b5ed-94d5c7c416c4', 'F_e13b3638-cfab-48aa-9d94-1dee1c516147', 'F_9a4878e7-54bd-4171-b9d3-40e4e709b4f0']\n"
     ]
    },
    {
     "name": "stdout",
     "output_type": "stream",
     "text": [
      "Processing: https://www.sec.gov/Archives/edgar/data/0001341439/000095017023028914/orcl-20230531.htm\n"
     ]
    },
    {
     "name": "stderr",
     "output_type": "stream",
     "text": [
      "WARNING:root:Found 243 tags with IDs that were NOT in the provided facts dictionary. First 5 unmatched: ['F_2b3ef4a3-85eb-4174-ad88-045fd64e286a', 'F_eb090ff3-bad2-4c0f-ac47-12db7fd6d9ca', 'F_d4476393-b9ca-40e8-9bf7-c7e061f85115', 'F_c43f4dc1-f686-4f69-88c7-cab5e6aae4e2', 'F_1dfc1529-8172-4a8d-91f5-b4a3cfc6754a']\n"
     ]
    },
    {
     "name": "stdout",
     "output_type": "stream",
     "text": [
      "Processing: https://www.sec.gov/Archives/edgar/data/0001341439/000156459022023675/orcl-10k_20220531.htm\n"
     ]
    },
    {
     "name": "stderr",
     "output_type": "stream",
     "text": [
      "WARNING:root:Found 235 tags with IDs that were NOT in the provided facts dictionary. First 5 unmatched: ['F_000001', 'F_000003', 'F_000006', 'F_000009', 'F_000031']\n"
     ]
    },
    {
     "name": "stdout",
     "output_type": "stream",
     "text": [
      "Processing: https://www.sec.gov/Archives/edgar/data/0001341439/000156459021033616/orcl-10k_20210531.htm\n"
     ]
    },
    {
     "name": "stderr",
     "output_type": "stream",
     "text": [
      "WARNING:root:Found 242 tags with IDs that were NOT in the provided facts dictionary. First 5 unmatched: ['F_000001', 'F_000003', 'F_000006', 'F_000009', 'F_000031']\n"
     ]
    },
    {
     "name": "stdout",
     "output_type": "stream",
     "text": [
      "Processing: https://www.sec.gov/Archives/edgar/data/0001341439/000156459020030125/orcl-10k_20200531.htm\n"
     ]
    },
    {
     "name": "stderr",
     "output_type": "stream",
     "text": [
      "WARNING:root:Found 249 tags with IDs that were NOT in the provided facts dictionary. First 5 unmatched: ['F_000001', 'F_000003', 'F_000006', 'F_000007', 'F_000008']\n"
     ]
    },
    {
     "name": "stdout",
     "output_type": "stream",
     "text": [
      "Processing: https://www.sec.gov/Archives/edgar/data/0001108524/000110852425000006/crm-20250131.htm\n"
     ]
    },
    {
     "name": "stderr",
     "output_type": "stream",
     "text": [
      "WARNING:root:Found 153 tags with IDs that were NOT in the provided facts dictionary. First 5 unmatched: ['f-33', 'f-34', 'f-35', 'f-36', 'f-1448']\n"
     ]
    },
    {
     "name": "stdout",
     "output_type": "stream",
     "text": [
      "Processing: https://www.sec.gov/Archives/edgar/data/0001108524/000110852424000005/crm-20240131.htm\n"
     ]
    },
    {
     "name": "stderr",
     "output_type": "stream",
     "text": [
      "WARNING:root:Found 149 tags with IDs that were NOT in the provided facts dictionary. First 5 unmatched: ['f-33', 'f-34', 'f-35', 'f-36', 'f-1410']\n"
     ]
    },
    {
     "name": "stdout",
     "output_type": "stream",
     "text": [
      "Processing: https://www.sec.gov/Archives/edgar/data/0001108524/000110852423000011/crm-20230131.htm\n"
     ]
    },
    {
     "name": "stderr",
     "output_type": "stream",
     "text": [
      "WARNING:root:Found 127 tags with IDs that were NOT in the provided facts dictionary. First 5 unmatched: ['id3VybDovL2RvY3MudjEvZG9jOjRmZGVhZjYyODdmMjQzMDQ4ODE1N2E1ZGE4Y2Y2ZDQzL3NlYzo0ZmRlYWY2Mjg3ZjI0MzA0ODgxNTdhNWRhOGNmNmQ0M18zMTE0L2ZyYWc6YTBjNWYwMjVjYjRiNDY2ZGIzNmY1NzlmOTE4YzlhOGQvdGFibGU6MjIzZmM3OGZlZGYyNDYxMTk1MzNkMWJjMWM5ZTNiMTcvdGFibGVyYW5nZToyMjNmYzc4ZmVkZjI0NjExOTUzM2QxYmMxYzllM2IxN18wLTEtMS0xLTg5OTk4_370124a0-74c5-4aa0-84fc-ccd1470862f1', 'id3VybDovL2RvY3MudjEvZG9jOjRmZGVhZjYyODdmMjQzMDQ4ODE1N2E1ZGE4Y2Y2ZDQzL3NlYzo0ZmRlYWY2Mjg3ZjI0MzA0ODgxNTdhNWRhOGNmNmQ0M18zMTE0L2ZyYWc6YTBjNWYwMjVjYjRiNDY2ZGIzNmY1NzlmOTE4YzlhOGQvdGFibGU6MjIzZmM3OGZlZGYyNDYxMTk1MzNkMWJjMWM5ZTNiMTcvdGFibGVyYW5nZToyMjNmYzc4ZmVkZjI0NjExOTUzM2QxYmMxYzllM2IxN18xLTEtMS0xLTg5OTk4_7b40a207-998e-4f93-b674-b2b66305219b', 'id3VybDovL2RvY3MudjEvZG9jOjRmZGVhZjYyODdmMjQzMDQ4ODE1N2E1ZGE4Y2Y2ZDQzL3NlYzo0ZmRlYWY2Mjg3ZjI0MzA0ODgxNTdhNWRhOGNmNmQ0M18zMTE0L2ZyYWc6YTBjNWYwMjVjYjRiNDY2ZGIzNmY1NzlmOTE4YzlhOGQvdGFibGU6MjIzZmM3OGZlZGYyNDYxMTk1MzNkMWJjMWM5ZTNiMTcvdGFibGVyYW5nZToyMjNmYzc4ZmVkZjI0NjExOTUzM2QxYmMxYzllM2IxN18yLTEtMS0xLTg5OTk4_75c344e2-cda5-4321-82a5-1c8eae29a546', 'id3VybDovL2RvY3MudjEvZG9jOjRmZGVhZjYyODdmMjQzMDQ4ODE1N2E1ZGE4Y2Y2ZDQzL3NlYzo0ZmRlYWY2Mjg3ZjI0MzA0ODgxNTdhNWRhOGNmNmQ0M18zMTE0L2ZyYWc6YTBjNWYwMjVjYjRiNDY2ZGIzNmY1NzlmOTE4YzlhOGQvdGFibGU6MjIzZmM3OGZlZGYyNDYxMTk1MzNkMWJjMWM5ZTNiMTcvdGFibGVyYW5nZToyMjNmYzc4ZmVkZjI0NjExOTUzM2QxYmMxYzllM2IxN18zLTEtMS0xLTg5OTk4_ec73f89e-087f-4068-9873-d0eec69e5403', 'id3VybDovL2RvY3MudjEvZG9jOjRmZGVhZjYyODdmMjQzMDQ4ODE1N2E1ZGE4Y2Y2ZDQzL3NlYzo0ZmRlYWY2Mjg3ZjI0MzA0ODgxNTdhNWRhOGNmNmQ0M18xL2ZyYWc6Nzc4NDRlYjdmZjFjNDI2ODg0OGM5MmNjMGMwOGJkNjIvdGV4dHJlZ2lvbjo3Nzg0NGViN2ZmMWM0MjY4ODQ4YzkyY2MwYzA4YmQ2Ml8zODQ5_5764b677-84f6-414c-9206-161c510f74e7']\n"
     ]
    },
    {
     "name": "stdout",
     "output_type": "stream",
     "text": [
      "Processing: https://www.sec.gov/Archives/edgar/data/0000858877/000085887724000017/csco-20240727.htm\n"
     ]
    },
    {
     "name": "stderr",
     "output_type": "stream",
     "text": [
      "WARNING:root:Found 177 tags with IDs that were NOT in the provided facts dictionary. First 5 unmatched: ['f-32', 'f-33', 'f-34', 'f-35', 'f-1']\n"
     ]
    },
    {
     "name": "stdout",
     "output_type": "stream",
     "text": [
      "Processing: https://www.sec.gov/Archives/edgar/data/0000858877/000085887723000023/csco-20230729.htm\n"
     ]
    },
    {
     "name": "stderr",
     "output_type": "stream",
     "text": [
      "WARNING:root:Found 183 tags with IDs that were NOT in the provided facts dictionary. First 5 unmatched: ['f-31', 'f-32', 'f-33', 'f-34', 'f-2279']\n"
     ]
    },
    {
     "name": "stdout",
     "output_type": "stream",
     "text": [
      "Processing: https://www.sec.gov/Archives/edgar/data/0000858877/000085887722000013/csco-20220730.htm\n"
     ]
    },
    {
     "name": "stderr",
     "output_type": "stream",
     "text": [
      "WARNING:root:Found 176 tags with IDs that were NOT in the provided facts dictionary. First 5 unmatched: ['id3VybDovL2RvY3MudjEvZG9jOjA0OTg1MmNhYjM4ODQ1YWFiZDJhNzlkMDdkYWNkYTg2L3NlYzowNDk4NTJjYWIzODg0NWFhYmQyYTc5ZDA3ZGFjZGE4Nl80L2ZyYWc6ZWIzOTZmZjBiYWNjNGViMjgwZjAyODM4NzdkMWIzZGQvdGFibGU6OGFmZDRmMjRiZTFhNDFjYWI0YjMwNjk4NGM3MDUyYjYvdGFibGVyYW5nZTo4YWZkNGYyNGJlMWE0MWNhYjRiMzA2OTg0YzcwNTJiNl8xLTEtMS0xLTUyNjc4_c81bf005-92ae-46be-a884-07b88c5e6460', 'id3VybDovL2RvY3MudjEvZG9jOjA0OTg1MmNhYjM4ODQ1YWFiZDJhNzlkMDdkYWNkYTg2L3NlYzowNDk4NTJjYWIzODg0NWFhYmQyYTc5ZDA3ZGFjZGE4Nl80L2ZyYWc6ZWIzOTZmZjBiYWNjNGViMjgwZjAyODM4NzdkMWIzZGQvdGFibGU6OGFmZDRmMjRiZTFhNDFjYWI0YjMwNjk4NGM3MDUyYjYvdGFibGVyYW5nZTo4YWZkNGYyNGJlMWE0MWNhYjRiMzA2OTg0YzcwNTJiNl8yLTEtMS0xLTUyNjc4_dcb04ea1-fead-4f81-874c-f58cd8a4df15', 'id3VybDovL2RvY3MudjEvZG9jOjA0OTg1MmNhYjM4ODQ1YWFiZDJhNzlkMDdkYWNkYTg2L3NlYzowNDk4NTJjYWIzODg0NWFhYmQyYTc5ZDA3ZGFjZGE4Nl80L2ZyYWc6ZWIzOTZmZjBiYWNjNGViMjgwZjAyODM4NzdkMWIzZGQvdGFibGU6OGFmZDRmMjRiZTFhNDFjYWI0YjMwNjk4NGM3MDUyYjYvdGFibGVyYW5nZTo4YWZkNGYyNGJlMWE0MWNhYjRiMzA2OTg0YzcwNTJiNl8zLTEtMS0xLTUyNjc4_19a759d4-ceae-4abc-a0d8-3aad0ce88d83', 'id3VybDovL2RvY3MudjEvZG9jOjA0OTg1MmNhYjM4ODQ1YWFiZDJhNzlkMDdkYWNkYTg2L3NlYzowNDk4NTJjYWIzODg0NWFhYmQyYTc5ZDA3ZGFjZGE4Nl80L2ZyYWc6ZWIzOTZmZjBiYWNjNGViMjgwZjAyODM4NzdkMWIzZGQvdGFibGU6OGFmZDRmMjRiZTFhNDFjYWI0YjMwNjk4NGM3MDUyYjYvdGFibGVyYW5nZTo4YWZkNGYyNGJlMWE0MWNhYjRiMzA2OTg0YzcwNTJiNl80LTEtMS0xLTUyNjc4_6228adce-499f-4251-bcc5-25f3784f8181', 'id3VybDovL2RvY3MudjEvZG9jOjA0OTg1MmNhYjM4ODQ1YWFiZDJhNzlkMDdkYWNkYTg2L3NlYzowNDk4NTJjYWIzODg0NWFhYmQyYTc5ZDA3ZGFjZGE4Nl8xL2ZyYWc6NTcxZGFkYmQxNmFiNDY3NDg0ZThmMTdlZjEyZjQzYWYvdGV4dHJlZ2lvbjo1NzFkYWRiZDE2YWI0Njc0ODRlOGYxN2VmMTJmNDNhZl8zMjQ3_9a63da79-85d8-471e-8212-7cc91b017917']\n"
     ]
    },
    {
     "name": "stdout",
     "output_type": "stream",
     "text": [
      "Processing: https://www.sec.gov/Archives/edgar/data/0000858877/000085887721000013/csco-20210731.htm\n"
     ]
    },
    {
     "name": "stderr",
     "output_type": "stream",
     "text": [
      "WARNING:root:Found 176 tags with IDs that were NOT in the provided facts dictionary. First 5 unmatched: ['id3VybDovL2RvY3MudjEvZG9jOmQ5NjM1NzgyYTJkMzQ0YWFhYmM2NTQ0MDFhNWFkNTgwL3NlYzpkOTYzNTc4MmEyZDM0NGFhYWJjNjU0NDAxYTVhZDU4MF80L2ZyYWc6YzViYWYzNzg5ZTdjNGEwY2E5NzYyMzhjMzkzZmY0ZDkvdGFibGU6OTllYzA2ZGI3ODE3NDc2YzgyNjQ2M2Q2NWIzYmJkMTQvdGFibGVyYW5nZTo5OWVjMDZkYjc4MTc0NzZjODI2NDYzZDY1YjNiYmQxNF8xLTEtMS0xLTA_3c6f25b1-dd79-4c17-93ad-c4e3ac045c24', 'id3VybDovL2RvY3MudjEvZG9jOmQ5NjM1NzgyYTJkMzQ0YWFhYmM2NTQ0MDFhNWFkNTgwL3NlYzpkOTYzNTc4MmEyZDM0NGFhYWJjNjU0NDAxYTVhZDU4MF80L2ZyYWc6YzViYWYzNzg5ZTdjNGEwY2E5NzYyMzhjMzkzZmY0ZDkvdGFibGU6OTllYzA2ZGI3ODE3NDc2YzgyNjQ2M2Q2NWIzYmJkMTQvdGFibGVyYW5nZTo5OWVjMDZkYjc4MTc0NzZjODI2NDYzZDY1YjNiYmQxNF8yLTEtMS0xLTA_0d64fb42-5bca-4c41-a5c2-347f634eabb2', 'id3VybDovL2RvY3MudjEvZG9jOmQ5NjM1NzgyYTJkMzQ0YWFhYmM2NTQ0MDFhNWFkNTgwL3NlYzpkOTYzNTc4MmEyZDM0NGFhYWJjNjU0NDAxYTVhZDU4MF80L2ZyYWc6YzViYWYzNzg5ZTdjNGEwY2E5NzYyMzhjMzkzZmY0ZDkvdGFibGU6OTllYzA2ZGI3ODE3NDc2YzgyNjQ2M2Q2NWIzYmJkMTQvdGFibGVyYW5nZTo5OWVjMDZkYjc4MTc0NzZjODI2NDYzZDY1YjNiYmQxNF8zLTEtMS0xLTA_b4637ffc-d5f1-45a4-a9d6-e4e2804264cd', 'id3VybDovL2RvY3MudjEvZG9jOmQ5NjM1NzgyYTJkMzQ0YWFhYmM2NTQ0MDFhNWFkNTgwL3NlYzpkOTYzNTc4MmEyZDM0NGFhYWJjNjU0NDAxYTVhZDU4MF80L2ZyYWc6YzViYWYzNzg5ZTdjNGEwY2E5NzYyMzhjMzkzZmY0ZDkvdGFibGU6OTllYzA2ZGI3ODE3NDc2YzgyNjQ2M2Q2NWIzYmJkMTQvdGFibGVyYW5nZTo5OWVjMDZkYjc4MTc0NzZjODI2NDYzZDY1YjNiYmQxNF80LTEtMS0xLTA_41f51297-3bd1-4cba-86c0-192729315f4d', 'id3VybDovL2RvY3MudjEvZG9jOmQ5NjM1NzgyYTJkMzQ0YWFhYmM2NTQ0MDFhNWFkNTgwL3NlYzpkOTYzNTc4MmEyZDM0NGFhYWJjNjU0NDAxYTVhZDU4MF8xL2ZyYWc6NjJlODgwOGQxN2Q1NDVmZGE1NWEwODkwY2ZmYjA0ZDkvdGV4dHJlZ2lvbjo2MmU4ODA4ZDE3ZDU0NWZkYTU1YTA4OTBjZmZiMDRkOV8zMjc0_b95d615d-ee33-43aa-bbac-1aa9abf1643e']\n"
     ]
    },
    {
     "name": "stdout",
     "output_type": "stream",
     "text": [
      "Processing: https://www.sec.gov/Archives/edgar/data/0000858877/000085887720000010/csco-2020725x10k.htm\n"
     ]
    },
    {
     "name": "stderr",
     "output_type": "stream",
     "text": [
      "WARNING:root:Found 158 tags with IDs that were NOT in the provided facts dictionary. First 5 unmatched: ['Fact-818402D0DB89232CD07825CA9E99B5F9-wk-Fact-818402D0DB89232CD07825CA9E99B5F9', 'Fact-2B3552F542B86A18916625CA9E9884AF-wk-Fact-2B3552F542B86A18916625CA9E9884AF', 'Fact-6A68095B269C20A7D10625CA9E9BFA4F-wk-Fact-6A68095B269C20A7D10625CA9E9BFA4F', 'Fact-69F002245B92B69A070A25CA9F0AD30F-wk-Fact-69F002245B92B69A070A25CA9F0AD30F', 'Fact-69DE363DEBE7F291C77725CA9E863C87-wk-Fact-69DE363DEBE7F291C77725CA9E863C87']\n"
     ]
    },
    {
     "name": "stdout",
     "output_type": "stream",
     "text": [
      "Processing: https://www.sec.gov/Archives/edgar/data/0001730168/000173016824000139/avgo-20241103.htm\n"
     ]
    },
    {
     "name": "stderr",
     "output_type": "stream",
     "text": [
      "WARNING:root:Found 182 tags with IDs that were NOT in the provided facts dictionary. First 5 unmatched: ['f-32', 'f-33', 'f-34', 'f-35', 'f-1']\n"
     ]
    },
    {
     "name": "stdout",
     "output_type": "stream",
     "text": [
      "Processing: https://www.sec.gov/Archives/edgar/data/0001730168/000173016823000096/avgo-20231029.htm\n"
     ]
    },
    {
     "name": "stderr",
     "output_type": "stream",
     "text": [
      "WARNING:root:Found 147 tags with IDs that were NOT in the provided facts dictionary. First 5 unmatched: ['f-31', 'f-32', 'f-33', 'f-34', 'f-1']\n"
     ]
    },
    {
     "name": "stdout",
     "output_type": "stream",
     "text": [
      "Processing: https://www.sec.gov/Archives/edgar/data/0001730168/000173016822000118/avgo-20221030.htm\n"
     ]
    },
    {
     "name": "stderr",
     "output_type": "stream",
     "text": [
      "WARNING:root:Found 159 tags with IDs that were NOT in the provided facts dictionary. First 5 unmatched: ['id3VybDovL2RvY3MudjEvZG9jOjY2ZmJhNzFhMDRkYzQ5MjFhODgwOTg2OTg2MjQ4NzcyL3NlYzo2NmZiYTcxYTA0ZGM0OTIxYTg4MDk4Njk4NjI0ODc3Ml80L2ZyYWc6ZGZmZDRhNWFmZjg0NGM5NzgxOTk4YThhODc4MzIzYWYvdGFibGU6NmJkYzIyNmY5ZjBkNGI4YmFhY2JjMDBiNTIyZjY0OTcvdGFibGVyYW5nZTo2YmRjMjI2ZjlmMGQ0YjhiYWFjYmMwMGI1MjJmNjQ5N180LTEtMS0xLTkwMjU5_48981542-379e-43d1-a093-e4585de0a308', 'id3VybDovL2RvY3MudjEvZG9jOjY2ZmJhNzFhMDRkYzQ5MjFhODgwOTg2OTg2MjQ4NzcyL3NlYzo2NmZiYTcxYTA0ZGM0OTIxYTg4MDk4Njk4NjI0ODc3Ml80L2ZyYWc6ZGZmZDRhNWFmZjg0NGM5NzgxOTk4YThhODc4MzIzYWYvdGFibGU6NmJkYzIyNmY5ZjBkNGI4YmFhY2JjMDBiNTIyZjY0OTcvdGFibGVyYW5nZTo2YmRjMjI2ZjlmMGQ0YjhiYWFjYmMwMGI1MjJmNjQ5N185LTEtMS0xLTkwMjU5_98af0171-6297-49dd-a09c-586cea555c8c', 'id3VybDovL2RvY3MudjEvZG9jOjY2ZmJhNzFhMDRkYzQ5MjFhODgwOTg2OTg2MjQ4NzcyL3NlYzo2NmZiYTcxYTA0ZGM0OTIxYTg4MDk4Njk4NjI0ODc3Ml80L2ZyYWc6ZGZmZDRhNWFmZjg0NGM5NzgxOTk4YThhODc4MzIzYWYvdGFibGU6NmJkYzIyNmY5ZjBkNGI4YmFhY2JjMDBiNTIyZjY0OTcvdGFibGVyYW5nZTo2YmRjMjI2ZjlmMGQ0YjhiYWFjYmMwMGI1MjJmNjQ5N18xMC0xLTEtMS05MDI1OQ_d5f741dd-a57a-49fc-93f9-a31baeee1776', 'id3VybDovL2RvY3MudjEvZG9jOjY2ZmJhNzFhMDRkYzQ5MjFhODgwOTg2OTg2MjQ4NzcyL3NlYzo2NmZiYTcxYTA0ZGM0OTIxYTg4MDk4Njk4NjI0ODc3Ml80L2ZyYWc6ZGZmZDRhNWFmZjg0NGM5NzgxOTk4YThhODc4MzIzYWYvdGFibGU6NmJkYzIyNmY5ZjBkNGI4YmFhY2JjMDBiNTIyZjY0OTcvdGFibGVyYW5nZTo2YmRjMjI2ZjlmMGQ0YjhiYWFjYmMwMGI1MjJmNjQ5N18xMS0xLTEtMS05MDI1OQ_ce543702-8eaa-47be-b3af-0ca8f5efeba5', 'id3VybDovL2RvY3MudjEvZG9jOjY2ZmJhNzFhMDRkYzQ5MjFhODgwOTg2OTg2MjQ4NzcyL3NlYzo2NmZiYTcxYTA0ZGM0OTIxYTg4MDk4Njk4NjI0ODc3Ml8xL2ZyYWc6ZTFhMmZlMjIwMDdmNDU2MDhkZWNiYTQ5Y2E5MmJhMzUvdGV4dHJlZ2lvbjplMWEyZmUyMjAwN2Y0NTYwOGRlY2JhNDljYTkyYmEzNV8yNzA4_d4886adb-d351-4fe4-a4c8-2d46d841b195']\n"
     ]
    },
    {
     "name": "stdout",
     "output_type": "stream",
     "text": [
      "Processing: https://www.sec.gov/Archives/edgar/data/0001730168/000173016821000153/avgo-20211031.htm\n"
     ]
    },
    {
     "name": "stderr",
     "output_type": "stream",
     "text": [
      "WARNING:root:Found 175 tags with IDs that were NOT in the provided facts dictionary. First 5 unmatched: ['id3VybDovL2RvY3MudjEvZG9jOjE2ZTM0YWM5Y2Y5ZjQzNmJiZjkxNmY2MDE4ODExZmZlL3NlYzoxNmUzNGFjOWNmOWY0MzZiYmY5MTZmNjAxODgxMWZmZV80L2ZyYWc6YzI3MzRkMTA2YmIzNDExMzhjY2FmM2NjZjU2OTg0YWEvdGFibGU6ZGUyNWE5MjVkNjU2NDVhYThlYmU3MzBmYjBkMzBiMTcvdGFibGVyYW5nZTpkZTI1YTkyNWQ2NTY0NWFhOGViZTczMGZiMGQzMGIxN180LTEtMS0xLTEzMDg3_36a690ab-4e0b-4c5a-930f-4f2e81a89c20', 'id3VybDovL2RvY3MudjEvZG9jOjE2ZTM0YWM5Y2Y5ZjQzNmJiZjkxNmY2MDE4ODExZmZlL3NlYzoxNmUzNGFjOWNmOWY0MzZiYmY5MTZmNjAxODgxMWZmZV80L2ZyYWc6YzI3MzRkMTA2YmIzNDExMzhjY2FmM2NjZjU2OTg0YWEvdGFibGU6ZGUyNWE5MjVkNjU2NDVhYThlYmU3MzBmYjBkMzBiMTcvdGFibGVyYW5nZTpkZTI1YTkyNWQ2NTY0NWFhOGViZTczMGZiMGQzMGIxN185LTEtMS0xLTEzMDg3_587bf52f-f693-4fbe-96e5-daa4b101f7a9', 'id3VybDovL2RvY3MudjEvZG9jOjE2ZTM0YWM5Y2Y5ZjQzNmJiZjkxNmY2MDE4ODExZmZlL3NlYzoxNmUzNGFjOWNmOWY0MzZiYmY5MTZmNjAxODgxMWZmZV80L2ZyYWc6YzI3MzRkMTA2YmIzNDExMzhjY2FmM2NjZjU2OTg0YWEvdGFibGU6ZGUyNWE5MjVkNjU2NDVhYThlYmU3MzBmYjBkMzBiMTcvdGFibGVyYW5nZTpkZTI1YTkyNWQ2NTY0NWFhOGViZTczMGZiMGQzMGIxN18xMC0xLTEtMS0xMzA4Nw_07b02a56-8547-4d25-bdce-31d39bfaa661', 'id3VybDovL2RvY3MudjEvZG9jOjE2ZTM0YWM5Y2Y5ZjQzNmJiZjkxNmY2MDE4ODExZmZlL3NlYzoxNmUzNGFjOWNmOWY0MzZiYmY5MTZmNjAxODgxMWZmZV80L2ZyYWc6YzI3MzRkMTA2YmIzNDExMzhjY2FmM2NjZjU2OTg0YWEvdGFibGU6ZGUyNWE5MjVkNjU2NDVhYThlYmU3MzBmYjBkMzBiMTcvdGFibGVyYW5nZTpkZTI1YTkyNWQ2NTY0NWFhOGViZTczMGZiMGQzMGIxN18xMS0xLTEtMS0xMzA4Nw_da15e86f-69d9-4049-a8e0-28462eb4df30', 'id3VybDovL2RvY3MudjEvZG9jOjE2ZTM0YWM5Y2Y5ZjQzNmJiZjkxNmY2MDE4ODExZmZlL3NlYzoxNmUzNGFjOWNmOWY0MzZiYmY5MTZmNjAxODgxMWZmZV8xL2ZyYWc6Y2U1OGE2MGRhNzM4NDU5MThiMTJlYWJiOTJhZjdkYTgvdGV4dHJlZ2lvbjpjZTU4YTYwZGE3Mzg0NTkxOGIxMmVhYmI5MmFmN2RhOF8zMDA2_9c2abed3-46e9-4ba3-a4dc-23cb9bd5aa38']\n"
     ]
    },
    {
     "name": "stdout",
     "output_type": "stream",
     "text": [
      "Processing: https://www.sec.gov/Archives/edgar/data/0001730168/000173016820000226/avgo-20201101.htm\n"
     ]
    },
    {
     "name": "stderr",
     "output_type": "stream",
     "text": [
      "WARNING:root:Found 241 tags with IDs that were NOT in the provided facts dictionary. First 5 unmatched: ['id3VybDovL2RvY3MudjEvZG9jOjA0MTNiZGU2NGE0ZTRmN2RhNDZkZDI3MDVjZjAwNWE4L3NlYzowNDEzYmRlNjRhNGU0ZjdkYTQ2ZGQyNzA1Y2YwMDVhOF80L2ZyYWc6ZGQxNDc2NDk0ZTIxNDllMWE4MTQ4OWUyOGU1MzM5Y2EvdGFibGU6NTBiNWEzZjNiMDk1NDdlMzk2YTBmZWFlZDNhMDAxMTgvdGFibGVyYW5nZTo1MGI1YTNmM2IwOTU0N2UzOTZhMGZlYWVkM2EwMDExOF80LTEtMS0xLTA_7ef4c284-2fe2-42e7-b7aa-323ef4e09775', 'id3VybDovL2RvY3MudjEvZG9jOjA0MTNiZGU2NGE0ZTRmN2RhNDZkZDI3MDVjZjAwNWE4L3NlYzowNDEzYmRlNjRhNGU0ZjdkYTQ2ZGQyNzA1Y2YwMDVhOF80L2ZyYWc6ZGQxNDc2NDk0ZTIxNDllMWE4MTQ4OWUyOGU1MzM5Y2EvdGFibGU6NTBiNWEzZjNiMDk1NDdlMzk2YTBmZWFlZDNhMDAxMTgvdGFibGVyYW5nZTo1MGI1YTNmM2IwOTU0N2UzOTZhMGZlYWVkM2EwMDExOF81LTEtMS0xLTA_37101ce3-108c-4eef-9a56-3845b46befb5', 'id3VybDovL2RvY3MudjEvZG9jOjA0MTNiZGU2NGE0ZTRmN2RhNDZkZDI3MDVjZjAwNWE4L3NlYzowNDEzYmRlNjRhNGU0ZjdkYTQ2ZGQyNzA1Y2YwMDVhOF80L2ZyYWc6ZGQxNDc2NDk0ZTIxNDllMWE4MTQ4OWUyOGU1MzM5Y2EvdGFibGU6NTBiNWEzZjNiMDk1NDdlMzk2YTBmZWFlZDNhMDAxMTgvdGFibGVyYW5nZTo1MGI1YTNmM2IwOTU0N2UzOTZhMGZlYWVkM2EwMDExOF85LTEtMS0xLTA_c8b17ce1-8f0c-4b51-82cf-8442b6c37175', 'id3VybDovL2RvY3MudjEvZG9jOjA0MTNiZGU2NGE0ZTRmN2RhNDZkZDI3MDVjZjAwNWE4L3NlYzowNDEzYmRlNjRhNGU0ZjdkYTQ2ZGQyNzA1Y2YwMDVhOF80L2ZyYWc6ZGQxNDc2NDk0ZTIxNDllMWE4MTQ4OWUyOGU1MzM5Y2EvdGFibGU6NTBiNWEzZjNiMDk1NDdlMzk2YTBmZWFlZDNhMDAxMTgvdGFibGVyYW5nZTo1MGI1YTNmM2IwOTU0N2UzOTZhMGZlYWVkM2EwMDExOF8xMC0xLTEtMS0w_d9f44f77-9c4e-423a-b1fe-183308e7584d', 'id3VybDovL2RvY3MudjEvZG9jOjA0MTNiZGU2NGE0ZTRmN2RhNDZkZDI3MDVjZjAwNWE4L3NlYzowNDEzYmRlNjRhNGU0ZjdkYTQ2ZGQyNzA1Y2YwMDVhOF80L2ZyYWc6ZGQxNDc2NDk0ZTIxNDllMWE4MTQ4OWUyOGU1MzM5Y2EvdGFibGU6NTBiNWEzZjNiMDk1NDdlMzk2YTBmZWFlZDNhMDAxMTgvdGFibGVyYW5nZTo1MGI1YTNmM2IwOTU0N2UzOTZhMGZlYWVkM2EwMDExOF8xMS0xLTEtMS0w_34ade861-bbd5-403e-947d-aa9dff51ca80']\n"
     ]
    },
    {
     "name": "stdout",
     "output_type": "stream",
     "text": [
      "Processing: https://www.sec.gov/Archives/edgar/data/0000796343/000079634325000004/adbe-20241129.htm\n"
     ]
    },
    {
     "name": "stderr",
     "output_type": "stream",
     "text": [
      "WARNING:root:Found 195 tags with IDs that were NOT in the provided facts dictionary. First 5 unmatched: ['f-31', 'f-32', 'f-33', 'f-34', 'f-35']\n"
     ]
    },
    {
     "name": "stdout",
     "output_type": "stream",
     "text": [
      "Processing: https://www.sec.gov/Archives/edgar/data/0000796343/000079634324000006/adbe-20231201.htm\n"
     ]
    },
    {
     "name": "stderr",
     "output_type": "stream",
     "text": [
      "WARNING:root:Found 185 tags with IDs that were NOT in the provided facts dictionary. First 5 unmatched: ['f-31', 'f-32', 'f-33', 'f-34', 'f-35']\n"
     ]
    },
    {
     "name": "stdout",
     "output_type": "stream",
     "text": [
      "Processing: https://www.sec.gov/Archives/edgar/data/0000796343/000079634323000007/adbe-20221202.htm\n"
     ]
    },
    {
     "name": "stderr",
     "output_type": "stream",
     "text": [
      "WARNING:root:Found 197 tags with IDs that were NOT in the provided facts dictionary. First 5 unmatched: ['id3VybDovL2RvY3MudjEvZG9jOmViY2I5MWIyYjc1YTQ4MDdhNWE0ZDVjYjcwMjEzOTdlL3NlYzplYmNiOTFiMmI3NWE0ODA3YTVhNGQ1Y2I3MDIxMzk3ZV80L2ZyYWc6ZDVhZTJhMDM3ZDVkNGExZDkwODkxYjBlNzc5ZmQ5MTQvdGFibGU6ZjkwYTdiMmU5MjM2NGQxZTk2NjQ5ZTkzMzM2YmViMTUvdGFibGVyYW5nZTpmOTBhN2IyZTkyMzY0ZDFlOTY2NDllOTMzMzZiZWIxNV8zLTEtMS0xLTEwMTAyNQ_15351042-8d0a-44a3-99c7-2628bca1ade8', 'id3VybDovL2RvY3MudjEvZG9jOmViY2I5MWIyYjc1YTQ4MDdhNWE0ZDVjYjcwMjEzOTdlL3NlYzplYmNiOTFiMmI3NWE0ODA3YTVhNGQ1Y2I3MDIxMzk3ZV80L2ZyYWc6ZDVhZTJhMDM3ZDVkNGExZDkwODkxYjBlNzc5ZmQ5MTQvdGFibGU6ZjkwYTdiMmU5MjM2NGQxZTk2NjQ5ZTkzMzM2YmViMTUvdGFibGVyYW5nZTpmOTBhN2IyZTkyMzY0ZDFlOTY2NDllOTMzMzZiZWIxNV80LTEtMS0xLTEwMTAyNQ_1341614b-afe6-4903-b3f5-c5fef12b0013', 'id3VybDovL2RvY3MudjEvZG9jOmViY2I5MWIyYjc1YTQ4MDdhNWE0ZDVjYjcwMjEzOTdlL3NlYzplYmNiOTFiMmI3NWE0ODA3YTVhNGQ1Y2I3MDIxMzk3ZV80L2ZyYWc6ZDVhZTJhMDM3ZDVkNGExZDkwODkxYjBlNzc5ZmQ5MTQvdGFibGU6ZjkwYTdiMmU5MjM2NGQxZTk2NjQ5ZTkzMzM2YmViMTUvdGFibGVyYW5nZTpmOTBhN2IyZTkyMzY0ZDFlOTY2NDllOTMzMzZiZWIxNV81LTEtMS0xLTEwMTAyNQ_f4d107a4-e758-4156-b703-1213928beded', 'id3VybDovL2RvY3MudjEvZG9jOmViY2I5MWIyYjc1YTQ4MDdhNWE0ZDVjYjcwMjEzOTdlL3NlYzplYmNiOTFiMmI3NWE0ODA3YTVhNGQ1Y2I3MDIxMzk3ZV80L2ZyYWc6ZDVhZTJhMDM3ZDVkNGExZDkwODkxYjBlNzc5ZmQ5MTQvdGFibGU6ZjkwYTdiMmU5MjM2NGQxZTk2NjQ5ZTkzMzM2YmViMTUvdGFibGVyYW5nZTpmOTBhN2IyZTkyMzY0ZDFlOTY2NDllOTMzMzZiZWIxNV82LTEtMS0xLTEwMTAyNQ_72a00d23-a856-4bfe-9a4b-23ba11989085', 'id3VybDovL2RvY3MudjEvZG9jOmViY2I5MWIyYjc1YTQ4MDdhNWE0ZDVjYjcwMjEzOTdlL3NlYzplYmNiOTFiMmI3NWE0ODA3YTVhNGQ1Y2I3MDIxMzk3ZV80L2ZyYWc6ZDVhZTJhMDM3ZDVkNGExZDkwODkxYjBlNzc5ZmQ5MTQvdGFibGU6ZjkwYTdiMmU5MjM2NGQxZTk2NjQ5ZTkzMzM2YmViMTUvdGFibGVyYW5nZTpmOTBhN2IyZTkyMzY0ZDFlOTY2NDllOTMzMzZiZWIxNV83LTEtMS0xLTEwMTAyNQ_aa879b85-7d3c-4a05-8041-e32db327b3a6']\n"
     ]
    },
    {
     "name": "stdout",
     "output_type": "stream",
     "text": [
      "Processing: https://www.sec.gov/Archives/edgar/data/0000796343/000079634322000032/adbe-20211203.htm\n"
     ]
    },
    {
     "name": "stderr",
     "output_type": "stream",
     "text": [
      "WARNING:root:Found 195 tags with IDs that were NOT in the provided facts dictionary. First 5 unmatched: ['id3VybDovL2RvY3MudjEvZG9jOjQzYTBmMTY2ZTkxNzRjOGQ5ZDcwNmI0NzdhYzNhNzllL3NlYzo0M2EwZjE2NmU5MTc0YzhkOWQ3MDZiNDc3YWMzYTc5ZV80L2ZyYWc6YmYwYzZmM2M4MzU5NGM3YThlMTE1NTI1YjU0OThjMzkvdGFibGU6ZGQ2NTdkMDVkZjkwNGUyMjgwNWUyY2IyNGJlM2UwZTYvdGFibGVyYW5nZTpkZDY1N2QwNWRmOTA0ZTIyODA1ZTJjYjI0YmUzZTBlNl8zLTEtMS0xLTIxMDg4_6d4f8157-5ba8-4e91-a575-0b30ce4d5aba', 'id3VybDovL2RvY3MudjEvZG9jOjQzYTBmMTY2ZTkxNzRjOGQ5ZDcwNmI0NzdhYzNhNzllL3NlYzo0M2EwZjE2NmU5MTc0YzhkOWQ3MDZiNDc3YWMzYTc5ZV80L2ZyYWc6YmYwYzZmM2M4MzU5NGM3YThlMTE1NTI1YjU0OThjMzkvdGFibGU6ZGQ2NTdkMDVkZjkwNGUyMjgwNWUyY2IyNGJlM2UwZTYvdGFibGVyYW5nZTpkZDY1N2QwNWRmOTA0ZTIyODA1ZTJjYjI0YmUzZTBlNl80LTEtMS0xLTIxMDg4_092d92e9-cb20-4cea-b374-c983aaa863d7', 'id3VybDovL2RvY3MudjEvZG9jOjQzYTBmMTY2ZTkxNzRjOGQ5ZDcwNmI0NzdhYzNhNzllL3NlYzo0M2EwZjE2NmU5MTc0YzhkOWQ3MDZiNDc3YWMzYTc5ZV80L2ZyYWc6YmYwYzZmM2M4MzU5NGM3YThlMTE1NTI1YjU0OThjMzkvdGFibGU6ZGQ2NTdkMDVkZjkwNGUyMjgwNWUyY2IyNGJlM2UwZTYvdGFibGVyYW5nZTpkZDY1N2QwNWRmOTA0ZTIyODA1ZTJjYjI0YmUzZTBlNl81LTEtMS0xLTIxMDg4_ef7ec5b0-daf3-4b4a-a083-aa1de75acfcf', 'id3VybDovL2RvY3MudjEvZG9jOjQzYTBmMTY2ZTkxNzRjOGQ5ZDcwNmI0NzdhYzNhNzllL3NlYzo0M2EwZjE2NmU5MTc0YzhkOWQ3MDZiNDc3YWMzYTc5ZV80L2ZyYWc6YmYwYzZmM2M4MzU5NGM3YThlMTE1NTI1YjU0OThjMzkvdGFibGU6ZGQ2NTdkMDVkZjkwNGUyMjgwNWUyY2IyNGJlM2UwZTYvdGFibGVyYW5nZTpkZDY1N2QwNWRmOTA0ZTIyODA1ZTJjYjI0YmUzZTBlNl82LTEtMS0xLTIxMDg4_8c5047f5-5bc0-4b0c-b0b5-fa07b11f0f4e', 'id3VybDovL2RvY3MudjEvZG9jOjQzYTBmMTY2ZTkxNzRjOGQ5ZDcwNmI0NzdhYzNhNzllL3NlYzo0M2EwZjE2NmU5MTc0YzhkOWQ3MDZiNDc3YWMzYTc5ZV80L2ZyYWc6YmYwYzZmM2M4MzU5NGM3YThlMTE1NTI1YjU0OThjMzkvdGFibGU6ZGQ2NTdkMDVkZjkwNGUyMjgwNWUyY2IyNGJlM2UwZTYvdGFibGVyYW5nZTpkZDY1N2QwNWRmOTA0ZTIyODA1ZTJjYjI0YmUzZTBlNl83LTEtMS0xLTIxMDg4_ed4f40c8-ef94-48ca-97b7-380ad05082f4']\n"
     ]
    },
    {
     "name": "stdout",
     "output_type": "stream",
     "text": [
      "Processing: https://www.sec.gov/Archives/edgar/data/0000796343/000079634321000004/adbe-20201127.htm\n"
     ]
    },
    {
     "name": "stderr",
     "output_type": "stream",
     "text": [
      "WARNING:root:Found 258 tags with IDs that were NOT in the provided facts dictionary. First 5 unmatched: ['id3VybDovL2RvY3MudjEvZG9jOmIzMmVmNmY1MzFlYzQ2ZDhhNjU1NTIwMTIzNWJmNzBmL3NlYzpiMzJlZjZmNTMxZWM0NmQ4YTY1NTUyMDEyMzViZjcwZl80L2ZyYWc6ZTVkYWVmMGVlMGZjNDY2NDhhOTA4ZWM1ZjQ3MjRiZDIvdGFibGU6MTFmOGZjYWQyNGFhNDY2MDhiNDYzODcyNTMwNWM4N2EvdGFibGVyYW5nZToxMWY4ZmNhZDI0YWE0NjYwOGI0NjM4NzI1MzA1Yzg3YV8zLTEtMS0xLTA_f2471c32-5341-43bb-85f6-2f9200172788', 'id3VybDovL2RvY3MudjEvZG9jOmIzMmVmNmY1MzFlYzQ2ZDhhNjU1NTIwMTIzNWJmNzBmL3NlYzpiMzJlZjZmNTMxZWM0NmQ4YTY1NTUyMDEyMzViZjcwZl80L2ZyYWc6ZTVkYWVmMGVlMGZjNDY2NDhhOTA4ZWM1ZjQ3MjRiZDIvdGFibGU6MTFmOGZjYWQyNGFhNDY2MDhiNDYzODcyNTMwNWM4N2EvdGFibGVyYW5nZToxMWY4ZmNhZDI0YWE0NjYwOGI0NjM4NzI1MzA1Yzg3YV80LTEtMS0xLTA_aec0818f-ef0a-4b04-8d34-7b6d2740f303', 'id3VybDovL2RvY3MudjEvZG9jOmIzMmVmNmY1MzFlYzQ2ZDhhNjU1NTIwMTIzNWJmNzBmL3NlYzpiMzJlZjZmNTMxZWM0NmQ4YTY1NTUyMDEyMzViZjcwZl80L2ZyYWc6ZTVkYWVmMGVlMGZjNDY2NDhhOTA4ZWM1ZjQ3MjRiZDIvdGFibGU6MTFmOGZjYWQyNGFhNDY2MDhiNDYzODcyNTMwNWM4N2EvdGFibGVyYW5nZToxMWY4ZmNhZDI0YWE0NjYwOGI0NjM4NzI1MzA1Yzg3YV81LTEtMS0xLTA_1eea7527-c51e-481f-86be-536b5012a863', 'id3VybDovL2RvY3MudjEvZG9jOmIzMmVmNmY1MzFlYzQ2ZDhhNjU1NTIwMTIzNWJmNzBmL3NlYzpiMzJlZjZmNTMxZWM0NmQ4YTY1NTUyMDEyMzViZjcwZl80L2ZyYWc6ZTVkYWVmMGVlMGZjNDY2NDhhOTA4ZWM1ZjQ3MjRiZDIvdGFibGU6MTFmOGZjYWQyNGFhNDY2MDhiNDYzODcyNTMwNWM4N2EvdGFibGVyYW5nZToxMWY4ZmNhZDI0YWE0NjYwOGI0NjM4NzI1MzA1Yzg3YV82LTEtMS0xLTA_32ffe18b-58b7-4032-9e17-6bd29adfb2d8', 'id3VybDovL2RvY3MudjEvZG9jOmIzMmVmNmY1MzFlYzQ2ZDhhNjU1NTIwMTIzNWJmNzBmL3NlYzpiMzJlZjZmNTMxZWM0NmQ4YTY1NTUyMDEyMzViZjcwZl80L2ZyYWc6ZTVkYWVmMGVlMGZjNDY2NDhhOTA4ZWM1ZjQ3MjRiZDIvdGFibGU6MTFmOGZjYWQyNGFhNDY2MDhiNDYzODcyNTMwNWM4N2EvdGFibGVyYW5nZToxMWY4ZmNhZDI0YWE0NjYwOGI0NjM4NzI1MzA1Yzg3YV83LTEtMS0xLTA_2cd485ad-a084-4a94-8750-dfa14ca636e7']\n"
     ]
    },
    {
     "name": "stdout",
     "output_type": "stream",
     "text": [
      "Processing: https://www.sec.gov/Archives/edgar/data/0000796343/000079634320000013/adbe10kfy19.htm\n"
     ]
    },
    {
     "name": "stderr",
     "output_type": "stream",
     "text": [
      "WARNING:root:Found 290 tags with IDs that were NOT in the provided facts dictionary. First 5 unmatched: ['Fact-6C44970061385A798CE3480C25852B9F-wk-Fact-6C44970061385A798CE3480C25852B9F', 'Fact-56BA85F28A71560F855A7C902ACBE808-wk-Fact-56BA85F28A71560F855A7C902ACBE808', 'Fact-6FC42559CEAA5A4483A66E7727284EC2-wk-Fact-6FC42559CEAA5A4483A66E7727284EC2', 'Fact-BB57118CCF7E5DBCA29A45F3674C2D5B-wk-Fact-BB57118CCF7E5DBCA29A45F3674C2D5B', 'Fact-14EF0438C84752AD96E0EF60E11CAAED-wk-Fact-14EF0438C84752AD96E0EF60E11CAAED']\n"
     ]
    },
    {
     "name": "stdout",
     "output_type": "stream",
     "text": [
      "Processing: https://www.sec.gov/Archives/edgar/data/0001327811/000132781125000056/wday-20250131.htm\n"
     ]
    },
    {
     "name": "stderr",
     "output_type": "stream",
     "text": [
      "WARNING:root:Found 146 tags with IDs that were NOT in the provided facts dictionary. First 5 unmatched: ['f-35', 'f-36', 'f-37', 'f-38', 'f-1']\n"
     ]
    },
    {
     "name": "stdout",
     "output_type": "stream",
     "text": [
      "Processing: https://www.sec.gov/Archives/edgar/data/0001327811/000132781124000044/wday-20240131.htm\n"
     ]
    },
    {
     "name": "stderr",
     "output_type": "stream",
     "text": [
      "WARNING:root:Found 134 tags with IDs that were NOT in the provided facts dictionary. First 5 unmatched: ['f-33', 'f-34', 'f-35', 'f-36', 'f-1']\n"
     ]
    },
    {
     "name": "stdout",
     "output_type": "stream",
     "text": [
      "Processing: https://www.sec.gov/Archives/edgar/data/0001327811/000132781123000024/wday-20230131.htm\n"
     ]
    },
    {
     "name": "stderr",
     "output_type": "stream",
     "text": [
      "WARNING:root:Found 143 tags with IDs that were NOT in the provided facts dictionary. First 5 unmatched: ['id3VybDovL2RvY3MudjEvZG9jOjYyNzA0OGE4NzVkNTRmNzliN2UyMzJjMWNjYWRiODFkL3NlYzo2MjcwNDhhODc1ZDU0Zjc5YjdlMjMyYzFjY2FkYjgxZF80L2ZyYWc6NmVlZWM3YmYxYjc5NGNmYWI0OWYyYzNkNDdiMzAyMWYvdGFibGU6ZTYzMWNjZDBkMzRlNDI2MGI5ZGFhYzJkZTc4MjU3MjUvdGFibGVyYW5nZTplNjMxY2NkMGQzNGU0MjYwYjlkYWFjMmRlNzgyNTcyNV8wLTEtMS0xLTk4NDg4_5504829d-7582-48ce-a9dd-bb70bbedcaa9', 'id3VybDovL2RvY3MudjEvZG9jOjYyNzA0OGE4NzVkNTRmNzliN2UyMzJjMWNjYWRiODFkL3NlYzo2MjcwNDhhODc1ZDU0Zjc5YjdlMjMyYzFjY2FkYjgxZF80L2ZyYWc6NmVlZWM3YmYxYjc5NGNmYWI0OWYyYzNkNDdiMzAyMWYvdGFibGU6ZTYzMWNjZDBkMzRlNDI2MGI5ZGFhYzJkZTc4MjU3MjUvdGFibGVyYW5nZTplNjMxY2NkMGQzNGU0MjYwYjlkYWFjMmRlNzgyNTcyNV8yLTEtMS0xLTk4NDg4_dc3a4fe1-35fd-4c3b-888c-e5161da48309', 'id3VybDovL2RvY3MudjEvZG9jOjYyNzA0OGE4NzVkNTRmNzliN2UyMzJjMWNjYWRiODFkL3NlYzo2MjcwNDhhODc1ZDU0Zjc5YjdlMjMyYzFjY2FkYjgxZF80L2ZyYWc6NmVlZWM3YmYxYjc5NGNmYWI0OWYyYzNkNDdiMzAyMWYvdGFibGU6ZTYzMWNjZDBkMzRlNDI2MGI5ZGFhYzJkZTc4MjU3MjUvdGFibGVyYW5nZTplNjMxY2NkMGQzNGU0MjYwYjlkYWFjMmRlNzgyNTcyNV8zLTEtMS0xLTk4NDg4_86d0a36a-1ea6-46db-b59c-539251a5fcd7', 'id3VybDovL2RvY3MudjEvZG9jOjYyNzA0OGE4NzVkNTRmNzliN2UyMzJjMWNjYWRiODFkL3NlYzo2MjcwNDhhODc1ZDU0Zjc5YjdlMjMyYzFjY2FkYjgxZF80L2ZyYWc6NmVlZWM3YmYxYjc5NGNmYWI0OWYyYzNkNDdiMzAyMWYvdGFibGU6ZTYzMWNjZDBkMzRlNDI2MGI5ZGFhYzJkZTc4MjU3MjUvdGFibGVyYW5nZTplNjMxY2NkMGQzNGU0MjYwYjlkYWFjMmRlNzgyNTcyNV80LTEtMS0xLTk4NDg4_5a04f1c4-9933-4421-9c50-6966d0cc595e', 'id3VybDovL2RvY3MudjEvZG9jOjYyNzA0OGE4NzVkNTRmNzliN2UyMzJjMWNjYWRiODFkL3NlYzo2MjcwNDhhODc1ZDU0Zjc5YjdlMjMyYzFjY2FkYjgxZF8xL2ZyYWc6OGU2NDAxNGY0NzZiNGFhMGJiNjE0ZTZjNTg1NGNhMmUvdGV4dHJlZ2lvbjo4ZTY0MDE0ZjQ3NmI0YWEwYmI2MTRlNmM1ODU0Y2EyZV84OA_371257cd-923a-4838-93ba-e17605a0f8c9']\n"
     ]
    },
    {
     "name": "stdout",
     "output_type": "stream",
     "text": [
      "Processing: https://www.sec.gov/Archives/edgar/data/0001327811/000132781122000030/wday-20220131.htm\n"
     ]
    },
    {
     "name": "stderr",
     "output_type": "stream",
     "text": [
      "WARNING:root:Found 132 tags with IDs that were NOT in the provided facts dictionary. First 5 unmatched: ['id3VybDovL2RvY3MudjEvZG9jOjgxMjAxMjQxMzVlZjQ0MDM5NTExODE4ZDBhNGQzZWRkL3NlYzo4MTIwMTI0MTM1ZWY0NDAzOTUxMTgxOGQwYTRkM2VkZF80L2ZyYWc6ZDRkOWRlOWMzMjkxNGNlMWE4MGU4ZWEzZTFjNjRhMTQvdGFibGU6NWFkYzI3ZDdlOTM5NDUzMzlkYTQzYjkwNmNkZDUwODUvdGFibGVyYW5nZTo1YWRjMjdkN2U5Mzk0NTMzOWRhNDNiOTA2Y2RkNTA4NV8wLTEtMS0xLTMyNzQ5_1c4cff13-0a51-4f8d-941d-0b30180866dc', 'id3VybDovL2RvY3MudjEvZG9jOjgxMjAxMjQxMzVlZjQ0MDM5NTExODE4ZDBhNGQzZWRkL3NlYzo4MTIwMTI0MTM1ZWY0NDAzOTUxMTgxOGQwYTRkM2VkZF80L2ZyYWc6ZDRkOWRlOWMzMjkxNGNlMWE4MGU4ZWEzZTFjNjRhMTQvdGFibGU6NWFkYzI3ZDdlOTM5NDUzMzlkYTQzYjkwNmNkZDUwODUvdGFibGVyYW5nZTo1YWRjMjdkN2U5Mzk0NTMzOWRhNDNiOTA2Y2RkNTA4NV8yLTEtMS0xLTMyNzQ5_e5949ff3-dc30-4d02-b349-b2b29fdd3d0f', 'id3VybDovL2RvY3MudjEvZG9jOjgxMjAxMjQxMzVlZjQ0MDM5NTExODE4ZDBhNGQzZWRkL3NlYzo4MTIwMTI0MTM1ZWY0NDAzOTUxMTgxOGQwYTRkM2VkZF80L2ZyYWc6ZDRkOWRlOWMzMjkxNGNlMWE4MGU4ZWEzZTFjNjRhMTQvdGFibGU6NWFkYzI3ZDdlOTM5NDUzMzlkYTQzYjkwNmNkZDUwODUvdGFibGVyYW5nZTo1YWRjMjdkN2U5Mzk0NTMzOWRhNDNiOTA2Y2RkNTA4NV8zLTEtMS0xLTMyNzQ5_ce92b07c-f552-426c-b42f-9c4639d3ca20', 'id3VybDovL2RvY3MudjEvZG9jOjgxMjAxMjQxMzVlZjQ0MDM5NTExODE4ZDBhNGQzZWRkL3NlYzo4MTIwMTI0MTM1ZWY0NDAzOTUxMTgxOGQwYTRkM2VkZF80L2ZyYWc6ZDRkOWRlOWMzMjkxNGNlMWE4MGU4ZWEzZTFjNjRhMTQvdGFibGU6NWFkYzI3ZDdlOTM5NDUzMzlkYTQzYjkwNmNkZDUwODUvdGFibGVyYW5nZTo1YWRjMjdkN2U5Mzk0NTMzOWRhNDNiOTA2Y2RkNTA4NV80LTEtMS0xLTMyNzQ5_5e2e2dd1-9235-487a-9a18-3dc2b75b36b6', 'id3VybDovL2RvY3MudjEvZG9jOjgxMjAxMjQxMzVlZjQ0MDM5NTExODE4ZDBhNGQzZWRkL3NlYzo4MTIwMTI0MTM1ZWY0NDAzOTUxMTgxOGQwYTRkM2VkZF8xL2ZyYWc6OGU4MDUzOWYyNTRkNDZjODgyYjYxYzlhZmNlZDFmN2IvdGV4dHJlZ2lvbjo4ZTgwNTM5ZjI1NGQ0NmM4ODJiNjFjOWFmY2VkMWY3Yl84OA_f41e4f05-3390-48e0-8173-38ce89201256']\n"
     ]
    },
    {
     "name": "stdout",
     "output_type": "stream",
     "text": [
      "Processing: https://www.sec.gov/Archives/edgar/data/0001327811/000132781121000020/wday-20210131.htm\n"
     ]
    },
    {
     "name": "stderr",
     "output_type": "stream",
     "text": [
      "WARNING:root:Found 115 tags with IDs that were NOT in the provided facts dictionary. First 5 unmatched: ['id3VybDovL2RvY3MudjEvZG9jOjY5Njc2MWU5OTc0MzQ3ZGI5YmZhNGRiYTdhNGFhY2M3L3NlYzo2OTY3NjFlOTk3NDM0N2RiOWJmYTRkYmE3YTRhYWNjN180L2ZyYWc6ZjM1ODkzZjQ5MTFmNDY1Y2JhM2Y5MDA1NzE0OTg4MTMvdGFibGU6ZjgzY2MwMmIxNzU0NGYyZGI3YTNiZjM3MWIwNDgyNTcvdGFibGVyYW5nZTpmODNjYzAyYjE3NTQ0ZjJkYjdhM2JmMzcxYjA0ODI1N18wLTEtMS0xLTA_f3e3712b-7e56-40ce-b188-a917b88f64e3', 'id3VybDovL2RvY3MudjEvZG9jOjY5Njc2MWU5OTc0MzQ3ZGI5YmZhNGRiYTdhNGFhY2M3L3NlYzo2OTY3NjFlOTk3NDM0N2RiOWJmYTRkYmE3YTRhYWNjN180L2ZyYWc6ZjM1ODkzZjQ5MTFmNDY1Y2JhM2Y5MDA1NzE0OTg4MTMvdGFibGU6ZjgzY2MwMmIxNzU0NGYyZGI3YTNiZjM3MWIwNDgyNTcvdGFibGVyYW5nZTpmODNjYzAyYjE3NTQ0ZjJkYjdhM2JmMzcxYjA0ODI1N18yLTEtMS0xLTA_a0ed3a54-353d-4d1a-9e28-03e5d4624bad', 'id3VybDovL2RvY3MudjEvZG9jOjY5Njc2MWU5OTc0MzQ3ZGI5YmZhNGRiYTdhNGFhY2M3L3NlYzo2OTY3NjFlOTk3NDM0N2RiOWJmYTRkYmE3YTRhYWNjN180L2ZyYWc6ZjM1ODkzZjQ5MTFmNDY1Y2JhM2Y5MDA1NzE0OTg4MTMvdGFibGU6ZjgzY2MwMmIxNzU0NGYyZGI3YTNiZjM3MWIwNDgyNTcvdGFibGVyYW5nZTpmODNjYzAyYjE3NTQ0ZjJkYjdhM2JmMzcxYjA0ODI1N18zLTEtMS0xLTA_f12f181f-b69b-4e7a-a2d8-a6da2b48abb5', 'id3VybDovL2RvY3MudjEvZG9jOjY5Njc2MWU5OTc0MzQ3ZGI5YmZhNGRiYTdhNGFhY2M3L3NlYzo2OTY3NjFlOTk3NDM0N2RiOWJmYTRkYmE3YTRhYWNjN180L2ZyYWc6ZjM1ODkzZjQ5MTFmNDY1Y2JhM2Y5MDA1NzE0OTg4MTMvdGFibGU6ZjgzY2MwMmIxNzU0NGYyZGI3YTNiZjM3MWIwNDgyNTcvdGFibGVyYW5nZTpmODNjYzAyYjE3NTQ0ZjJkYjdhM2JmMzcxYjA0ODI1N180LTEtMS0xLTA_ea8362f6-f6ba-4346-9fc1-eff1aa3baed5', 'id3VybDovL2RvY3MudjEvZG9jOjY5Njc2MWU5OTc0MzQ3ZGI5YmZhNGRiYTdhNGFhY2M3L3NlYzo2OTY3NjFlOTk3NDM0N2RiOWJmYTRkYmE3YTRhYWNjN18xL2ZyYWc6MzI0M2NhZmE0OTA3NDEyODllNTAyYmE2NmVkNjZjN2MvdGV4dHJlZ2lvbjozMjQzY2FmYTQ5MDc0MTI4OWU1MDJiYTY2ZWQ2NmM3Y184OA_08c9d1bc-5096-4abf-ab4c-f41448d44bb4']\n"
     ]
    },
    {
     "name": "stdout",
     "output_type": "stream",
     "text": [
      "Processing: https://www.sec.gov/Archives/edgar/data/0001327811/000132781120000022/wday-20200131.htm\n"
     ]
    },
    {
     "name": "stderr",
     "output_type": "stream",
     "text": [
      "WARNING:root:Found 117 tags with IDs that were NOT in the provided facts dictionary. First 5 unmatched: ['id3VybDovL2RvY3MudjEvZG9jOjgxOTM2ODRkMDIyOTQyZWZiMGI0NWRkZDg2MGM1YWI0L3NlYzo4MTkzNjg0ZDAyMjk0MmVmYjBiNDVkZGQ4NjBjNWFiNF80L2ZyYWc6NGU5ZDlmNjM2MGQ4NDBiMmJjNTlhZGJiNGE4OWMwMmQvdGFibGU6ZjhmOTRjOGUyZDRjNGY1YzkyMmE0MTI2YmUxNGI2ZmEvdGFibGVyYW5nZTpmOGY5NGM4ZTJkNGM0ZjVjOTIyYTQxMjZiZTE0YjZmYV8wLTEtMS0xLTQxMDA_077d18f9-57fe-4006-a4fe-933f8819a63a', 'id3VybDovL2RvY3MudjEvZG9jOjgxOTM2ODRkMDIyOTQyZWZiMGI0NWRkZDg2MGM1YWI0L3NlYzo4MTkzNjg0ZDAyMjk0MmVmYjBiNDVkZGQ4NjBjNWFiNF80L2ZyYWc6NGU5ZDlmNjM2MGQ4NDBiMmJjNTlhZGJiNGE4OWMwMmQvdGFibGU6ZjhmOTRjOGUyZDRjNGY1YzkyMmE0MTI2YmUxNGI2ZmEvdGFibGVyYW5nZTpmOGY5NGM4ZTJkNGM0ZjVjOTIyYTQxMjZiZTE0YjZmYV8zLTEtMS0xLTQxMDA_2554d7d0-12f2-4559-acaf-3ec150e334ec', 'id3VybDovL2RvY3MudjEvZG9jOjgxOTM2ODRkMDIyOTQyZWZiMGI0NWRkZDg2MGM1YWI0L3NlYzo4MTkzNjg0ZDAyMjk0MmVmYjBiNDVkZGQ4NjBjNWFiNF80L2ZyYWc6NGU5ZDlmNjM2MGQ4NDBiMmJjNTlhZGJiNGE4OWMwMmQvdGFibGU6ZjhmOTRjOGUyZDRjNGY1YzkyMmE0MTI2YmUxNGI2ZmEvdGFibGVyYW5nZTpmOGY5NGM4ZTJkNGM0ZjVjOTIyYTQxMjZiZTE0YjZmYV80LTEtMS0xLTQxMDA_ba34eda3-3870-47ff-97bd-fc865373b8b6', 'id3VybDovL2RvY3MudjEvZG9jOjgxOTM2ODRkMDIyOTQyZWZiMGI0NWRkZDg2MGM1YWI0L3NlYzo4MTkzNjg0ZDAyMjk0MmVmYjBiNDVkZGQ4NjBjNWFiNF80L2ZyYWc6NGU5ZDlmNjM2MGQ4NDBiMmJjNTlhZGJiNGE4OWMwMmQvdGFibGU6ZjhmOTRjOGUyZDRjNGY1YzkyMmE0MTI2YmUxNGI2ZmEvdGFibGVyYW5nZTpmOGY5NGM4ZTJkNGM0ZjVjOTIyYTQxMjZiZTE0YjZmYV83LTEtMS0xLTQxMDA_1cca23e6-bbc2-43eb-b1cf-624830f1cc2e', 'id3VybDovL2RvY3MudjEvZG9jOjgxOTM2ODRkMDIyOTQyZWZiMGI0NWRkZDg2MGM1YWI0L3NlYzo4MTkzNjg0ZDAyMjk0MmVmYjBiNDVkZGQ4NjBjNWFiNF80L2ZyYWc6NGU5ZDlmNjM2MGQ4NDBiMmJjNTlhZGJiNGE4OWMwMmQvdGV4dHJlZ2lvbjo0ZTlkOWY2MzYwZDg0MGIyYmM1OWFkYmI0YTg5YzAyZF8xNjQ5MjY3NDQxODI1_6f967c00-84d1-42a9-ab39-b43a3032b0aa']\n"
     ]
    },
    {
     "name": "stdout",
     "output_type": "stream",
     "text": [
      "Processing: https://www.sec.gov/Archives/edgar/data/0001585521/000158552125000042/zm-20250131.htm\n"
     ]
    },
    {
     "name": "stderr",
     "output_type": "stream",
     "text": [
      "WARNING:root:Found 159 tags with IDs that were NOT in the provided facts dictionary. First 5 unmatched: ['f-37', 'f-38', 'f-39', 'f-40', 'f-1390']\n"
     ]
    },
    {
     "name": "stdout",
     "output_type": "stream",
     "text": [
      "Processing: https://www.sec.gov/Archives/edgar/data/0001585521/000158552124000030/zm-20240131.htm\n"
     ]
    },
    {
     "name": "stderr",
     "output_type": "stream",
     "text": [
      "WARNING:root:Found 124 tags with IDs that were NOT in the provided facts dictionary. First 5 unmatched: ['f-37', 'f-38', 'f-39', 'f-40', 'f-1345']\n"
     ]
    },
    {
     "name": "stdout",
     "output_type": "stream",
     "text": [
      "Processing: https://www.sec.gov/Archives/edgar/data/0001585521/000158552123000035/zm-20230131.htm\n"
     ]
    },
    {
     "name": "stderr",
     "output_type": "stream",
     "text": [
      "WARNING:root:Found 118 tags with IDs that were NOT in the provided facts dictionary. First 5 unmatched: ['id3VybDovL2RvY3MudjEvZG9jOmVhYzk1NGY0MWJkNTQxZDM5OWQ3ODIyYTAxMzhiNDQwL3NlYzplYWM5NTRmNDFiZDU0MWQzOTlkNzgyMmEwMTM4YjQ0MF80L2ZyYWc6ZmE2MGNkYTg3YTdhNGZkMmE4ZTVmMjQ0MmVjOGQ5NzEvdGFibGU6ZWM0OWIxNjkyYWIyNDg0NmI0NmY3MDFhODZmNTIwMGYvdGFibGVyYW5nZTplYzQ5YjE2OTJhYjI0ODQ2YjQ2ZjcwMWE4NmY1MjAwZl8zLTEtMS0xLTUwMTU0_f8b75a43-0012-4976-9fb3-b59626b62a8e', 'id3VybDovL2RvY3MudjEvZG9jOmVhYzk1NGY0MWJkNTQxZDM5OWQ3ODIyYTAxMzhiNDQwL3NlYzplYWM5NTRmNDFiZDU0MWQzOTlkNzgyMmEwMTM4YjQ0MF80L2ZyYWc6ZmE2MGNkYTg3YTdhNGZkMmE4ZTVmMjQ0MmVjOGQ5NzEvdGFibGU6ZWM0OWIxNjkyYWIyNDg0NmI0NmY3MDFhODZmNTIwMGYvdGFibGVyYW5nZTplYzQ5YjE2OTJhYjI0ODQ2YjQ2ZjcwMWE4NmY1MjAwZl80LTEtMS0xLTUwMTU0_82b48e59-8e80-4357-9083-f32db2933963', 'id3VybDovL2RvY3MudjEvZG9jOmVhYzk1NGY0MWJkNTQxZDM5OWQ3ODIyYTAxMzhiNDQwL3NlYzplYWM5NTRmNDFiZDU0MWQzOTlkNzgyMmEwMTM4YjQ0MF80L2ZyYWc6ZmE2MGNkYTg3YTdhNGZkMmE4ZTVmMjQ0MmVjOGQ5NzEvdGFibGU6ZWM0OWIxNjkyYWIyNDg0NmI0NmY3MDFhODZmNTIwMGYvdGFibGVyYW5nZTplYzQ5YjE2OTJhYjI0ODQ2YjQ2ZjcwMWE4NmY1MjAwZl81LTEtMS0xLTUwMTU0_21eb7ce3-2a2e-4e5a-a7df-686e50232fc9', 'id3VybDovL2RvY3MudjEvZG9jOmVhYzk1NGY0MWJkNTQxZDM5OWQ3ODIyYTAxMzhiNDQwL3NlYzplYWM5NTRmNDFiZDU0MWQzOTlkNzgyMmEwMTM4YjQ0MF80L2ZyYWc6ZmE2MGNkYTg3YTdhNGZkMmE4ZTVmMjQ0MmVjOGQ5NzEvdGFibGU6ZWM0OWIxNjkyYWIyNDg0NmI0NmY3MDFhODZmNTIwMGYvdGFibGVyYW5nZTplYzQ5YjE2OTJhYjI0ODQ2YjQ2ZjcwMWE4NmY1MjAwZl82LTEtMS0xLTUwMTU0_843f6a6e-eabe-4c01-8e71-6f884e720506', 'id3VybDovL2RvY3MudjEvZG9jOmVhYzk1NGY0MWJkNTQxZDM5OWQ3ODIyYTAxMzhiNDQwL3NlYzplYWM5NTRmNDFiZDU0MWQzOTlkNzgyMmEwMTM4YjQ0MF8xL2ZyYWc6MTE0OGYxMTRiMzQ1NGE4YTk3OGEyOGEwMTk1ZDU0NmEvdGV4dHJlZ2lvbjoxMTQ4ZjExNGIzNDU0YThhOTc4YTI4YTAxOTVkNTQ2YV80MTY4_d8fd1774-1218-45b3-945b-05f98030b185']\n"
     ]
    },
    {
     "name": "stdout",
     "output_type": "stream",
     "text": [
      "Processing: https://www.sec.gov/Archives/edgar/data/0001585521/000158552122000037/zm-20220131.htm\n"
     ]
    },
    {
     "name": "stderr",
     "output_type": "stream",
     "text": [
      "WARNING:root:Found 150 tags with IDs that were NOT in the provided facts dictionary. First 5 unmatched: ['id3VybDovL2RvY3MudjEvZG9jOmY1NjdjNTczMzQ0NTRiOTU4ZDkyYmUwMTc1ZTI4NWY5L3NlYzpmNTY3YzU3MzM0NDU0Yjk1OGQ5MmJlMDE3NWUyODVmOV80L2ZyYWc6NzQ5ZjJhYjRkZTQyNGZmYjg1ZWUyOGI2MzRmODRkYzkvdGFibGU6ZWM3NWY5NjhkMTlhNDkzM2IwNTZlMmMzZjY0MDVkYWIvdGFibGVyYW5nZTplYzc1Zjk2OGQxOWE0OTMzYjA1NmUyYzNmNjQwNWRhYl80LTEtMS0xLTIzNTU2_e82bd43f-16f3-487d-ad6e-b81107f307d6', 'id3VybDovL2RvY3MudjEvZG9jOmY1NjdjNTczMzQ0NTRiOTU4ZDkyYmUwMTc1ZTI4NWY5L3NlYzpmNTY3YzU3MzM0NDU0Yjk1OGQ5MmJlMDE3NWUyODVmOV80L2ZyYWc6NzQ5ZjJhYjRkZTQyNGZmYjg1ZWUyOGI2MzRmODRkYzkvdGFibGU6ZWM3NWY5NjhkMTlhNDkzM2IwNTZlMmMzZjY0MDVkYWIvdGFibGVyYW5nZTplYzc1Zjk2OGQxOWE0OTMzYjA1NmUyYzNmNjQwNWRhYl82LTEtMS0xLTIzNTU2_f8124432-2124-4827-8f5a-9145e3a3c36b', 'id3VybDovL2RvY3MudjEvZG9jOmY1NjdjNTczMzQ0NTRiOTU4ZDkyYmUwMTc1ZTI4NWY5L3NlYzpmNTY3YzU3MzM0NDU0Yjk1OGQ5MmJlMDE3NWUyODVmOV80L2ZyYWc6NzQ5ZjJhYjRkZTQyNGZmYjg1ZWUyOGI2MzRmODRkYzkvdGFibGU6ZWM3NWY5NjhkMTlhNDkzM2IwNTZlMmMzZjY0MDVkYWIvdGFibGVyYW5nZTplYzc1Zjk2OGQxOWE0OTMzYjA1NmUyYzNmNjQwNWRhYl83LTEtMS0xLTIzNTU2_2dbc2f7a-d548-413a-a9bb-9740ab34d33c', 'id3VybDovL2RvY3MudjEvZG9jOmY1NjdjNTczMzQ0NTRiOTU4ZDkyYmUwMTc1ZTI4NWY5L3NlYzpmNTY3YzU3MzM0NDU0Yjk1OGQ5MmJlMDE3NWUyODVmOV80L2ZyYWc6NzQ5ZjJhYjRkZTQyNGZmYjg1ZWUyOGI2MzRmODRkYzkvdGFibGU6ZWM3NWY5NjhkMTlhNDkzM2IwNTZlMmMzZjY0MDVkYWIvdGFibGVyYW5nZTplYzc1Zjk2OGQxOWE0OTMzYjA1NmUyYzNmNjQwNWRhYl85LTEtMS0xLTIzNTU2_71307107-6419-4189-b25d-2981dd85acdb', 'id3VybDovL2RvY3MudjEvZG9jOmY1NjdjNTczMzQ0NTRiOTU4ZDkyYmUwMTc1ZTI4NWY5L3NlYzpmNTY3YzU3MzM0NDU0Yjk1OGQ5MmJlMDE3NWUyODVmOV8xL2ZyYWc6YzA3YTVmNDRjMjljNDViM2E0MjA1ZjVlZWIwM2JjMGEvdGV4dHJlZ2lvbjpjMDdhNWY0NGMyOWM0NWIzYTQyMDVmNWVlYjAzYmMwYV80MDA2_a9e69999-ecd0-4e03-9675-ed3a2acdd12e']\n"
     ]
    },
    {
     "name": "stdout",
     "output_type": "stream",
     "text": [
      "Processing: https://www.sec.gov/Archives/edgar/data/0001585521/000158552121000048/zm-20210131.htm\n"
     ]
    },
    {
     "name": "stderr",
     "output_type": "stream",
     "text": [
      "WARNING:root:Found 147 tags with IDs that were NOT in the provided facts dictionary. First 5 unmatched: ['id3VybDovL2RvY3MudjEvZG9jOmEyMzZlMjQxZTNkMjRlZjM4MzM2YWFlMDRmNTc2MjQyL3NlYzphMjM2ZTI0MWUzZDI0ZWYzODMzNmFhZTA0ZjU3NjI0Ml80L2ZyYWc6MTQxNjNjZjM0MzU1NDY4ODk0NWIwMGM3Y2Y4Yzc3OTYvdGFibGU6OWMxODYzZWZjNzM1NDA4OTlkYjMyZThjNzBmZTI2ZDAvdGFibGVyYW5nZTo5YzE4NjNlZmM3MzU0MDg5OWRiMzJlOGM3MGZlMjZkMF82LTEtMS0xLTA_e01195c5-e7f3-4f2c-bee3-d3b9e239b2f3', 'id3VybDovL2RvY3MudjEvZG9jOmEyMzZlMjQxZTNkMjRlZjM4MzM2YWFlMDRmNTc2MjQyL3NlYzphMjM2ZTI0MWUzZDI0ZWYzODMzNmFhZTA0ZjU3NjI0Ml80L2ZyYWc6MTQxNjNjZjM0MzU1NDY4ODk0NWIwMGM3Y2Y4Yzc3OTYvdGFibGU6OWMxODYzZWZjNzM1NDA4OTlkYjMyZThjNzBmZTI2ZDAvdGFibGVyYW5nZTo5YzE4NjNlZmM3MzU0MDg5OWRiMzJlOGM3MGZlMjZkMF84LTEtMS0xLTA_3c5cc6fb-d259-4f94-8920-88c4a1ed4e06', 'id3VybDovL2RvY3MudjEvZG9jOmEyMzZlMjQxZTNkMjRlZjM4MzM2YWFlMDRmNTc2MjQyL3NlYzphMjM2ZTI0MWUzZDI0ZWYzODMzNmFhZTA0ZjU3NjI0Ml80L2ZyYWc6MTQxNjNjZjM0MzU1NDY4ODk0NWIwMGM3Y2Y4Yzc3OTYvdGFibGU6OWMxODYzZWZjNzM1NDA4OTlkYjMyZThjNzBmZTI2ZDAvdGFibGVyYW5nZTo5YzE4NjNlZmM3MzU0MDg5OWRiMzJlOGM3MGZlMjZkMF85LTEtMS0xLTA_74dd93ed-4e12-4374-a899-b8ed7b4c807b', 'id3VybDovL2RvY3MudjEvZG9jOmEyMzZlMjQxZTNkMjRlZjM4MzM2YWFlMDRmNTc2MjQyL3NlYzphMjM2ZTI0MWUzZDI0ZWYzODMzNmFhZTA0ZjU3NjI0Ml80L2ZyYWc6MTQxNjNjZjM0MzU1NDY4ODk0NWIwMGM3Y2Y4Yzc3OTYvdGFibGU6OWMxODYzZWZjNzM1NDA4OTlkYjMyZThjNzBmZTI2ZDAvdGFibGVyYW5nZTo5YzE4NjNlZmM3MzU0MDg5OWRiMzJlOGM3MGZlMjZkMF8xMi0xLTEtMS0w_370ecca2-74a6-400c-846b-a793bd945502', 'id3VybDovL2RvY3MudjEvZG9jOmEyMzZlMjQxZTNkMjRlZjM4MzM2YWFlMDRmNTc2MjQyL3NlYzphMjM2ZTI0MWUzZDI0ZWYzODMzNmFhZTA0ZjU3NjI0Ml8xMDY4L2ZyYWc6MTYzNDEzYmZiMjI4NDRhM2E0YTYyNDA0NDNjMmFmNDkvdGV4dHJlZ2lvbjoxNjM0MTNiZmIyMjg0NGEzYTRhNjI0MDQ0M2MyYWY0OV8xMDk5NTExNjI5Njc0_152772e2-c080-4e38-bbc7-1b28eb62ed02']\n"
     ]
    },
    {
     "name": "stdout",
     "output_type": "stream",
     "text": [
      "Processing: https://www.sec.gov/Archives/edgar/data/0001585521/000158552120000095/zm-20200131.htm\n"
     ]
    },
    {
     "name": "stderr",
     "output_type": "stream",
     "text": [
      "WARNING:root:Found 128 tags with IDs that were NOT in the provided facts dictionary. First 5 unmatched: ['id3VybDovL2RvY3MudjEvZG9jOmQ1NWJkNDgyZjBmMTQxNWE4NzUzM2FmMDgwOWM2ZTI1L3NlYzpkNTViZDQ4MmYwZjE0MTVhODc1MzNhZjA4MDljNmUyNV80L2ZyYWc6OTZiOTIyNzc5NTIwNGVkOTg2ZDU2OGZiZGI0MTIzM2MvdGFibGU6Y2Q1MjNkMjZmYWY0NDZjMTgzZTA1NTFhNjI5YmU0YTYvdGFibGVyYW5nZTpjZDUyM2QyNmZhZjQ0NmMxODNlMDU1MWE2MjliZTRhNl8zLTEtMS0xLTA_4bbdd0ec-c0e0-40f2-a672-ad8a440a710a', 'id3VybDovL2RvY3MudjEvZG9jOmQ1NWJkNDgyZjBmMTQxNWE4NzUzM2FmMDgwOWM2ZTI1L3NlYzpkNTViZDQ4MmYwZjE0MTVhODc1MzNhZjA4MDljNmUyNV80L2ZyYWc6OTZiOTIyNzc5NTIwNGVkOTg2ZDU2OGZiZGI0MTIzM2MvdGFibGU6Y2Q1MjNkMjZmYWY0NDZjMTgzZTA1NTFhNjI5YmU0YTYvdGFibGVyYW5nZTpjZDUyM2QyNmZhZjQ0NmMxODNlMDU1MWE2MjliZTRhNl80LTEtMS0xLTA_da7b226e-c9c4-49be-b03b-10bf274aeda5', 'id3VybDovL2RvY3MudjEvZG9jOmQ1NWJkNDgyZjBmMTQxNWE4NzUzM2FmMDgwOWM2ZTI1L3NlYzpkNTViZDQ4MmYwZjE0MTVhODc1MzNhZjA4MDljNmUyNV80L2ZyYWc6OTZiOTIyNzc5NTIwNGVkOTg2ZDU2OGZiZGI0MTIzM2MvdGFibGU6Y2Q1MjNkMjZmYWY0NDZjMTgzZTA1NTFhNjI5YmU0YTYvdGFibGVyYW5nZTpjZDUyM2QyNmZhZjQ0NmMxODNlMDU1MWE2MjliZTRhNl81LTEtMS0xLTA_d9f5ecce-60b6-4268-816d-de797f553b29', 'id3VybDovL2RvY3MudjEvZG9jOmQ1NWJkNDgyZjBmMTQxNWE4NzUzM2FmMDgwOWM2ZTI1L3NlYzpkNTViZDQ4MmYwZjE0MTVhODc1MzNhZjA4MDljNmUyNV80L2ZyYWc6OTZiOTIyNzc5NTIwNGVkOTg2ZDU2OGZiZGI0MTIzM2MvdGFibGU6Y2Q1MjNkMjZmYWY0NDZjMTgzZTA1NTFhNjI5YmU0YTYvdGFibGVyYW5nZTpjZDUyM2QyNmZhZjQ0NmMxODNlMDU1MWE2MjliZTRhNl82LTEtMS0xLTA_f6adf8fe-188a-4e6d-9b2d-46eb52ad921a', 'id3VybDovL2RvY3MudjEvZG9jOmQ1NWJkNDgyZjBmMTQxNWE4NzUzM2FmMDgwOWM2ZTI1L3NlYzpkNTViZDQ4MmYwZjE0MTVhODc1MzNhZjA4MDljNmUyNV80L2ZyYWc6OTZiOTIyNzc5NTIwNGVkOTg2ZDU2OGZiZGI0MTIzM2MvdGFibGU6Y2Q1MjNkMjZmYWY0NDZjMTgzZTA1NTFhNjI5YmU0YTYvdGFibGVyYW5nZTpjZDUyM2QyNmZhZjQ0NmMxODNlMDU1MWE2MjliZTRhNl83LTItMS0xLTA_9b0e54a5-436b-41f5-adfe-65bf33756e5f']\n"
     ]
    },
    {
     "name": "stdout",
     "output_type": "stream",
     "text": [
      "Processing: https://www.sec.gov/Archives/edgar/data/0001373715/000137371525000010/now-20241231.htm\n"
     ]
    },
    {
     "name": "stderr",
     "output_type": "stream",
     "text": [
      "WARNING:root:Found 140 tags with IDs that were NOT in the provided facts dictionary. First 5 unmatched: ['f-32', 'f-33', 'f-34', 'f-35', 'f-1178']\n"
     ]
    },
    {
     "name": "stdout",
     "output_type": "stream",
     "text": [
      "Processing: https://www.sec.gov/Archives/edgar/data/0001373715/000137371524000030/now-20231231.htm\n"
     ]
    },
    {
     "name": "stderr",
     "output_type": "stream",
     "text": [
      "WARNING:root:Found 125 tags with IDs that were NOT in the provided facts dictionary. First 5 unmatched: ['f-32', 'f-33', 'f-34', 'f-35', 'f-1136']\n"
     ]
    },
    {
     "name": "stdout",
     "output_type": "stream",
     "text": [
      "Processing: https://www.sec.gov/Archives/edgar/data/0001373715/000137371523000035/now-20221231.htm\n"
     ]
    },
    {
     "name": "stderr",
     "output_type": "stream",
     "text": [
      "WARNING:root:Found 126 tags with IDs that were NOT in the provided facts dictionary. First 5 unmatched: ['id3VybDovL2RvY3MudjEvZG9jOjNiZmYzNTk5M2E2ZDQ0NWZiMzEzOTI2NGViNmM0M2RlL3NlYzozYmZmMzU5OTNhNmQ0NDVmYjMxMzkyNjRlYjZjNDNkZV80L2ZyYWc6OGFmNTYzNzU5MzIwNDkzZmE2ZTAyYjA5YWM1MGY4YzEvdGFibGU6ODZmYWM3NGFlZmY0NGQxYzkxZjk4NGMyOTZjNzlhMGEvdGFibGVyYW5nZTo4NmZhYzc0YWVmZjQ0ZDFjOTFmOTg0YzI5NmM3OWEwYV8zLTEtMS0xLTE1NjYzNw_c16e027f-1cd8-43c1-92f6-fa200280df7f', 'id3VybDovL2RvY3MudjEvZG9jOjNiZmYzNTk5M2E2ZDQ0NWZiMzEzOTI2NGViNmM0M2RlL3NlYzozYmZmMzU5OTNhNmQ0NDVmYjMxMzkyNjRlYjZjNDNkZV80L2ZyYWc6OGFmNTYzNzU5MzIwNDkzZmE2ZTAyYjA5YWM1MGY4YzEvdGFibGU6ODZmYWM3NGFlZmY0NGQxYzkxZjk4NGMyOTZjNzlhMGEvdGFibGVyYW5nZTo4NmZhYzc0YWVmZjQ0ZDFjOTFmOTg0YzI5NmM3OWEwYV80LTEtMS0xLTE1NjYzNw_31fc8d8b-fad0-41bd-83e8-2253884293c7', 'id3VybDovL2RvY3MudjEvZG9jOjNiZmYzNTk5M2E2ZDQ0NWZiMzEzOTI2NGViNmM0M2RlL3NlYzozYmZmMzU5OTNhNmQ0NDVmYjMxMzkyNjRlYjZjNDNkZV80L2ZyYWc6OGFmNTYzNzU5MzIwNDkzZmE2ZTAyYjA5YWM1MGY4YzEvdGFibGU6ODZmYWM3NGFlZmY0NGQxYzkxZjk4NGMyOTZjNzlhMGEvdGFibGVyYW5nZTo4NmZhYzc0YWVmZjQ0ZDFjOTFmOTg0YzI5NmM3OWEwYV82LTEtMS0xLTE1NjYzNw_0f24575d-0f31-4122-ae77-59f04ebce59a', 'id3VybDovL2RvY3MudjEvZG9jOjNiZmYzNTk5M2E2ZDQ0NWZiMzEzOTI2NGViNmM0M2RlL3NlYzozYmZmMzU5OTNhNmQ0NDVmYjMxMzkyNjRlYjZjNDNkZV80L2ZyYWc6OGFmNTYzNzU5MzIwNDkzZmE2ZTAyYjA5YWM1MGY4YzEvdGFibGU6ODZmYWM3NGFlZmY0NGQxYzkxZjk4NGMyOTZjNzlhMGEvdGFibGVyYW5nZTo4NmZhYzc0YWVmZjQ0ZDFjOTFmOTg0YzI5NmM3OWEwYV82LTEtMS0xLTE1NjYzNw_60cd9ed3-161a-4549-aeb7-1907debbf225', 'id3VybDovL2RvY3MudjEvZG9jOjNiZmYzNTk5M2E2ZDQ0NWZiMzEzOTI2NGViNmM0M2RlL3NlYzozYmZmMzU5OTNhNmQ0NDVmYjMxMzkyNjRlYjZjNDNkZV80L2ZyYWc6OGFmNTYzNzU5MzIwNDkzZmE2ZTAyYjA5YWM1MGY4YzEvdGFibGU6ODZmYWM3NGFlZmY0NGQxYzkxZjk4NGMyOTZjNzlhMGEvdGFibGVyYW5nZTo4NmZhYzc0YWVmZjQ0ZDFjOTFmOTg0YzI5NmM3OWEwYV83LTEtMS0xLTE1NjYzNw_2697ef38-338e-4665-91d6-902e31c5a6d7']\n"
     ]
    },
    {
     "name": "stdout",
     "output_type": "stream",
     "text": [
      "Processing: https://www.sec.gov/Archives/edgar/data/0001373715/000137371522000024/now-20211231.htm\n"
     ]
    },
    {
     "name": "stderr",
     "output_type": "stream",
     "text": [
      "WARNING:root:Found 134 tags with IDs that were NOT in the provided facts dictionary. First 5 unmatched: ['id3VybDovL2RvY3MudjEvZG9jOmEyNzNmNjE2YWZhNzQ5YmM5ODgyMjNjZjRlYmM3ZDRlL3NlYzphMjczZjYxNmFmYTc0OWJjOTg4MjIzY2Y0ZWJjN2Q0ZV80L2ZyYWc6ZjYzOTFiODQ1YmZiNGIxMmFmZWQyYTg1YmQyY2UwMTkvdGFibGU6OTcxMGUxMTE3OTNkNDQ1NWJmMzBkYmRmZjFkODAyMmUvdGFibGVyYW5nZTo5NzEwZTExMTc5M2Q0NDU1YmYzMGRiZGZmMWQ4MDIyZV81LTEtMS0xLTI2MDk4_e873971c-7d6f-4011-aa60-9c3dd61ec9f2', 'id3VybDovL2RvY3MudjEvZG9jOmEyNzNmNjE2YWZhNzQ5YmM5ODgyMjNjZjRlYmM3ZDRlL3NlYzphMjczZjYxNmFmYTc0OWJjOTg4MjIzY2Y0ZWJjN2Q0ZV80L2ZyYWc6ZjYzOTFiODQ1YmZiNGIxMmFmZWQyYTg1YmQyY2UwMTkvdGFibGU6OTcxMGUxMTE3OTNkNDQ1NWJmMzBkYmRmZjFkODAyMmUvdGFibGVyYW5nZTo5NzEwZTExMTc5M2Q0NDU1YmYzMGRiZGZmMWQ4MDIyZV84LTEtMS0xLTI2MDk4_994e3a14-9dc0-41f2-8b1b-1e29a175ccfa', 'id3VybDovL2RvY3MudjEvZG9jOmEyNzNmNjE2YWZhNzQ5YmM5ODgyMjNjZjRlYmM3ZDRlL3NlYzphMjczZjYxNmFmYTc0OWJjOTg4MjIzY2Y0ZWJjN2Q0ZV80L2ZyYWc6ZjYzOTFiODQ1YmZiNGIxMmFmZWQyYTg1YmQyY2UwMTkvdGFibGU6OTcxMGUxMTE3OTNkNDQ1NWJmMzBkYmRmZjFkODAyMmUvdGFibGVyYW5nZTo5NzEwZTExMTc5M2Q0NDU1YmYzMGRiZGZmMWQ4MDIyZV85LTEtMS0xLTI2MDk4_bf96f623-b986-4c1d-bb72-1d8e332f3f73', 'id3VybDovL2RvY3MudjEvZG9jOmEyNzNmNjE2YWZhNzQ5YmM5ODgyMjNjZjRlYmM3ZDRlL3NlYzphMjczZjYxNmFmYTc0OWJjOTg4MjIzY2Y0ZWJjN2Q0ZV80L2ZyYWc6ZjYzOTFiODQ1YmZiNGIxMmFmZWQyYTg1YmQyY2UwMTkvdGFibGU6OTcxMGUxMTE3OTNkNDQ1NWJmMzBkYmRmZjFkODAyMmUvdGFibGVyYW5nZTo5NzEwZTExMTc5M2Q0NDU1YmYzMGRiZGZmMWQ4MDIyZV8xMC0xLTEtMS0yNjA5OA_0c8d7d46-ede1-40c9-8b7c-f7eb06fb4232', 'id3VybDovL2RvY3MudjEvZG9jOmEyNzNmNjE2YWZhNzQ5YmM5ODgyMjNjZjRlYmM3ZDRlL3NlYzphMjczZjYxNmFmYTc0OWJjOTg4MjIzY2Y0ZWJjN2Q0ZV8xMzAvZnJhZzo5MjhmMWI1M2EwOTI0ZDRhODI5ODk1YTMwNDdlZTY1Mi90ZXh0cmVnaW9uOjkyOGYxYjUzYTA5MjRkNGE4Mjk4OTVhMzA0N2VlNjUyXzM0MTk_a14896da-71a1-441d-90be-cd83911e45ce']\n"
     ]
    },
    {
     "name": "stdout",
     "output_type": "stream",
     "text": [
      "Processing: https://www.sec.gov/Archives/edgar/data/0001373715/000137371521000061/now-20201231.htm\n"
     ]
    },
    {
     "name": "stderr",
     "output_type": "stream",
     "text": [
      "WARNING:root:Found 143 tags with IDs that were NOT in the provided facts dictionary. First 5 unmatched: ['id3VybDovL2RvY3MudjEvZG9jOjczNThiOTAzOWE3NDQxNmI4MDhlNzMzMmNhMDA5NWMxL3NlYzo3MzU4YjkwMzlhNzQ0MTZiODA4ZTczMzJjYTAwOTVjMV80L2ZyYWc6MDEwY2Q3MGJkZDFmNDFiYzg3ZWQxYzNmOGQ4Mzg3NTIvdGFibGU6ZGMwNDM0YWE2MzQwNDJiZDgzYjUwZjc0MTQxNzc2NjcvdGFibGVyYW5nZTpkYzA0MzRhYTYzNDA0MmJkODNiNTBmNzQxNDE3NzY2N180LTEtMS0xLTA_6d836867-d638-43ed-8a0e-20906beaa105', 'id3VybDovL2RvY3MudjEvZG9jOjczNThiOTAzOWE3NDQxNmI4MDhlNzMzMmNhMDA5NWMxL3NlYzo3MzU4YjkwMzlhNzQ0MTZiODA4ZTczMzJjYTAwOTVjMV80L2ZyYWc6MDEwY2Q3MGJkZDFmNDFiYzg3ZWQxYzNmOGQ4Mzg3NTIvdGFibGU6ZGMwNDM0YWE2MzQwNDJiZDgzYjUwZjc0MTQxNzc2NjcvdGFibGVyYW5nZTpkYzA0MzRhYTYzNDA0MmJkODNiNTBmNzQxNDE3NzY2N181LTEtMS0xLTA_711403f2-f48c-4cfa-ba83-cd907f1c0c22', 'id3VybDovL2RvY3MudjEvZG9jOjczNThiOTAzOWE3NDQxNmI4MDhlNzMzMmNhMDA5NWMxL3NlYzo3MzU4YjkwMzlhNzQ0MTZiODA4ZTczMzJjYTAwOTVjMV80L2ZyYWc6MDEwY2Q3MGJkZDFmNDFiYzg3ZWQxYzNmOGQ4Mzg3NTIvdGFibGU6ZGMwNDM0YWE2MzQwNDJiZDgzYjUwZjc0MTQxNzc2NjcvdGFibGVyYW5nZTpkYzA0MzRhYTYzNDA0MmJkODNiNTBmNzQxNDE3NzY2N184LTEtMS0xLTA_a209bdb9-1a49-4058-82d8-4db8d5a87ec8', 'id3VybDovL2RvY3MudjEvZG9jOjczNThiOTAzOWE3NDQxNmI4MDhlNzMzMmNhMDA5NWMxL3NlYzo3MzU4YjkwMzlhNzQ0MTZiODA4ZTczMzJjYTAwOTVjMV80L2ZyYWc6MDEwY2Q3MGJkZDFmNDFiYzg3ZWQxYzNmOGQ4Mzg3NTIvdGFibGU6ZGMwNDM0YWE2MzQwNDJiZDgzYjUwZjc0MTQxNzc2NjcvdGFibGVyYW5nZTpkYzA0MzRhYTYzNDA0MmJkODNiNTBmNzQxNDE3NzY2N185LTEtMS0xLTA_15d460d7-d85a-4ffa-a99a-8e81d5f3606d', 'id3VybDovL2RvY3MudjEvZG9jOjczNThiOTAzOWE3NDQxNmI4MDhlNzMzMmNhMDA5NWMxL3NlYzo3MzU4YjkwMzlhNzQ0MTZiODA4ZTczMzJjYTAwOTVjMV80L2ZyYWc6MDEwY2Q3MGJkZDFmNDFiYzg3ZWQxYzNmOGQ4Mzg3NTIvdGFibGU6ZGMwNDM0YWE2MzQwNDJiZDgzYjUwZjc0MTQxNzc2NjcvdGFibGVyYW5nZTpkYzA0MzRhYTYzNDA0MmJkODNiNTBmNzQxNDE3NzY2N18xMC0xLTEtMS0w_14f4c959-6c56-4f10-a62c-2b27709d95c1']\n"
     ]
    },
    {
     "name": "stdout",
     "output_type": "stream",
     "text": [
      "Processing: https://www.sec.gov/Archives/edgar/data/0001477333/000147733325000043/cloud-20241231.htm\n"
     ]
    },
    {
     "name": "stderr",
     "output_type": "stream",
     "text": [
      "WARNING:root:Found 247 tags with IDs that were NOT in the provided facts dictionary. First 5 unmatched: ['f-33', 'f-34', 'f-35', 'f-36', 'f-523']\n"
     ]
    },
    {
     "name": "stdout",
     "output_type": "stream",
     "text": [
      "Processing: https://www.sec.gov/Archives/edgar/data/0001477333/000147733324000013/cloud-20231231.htm\n"
     ]
    },
    {
     "name": "stderr",
     "output_type": "stream",
     "text": [
      "WARNING:root:Found 260 tags with IDs that were NOT in the provided facts dictionary. First 5 unmatched: ['f-33', 'f-34', 'f-35', 'f-36', 'f-540']\n"
     ]
    },
    {
     "name": "stdout",
     "output_type": "stream",
     "text": [
      "Processing: https://www.sec.gov/Archives/edgar/data/0001477333/000147733323000017/cloud-20221231.htm\n"
     ]
    },
    {
     "name": "stderr",
     "output_type": "stream",
     "text": [
      "WARNING:root:Found 247 tags with IDs that were NOT in the provided facts dictionary. First 5 unmatched: ['id3VybDovL2RvY3MudjEvZG9jOjkyOWFhYzBjYTQ5NDQ4ODJiYjEwYTRkYzc5ZDdhOThjL3NlYzo5MjlhYWMwY2E0OTQ0ODgyYmIxMGE0ZGM3OWQ3YTk4Y180L2ZyYWc6ZjFlZmYyNjcwNzRiNDVhNDhiNGE2N2E0MjBhOGQ4ZDQvdGFibGU6MDdlODM4MWM2MDIwNGEzMjk1MTlkYjJkZGMwNmVlNDAvdGFibGVyYW5nZTowN2U4MzgxYzYwMjA0YTMyOTUxOWRiMmRkYzA2ZWU0MF8wLTEtMS0xLTExNzIxMw_4d9e3259-65ba-4347-aa4c-403e1c4c8366', 'id3VybDovL2RvY3MudjEvZG9jOjkyOWFhYzBjYTQ5NDQ4ODJiYjEwYTRkYzc5ZDdhOThjL3NlYzo5MjlhYWMwY2E0OTQ0ODgyYmIxMGE0ZGM3OWQ3YTk4Y180L2ZyYWc6ZjFlZmYyNjcwNzRiNDVhNDhiNGE2N2E0MjBhOGQ4ZDQvdGFibGU6MDdlODM4MWM2MDIwNGEzMjk1MTlkYjJkZGMwNmVlNDAvdGFibGVyYW5nZTowN2U4MzgxYzYwMjA0YTMyOTUxOWRiMmRkYzA2ZWU0MF8xLTEtMS0xLTExNzIxMw_f0c9cbfb-8e55-4518-a353-9a1c973be3a0', 'id3VybDovL2RvY3MudjEvZG9jOjkyOWFhYzBjYTQ5NDQ4ODJiYjEwYTRkYzc5ZDdhOThjL3NlYzo5MjlhYWMwY2E0OTQ0ODgyYmIxMGE0ZGM3OWQ3YTk4Y180L2ZyYWc6ZjFlZmYyNjcwNzRiNDVhNDhiNGE2N2E0MjBhOGQ4ZDQvdGFibGU6MDdlODM4MWM2MDIwNGEzMjk1MTlkYjJkZGMwNmVlNDAvdGFibGVyYW5nZTowN2U4MzgxYzYwMjA0YTMyOTUxOWRiMmRkYzA2ZWU0MF8yLTEtMS0xLTExNzIxMw_452a05c5-bc79-4ba4-8bb0-b6f45a88e8a1', 'id3VybDovL2RvY3MudjEvZG9jOjkyOWFhYzBjYTQ5NDQ4ODJiYjEwYTRkYzc5ZDdhOThjL3NlYzo5MjlhYWMwY2E0OTQ0ODgyYmIxMGE0ZGM3OWQ3YTk4Y180L2ZyYWc6ZjFlZmYyNjcwNzRiNDVhNDhiNGE2N2E0MjBhOGQ4ZDQvdGFibGU6MDdlODM4MWM2MDIwNGEzMjk1MTlkYjJkZGMwNmVlNDAvdGFibGVyYW5nZTowN2U4MzgxYzYwMjA0YTMyOTUxOWRiMmRkYzA2ZWU0MF8zLTEtMS0xLTExNzIxMw_978dc1e3-f0c6-4ae5-81d2-38d798aa9964', 'id3VybDovL2RvY3MudjEvZG9jOjkyOWFhYzBjYTQ5NDQ4ODJiYjEwYTRkYzc5ZDdhOThjL3NlYzo5MjlhYWMwY2E0OTQ0ODgyYmIxMGE0ZGM3OWQ3YTk4Y18xMTIvZnJhZzoxMjUzZWNiNjJkNmQ0OGJiYTNlMjBjNDg0YTk0YzkxMC90ZXh0cmVnaW9uOjEyNTNlY2I2MmQ2ZDQ4YmJhM2UyMGM0ODRhOTRjOTEwXzYwMTE_004efed5-c5a4-4a0d-92ec-99622b5eb95c']\n"
     ]
    },
    {
     "name": "stdout",
     "output_type": "stream",
     "text": [
      "Processing: https://www.sec.gov/Archives/edgar/data/0001477333/000147733322000008/cloud-20211231.htm\n"
     ]
    },
    {
     "name": "stderr",
     "output_type": "stream",
     "text": [
      "WARNING:root:Found 237 tags with IDs that were NOT in the provided facts dictionary. First 5 unmatched: ['id3VybDovL2RvY3MudjEvZG9jOmE2OWEzYmJkZDM3NjQzMmU4MDVkZGM1YTBhZmRiMDQ5L3NlYzphNjlhM2JiZGQzNzY0MzJlODA1ZGRjNWEwYWZkYjA0OV80L2ZyYWc6OWM0ODU0OGY5NTQxNDVhMmJlYzNiMDZhNGJmMWNhZmUvdGFibGU6NDNlNzU3YjJlY2Q5NGNkY2JkOGUxMWJhMzMxZmE2NWYvdGFibGVyYW5nZTo0M2U3NTdiMmVjZDk0Y2RjYmQ4ZTExYmEzMzFmYTY1Zl8wLTEtMS0xLTE2NDA3_49155eec-1e51-468f-9930-6b8d50f70b92', 'id3VybDovL2RvY3MudjEvZG9jOmE2OWEzYmJkZDM3NjQzMmU4MDVkZGM1YTBhZmRiMDQ5L3NlYzphNjlhM2JiZGQzNzY0MzJlODA1ZGRjNWEwYWZkYjA0OV80L2ZyYWc6OWM0ODU0OGY5NTQxNDVhMmJlYzNiMDZhNGJmMWNhZmUvdGFibGU6NDNlNzU3YjJlY2Q5NGNkY2JkOGUxMWJhMzMxZmE2NWYvdGFibGVyYW5nZTo0M2U3NTdiMmVjZDk0Y2RjYmQ4ZTExYmEzMzFmYTY1Zl8xLTEtMS0xLTE2NDA3_95b19f44-4255-4461-9815-e904cb247945', 'id3VybDovL2RvY3MudjEvZG9jOmE2OWEzYmJkZDM3NjQzMmU4MDVkZGM1YTBhZmRiMDQ5L3NlYzphNjlhM2JiZGQzNzY0MzJlODA1ZGRjNWEwYWZkYjA0OV80L2ZyYWc6OWM0ODU0OGY5NTQxNDVhMmJlYzNiMDZhNGJmMWNhZmUvdGFibGU6NDNlNzU3YjJlY2Q5NGNkY2JkOGUxMWJhMzMxZmE2NWYvdGFibGVyYW5nZTo0M2U3NTdiMmVjZDk0Y2RjYmQ4ZTExYmEzMzFmYTY1Zl8yLTEtMS0xLTE2NDA3_e2be9960-b23d-422d-b5be-980fb7a4edd3', 'id3VybDovL2RvY3MudjEvZG9jOmE2OWEzYmJkZDM3NjQzMmU4MDVkZGM1YTBhZmRiMDQ5L3NlYzphNjlhM2JiZGQzNzY0MzJlODA1ZGRjNWEwYWZkYjA0OV80L2ZyYWc6OWM0ODU0OGY5NTQxNDVhMmJlYzNiMDZhNGJmMWNhZmUvdGFibGU6NDNlNzU3YjJlY2Q5NGNkY2JkOGUxMWJhMzMxZmE2NWYvdGFibGVyYW5nZTo0M2U3NTdiMmVjZDk0Y2RjYmQ4ZTExYmEzMzFmYTY1Zl8zLTEtMS0xLTE2NDA3_fe19946a-ca14-4075-84f1-72cd6961bd09', 'id3VybDovL2RvY3MudjEvZG9jOmE2OWEzYmJkZDM3NjQzMmU4MDVkZGM1YTBhZmRiMDQ5L3NlYzphNjlhM2JiZGQzNzY0MzJlODA1ZGRjNWEwYWZkYjA0OV8xMTgvZnJhZzowODZhMzljODJkNDM0ZWQ3OWU1MjZhNTRlY2ViYjg2Ny90ZXh0cmVnaW9uOjA4NmEzOWM4MmQ0MzRlZDc5ZTUyNmE1NGVjZWJiODY3XzU5Njg_fa937818-cfe7-4ae3-923e-25ede2f9fa6f']\n"
     ]
    },
    {
     "name": "stdout",
     "output_type": "stream",
     "text": [
      "Processing: https://www.sec.gov/Archives/edgar/data/0001477333/000147733321000009/cloud-20201231.htm\n"
     ]
    },
    {
     "name": "stderr",
     "output_type": "stream",
     "text": [
      "WARNING:root:Found 200 tags with IDs that were NOT in the provided facts dictionary. First 5 unmatched: ['id3VybDovL2RvY3MudjEvZG9jOmI5MmJkMDc3ZWM5ODRlMWU5MTUzOTE4Mzc1OWJlNDY3L3NlYzpiOTJiZDA3N2VjOTg0ZTFlOTE1MzkxODM3NTliZTQ2N180L2ZyYWc6YjcyZDAzNTEyYjIwNDg4YTg3OWEwZDcwYWMyODVmNjQvdGFibGU6MjMxYzJmN2I3Zjk0NDlmYmJhNzM4NWIwY2FlY2NiOTgvdGFibGVyYW5nZToyMzFjMmY3YjdmOTQ0OWZiYmE3Mzg1YjBjYWVjY2I5OF8wLTEtMS0xLTA_73ac8dfe-e367-4a0c-901f-1a400a41ea36', 'id3VybDovL2RvY3MudjEvZG9jOmI5MmJkMDc3ZWM5ODRlMWU5MTUzOTE4Mzc1OWJlNDY3L3NlYzpiOTJiZDA3N2VjOTg0ZTFlOTE1MzkxODM3NTliZTQ2N180L2ZyYWc6YjcyZDAzNTEyYjIwNDg4YTg3OWEwZDcwYWMyODVmNjQvdGFibGU6MjMxYzJmN2I3Zjk0NDlmYmJhNzM4NWIwY2FlY2NiOTgvdGFibGVyYW5nZToyMzFjMmY3YjdmOTQ0OWZiYmE3Mzg1YjBjYWVjY2I5OF8xLTEtMS0xLTA_c620629d-2344-43bc-baad-7dec4bd977f1', 'id3VybDovL2RvY3MudjEvZG9jOmI5MmJkMDc3ZWM5ODRlMWU5MTUzOTE4Mzc1OWJlNDY3L3NlYzpiOTJiZDA3N2VjOTg0ZTFlOTE1MzkxODM3NTliZTQ2N180L2ZyYWc6YjcyZDAzNTEyYjIwNDg4YTg3OWEwZDcwYWMyODVmNjQvdGFibGU6MjMxYzJmN2I3Zjk0NDlmYmJhNzM4NWIwY2FlY2NiOTgvdGFibGVyYW5nZToyMzFjMmY3YjdmOTQ0OWZiYmE3Mzg1YjBjYWVjY2I5OF8yLTEtMS0xLTA_c81f23e4-c721-44f2-883d-6464204a45e2', 'id3VybDovL2RvY3MudjEvZG9jOmI5MmJkMDc3ZWM5ODRlMWU5MTUzOTE4Mzc1OWJlNDY3L3NlYzpiOTJiZDA3N2VjOTg0ZTFlOTE1MzkxODM3NTliZTQ2N180L2ZyYWc6YjcyZDAzNTEyYjIwNDg4YTg3OWEwZDcwYWMyODVmNjQvdGFibGU6MjMxYzJmN2I3Zjk0NDlmYmJhNzM4NWIwY2FlY2NiOTgvdGFibGVyYW5nZToyMzFjMmY3YjdmOTQ0OWZiYmE3Mzg1YjBjYWVjY2I5OF8zLTEtMS0xLTA_acf842d7-d562-49e3-8432-324d52208d63', 'id3VybDovL2RvY3MudjEvZG9jOmI5MmJkMDc3ZWM5ODRlMWU5MTUzOTE4Mzc1OWJlNDY3L3NlYzpiOTJiZDA3N2VjOTg0ZTFlOTE1MzkxODM3NTliZTQ2N18xMTgvZnJhZzo0ZmY0YjMyOWZlN2Q0YTdmYmMyZTJkYjViZjJmYzU0NC90ZXh0cmVnaW9uOjRmZjRiMzI5ZmU3ZDRhN2ZiYzJlMmRiNWJmMmZjNTQ0XzIxOTkwMjM0MjUyNzc_3e7ce3b1-7a03-4937-b80e-f8b94334a339']\n"
     ]
    },
    {
     "name": "stdout",
     "output_type": "stream",
     "text": [
      "Processing: https://www.sec.gov/Archives/edgar/data/0001477333/000147733320000010/cloud-20191231.htm\n"
     ]
    },
    {
     "name": "stderr",
     "output_type": "stream",
     "text": [
      "WARNING:root:Found 181 tags with IDs that were NOT in the provided facts dictionary. First 5 unmatched: ['id3VybDovL2RvY3MudjEvZG9jOjE0MTdmYTllNzU2YTRiNWI4ODM5NzkxOTAwOWY1MGU0L3NlYzoxNDE3ZmE5ZTc1NmE0YjViODgzOTc5MTkwMDlmNTBlNF80L2ZyYWc6ZmY5M2MyMTc5MzI0NDhiN2EyZTQ2Y2Y5NWFkZTQyODkvdGFibGU6NTFhODY5YzY4YmVjNGEyOWEwNjUwNWVjMWM1YWIxMzYvdGFibGVyYW5nZTo1MWE4NjljNjhiZWM0YTI5YTA2NTA1ZWMxYzVhYjEzNl8wLTEtMS0xLTA_9efb8253-9d4f-460a-ab80-900766385202', 'id3VybDovL2RvY3MudjEvZG9jOjE0MTdmYTllNzU2YTRiNWI4ODM5NzkxOTAwOWY1MGU0L3NlYzoxNDE3ZmE5ZTc1NmE0YjViODgzOTc5MTkwMDlmNTBlNF80L2ZyYWc6ZmY5M2MyMTc5MzI0NDhiN2EyZTQ2Y2Y5NWFkZTQyODkvdGFibGU6NTFhODY5YzY4YmVjNGEyOWEwNjUwNWVjMWM1YWIxMzYvdGFibGVyYW5nZTo1MWE4NjljNjhiZWM0YTI5YTA2NTA1ZWMxYzVhYjEzNl8xLTEtMS0xLTA_76ca2d77-acfc-45e7-b2bc-3d85815f7c27', 'id3VybDovL2RvY3MudjEvZG9jOjE0MTdmYTllNzU2YTRiNWI4ODM5NzkxOTAwOWY1MGU0L3NlYzoxNDE3ZmE5ZTc1NmE0YjViODgzOTc5MTkwMDlmNTBlNF80L2ZyYWc6ZmY5M2MyMTc5MzI0NDhiN2EyZTQ2Y2Y5NWFkZTQyODkvdGFibGU6NTFhODY5YzY4YmVjNGEyOWEwNjUwNWVjMWM1YWIxMzYvdGFibGVyYW5nZTo1MWE4NjljNjhiZWM0YTI5YTA2NTA1ZWMxYzVhYjEzNl8yLTEtMS0xLTA_c8f5a877-5e00-476e-9a98-cc0559a2a17e', 'id3VybDovL2RvY3MudjEvZG9jOjE0MTdmYTllNzU2YTRiNWI4ODM5NzkxOTAwOWY1MGU0L3NlYzoxNDE3ZmE5ZTc1NmE0YjViODgzOTc5MTkwMDlmNTBlNF80L2ZyYWc6ZmY5M2MyMTc5MzI0NDhiN2EyZTQ2Y2Y5NWFkZTQyODkvdGFibGU6NTFhODY5YzY4YmVjNGEyOWEwNjUwNWVjMWM1YWIxMzYvdGFibGVyYW5nZTo1MWE4NjljNjhiZWM0YTI5YTA2NTA1ZWMxYzVhYjEzNl8zLTEtMS0xLTA_7d8ee6a9-0fec-45c6-9c21-f56ae5c7db23', 'id3VybDovL2RvY3MudjEvZG9jOjE0MTdmYTllNzU2YTRiNWI4ODM5NzkxOTAwOWY1MGU0L3NlYzoxNDE3ZmE5ZTc1NmE0YjViODgzOTc5MTkwMDlmNTBlNF80L2ZyYWc6ZmY5M2MyMTc5MzI0NDhiN2EyZTQ2Y2Y5NWFkZTQyODkvdGV4dHJlZ2lvbjpmZjkzYzIxNzkzMjQ0OGI3YTJlNDZjZjk1YWRlNDI4OV8zNw_05b1eb78-9096-4f41-ad20-dd680ffe8685']\n"
     ]
    },
    {
     "name": "stdout",
     "output_type": "stream",
     "text": [
      "Processing: https://www.sec.gov/Archives/edgar/data/0001561550/000156155025000025/ddog-20241231.htm\n"
     ]
    },
    {
     "name": "stderr",
     "output_type": "stream",
     "text": [
      "WARNING:root:Found 204 tags with IDs that were NOT in the provided facts dictionary. First 5 unmatched: ['f-34', 'f-35', 'f-36', 'f-37', 'f-1288']\n"
     ]
    },
    {
     "name": "stdout",
     "output_type": "stream",
     "text": [
      "Processing: https://www.sec.gov/Archives/edgar/data/0001561550/000156155024000009/ddog-20231231.htm\n"
     ]
    },
    {
     "name": "stderr",
     "output_type": "stream",
     "text": [
      "WARNING:root:Found 159 tags with IDs that were NOT in the provided facts dictionary. First 5 unmatched: ['f-34', 'f-35', 'f-36', 'f-37', 'f-1229']\n"
     ]
    },
    {
     "name": "stdout",
     "output_type": "stream",
     "text": [
      "Processing: https://www.sec.gov/Archives/edgar/data/0001561550/000156155023000006/ddog-20221231.htm\n"
     ]
    },
    {
     "name": "stderr",
     "output_type": "stream",
     "text": [
      "WARNING:root:Found 132 tags with IDs that were NOT in the provided facts dictionary. First 5 unmatched: ['id3VybDovL2RvY3MudjEvZG9jOjU2YjhmZGRmZTJmOTQyY2JhM2M1MzgxZjI3YmI0NmYyL3NlYzo1NmI4ZmRkZmUyZjk0MmNiYTNjNTM4MWYyN2JiNDZmMl80L2ZyYWc6NWZmODg0MmUxNjI1NDdkZGI3YWI4NmQ5ZjQ4MTcwM2EvdGFibGU6YTM4ZTM5YTYzN2FhNGRkMjg0MTk1MzAwYWVjODI4MzIvdGFibGVyYW5nZTphMzhlMzlhNjM3YWE0ZGQyODQxOTUzMDBhZWM4MjgzMl8yLTEtMS0xLTkyMzQ2_95cd3fe7-476e-4094-8cc2-e6547ffaa35d', 'id3VybDovL2RvY3MudjEvZG9jOjU2YjhmZGRmZTJmOTQyY2JhM2M1MzgxZjI3YmI0NmYyL3NlYzo1NmI4ZmRkZmUyZjk0MmNiYTNjNTM4MWYyN2JiNDZmMl80L2ZyYWc6NWZmODg0MmUxNjI1NDdkZGI3YWI4NmQ5ZjQ4MTcwM2EvdGFibGU6YTM4ZTM5YTYzN2FhNGRkMjg0MTk1MzAwYWVjODI4MzIvdGFibGVyYW5nZTphMzhlMzlhNjM3YWE0ZGQyODQxOTUzMDBhZWM4MjgzMl8zLTEtMS0xLTkyMzQ2_cfbdada6-5372-49a4-b982-47ce77e87765', 'id3VybDovL2RvY3MudjEvZG9jOjU2YjhmZGRmZTJmOTQyY2JhM2M1MzgxZjI3YmI0NmYyL3NlYzo1NmI4ZmRkZmUyZjk0MmNiYTNjNTM4MWYyN2JiNDZmMl80L2ZyYWc6NWZmODg0MmUxNjI1NDdkZGI3YWI4NmQ5ZjQ4MTcwM2EvdGFibGU6YTM4ZTM5YTYzN2FhNGRkMjg0MTk1MzAwYWVjODI4MzIvdGFibGVyYW5nZTphMzhlMzlhNjM3YWE0ZGQyODQxOTUzMDBhZWM4MjgzMl80LTEtMS0xLTkyMzQ2_29d14efb-8752-47b5-8002-7204cfb9e1da', 'id3VybDovL2RvY3MudjEvZG9jOjU2YjhmZGRmZTJmOTQyY2JhM2M1MzgxZjI3YmI0NmYyL3NlYzo1NmI4ZmRkZmUyZjk0MmNiYTNjNTM4MWYyN2JiNDZmMl80L2ZyYWc6NWZmODg0MmUxNjI1NDdkZGI3YWI4NmQ5ZjQ4MTcwM2EvdGFibGU6YTM4ZTM5YTYzN2FhNGRkMjg0MTk1MzAwYWVjODI4MzIvdGFibGVyYW5nZTphMzhlMzlhNjM3YWE0ZGQyODQxOTUzMDBhZWM4MjgzMl81LTEtMS0xLTkyMzQ2_b3908e0c-8da3-44b4-93fe-2951eb7cf0f7', 'id3VybDovL2RvY3MudjEvZG9jOjU2YjhmZGRmZTJmOTQyY2JhM2M1MzgxZjI3YmI0NmYyL3NlYzo1NmI4ZmRkZmUyZjk0MmNiYTNjNTM4MWYyN2JiNDZmMl8xL2ZyYWc6MTBiMmRkZjAxMTMyNGY1M2FhYmI1MjhjMTI0ZWQ1NzQvdGV4dHJlZ2lvbjoxMGIyZGRmMDExMzI0ZjUzYWFiYjUyOGMxMjRlZDU3NF8zNDc2_8b59d9e6-b43b-443c-aeab-7a66531c8d13']\n"
     ]
    },
    {
     "name": "stdout",
     "output_type": "stream",
     "text": [
      "Processing: https://www.sec.gov/Archives/edgar/data/0001561550/000156155022000009/ddog-20211231.htm\n"
     ]
    },
    {
     "name": "stderr",
     "output_type": "stream",
     "text": [
      "WARNING:root:Found 143 tags with IDs that were NOT in the provided facts dictionary. First 5 unmatched: ['id3VybDovL2RvY3MudjEvZG9jOmRkOWNmNzMzYWZiNzQ0OGFiYTMzMzE4OTE0MDEyNDEyL3NlYzpkZDljZjczM2FmYjc0NDhhYmEzMzMxODkxNDAxMjQxMl80L2ZyYWc6ZTU5Mjk4NmJiODg5NDk4NmIzMjZhMjk2ZjY5ODQ2ZmMvdGFibGU6M2RjNDlhZmUyMjgzNGM1MGIxYzQxZTE4Y2I2NjMxYjUvdGFibGVyYW5nZTozZGM0OWFmZTIyODM0YzUwYjFjNDFlMThjYjY2MzFiNV80LTEtMS0xLTI1NjU1_50960b71-b213-4f95-b40c-f04e6cd882da', 'id3VybDovL2RvY3MudjEvZG9jOmRkOWNmNzMzYWZiNzQ0OGFiYTMzMzE4OTE0MDEyNDEyL3NlYzpkZDljZjczM2FmYjc0NDhhYmEzMzMxODkxNDAxMjQxMl80L2ZyYWc6ZTU5Mjk4NmJiODg5NDk4NmIzMjZhMjk2ZjY5ODQ2ZmMvdGFibGU6M2RjNDlhZmUyMjgzNGM1MGIxYzQxZTE4Y2I2NjMxYjUvdGFibGVyYW5nZTozZGM0OWFmZTIyODM0YzUwYjFjNDFlMThjYjY2MzFiNV85LTEtMS0xLTI1NjU1_bfe3c2ec-0694-431d-982f-a64b6fb61f3a', 'id3VybDovL2RvY3MudjEvZG9jOmRkOWNmNzMzYWZiNzQ0OGFiYTMzMzE4OTE0MDEyNDEyL3NlYzpkZDljZjczM2FmYjc0NDhhYmEzMzMxODkxNDAxMjQxMl80L2ZyYWc6ZTU5Mjk4NmJiODg5NDk4NmIzMjZhMjk2ZjY5ODQ2ZmMvdGFibGU6M2RjNDlhZmUyMjgzNGM1MGIxYzQxZTE4Y2I2NjMxYjUvdGFibGVyYW5nZTozZGM0OWFmZTIyODM0YzUwYjFjNDFlMThjYjY2MzFiNV8xMC0xLTEtMS0yNTY1NQ_76868185-2a14-461b-a3f5-9289516610e3', 'id3VybDovL2RvY3MudjEvZG9jOmRkOWNmNzMzYWZiNzQ0OGFiYTMzMzE4OTE0MDEyNDEyL3NlYzpkZDljZjczM2FmYjc0NDhhYmEzMzMxODkxNDAxMjQxMl80L2ZyYWc6ZTU5Mjk4NmJiODg5NDk4NmIzMjZhMjk2ZjY5ODQ2ZmMvdGFibGU6M2RjNDlhZmUyMjgzNGM1MGIxYzQxZTE4Y2I2NjMxYjUvdGFibGVyYW5nZTozZGM0OWFmZTIyODM0YzUwYjFjNDFlMThjYjY2MzFiNV8xMy0xLTEtMS0yNTY1NQ_b78a3611-c97c-43fe-9ad4-81d47b33cbdf', 'id3VybDovL2RvY3MudjEvZG9jOmRkOWNmNzMzYWZiNzQ0OGFiYTMzMzE4OTE0MDEyNDEyL3NlYzpkZDljZjczM2FmYjc0NDhhYmEzMzMxODkxNDAxMjQxMl8xL2ZyYWc6ZTIzMTUzYmI0MTEzNDJmM2FlYzJhOTNhNjNlMDIzNjgvdGV4dHJlZ2lvbjplMjMxNTNiYjQxMTM0MmYzYWVjMmE5M2E2M2UwMjM2OF8zODQ4MjkwNzAwODA4_26f9a363-9faf-4a16-a591-dc05b8e81c00']\n"
     ]
    },
    {
     "name": "stdout",
     "output_type": "stream",
     "text": [
      "Processing: https://www.sec.gov/Archives/edgar/data/0001561550/000156459021009770/ddog-10k_20201231.htm\n",
      "  ERROR processing https://www.sec.gov/Archives/edgar/data/0001561550/000156459021009770/ddog-10k_20201231.htm: not well-formed (invalid token): line 7, column 2\n",
      "Processing complete.\n",
      "Final Numeric DF shape: (42969, 13)\n",
      "Final Text DF shape: (6620, 11)\n"
     ]
    }
   ],
   "source": [
    "from alphaledger.process_xbrl import (\n",
    "    IXBRLDocumentParser,\n",
    "    TARGET_SCHEMA_NUMERIC_POLARS,\n",
    "    TARGET_SCHEMA_TEXT_POLARS\n",
    ")\n",
    "import polars as pl\n",
    "\n",
    "# Initialize two accumulators with correct schemas\n",
    "all_numeric_facts_df = pl.DataFrame(schema=TARGET_SCHEMA_NUMERIC_POLARS)\n",
    "all_text_facts_df = pl.DataFrame(schema=TARGET_SCHEMA_TEXT_POLARS)\n",
    "\n",
    "# Initialize parser once (assuming 'cache' is your HttpCache object)\n",
    "doc_parser = IXBRLDocumentParser(cache)\n",
    "\n",
    "for record in filings_df.iter_rows(named=True):\n",
    "    url = record[\"xbrl_instance_url\"]\n",
    "    print(f\"Processing: {url}\")\n",
    "    try:\n",
    "        inst = parser.parse_instance(url)\n",
    "        if not inst:\n",
    "            print(f\"  Skipping {url}: Instance parsing failed.\")\n",
    "            continue\n",
    "\n",
    "        # Parse the document structure\n",
    "        document = doc_parser.parse(xbrl_instance=inst)\n",
    "\n",
    "        # Create the two separate DataFrames\n",
    "        numeric_df = document.to_numeric_dataframe()\n",
    "        text_df = document.to_text_dataframe()\n",
    "\n",
    "        # Concatenate into respective accumulators\n",
    "        if not numeric_df.is_empty():\n",
    "            all_numeric_facts_df = pl.concat([all_numeric_facts_df, numeric_df], how=\"vertical\") # Use 'vertical' - schemas should match\n",
    "        if not text_df.is_empty():\n",
    "            all_text_facts_df = pl.concat([all_text_facts_df, text_df], how=\"vertical\") # Use 'vertical'\n",
    "\n",
    "    except Exception as e:\n",
    "        print(f\"  ERROR processing {url}: {e}\")\n",
    "        # import traceback\n",
    "        # traceback.print_exc()\n",
    "\n",
    "print(\"Processing complete.\")\n",
    "print(f\"Final Numeric DF shape: {all_numeric_facts_df.shape}\")\n",
    "print(f\"Final Text DF shape: {all_text_facts_df.shape}\")\n"
   ]
  },
  {
   "cell_type": "code",
   "execution_count": 14,
   "metadata": {},
   "outputs": [],
   "source": [
    "all_numeric_facts_df.write_delta(settings.output_dir / \"numeric_facts\")"
   ]
  },
  {
   "cell_type": "code",
   "execution_count": 15,
   "metadata": {},
   "outputs": [],
   "source": [
    "all_text_facts_df.write_delta(settings.output_dir / \"text_facts\")"
   ]
  },
  {
   "cell_type": "code",
   "execution_count": 51,
   "metadata": {},
   "outputs": [
    {
     "name": "stderr",
     "output_type": "stream",
     "text": [
      "/Users/forrest.murray/Documents/alphaledger/src/alphaledger/formatter.py:143: MarkupResemblesLocatorWarning: The input passed in on this line looks more like a URL than HTML or XML.\n",
      "\n",
      "If you meant to use Beautiful Soup to parse the web page found at a certain URL, then something has gone wrong. You should use an Python package like 'requests' to fetch the content behind the URL. Once you have the content as a string, you can feed that string into Beautiful Soup.\n",
      "\n",
      "However, if you want to parse some data that happens to look like a URL, then nothing has gone wrong: you are using Beautiful Soup correctly, and this warning is spurious and can be filtered. To make this warning go away, run this code before calling the BeautifulSoup constructor:\n",
      "\n",
      "    from bs4 import MarkupResemblesLocatorWarning\n",
      "    import warnings\n",
      "\n",
      "    warnings.filterwarnings(\"ignore\", category=MarkupResemblesLocatorWarning)\n",
      "    \n",
      "  \n"
     ]
    }
   ],
   "source": [
    "from alphaledger.formatter import MarkdownFormatter\n",
    "\n",
    "with open(\"output.md\", \"w\") as f:\n",
    "    f.write(document.to_string(MarkdownFormatter()))"
   ]
  },
  {
   "cell_type": "code",
   "execution_count": 11,
   "metadata": {},
   "outputs": [
    {
     "data": {
      "text/html": [
       "<div><style>\n",
       ".dataframe > thead > tr,\n",
       ".dataframe > tbody > tr {\n",
       "  text-align: right;\n",
       "  white-space: pre-wrap;\n",
       "}\n",
       "</style>\n",
       "<small>shape: (801, 8)</small><table border=\"1\" class=\"dataframe\"><thead><tr><th>concept_name</th><th>concept_namespace</th><th>fact_value</th><th>fact_type</th><th>section_name</th><th>context_entity</th><th>metadata</th><th>unit</th></tr><tr><td>str</td><td>str</td><td>f64</td><td>str</td><td>str</td><td>str</td><td>struct[1]</td><td>str</td></tr></thead><tbody><tr><td>&quot;DerivativeAssetStatementOfFina…</td><td>&quot;elts&quot;</td><td>null</td><td>&quot;TextFact&quot;</td><td>&quot;Document Start&quot;</td><td>&quot;0001018724&quot;</td><td>{null}</td><td>null</td></tr><tr><td>&quot;DerivativeAssetStatementOfFina…</td><td>&quot;elts&quot;</td><td>null</td><td>&quot;TextFact&quot;</td><td>&quot;Document Start&quot;</td><td>&quot;0001018724&quot;</td><td>{null}</td><td>null</td></tr><tr><td>&quot;PropertyPlantAndEquipmentUsefu…</td><td>&quot;elts&quot;</td><td>null</td><td>&quot;TextFact&quot;</td><td>&quot;Document Start&quot;</td><td>&quot;0001018724&quot;</td><td>{null}</td><td>null</td></tr><tr><td>&quot;FinanceLeaseRightOfUseAssetSta…</td><td>&quot;elts&quot;</td><td>null</td><td>&quot;TextFact&quot;</td><td>&quot;Document Start&quot;</td><td>&quot;0001018724&quot;</td><td>{null}</td><td>null</td></tr><tr><td>&quot;FinanceLeaseRightOfUseAssetSta…</td><td>&quot;elts&quot;</td><td>null</td><td>&quot;TextFact&quot;</td><td>&quot;Document Start&quot;</td><td>&quot;0001018724&quot;</td><td>{null}</td><td>null</td></tr><tr><td>&hellip;</td><td>&hellip;</td><td>&hellip;</td><td>&hellip;</td><td>&hellip;</td><td>&hellip;</td><td>&hellip;</td><td>&hellip;</td></tr><tr><td>&quot;Depreciation&quot;</td><td>&quot;elts&quot;</td><td>9.8760e9</td><td>&quot;NumericFact&quot;</td><td>&quot;Document Start&quot;</td><td>&quot;0001018724&quot;</td><td>{-6}</td><td>&quot;iso4217:USD&quot;</td></tr><tr><td>&quot;Depreciation&quot;</td><td>&quot;elts&quot;</td><td>1.2531e10</td><td>&quot;NumericFact&quot;</td><td>&quot;Document Start&quot;</td><td>&quot;0001018724&quot;</td><td>{-6}</td><td>&quot;iso4217:USD&quot;</td></tr><tr><td>&quot;Depreciation&quot;</td><td>&quot;elts&quot;</td><td>2.2909e10</td><td>&quot;NumericFact&quot;</td><td>&quot;Document Start&quot;</td><td>&quot;0001018724&quot;</td><td>{-6}</td><td>&quot;iso4217:USD&quot;</td></tr><tr><td>&quot;Depreciation&quot;</td><td>&quot;elts&quot;</td><td>2.4924e10</td><td>&quot;NumericFact&quot;</td><td>&quot;Document Start&quot;</td><td>&quot;0001018724&quot;</td><td>{-6}</td><td>&quot;iso4217:USD&quot;</td></tr><tr><td>&quot;Depreciation&quot;</td><td>&quot;elts&quot;</td><td>3.0225e10</td><td>&quot;NumericFact&quot;</td><td>&quot;Document Start&quot;</td><td>&quot;0001018724&quot;</td><td>{-6}</td><td>&quot;iso4217:USD&quot;</td></tr></tbody></table></div>"
      ],
      "text/plain": [
       "shape: (801, 8)\n",
       "┌────────────┬────────────┬────────────┬───────────┬───────────┬───────────┬───────────┬───────────┐\n",
       "│ concept_na ┆ concept_na ┆ fact_value ┆ fact_type ┆ section_n ┆ context_e ┆ metadata  ┆ unit      │\n",
       "│ me         ┆ mespace    ┆ ---        ┆ ---       ┆ ame       ┆ ntity     ┆ ---       ┆ ---       │\n",
       "│ ---        ┆ ---        ┆ f64        ┆ str       ┆ ---       ┆ ---       ┆ struct[1] ┆ str       │\n",
       "│ str        ┆ str        ┆            ┆           ┆ str       ┆ str       ┆           ┆           │\n",
       "╞════════════╪════════════╪════════════╪═══════════╪═══════════╪═══════════╪═══════════╪═══════════╡\n",
       "│ Derivative ┆ elts       ┆ null       ┆ TextFact  ┆ Document  ┆ 000101872 ┆ {null}    ┆ null      │\n",
       "│ AssetState ┆            ┆            ┆           ┆ Start     ┆ 4         ┆           ┆           │\n",
       "│ mentOfFina ┆            ┆            ┆           ┆           ┆           ┆           ┆           │\n",
       "│ …          ┆            ┆            ┆           ┆           ┆           ┆           ┆           │\n",
       "│ Derivative ┆ elts       ┆ null       ┆ TextFact  ┆ Document  ┆ 000101872 ┆ {null}    ┆ null      │\n",
       "│ AssetState ┆            ┆            ┆           ┆ Start     ┆ 4         ┆           ┆           │\n",
       "│ mentOfFina ┆            ┆            ┆           ┆           ┆           ┆           ┆           │\n",
       "│ …          ┆            ┆            ┆           ┆           ┆           ┆           ┆           │\n",
       "│ PropertyPl ┆ elts       ┆ null       ┆ TextFact  ┆ Document  ┆ 000101872 ┆ {null}    ┆ null      │\n",
       "│ antAndEqui ┆            ┆            ┆           ┆ Start     ┆ 4         ┆           ┆           │\n",
       "│ pmentUsefu ┆            ┆            ┆           ┆           ┆           ┆           ┆           │\n",
       "│ …          ┆            ┆            ┆           ┆           ┆           ┆           ┆           │\n",
       "│ FinanceLea ┆ elts       ┆ null       ┆ TextFact  ┆ Document  ┆ 000101872 ┆ {null}    ┆ null      │\n",
       "│ seRightOfU ┆            ┆            ┆           ┆ Start     ┆ 4         ┆           ┆           │\n",
       "│ seAssetSta ┆            ┆            ┆           ┆           ┆           ┆           ┆           │\n",
       "│ …          ┆            ┆            ┆           ┆           ┆           ┆           ┆           │\n",
       "│ FinanceLea ┆ elts       ┆ null       ┆ TextFact  ┆ Document  ┆ 000101872 ┆ {null}    ┆ null      │\n",
       "│ seRightOfU ┆            ┆            ┆           ┆ Start     ┆ 4         ┆           ┆           │\n",
       "│ seAssetSta ┆            ┆            ┆           ┆           ┆           ┆           ┆           │\n",
       "│ …          ┆            ┆            ┆           ┆           ┆           ┆           ┆           │\n",
       "│ …          ┆ …          ┆ …          ┆ …         ┆ …         ┆ …         ┆ …         ┆ …         │\n",
       "│ Depreciati ┆ elts       ┆ 9.8760e9   ┆ NumericFa ┆ Document  ┆ 000101872 ┆ {-6}      ┆ iso4217:U │\n",
       "│ on         ┆            ┆            ┆ ct        ┆ Start     ┆ 4         ┆           ┆ SD        │\n",
       "│ Depreciati ┆ elts       ┆ 1.2531e10  ┆ NumericFa ┆ Document  ┆ 000101872 ┆ {-6}      ┆ iso4217:U │\n",
       "│ on         ┆            ┆            ┆ ct        ┆ Start     ┆ 4         ┆           ┆ SD        │\n",
       "│ Depreciati ┆ elts       ┆ 2.2909e10  ┆ NumericFa ┆ Document  ┆ 000101872 ┆ {-6}      ┆ iso4217:U │\n",
       "│ on         ┆            ┆            ┆ ct        ┆ Start     ┆ 4         ┆           ┆ SD        │\n",
       "│ Depreciati ┆ elts       ┆ 2.4924e10  ┆ NumericFa ┆ Document  ┆ 000101872 ┆ {-6}      ┆ iso4217:U │\n",
       "│ on         ┆            ┆            ┆ ct        ┆ Start     ┆ 4         ┆           ┆ SD        │\n",
       "│ Depreciati ┆ elts       ┆ 3.0225e10  ┆ NumericFa ┆ Document  ┆ 000101872 ┆ {-6}      ┆ iso4217:U │\n",
       "│ on         ┆            ┆            ┆ ct        ┆ Start     ┆ 4         ┆           ┆ SD        │\n",
       "└────────────┴────────────┴────────────┴───────────┴───────────┴───────────┴───────────┴───────────┘"
      ]
     },
     "execution_count": 11,
     "metadata": {},
     "output_type": "execute_result"
    }
   ],
   "source": [
    "facts_df = document.to_dataframe(format=\"polars\")\n",
    "facts_df"
   ]
  },
  {
   "cell_type": "code",
   "execution_count": 17,
   "metadata": {},
   "outputs": [
    {
     "name": "stderr",
     "output_type": "stream",
     "text": [
      "INFO:alphaledger.universe:Loading universe definition from: /Users/forrest.murray/Documents/alphaledger/universes/sectors/cloud_computing.yaml\n",
      "INFO:alphaledger.universe:Found existing filings metadata file: /Users/forrest.murray/Documents/alphaledger/output/sec_filings/Cloud_Computing_Giants.delta. Initializing LazyFrame.\n",
      "INFO:alphaledger.universe:Initialized Universe 'Cloud_Computing_Giants' from /Users/forrest.murray/Documents/alphaledger/universes/sectors/cloud_computing.yaml with 16 securities. Filings metadata status: Detected.\n"
     ]
    }
   ],
   "source": [
    "from alphaledger.universe import Universe\n",
    "from alphaledger.config import settings\n",
    "\n",
    "universe = Universe(settings.universe_name)\n",
    "# filings_df = universe.get_filings()\n",
    "\n",
    "# numeric_df, text_df = process_filing_urls(filings_df)"
   ]
  },
  {
   "cell_type": "code",
   "execution_count": 18,
   "metadata": {},
   "outputs": [
    {
     "name": "stderr",
     "output_type": "stream",
     "text": [
      "INFO:alphaledger.universe:Cache miss: No cached numeric facts found for IBM at /Users/forrest.murray/Documents/alphaledger/output/numeric_facts/Cloud_Computing_Giants.delta. Processing required.\n",
      "INFO:alphaledger.universe:Fetching numeric facts for IBM in universe 'Cloud_Computing_Giants'...\n",
      "INFO:alphaledger.universe:Found 6 filings for IBM. Processing XBRL...\n",
      "INFO:alphaledger.process_xbrl:[process_filing_urls_direct] Starting direct fact extraction.\n",
      "INFO:alphaledger.process_xbrl:[_direct_fact_to_row] Fact EntityPublicFloat: Found InstantContext - Instant: 2024-06-30 (Type: <class 'datetime.date'>)\n",
      "INFO:alphaledger.process_xbrl:[_direct_fact_to_row] Fact EntityCommonStockSharesOutstanding: Found InstantContext - Instant: 2025-02-10 (Type: <class 'datetime.date'>)\n",
      "INFO:alphaledger.process_xbrl:[_direct_fact_to_row] Fact ValuationAllowancesAndReservesBalance: Found InstantContext - Instant: 2023-12-31 (Type: <class 'datetime.date'>)\n",
      "INFO:alphaledger.process_xbrl:[_direct_fact_to_row] Fact ValuationAllowancesAndReservesChargedToCostAndExpense: Found TimeFrameContext - Start: 2024-01-01 (Type: <class 'datetime.date'>), End: 2024-12-31 (Type: <class 'datetime.date'>)\n",
      "INFO:alphaledger.process_xbrl:[_direct_fact_to_row] Fact ValuationAllowancesAndReservesDeductions: Found TimeFrameContext - Start: 2024-01-01 (Type: <class 'datetime.date'>), End: 2024-12-31 (Type: <class 'datetime.date'>)\n",
      "INFO:alphaledger.process_xbrl:[_direct_fact_to_row] Fact ValuationAllowancesAndReservesAdjustments: Found TimeFrameContext - Start: 2024-01-01 (Type: <class 'datetime.date'>), End: 2024-12-31 (Type: <class 'datetime.date'>)\n",
      "INFO:alphaledger.process_xbrl:[_direct_fact_to_row] Fact ValuationAllowancesAndReservesBalance: Found InstantContext - Instant: 2024-12-31 (Type: <class 'datetime.date'>)\n",
      "INFO:alphaledger.process_xbrl:[_direct_fact_to_row] Fact ValuationAllowancesAndReservesBalance: Found InstantContext - Instant: 2023-12-31 (Type: <class 'datetime.date'>)\n",
      "INFO:alphaledger.process_xbrl:[_direct_fact_to_row] Fact ValuationAllowancesAndReservesChargedToCostAndExpense: Found TimeFrameContext - Start: 2024-01-01 (Type: <class 'datetime.date'>), End: 2024-12-31 (Type: <class 'datetime.date'>)\n",
      "INFO:alphaledger.process_xbrl:[_direct_fact_to_row] Fact ValuationAllowancesAndReservesDeductions: Found TimeFrameContext - Start: 2024-01-01 (Type: <class 'datetime.date'>), End: 2024-12-31 (Type: <class 'datetime.date'>)\n",
      "INFO:alphaledger.process_xbrl:[_direct_fact_to_row] Fact ValuationAllowancesAndReservesAdjustments: Found TimeFrameContext - Start: 2024-01-01 (Type: <class 'datetime.date'>), End: 2024-12-31 (Type: <class 'datetime.date'>)\n",
      "INFO:alphaledger.process_xbrl:[_direct_fact_to_row] Fact ValuationAllowancesAndReservesBalance: Found InstantContext - Instant: 2024-12-31 (Type: <class 'datetime.date'>)\n",
      "INFO:alphaledger.process_xbrl:[_direct_fact_to_row] Fact ValuationAllowancesAndReservesBalance: Found InstantContext - Instant: 2022-12-31 (Type: <class 'datetime.date'>)\n",
      "INFO:alphaledger.process_xbrl:[_direct_fact_to_row] Fact ValuationAllowancesAndReservesChargedToCostAndExpense: Found TimeFrameContext - Start: 2023-01-01 (Type: <class 'datetime.date'>), End: 2023-12-31 (Type: <class 'datetime.date'>)\n",
      "INFO:alphaledger.process_xbrl:[_direct_fact_to_row] Fact ValuationAllowancesAndReservesDeductions: Found TimeFrameContext - Start: 2023-01-01 (Type: <class 'datetime.date'>), End: 2023-12-31 (Type: <class 'datetime.date'>)\n",
      "INFO:alphaledger.process_xbrl:[_direct_fact_to_row] Fact ValuationAllowancesAndReservesAdjustments: Found TimeFrameContext - Start: 2023-01-01 (Type: <class 'datetime.date'>), End: 2023-12-31 (Type: <class 'datetime.date'>)\n",
      "INFO:alphaledger.process_xbrl:[_direct_fact_to_row] Fact ValuationAllowancesAndReservesBalance: Found InstantContext - Instant: 2023-12-31 (Type: <class 'datetime.date'>)\n",
      "INFO:alphaledger.process_xbrl:[_direct_fact_to_row] Fact ValuationAllowancesAndReservesBalance: Found InstantContext - Instant: 2022-12-31 (Type: <class 'datetime.date'>)\n",
      "INFO:alphaledger.process_xbrl:[_direct_fact_to_row] Fact ValuationAllowancesAndReservesChargedToCostAndExpense: Found TimeFrameContext - Start: 2023-01-01 (Type: <class 'datetime.date'>), End: 2023-12-31 (Type: <class 'datetime.date'>)\n",
      "INFO:alphaledger.process_xbrl:[_direct_fact_to_row] Fact ValuationAllowancesAndReservesDeductions: Found TimeFrameContext - Start: 2023-01-01 (Type: <class 'datetime.date'>), End: 2023-12-31 (Type: <class 'datetime.date'>)\n",
      "INFO:alphaledger.process_xbrl:[_direct_fact_to_row] Fact ValuationAllowancesAndReservesAdjustments: Found TimeFrameContext - Start: 2023-01-01 (Type: <class 'datetime.date'>), End: 2023-12-31 (Type: <class 'datetime.date'>)\n",
      "INFO:alphaledger.process_xbrl:[_direct_fact_to_row] Fact ValuationAllowancesAndReservesBalance: Found InstantContext - Instant: 2023-12-31 (Type: <class 'datetime.date'>)\n",
      "INFO:alphaledger.process_xbrl:[_direct_fact_to_row] Fact ValuationAllowancesAndReservesBalance: Found InstantContext - Instant: 2021-12-31 (Type: <class 'datetime.date'>)\n",
      "INFO:alphaledger.process_xbrl:[_direct_fact_to_row] Fact ValuationAllowancesAndReservesChargedToCostAndExpense: Found TimeFrameContext - Start: 2022-01-01 (Type: <class 'datetime.date'>), End: 2022-12-31 (Type: <class 'datetime.date'>)\n",
      "INFO:alphaledger.process_xbrl:[_direct_fact_to_row] Fact ValuationAllowancesAndReservesDeductions: Found TimeFrameContext - Start: 2022-01-01 (Type: <class 'datetime.date'>), End: 2022-12-31 (Type: <class 'datetime.date'>)\n",
      "INFO:alphaledger.process_xbrl:[_direct_fact_to_row] Fact ValuationAllowancesAndReservesAdjustments: Found TimeFrameContext - Start: 2022-01-01 (Type: <class 'datetime.date'>), End: 2022-12-31 (Type: <class 'datetime.date'>)\n",
      "INFO:alphaledger.process_xbrl:[_direct_fact_to_row] Fact ValuationAllowancesAndReservesBalance: Found InstantContext - Instant: 2022-12-31 (Type: <class 'datetime.date'>)\n",
      "INFO:alphaledger.process_xbrl:[_direct_fact_to_row] Fact ValuationAllowancesAndReservesBalance: Found InstantContext - Instant: 2021-12-31 (Type: <class 'datetime.date'>)\n",
      "INFO:alphaledger.process_xbrl:[_direct_fact_to_row] Fact ValuationAllowancesAndReservesChargedToCostAndExpense: Found TimeFrameContext - Start: 2022-01-01 (Type: <class 'datetime.date'>), End: 2022-12-31 (Type: <class 'datetime.date'>)\n",
      "INFO:alphaledger.process_xbrl:[_direct_fact_to_row] Fact ValuationAllowancesAndReservesDeductions: Found TimeFrameContext - Start: 2022-01-01 (Type: <class 'datetime.date'>), End: 2022-12-31 (Type: <class 'datetime.date'>)\n",
      "INFO:alphaledger.process_xbrl:[_direct_fact_to_row] Fact ValuationAllowancesAndReservesAdjustments: Found TimeFrameContext - Start: 2022-01-01 (Type: <class 'datetime.date'>), End: 2022-12-31 (Type: <class 'datetime.date'>)\n",
      "INFO:alphaledger.process_xbrl:[_direct_fact_to_row] Fact ValuationAllowancesAndReservesBalance: Found InstantContext - Instant: 2022-12-31 (Type: <class 'datetime.date'>)\n",
      "INFO:alphaledger.process_xbrl:[_direct_fact_to_row] Fact ValuationAllowancesAndReservesBalance: Found InstantContext - Instant: 2023-12-31 (Type: <class 'datetime.date'>)\n",
      "INFO:alphaledger.process_xbrl:[_direct_fact_to_row] Fact ValuationAllowancesAndReservesChargedToCostAndExpense: Found TimeFrameContext - Start: 2024-01-01 (Type: <class 'datetime.date'>), End: 2024-12-31 (Type: <class 'datetime.date'>)\n",
      "INFO:alphaledger.process_xbrl:[_direct_fact_to_row] Fact ValuationAllowancesAndReservesDeductions: Found TimeFrameContext - Start: 2024-01-01 (Type: <class 'datetime.date'>), End: 2024-12-31 (Type: <class 'datetime.date'>)\n",
      "INFO:alphaledger.process_xbrl:[_direct_fact_to_row] Fact ValuationAllowancesAndReservesAdjustments: Found TimeFrameContext - Start: 2024-01-01 (Type: <class 'datetime.date'>), End: 2024-12-31 (Type: <class 'datetime.date'>)\n",
      "INFO:alphaledger.process_xbrl:[_direct_fact_to_row] Fact ValuationAllowancesAndReservesBalance: Found InstantContext - Instant: 2024-12-31 (Type: <class 'datetime.date'>)\n",
      "INFO:alphaledger.process_xbrl:[_direct_fact_to_row] Fact ValuationAllowancesAndReservesBalance: Found InstantContext - Instant: 2022-12-31 (Type: <class 'datetime.date'>)\n",
      "INFO:alphaledger.process_xbrl:[_direct_fact_to_row] Fact ValuationAllowancesAndReservesChargedToCostAndExpense: Found TimeFrameContext - Start: 2023-01-01 (Type: <class 'datetime.date'>), End: 2023-12-31 (Type: <class 'datetime.date'>)\n",
      "INFO:alphaledger.process_xbrl:[_direct_fact_to_row] Fact ValuationAllowancesAndReservesDeductions: Found TimeFrameContext - Start: 2023-01-01 (Type: <class 'datetime.date'>), End: 2023-12-31 (Type: <class 'datetime.date'>)\n",
      "INFO:alphaledger.process_xbrl:[_direct_fact_to_row] Fact ValuationAllowancesAndReservesAdjustments: Found TimeFrameContext - Start: 2023-01-01 (Type: <class 'datetime.date'>), End: 2023-12-31 (Type: <class 'datetime.date'>)\n",
      "INFO:alphaledger.process_xbrl:[_direct_fact_to_row] Fact ValuationAllowancesAndReservesBalance: Found InstantContext - Instant: 2023-12-31 (Type: <class 'datetime.date'>)\n",
      "INFO:alphaledger.process_xbrl:[_direct_fact_to_row] Fact ValuationAllowancesAndReservesBalance: Found InstantContext - Instant: 2021-12-31 (Type: <class 'datetime.date'>)\n",
      "INFO:alphaledger.process_xbrl:[_direct_fact_to_row] Fact ValuationAllowancesAndReservesChargedToCostAndExpense: Found TimeFrameContext - Start: 2022-01-01 (Type: <class 'datetime.date'>), End: 2022-12-31 (Type: <class 'datetime.date'>)\n",
      "INFO:alphaledger.process_xbrl:[_direct_fact_to_row] Fact ValuationAllowancesAndReservesDeductions: Found TimeFrameContext - Start: 2022-01-01 (Type: <class 'datetime.date'>), End: 2022-12-31 (Type: <class 'datetime.date'>)\n",
      "INFO:alphaledger.process_xbrl:[_direct_fact_to_row] Fact ValuationAllowancesAndReservesAdjustments: Found TimeFrameContext - Start: 2022-01-01 (Type: <class 'datetime.date'>), End: 2022-12-31 (Type: <class 'datetime.date'>)\n",
      "INFO:alphaledger.process_xbrl:[_direct_fact_to_row] Fact ValuationAllowancesAndReservesBalance: Found InstantContext - Instant: 2022-12-31 (Type: <class 'datetime.date'>)\n",
      "INFO:alphaledger.process_xbrl:[_direct_fact_to_row] Fact ValuationAllowancesAndReservesBalance: Found InstantContext - Instant: 2023-12-31 (Type: <class 'datetime.date'>)\n",
      "INFO:alphaledger.process_xbrl:[_direct_fact_to_row] Fact ValuationAllowancesAndReservesChargedToCostAndExpense: Found TimeFrameContext - Start: 2024-01-01 (Type: <class 'datetime.date'>), End: 2024-12-31 (Type: <class 'datetime.date'>)\n",
      "INFO:alphaledger.process_xbrl:[_direct_fact_to_row] Fact ValuationAllowancesAndReservesDeductions: Found TimeFrameContext - Start: 2024-01-01 (Type: <class 'datetime.date'>), End: 2024-12-31 (Type: <class 'datetime.date'>)\n",
      "INFO:alphaledger.process_xbrl:[_direct_fact_to_row] Fact ValuationAllowancesAndReservesAdjustments: Found TimeFrameContext - Start: 2024-01-01 (Type: <class 'datetime.date'>), End: 2024-12-31 (Type: <class 'datetime.date'>)\n",
      "INFO:alphaledger.process_xbrl:[_direct_fact_to_row] Fact ValuationAllowancesAndReservesBalance: Found InstantContext - Instant: 2024-12-31 (Type: <class 'datetime.date'>)\n",
      "INFO:alphaledger.process_xbrl:[_direct_fact_to_row] Fact ValuationAllowancesAndReservesBalance: Found InstantContext - Instant: 2022-12-31 (Type: <class 'datetime.date'>)\n",
      "INFO:alphaledger.process_xbrl:[_direct_fact_to_row] Fact ValuationAllowancesAndReservesChargedToCostAndExpense: Found TimeFrameContext - Start: 2023-01-01 (Type: <class 'datetime.date'>), End: 2023-12-31 (Type: <class 'datetime.date'>)\n",
      "INFO:alphaledger.process_xbrl:[_direct_fact_to_row] Fact ValuationAllowancesAndReservesDeductions: Found TimeFrameContext - Start: 2023-01-01 (Type: <class 'datetime.date'>), End: 2023-12-31 (Type: <class 'datetime.date'>)\n",
      "INFO:alphaledger.process_xbrl:[_direct_fact_to_row] Fact ValuationAllowancesAndReservesAdjustments: Found TimeFrameContext - Start: 2023-01-01 (Type: <class 'datetime.date'>), End: 2023-12-31 (Type: <class 'datetime.date'>)\n",
      "INFO:alphaledger.process_xbrl:[_direct_fact_to_row] Fact ValuationAllowancesAndReservesBalance: Found InstantContext - Instant: 2023-12-31 (Type: <class 'datetime.date'>)\n",
      "INFO:alphaledger.process_xbrl:[_direct_fact_to_row] Fact ValuationAllowancesAndReservesBalance: Found InstantContext - Instant: 2021-12-31 (Type: <class 'datetime.date'>)\n",
      "INFO:alphaledger.process_xbrl:[_direct_fact_to_row] Fact ValuationAllowancesAndReservesChargedToCostAndExpense: Found TimeFrameContext - Start: 2022-01-01 (Type: <class 'datetime.date'>), End: 2022-12-31 (Type: <class 'datetime.date'>)\n",
      "INFO:alphaledger.process_xbrl:[_direct_fact_to_row] Fact ValuationAllowancesAndReservesDeductions: Found TimeFrameContext - Start: 2022-01-01 (Type: <class 'datetime.date'>), End: 2022-12-31 (Type: <class 'datetime.date'>)\n",
      "INFO:alphaledger.process_xbrl:[_direct_fact_to_row] Fact ValuationAllowancesAndReservesAdjustments: Found TimeFrameContext - Start: 2022-01-01 (Type: <class 'datetime.date'>), End: 2022-12-31 (Type: <class 'datetime.date'>)\n",
      "INFO:alphaledger.process_xbrl:[_direct_fact_to_row] Fact ValuationAllowancesAndReservesBalance: Found InstantContext - Instant: 2022-12-31 (Type: <class 'datetime.date'>)\n",
      "INFO:alphaledger.process_xbrl:[_direct_fact_to_row] Fact SecurityExchangeName: Found TimeFrameContext - Start: 2024-01-01 (Type: <class 'datetime.date'>), End: 2024-12-31 (Type: <class 'datetime.date'>)\n",
      "INFO:alphaledger.process_xbrl:[_direct_fact_to_row] Fact EntityCentralIndexKey: Found TimeFrameContext - Start: 2024-01-01 (Type: <class 'datetime.date'>), End: 2024-12-31 (Type: <class 'datetime.date'>)\n",
      "INFO:alphaledger.process_xbrl:[_direct_fact_to_row] Fact DocumentFiscalYearFocus: Found TimeFrameContext - Start: 2024-01-01 (Type: <class 'datetime.date'>), End: 2024-12-31 (Type: <class 'datetime.date'>)\n",
      "INFO:alphaledger.process_xbrl:[_direct_fact_to_row] Fact DocumentFiscalPeriodFocus: Found TimeFrameContext - Start: 2024-01-01 (Type: <class 'datetime.date'>), End: 2024-12-31 (Type: <class 'datetime.date'>)\n",
      "INFO:alphaledger.process_xbrl:[_direct_fact_to_row] Fact AmendmentFlag: Found TimeFrameContext - Start: 2024-01-01 (Type: <class 'datetime.date'>), End: 2024-12-31 (Type: <class 'datetime.date'>)\n",
      "INFO:alphaledger.process_xbrl:[_direct_fact_to_row] Fact PropertyPlantAndEquipmentUsefulLife: Found InstantContext - Instant: 2022-12-31 (Type: <class 'datetime.date'>)\n",
      "INFO:alphaledger.process_xbrl:[_direct_fact_to_row] Fact PropertyPlantAndEquipmentUsefulLife: Found InstantContext - Instant: 2022-12-31 (Type: <class 'datetime.date'>)\n",
      "INFO:alphaledger.process_xbrl:[_direct_fact_to_row] Fact OperatingLeaseIncomeComprehensiveIncomeExtensibleList: Found TimeFrameContext - Start: 2024-01-01 (Type: <class 'datetime.date'>), End: 2024-12-31 (Type: <class 'datetime.date'>)\n",
      "INFO:alphaledger.process_xbrl:[_direct_fact_to_row] Fact OperatingLeaseIncomeComprehensiveIncomeExtensibleList: Found TimeFrameContext - Start: 2023-01-01 (Type: <class 'datetime.date'>), End: 2023-12-31 (Type: <class 'datetime.date'>)\n",
      "INFO:alphaledger.process_xbrl:[_direct_fact_to_row] Fact OperatingLeaseIncomeComprehensiveIncomeExtensibleList: Found TimeFrameContext - Start: 2022-01-01 (Type: <class 'datetime.date'>), End: 2022-12-31 (Type: <class 'datetime.date'>)\n",
      "INFO:alphaledger.process_xbrl:[_direct_fact_to_row] Fact ProductWarrantyTerm: Found TimeFrameContext - Start: 2024-01-01 (Type: <class 'datetime.date'>), End: 2024-12-31 (Type: <class 'datetime.date'>)\n",
      "INFO:alphaledger.process_xbrl:[_direct_fact_to_row] Fact ProductWarrantyTerm: Found TimeFrameContext - Start: 2024-01-01 (Type: <class 'datetime.date'>), End: 2024-12-31 (Type: <class 'datetime.date'>)\n",
      "INFO:alphaledger.process_xbrl:[_direct_fact_to_row] Fact RestructuringIncurredCostStatementOfIncomeOrComprehensiveIncomeExtensibleEnumeration: Found TimeFrameContext - Start: 2024-01-01 (Type: <class 'datetime.date'>), End: 2024-12-31 (Type: <class 'datetime.date'>)\n",
      "INFO:alphaledger.process_xbrl:[_direct_fact_to_row] Fact RestructuringIncurredCostStatementOfIncomeOrComprehensiveIncomeExtensibleEnumeration: Found TimeFrameContext - Start: 2023-01-01 (Type: <class 'datetime.date'>), End: 2023-12-31 (Type: <class 'datetime.date'>)\n",
      "INFO:alphaledger.process_xbrl:[_direct_fact_to_row] Fact RestructuringIncurredCostStatementOfIncomeOrComprehensiveIncomeExtensibleEnumeration: Found TimeFrameContext - Start: 2022-01-01 (Type: <class 'datetime.date'>), End: 2022-12-31 (Type: <class 'datetime.date'>)\n",
      "INFO:alphaledger.process_xbrl:[_direct_fact_to_row] Fact GovernmentAssistanceTransactionDuration: Found TimeFrameContext - Start: 2024-01-01 (Type: <class 'datetime.date'>), End: 2024-12-31 (Type: <class 'datetime.date'>)\n",
      "INFO:alphaledger.process_xbrl:[_direct_fact_to_row] Fact ShareBasedCompensationArrangementByShareBasedPaymentAwardAwardVestingPeriod1: Found TimeFrameContext - Start: 2024-01-01 (Type: <class 'datetime.date'>), End: 2024-12-31 (Type: <class 'datetime.date'>)\n",
      "INFO:alphaledger.process_xbrl:[_direct_fact_to_row] Fact SupplierFinanceProgramObligationStatementOfFinancialPositionExtensibleEnumeration: Found InstantContext - Instant: 2023-12-31 (Type: <class 'datetime.date'>)\n",
      "INFO:alphaledger.process_xbrl:[_direct_fact_to_row] Fact SupplierFinanceProgramObligationStatementOfFinancialPositionExtensibleEnumeration: Found InstantContext - Instant: 2024-12-31 (Type: <class 'datetime.date'>)\n",
      "INFO:alphaledger.process_xbrl:[_direct_fact_to_row] Fact FinanceLeaseRightOfUseAssetStatementOfFinancialPositionExtensibleList: Found InstantContext - Instant: 2023-12-31 (Type: <class 'datetime.date'>)\n",
      "INFO:alphaledger.process_xbrl:[_direct_fact_to_row] Fact FinanceLeaseRightOfUseAssetStatementOfFinancialPositionExtensibleList: Found InstantContext - Instant: 2024-12-31 (Type: <class 'datetime.date'>)\n",
      "INFO:alphaledger.process_xbrl:[_direct_fact_to_row] Fact FinanceLeaseLiabilityCurrentStatementOfFinancialPositionExtensibleList: Found InstantContext - Instant: 2023-12-31 (Type: <class 'datetime.date'>)\n",
      "INFO:alphaledger.process_xbrl:[_direct_fact_to_row] Fact FinanceLeaseLiabilityCurrentStatementOfFinancialPositionExtensibleList: Found InstantContext - Instant: 2024-12-31 (Type: <class 'datetime.date'>)\n",
      "INFO:alphaledger.process_xbrl:[_direct_fact_to_row] Fact FinanceLeaseLiabilityNoncurrentStatementOfFinancialPositionExtensibleList: Found InstantContext - Instant: 2024-12-31 (Type: <class 'datetime.date'>)\n",
      "INFO:alphaledger.process_xbrl:[_direct_fact_to_row] Fact FinanceLeaseLiabilityNoncurrentStatementOfFinancialPositionExtensibleList: Found InstantContext - Instant: 2023-12-31 (Type: <class 'datetime.date'>)\n",
      "INFO:alphaledger.process_xbrl:[_direct_fact_to_row] Fact LesseeOperatingLeaseTermOfContract: Found InstantContext - Instant: 2024-12-31 (Type: <class 'datetime.date'>)\n",
      "INFO:alphaledger.process_xbrl:[_direct_fact_to_row] Fact RevenueRemainingPerformanceObligationExpectedTimingOfSatisfactionPeriod1: Found InstantContext - Instant: 2024-12-31 (Type: <class 'datetime.date'>)\n",
      "INFO:alphaledger.process_xbrl:[_direct_fact_to_row] Fact DisposalGroupNotDiscontinuedOperationGainLossOnDisposalStatementOfIncomeExtensibleList: Found TimeFrameContext - Start: 2022-01-01 (Type: <class 'datetime.date'>), End: 2022-12-31 (Type: <class 'datetime.date'>)\n",
      "INFO:alphaledger.process_xbrl:[_direct_fact_to_row] Fact DisposalGroupNotDiscontinuedOperationGainLossOnDisposalStatementOfIncomeExtensibleList: Found TimeFrameContext - Start: 2024-01-01 (Type: <class 'datetime.date'>), End: 2024-12-31 (Type: <class 'datetime.date'>)\n",
      "INFO:alphaledger.process_xbrl:[_direct_fact_to_row] Fact DisposalGroupNotDiscontinuedOperationGainLossOnDisposalStatementOfIncomeExtensibleList: Found TimeFrameContext - Start: 2023-01-01 (Type: <class 'datetime.date'>), End: 2023-12-31 (Type: <class 'datetime.date'>)\n",
      "INFO:alphaledger.process_xbrl:[_direct_fact_to_row] Fact EnvironmentalLossContingencyStatementOfFinancialPositionExtensibleEnumeration: Found InstantContext - Instant: 2023-12-31 (Type: <class 'datetime.date'>)\n",
      "INFO:alphaledger.process_xbrl:[_direct_fact_to_row] Fact EnvironmentalLossContingencyStatementOfFinancialPositionExtensibleEnumeration: Found InstantContext - Instant: 2024-12-31 (Type: <class 'datetime.date'>)\n",
      "INFO:alphaledger.process_xbrl:[_direct_fact_to_row] Fact HedgedLiabilityStatementOfFinancialPositionExtensibleEnumeration: Found InstantContext - Instant: 2023-12-31 (Type: <class 'datetime.date'>)\n",
      "INFO:alphaledger.process_xbrl:[_direct_fact_to_row] Fact HedgedLiabilityStatementOfFinancialPositionExtensibleEnumeration: Found InstantContext - Instant: 2024-12-31 (Type: <class 'datetime.date'>)\n",
      "INFO:alphaledger.process_xbrl:[_direct_fact_to_row] Fact HedgedLiabilityStatementOfFinancialPositionExtensibleEnumeration: Found InstantContext - Instant: 2023-12-31 (Type: <class 'datetime.date'>)\n",
      "INFO:alphaledger.process_xbrl:[_direct_fact_to_row] Fact HedgedLiabilityStatementOfFinancialPositionExtensibleEnumeration: Found InstantContext - Instant: 2024-12-31 (Type: <class 'datetime.date'>)\n",
      "INFO:alphaledger.process_xbrl:[_direct_fact_to_row] Fact DerivativeGainLossStatementOfIncomeOrComprehensiveIncomeExtensibleEnumeration: Found TimeFrameContext - Start: 2023-01-01 (Type: <class 'datetime.date'>), End: 2023-12-31 (Type: <class 'datetime.date'>)\n",
      "INFO:alphaledger.process_xbrl:[_direct_fact_to_row] Fact DerivativeGainLossStatementOfIncomeOrComprehensiveIncomeExtensibleEnumeration: Found TimeFrameContext - Start: 2024-01-01 (Type: <class 'datetime.date'>), End: 2024-12-31 (Type: <class 'datetime.date'>)\n",
      "INFO:alphaledger.process_xbrl:[_direct_fact_to_row] Fact DerivativeGainLossStatementOfIncomeOrComprehensiveIncomeExtensibleEnumeration: Found TimeFrameContext - Start: 2022-01-01 (Type: <class 'datetime.date'>), End: 2022-12-31 (Type: <class 'datetime.date'>)\n",
      "INFO:alphaledger.process_xbrl:[_direct_fact_to_row] Fact DerivativeExcludedComponentGainLossStatementOfIncomeOrComprehensiveIncomeExtensibleEnumeration: Found TimeFrameContext - Start: 2023-01-01 (Type: <class 'datetime.date'>), End: 2023-12-31 (Type: <class 'datetime.date'>)\n",
      "INFO:alphaledger.process_xbrl:[_direct_fact_to_row] Fact DerivativeExcludedComponentGainLossStatementOfIncomeOrComprehensiveIncomeExtensibleEnumeration: Found TimeFrameContext - Start: 2024-01-01 (Type: <class 'datetime.date'>), End: 2024-12-31 (Type: <class 'datetime.date'>)\n",
      "INFO:alphaledger.process_xbrl:[_direct_fact_to_row] Fact DerivativeExcludedComponentGainLossStatementOfIncomeOrComprehensiveIncomeExtensibleEnumeration: Found TimeFrameContext - Start: 2022-01-01 (Type: <class 'datetime.date'>), End: 2022-12-31 (Type: <class 'datetime.date'>)\n",
      "INFO:alphaledger.process_xbrl:[_direct_fact_to_row] Fact NumberOfYearsOverWhichChangesInFairValueOfPlanAssetsRecognizedInNetPeriodicIncomeCost: Found TimeFrameContext - Start: 2024-01-01 (Type: <class 'datetime.date'>), End: 2024-12-31 (Type: <class 'datetime.date'>)\n",
      "INFO:alphaledger.process_xbrl:[_direct_fact_to_row] Fact DocumentType: Found TimeFrameContext - Start: 2024-01-01 (Type: <class 'datetime.date'>), End: 2024-12-31 (Type: <class 'datetime.date'>)\n",
      "INFO:alphaledger.process_xbrl:[_direct_fact_to_row] Fact DocumentAnnualReport: Found TimeFrameContext - Start: 2024-01-01 (Type: <class 'datetime.date'>), End: 2024-12-31 (Type: <class 'datetime.date'>)\n",
      "INFO:alphaledger.process_xbrl:[_direct_fact_to_row] Fact DocumentTransitionReport: Found TimeFrameContext - Start: 2024-01-01 (Type: <class 'datetime.date'>), End: 2024-12-31 (Type: <class 'datetime.date'>)\n",
      "INFO:alphaledger.process_xbrl:[_direct_fact_to_row] Fact DocumentPeriodEndDate: Found TimeFrameContext - Start: 2024-01-01 (Type: <class 'datetime.date'>), End: 2024-12-31 (Type: <class 'datetime.date'>)\n",
      "INFO:alphaledger.process_xbrl:[_direct_fact_to_row] Fact CurrentFiscalYearEndDate: Found TimeFrameContext - Start: 2024-01-01 (Type: <class 'datetime.date'>), End: 2024-12-31 (Type: <class 'datetime.date'>)\n",
      "INFO:alphaledger.process_xbrl:[_direct_fact_to_row] Fact EntityFileNumber: Found TimeFrameContext - Start: 2024-01-01 (Type: <class 'datetime.date'>), End: 2024-12-31 (Type: <class 'datetime.date'>)\n",
      "INFO:alphaledger.process_xbrl:[_direct_fact_to_row] Fact EntityRegistrantName: Found TimeFrameContext - Start: 2024-01-01 (Type: <class 'datetime.date'>), End: 2024-12-31 (Type: <class 'datetime.date'>)\n",
      "INFO:alphaledger.process_xbrl:[_direct_fact_to_row] Fact EntityIncorporationStateCountryCode: Found TimeFrameContext - Start: 2024-01-01 (Type: <class 'datetime.date'>), End: 2024-12-31 (Type: <class 'datetime.date'>)\n",
      "INFO:alphaledger.process_xbrl:[_direct_fact_to_row] Fact EntityTaxIdentificationNumber: Found TimeFrameContext - Start: 2024-01-01 (Type: <class 'datetime.date'>), End: 2024-12-31 (Type: <class 'datetime.date'>)\n",
      "INFO:alphaledger.process_xbrl:[_direct_fact_to_row] Fact EntityAddressAddressLine1: Found TimeFrameContext - Start: 2024-01-01 (Type: <class 'datetime.date'>), End: 2024-12-31 (Type: <class 'datetime.date'>)\n",
      "INFO:alphaledger.process_xbrl:[_direct_fact_to_row] Fact EntityAddressCityOrTown: Found TimeFrameContext - Start: 2024-01-01 (Type: <class 'datetime.date'>), End: 2024-12-31 (Type: <class 'datetime.date'>)\n",
      "INFO:alphaledger.process_xbrl:[_direct_fact_to_row] Fact EntityAddressStateOrProvince: Found TimeFrameContext - Start: 2024-01-01 (Type: <class 'datetime.date'>), End: 2024-12-31 (Type: <class 'datetime.date'>)\n",
      "INFO:alphaledger.process_xbrl:[_direct_fact_to_row] Fact EntityAddressPostalZipCode: Found TimeFrameContext - Start: 2024-01-01 (Type: <class 'datetime.date'>), End: 2024-12-31 (Type: <class 'datetime.date'>)\n",
      "INFO:alphaledger.process_xbrl:[_direct_fact_to_row] Fact CityAreaCode: Found TimeFrameContext - Start: 2024-01-01 (Type: <class 'datetime.date'>), End: 2024-12-31 (Type: <class 'datetime.date'>)\n",
      "INFO:alphaledger.process_xbrl:[_direct_fact_to_row] Fact LocalPhoneNumber: Found TimeFrameContext - Start: 2024-01-01 (Type: <class 'datetime.date'>), End: 2024-12-31 (Type: <class 'datetime.date'>)\n",
      "INFO:alphaledger.process_xbrl:[_direct_fact_to_row] Fact Security12bTitle: Found TimeFrameContext - Start: 2024-01-01 (Type: <class 'datetime.date'>), End: 2024-12-31 (Type: <class 'datetime.date'>)\n",
      "INFO:alphaledger.process_xbrl:[_direct_fact_to_row] Fact Security12bTitle: Found TimeFrameContext - Start: 2024-01-01 (Type: <class 'datetime.date'>), End: 2024-12-31 (Type: <class 'datetime.date'>)\n",
      "INFO:alphaledger.process_xbrl:[_direct_fact_to_row] Fact TradingSymbol: Found TimeFrameContext - Start: 2024-01-01 (Type: <class 'datetime.date'>), End: 2024-12-31 (Type: <class 'datetime.date'>)\n",
      "INFO:alphaledger.process_xbrl:[_direct_fact_to_row] Fact TradingSymbol: Found TimeFrameContext - Start: 2024-01-01 (Type: <class 'datetime.date'>), End: 2024-12-31 (Type: <class 'datetime.date'>)\n",
      "INFO:alphaledger.process_xbrl:[_direct_fact_to_row] Fact SecurityExchangeName: Found TimeFrameContext - Start: 2024-01-01 (Type: <class 'datetime.date'>), End: 2024-12-31 (Type: <class 'datetime.date'>)\n",
      "INFO:alphaledger.process_xbrl:[_direct_fact_to_row] Fact Security12bTitle: Found TimeFrameContext - Start: 2024-01-01 (Type: <class 'datetime.date'>), End: 2024-12-31 (Type: <class 'datetime.date'>)\n",
      "INFO:alphaledger.process_xbrl:[_direct_fact_to_row] Fact TradingSymbol: Found TimeFrameContext - Start: 2024-01-01 (Type: <class 'datetime.date'>), End: 2024-12-31 (Type: <class 'datetime.date'>)\n",
      "INFO:alphaledger.process_xbrl:[_direct_fact_to_row] Fact SecurityExchangeName: Found TimeFrameContext - Start: 2024-01-01 (Type: <class 'datetime.date'>), End: 2024-12-31 (Type: <class 'datetime.date'>)\n",
      "INFO:alphaledger.process_xbrl:[_direct_fact_to_row] Fact Security12bTitle: Found TimeFrameContext - Start: 2024-01-01 (Type: <class 'datetime.date'>), End: 2024-12-31 (Type: <class 'datetime.date'>)\n",
      "INFO:alphaledger.process_xbrl:[_direct_fact_to_row] Fact TradingSymbol: Found TimeFrameContext - Start: 2024-01-01 (Type: <class 'datetime.date'>), End: 2024-12-31 (Type: <class 'datetime.date'>)\n",
      "INFO:alphaledger.process_xbrl:[_direct_fact_to_row] Fact SecurityExchangeName: Found TimeFrameContext - Start: 2024-01-01 (Type: <class 'datetime.date'>), End: 2024-12-31 (Type: <class 'datetime.date'>)\n",
      "INFO:alphaledger.process_xbrl:[_direct_fact_to_row] Fact Security12bTitle: Found TimeFrameContext - Start: 2024-01-01 (Type: <class 'datetime.date'>), End: 2024-12-31 (Type: <class 'datetime.date'>)\n",
      "INFO:alphaledger.process_xbrl:[_direct_fact_to_row] Fact TradingSymbol: Found TimeFrameContext - Start: 2024-01-01 (Type: <class 'datetime.date'>), End: 2024-12-31 (Type: <class 'datetime.date'>)\n",
      "INFO:alphaledger.process_xbrl:[_direct_fact_to_row] Fact SecurityExchangeName: Found TimeFrameContext - Start: 2024-01-01 (Type: <class 'datetime.date'>), End: 2024-12-31 (Type: <class 'datetime.date'>)\n",
      "INFO:alphaledger.process_xbrl:[_direct_fact_to_row] Fact Security12bTitle: Found TimeFrameContext - Start: 2024-01-01 (Type: <class 'datetime.date'>), End: 2024-12-31 (Type: <class 'datetime.date'>)\n",
      "INFO:alphaledger.process_xbrl:[_direct_fact_to_row] Fact TradingSymbol: Found TimeFrameContext - Start: 2024-01-01 (Type: <class 'datetime.date'>), End: 2024-12-31 (Type: <class 'datetime.date'>)\n",
      "INFO:alphaledger.process_xbrl:[_direct_fact_to_row] Fact SecurityExchangeName: Found TimeFrameContext - Start: 2024-01-01 (Type: <class 'datetime.date'>), End: 2024-12-31 (Type: <class 'datetime.date'>)\n",
      "INFO:alphaledger.process_xbrl:[_direct_fact_to_row] Fact Security12bTitle: Found TimeFrameContext - Start: 2024-01-01 (Type: <class 'datetime.date'>), End: 2024-12-31 (Type: <class 'datetime.date'>)\n",
      "INFO:alphaledger.process_xbrl:[_direct_fact_to_row] Fact TradingSymbol: Found TimeFrameContext - Start: 2024-01-01 (Type: <class 'datetime.date'>), End: 2024-12-31 (Type: <class 'datetime.date'>)\n",
      "INFO:alphaledger.process_xbrl:[_direct_fact_to_row] Fact SecurityExchangeName: Found TimeFrameContext - Start: 2024-01-01 (Type: <class 'datetime.date'>), End: 2024-12-31 (Type: <class 'datetime.date'>)\n",
      "INFO:alphaledger.process_xbrl:[_direct_fact_to_row] Fact Security12bTitle: Found TimeFrameContext - Start: 2024-01-01 (Type: <class 'datetime.date'>), End: 2024-12-31 (Type: <class 'datetime.date'>)\n",
      "INFO:alphaledger.process_xbrl:[_direct_fact_to_row] Fact TradingSymbol: Found TimeFrameContext - Start: 2024-01-01 (Type: <class 'datetime.date'>), End: 2024-12-31 (Type: <class 'datetime.date'>)\n",
      "INFO:alphaledger.process_xbrl:[_direct_fact_to_row] Fact SecurityExchangeName: Found TimeFrameContext - Start: 2024-01-01 (Type: <class 'datetime.date'>), End: 2024-12-31 (Type: <class 'datetime.date'>)\n",
      "INFO:alphaledger.process_xbrl:[_direct_fact_to_row] Fact Security12bTitle: Found TimeFrameContext - Start: 2024-01-01 (Type: <class 'datetime.date'>), End: 2024-12-31 (Type: <class 'datetime.date'>)\n",
      "INFO:alphaledger.process_xbrl:[_direct_fact_to_row] Fact TradingSymbol: Found TimeFrameContext - Start: 2024-01-01 (Type: <class 'datetime.date'>), End: 2024-12-31 (Type: <class 'datetime.date'>)\n",
      "INFO:alphaledger.process_xbrl:[_direct_fact_to_row] Fact SecurityExchangeName: Found TimeFrameContext - Start: 2024-01-01 (Type: <class 'datetime.date'>), End: 2024-12-31 (Type: <class 'datetime.date'>)\n",
      "INFO:alphaledger.process_xbrl:[_direct_fact_to_row] Fact Security12bTitle: Found TimeFrameContext - Start: 2024-01-01 (Type: <class 'datetime.date'>), End: 2024-12-31 (Type: <class 'datetime.date'>)\n",
      "INFO:alphaledger.process_xbrl:[_direct_fact_to_row] Fact TradingSymbol: Found TimeFrameContext - Start: 2024-01-01 (Type: <class 'datetime.date'>), End: 2024-12-31 (Type: <class 'datetime.date'>)\n",
      "INFO:alphaledger.process_xbrl:[_direct_fact_to_row] Fact SecurityExchangeName: Found TimeFrameContext - Start: 2024-01-01 (Type: <class 'datetime.date'>), End: 2024-12-31 (Type: <class 'datetime.date'>)\n",
      "INFO:alphaledger.process_xbrl:[_direct_fact_to_row] Fact Security12bTitle: Found TimeFrameContext - Start: 2024-01-01 (Type: <class 'datetime.date'>), End: 2024-12-31 (Type: <class 'datetime.date'>)\n",
      "INFO:alphaledger.process_xbrl:[_direct_fact_to_row] Fact TradingSymbol: Found TimeFrameContext - Start: 2024-01-01 (Type: <class 'datetime.date'>), End: 2024-12-31 (Type: <class 'datetime.date'>)\n",
      "INFO:alphaledger.process_xbrl:[_direct_fact_to_row] Fact SecurityExchangeName: Found TimeFrameContext - Start: 2024-01-01 (Type: <class 'datetime.date'>), End: 2024-12-31 (Type: <class 'datetime.date'>)\n",
      "INFO:alphaledger.process_xbrl:[_direct_fact_to_row] Fact Security12bTitle: Found TimeFrameContext - Start: 2024-01-01 (Type: <class 'datetime.date'>), End: 2024-12-31 (Type: <class 'datetime.date'>)\n",
      "INFO:alphaledger.process_xbrl:[_direct_fact_to_row] Fact TradingSymbol: Found TimeFrameContext - Start: 2024-01-01 (Type: <class 'datetime.date'>), End: 2024-12-31 (Type: <class 'datetime.date'>)\n",
      "INFO:alphaledger.process_xbrl:[_direct_fact_to_row] Fact SecurityExchangeName: Found TimeFrameContext - Start: 2024-01-01 (Type: <class 'datetime.date'>), End: 2024-12-31 (Type: <class 'datetime.date'>)\n",
      "INFO:alphaledger.process_xbrl:[_direct_fact_to_row] Fact Security12bTitle: Found TimeFrameContext - Start: 2024-01-01 (Type: <class 'datetime.date'>), End: 2024-12-31 (Type: <class 'datetime.date'>)\n",
      "INFO:alphaledger.process_xbrl:[_direct_fact_to_row] Fact TradingSymbol: Found TimeFrameContext - Start: 2024-01-01 (Type: <class 'datetime.date'>), End: 2024-12-31 (Type: <class 'datetime.date'>)\n",
      "INFO:alphaledger.process_xbrl:[_direct_fact_to_row] Fact SecurityExchangeName: Found TimeFrameContext - Start: 2024-01-01 (Type: <class 'datetime.date'>), End: 2024-12-31 (Type: <class 'datetime.date'>)\n",
      "INFO:alphaledger.process_xbrl:[_direct_fact_to_row] Fact Security12bTitle: Found TimeFrameContext - Start: 2024-01-01 (Type: <class 'datetime.date'>), End: 2024-12-31 (Type: <class 'datetime.date'>)\n",
      "INFO:alphaledger.process_xbrl:[_direct_fact_to_row] Fact TradingSymbol: Found TimeFrameContext - Start: 2024-01-01 (Type: <class 'datetime.date'>), End: 2024-12-31 (Type: <class 'datetime.date'>)\n",
      "INFO:alphaledger.process_xbrl:[_direct_fact_to_row] Fact SecurityExchangeName: Found TimeFrameContext - Start: 2024-01-01 (Type: <class 'datetime.date'>), End: 2024-12-31 (Type: <class 'datetime.date'>)\n",
      "INFO:alphaledger.process_xbrl:[_direct_fact_to_row] Fact Security12bTitle: Found TimeFrameContext - Start: 2024-01-01 (Type: <class 'datetime.date'>), End: 2024-12-31 (Type: <class 'datetime.date'>)\n",
      "INFO:alphaledger.process_xbrl:[_direct_fact_to_row] Fact TradingSymbol: Found TimeFrameContext - Start: 2024-01-01 (Type: <class 'datetime.date'>), End: 2024-12-31 (Type: <class 'datetime.date'>)\n",
      "INFO:alphaledger.process_xbrl:[_direct_fact_to_row] Fact SecurityExchangeName: Found TimeFrameContext - Start: 2024-01-01 (Type: <class 'datetime.date'>), End: 2024-12-31 (Type: <class 'datetime.date'>)\n",
      "INFO:alphaledger.process_xbrl:[_direct_fact_to_row] Fact Security12bTitle: Found TimeFrameContext - Start: 2024-01-01 (Type: <class 'datetime.date'>), End: 2024-12-31 (Type: <class 'datetime.date'>)\n",
      "INFO:alphaledger.process_xbrl:[_direct_fact_to_row] Fact TradingSymbol: Found TimeFrameContext - Start: 2024-01-01 (Type: <class 'datetime.date'>), End: 2024-12-31 (Type: <class 'datetime.date'>)\n",
      "INFO:alphaledger.process_xbrl:[_direct_fact_to_row] Fact SecurityExchangeName: Found TimeFrameContext - Start: 2024-01-01 (Type: <class 'datetime.date'>), End: 2024-12-31 (Type: <class 'datetime.date'>)\n",
      "INFO:alphaledger.process_xbrl:[_direct_fact_to_row] Fact Security12bTitle: Found TimeFrameContext - Start: 2024-01-01 (Type: <class 'datetime.date'>), End: 2024-12-31 (Type: <class 'datetime.date'>)\n",
      "INFO:alphaledger.process_xbrl:[_direct_fact_to_row] Fact TradingSymbol: Found TimeFrameContext - Start: 2024-01-01 (Type: <class 'datetime.date'>), End: 2024-12-31 (Type: <class 'datetime.date'>)\n",
      "INFO:alphaledger.process_xbrl:[_direct_fact_to_row] Fact SecurityExchangeName: Found TimeFrameContext - Start: 2024-01-01 (Type: <class 'datetime.date'>), End: 2024-12-31 (Type: <class 'datetime.date'>)\n",
      "INFO:alphaledger.process_xbrl:[_direct_fact_to_row] Fact Security12bTitle: Found TimeFrameContext - Start: 2024-01-01 (Type: <class 'datetime.date'>), End: 2024-12-31 (Type: <class 'datetime.date'>)\n",
      "INFO:alphaledger.process_xbrl:[_direct_fact_to_row] Fact TradingSymbol: Found TimeFrameContext - Start: 2024-01-01 (Type: <class 'datetime.date'>), End: 2024-12-31 (Type: <class 'datetime.date'>)\n",
      "INFO:alphaledger.process_xbrl:[_direct_fact_to_row] Fact SecurityExchangeName: Found TimeFrameContext - Start: 2024-01-01 (Type: <class 'datetime.date'>), End: 2024-12-31 (Type: <class 'datetime.date'>)\n",
      "INFO:alphaledger.process_xbrl:[_direct_fact_to_row] Fact Security12bTitle: Found TimeFrameContext - Start: 2024-01-01 (Type: <class 'datetime.date'>), End: 2024-12-31 (Type: <class 'datetime.date'>)\n",
      "INFO:alphaledger.process_xbrl:[_direct_fact_to_row] Fact TradingSymbol: Found TimeFrameContext - Start: 2024-01-01 (Type: <class 'datetime.date'>), End: 2024-12-31 (Type: <class 'datetime.date'>)\n",
      "INFO:alphaledger.process_xbrl:[_direct_fact_to_row] Fact SecurityExchangeName: Found TimeFrameContext - Start: 2024-01-01 (Type: <class 'datetime.date'>), End: 2024-12-31 (Type: <class 'datetime.date'>)\n",
      "INFO:alphaledger.process_xbrl:[_direct_fact_to_row] Fact Security12bTitle: Found TimeFrameContext - Start: 2024-01-01 (Type: <class 'datetime.date'>), End: 2024-12-31 (Type: <class 'datetime.date'>)\n",
      "INFO:alphaledger.process_xbrl:[_direct_fact_to_row] Fact TradingSymbol: Found TimeFrameContext - Start: 2024-01-01 (Type: <class 'datetime.date'>), End: 2024-12-31 (Type: <class 'datetime.date'>)\n",
      "INFO:alphaledger.process_xbrl:[_direct_fact_to_row] Fact SecurityExchangeName: Found TimeFrameContext - Start: 2024-01-01 (Type: <class 'datetime.date'>), End: 2024-12-31 (Type: <class 'datetime.date'>)\n",
      "INFO:alphaledger.process_xbrl:[_direct_fact_to_row] Fact Security12bTitle: Found TimeFrameContext - Start: 2024-01-01 (Type: <class 'datetime.date'>), End: 2024-12-31 (Type: <class 'datetime.date'>)\n",
      "INFO:alphaledger.process_xbrl:[_direct_fact_to_row] Fact TradingSymbol: Found TimeFrameContext - Start: 2024-01-01 (Type: <class 'datetime.date'>), End: 2024-12-31 (Type: <class 'datetime.date'>)\n",
      "INFO:alphaledger.process_xbrl:[_direct_fact_to_row] Fact SecurityExchangeName: Found TimeFrameContext - Start: 2024-01-01 (Type: <class 'datetime.date'>), End: 2024-12-31 (Type: <class 'datetime.date'>)\n",
      "INFO:alphaledger.process_xbrl:[_direct_fact_to_row] Fact Security12bTitle: Found TimeFrameContext - Start: 2024-01-01 (Type: <class 'datetime.date'>), End: 2024-12-31 (Type: <class 'datetime.date'>)\n",
      "INFO:alphaledger.process_xbrl:[_direct_fact_to_row] Fact TradingSymbol: Found TimeFrameContext - Start: 2024-01-01 (Type: <class 'datetime.date'>), End: 2024-12-31 (Type: <class 'datetime.date'>)\n",
      "INFO:alphaledger.process_xbrl:[_direct_fact_to_row] Fact SecurityExchangeName: Found TimeFrameContext - Start: 2024-01-01 (Type: <class 'datetime.date'>), End: 2024-12-31 (Type: <class 'datetime.date'>)\n",
      "INFO:alphaledger.process_xbrl:[_direct_fact_to_row] Fact Security12bTitle: Found TimeFrameContext - Start: 2024-01-01 (Type: <class 'datetime.date'>), End: 2024-12-31 (Type: <class 'datetime.date'>)\n",
      "INFO:alphaledger.process_xbrl:[_direct_fact_to_row] Fact TradingSymbol: Found TimeFrameContext - Start: 2024-01-01 (Type: <class 'datetime.date'>), End: 2024-12-31 (Type: <class 'datetime.date'>)\n",
      "INFO:alphaledger.process_xbrl:[_direct_fact_to_row] Fact SecurityExchangeName: Found TimeFrameContext - Start: 2024-01-01 (Type: <class 'datetime.date'>), End: 2024-12-31 (Type: <class 'datetime.date'>)\n",
      "INFO:alphaledger.process_xbrl:[_direct_fact_to_row] Fact Security12bTitle: Found TimeFrameContext - Start: 2024-01-01 (Type: <class 'datetime.date'>), End: 2024-12-31 (Type: <class 'datetime.date'>)\n",
      "INFO:alphaledger.process_xbrl:[_direct_fact_to_row] Fact TradingSymbol: Found TimeFrameContext - Start: 2024-01-01 (Type: <class 'datetime.date'>), End: 2024-12-31 (Type: <class 'datetime.date'>)\n",
      "INFO:alphaledger.process_xbrl:[_direct_fact_to_row] Fact SecurityExchangeName: Found TimeFrameContext - Start: 2024-01-01 (Type: <class 'datetime.date'>), End: 2024-12-31 (Type: <class 'datetime.date'>)\n",
      "INFO:alphaledger.process_xbrl:[_direct_fact_to_row] Fact Security12bTitle: Found TimeFrameContext - Start: 2024-01-01 (Type: <class 'datetime.date'>), End: 2024-12-31 (Type: <class 'datetime.date'>)\n",
      "INFO:alphaledger.process_xbrl:[_direct_fact_to_row] Fact TradingSymbol: Found TimeFrameContext - Start: 2024-01-01 (Type: <class 'datetime.date'>), End: 2024-12-31 (Type: <class 'datetime.date'>)\n",
      "INFO:alphaledger.process_xbrl:[_direct_fact_to_row] Fact SecurityExchangeName: Found TimeFrameContext - Start: 2024-01-01 (Type: <class 'datetime.date'>), End: 2024-12-31 (Type: <class 'datetime.date'>)\n",
      "INFO:alphaledger.process_xbrl:[_direct_fact_to_row] Fact Security12bTitle: Found TimeFrameContext - Start: 2024-01-01 (Type: <class 'datetime.date'>), End: 2024-12-31 (Type: <class 'datetime.date'>)\n",
      "INFO:alphaledger.process_xbrl:[_direct_fact_to_row] Fact TradingSymbol: Found TimeFrameContext - Start: 2024-01-01 (Type: <class 'datetime.date'>), End: 2024-12-31 (Type: <class 'datetime.date'>)\n",
      "INFO:alphaledger.process_xbrl:[_direct_fact_to_row] Fact SecurityExchangeName: Found TimeFrameContext - Start: 2024-01-01 (Type: <class 'datetime.date'>), End: 2024-12-31 (Type: <class 'datetime.date'>)\n",
      "INFO:alphaledger.process_xbrl:[_direct_fact_to_row] Fact Security12bTitle: Found TimeFrameContext - Start: 2024-01-01 (Type: <class 'datetime.date'>), End: 2024-12-31 (Type: <class 'datetime.date'>)\n",
      "INFO:alphaledger.process_xbrl:[_direct_fact_to_row] Fact TradingSymbol: Found TimeFrameContext - Start: 2024-01-01 (Type: <class 'datetime.date'>), End: 2024-12-31 (Type: <class 'datetime.date'>)\n",
      "INFO:alphaledger.process_xbrl:[_direct_fact_to_row] Fact SecurityExchangeName: Found TimeFrameContext - Start: 2024-01-01 (Type: <class 'datetime.date'>), End: 2024-12-31 (Type: <class 'datetime.date'>)\n",
      "INFO:alphaledger.process_xbrl:[_direct_fact_to_row] Fact Security12bTitle: Found TimeFrameContext - Start: 2024-01-01 (Type: <class 'datetime.date'>), End: 2024-12-31 (Type: <class 'datetime.date'>)\n",
      "INFO:alphaledger.process_xbrl:[_direct_fact_to_row] Fact TradingSymbol: Found TimeFrameContext - Start: 2024-01-01 (Type: <class 'datetime.date'>), End: 2024-12-31 (Type: <class 'datetime.date'>)\n",
      "INFO:alphaledger.process_xbrl:[_direct_fact_to_row] Fact SecurityExchangeName: Found TimeFrameContext - Start: 2024-01-01 (Type: <class 'datetime.date'>), End: 2024-12-31 (Type: <class 'datetime.date'>)\n",
      "INFO:alphaledger.process_xbrl:[_direct_fact_to_row] Fact Security12bTitle: Found TimeFrameContext - Start: 2024-01-01 (Type: <class 'datetime.date'>), End: 2024-12-31 (Type: <class 'datetime.date'>)\n",
      "INFO:alphaledger.process_xbrl:[_direct_fact_to_row] Fact TradingSymbol: Found TimeFrameContext - Start: 2024-01-01 (Type: <class 'datetime.date'>), End: 2024-12-31 (Type: <class 'datetime.date'>)\n",
      "INFO:alphaledger.process_xbrl:[_direct_fact_to_row] Fact SecurityExchangeName: Found TimeFrameContext - Start: 2024-01-01 (Type: <class 'datetime.date'>), End: 2024-12-31 (Type: <class 'datetime.date'>)\n",
      "INFO:alphaledger.process_xbrl:[_direct_fact_to_row] Fact EntityWellKnownSeasonedIssuer: Found TimeFrameContext - Start: 2024-01-01 (Type: <class 'datetime.date'>), End: 2024-12-31 (Type: <class 'datetime.date'>)\n",
      "INFO:alphaledger.process_xbrl:[_direct_fact_to_row] Fact EntityVoluntaryFilers: Found TimeFrameContext - Start: 2024-01-01 (Type: <class 'datetime.date'>), End: 2024-12-31 (Type: <class 'datetime.date'>)\n",
      "INFO:alphaledger.process_xbrl:[_direct_fact_to_row] Fact EntityCurrentReportingStatus: Found TimeFrameContext - Start: 2024-01-01 (Type: <class 'datetime.date'>), End: 2024-12-31 (Type: <class 'datetime.date'>)\n",
      "INFO:alphaledger.process_xbrl:[_direct_fact_to_row] Fact EntityInteractiveDataCurrent: Found TimeFrameContext - Start: 2024-01-01 (Type: <class 'datetime.date'>), End: 2024-12-31 (Type: <class 'datetime.date'>)\n",
      "INFO:alphaledger.process_xbrl:[_direct_fact_to_row] Fact EntityFilerCategory: Found TimeFrameContext - Start: 2024-01-01 (Type: <class 'datetime.date'>), End: 2024-12-31 (Type: <class 'datetime.date'>)\n",
      "INFO:alphaledger.process_xbrl:[_direct_fact_to_row] Fact EntitySmallBusiness: Found TimeFrameContext - Start: 2024-01-01 (Type: <class 'datetime.date'>), End: 2024-12-31 (Type: <class 'datetime.date'>)\n",
      "INFO:alphaledger.process_xbrl:[_direct_fact_to_row] Fact EntityEmergingGrowthCompany: Found TimeFrameContext - Start: 2024-01-01 (Type: <class 'datetime.date'>), End: 2024-12-31 (Type: <class 'datetime.date'>)\n",
      "INFO:alphaledger.process_xbrl:[_direct_fact_to_row] Fact IcfrAuditorAttestationFlag: Found TimeFrameContext - Start: 2024-01-01 (Type: <class 'datetime.date'>), End: 2024-12-31 (Type: <class 'datetime.date'>)\n",
      "INFO:alphaledger.process_xbrl:[_direct_fact_to_row] Fact DocumentFinStmtErrorCorrectionFlag: Found TimeFrameContext - Start: 2024-01-01 (Type: <class 'datetime.date'>), End: 2024-12-31 (Type: <class 'datetime.date'>)\n",
      "INFO:alphaledger.process_xbrl:[_direct_fact_to_row] Fact EntityShellCompany: Found TimeFrameContext - Start: 2024-01-01 (Type: <class 'datetime.date'>), End: 2024-12-31 (Type: <class 'datetime.date'>)\n",
      "INFO:alphaledger.process_xbrl:[_direct_fact_to_row] Fact DocumentsIncorporatedByReferenceTextBlock: Found TimeFrameContext - Start: 2024-01-01 (Type: <class 'datetime.date'>), End: 2024-12-31 (Type: <class 'datetime.date'>)\n",
      "INFO:alphaledger.process_xbrl:[_direct_fact_to_row] Fact CybersecurityRiskManagementProcessesForAssessingIdentifyingAndManagingThreatsTextBlock: Found TimeFrameContext - Start: 2024-01-01 (Type: <class 'datetime.date'>), End: 2024-12-31 (Type: <class 'datetime.date'>)\n",
      "INFO:alphaledger.process_xbrl:[_direct_fact_to_row] Fact CybersecurityRiskManagementProcessesIntegratedTextBlock: Found TimeFrameContext - Start: 2024-01-01 (Type: <class 'datetime.date'>), End: 2024-12-31 (Type: <class 'datetime.date'>)\n",
      "INFO:alphaledger.process_xbrl:[_direct_fact_to_row] Fact CybersecurityRiskManagementProcessesIntegratedFlag: Found TimeFrameContext - Start: 2024-01-01 (Type: <class 'datetime.date'>), End: 2024-12-31 (Type: <class 'datetime.date'>)\n",
      "INFO:alphaledger.process_xbrl:[_direct_fact_to_row] Fact CybersecurityRiskThirdPartyOversightAndIdentificationProcessesFlag: Found TimeFrameContext - Start: 2024-01-01 (Type: <class 'datetime.date'>), End: 2024-12-31 (Type: <class 'datetime.date'>)\n",
      "INFO:alphaledger.process_xbrl:[_direct_fact_to_row] Fact CybersecurityRiskManagementThirdPartyEngagedFlag: Found TimeFrameContext - Start: 2024-01-01 (Type: <class 'datetime.date'>), End: 2024-12-31 (Type: <class 'datetime.date'>)\n",
      "INFO:alphaledger.process_xbrl:[_direct_fact_to_row] Fact CybersecurityRiskMateriallyAffectedOrReasonablyLikelyToMateriallyAffectRegistrantFlag: Found TimeFrameContext - Start: 2024-01-01 (Type: <class 'datetime.date'>), End: 2024-12-31 (Type: <class 'datetime.date'>)\n",
      "INFO:alphaledger.process_xbrl:[_direct_fact_to_row] Fact CybersecurityRiskProcessForInformingBoardCommitteeOrSubcommitteeResponsibleForOversightTextBlock: Found TimeFrameContext - Start: 2024-01-01 (Type: <class 'datetime.date'>), End: 2024-12-31 (Type: <class 'datetime.date'>)\n",
      "INFO:alphaledger.process_xbrl:[_direct_fact_to_row] Fact CybersecurityRiskRoleOfManagementTextBlock: Found TimeFrameContext - Start: 2024-01-01 (Type: <class 'datetime.date'>), End: 2024-12-31 (Type: <class 'datetime.date'>)\n",
      "INFO:alphaledger.process_xbrl:[_direct_fact_to_row] Fact CybersecurityRiskProcessForInformingManagementOrCommitteesResponsibleTextBlock: Found TimeFrameContext - Start: 2024-01-01 (Type: <class 'datetime.date'>), End: 2024-12-31 (Type: <class 'datetime.date'>)\n",
      "INFO:alphaledger.process_xbrl:[_direct_fact_to_row] Fact CybersecurityRiskManagementPositionsOrCommitteesResponsibleTextBlock: Found TimeFrameContext - Start: 2024-01-01 (Type: <class 'datetime.date'>), End: 2024-12-31 (Type: <class 'datetime.date'>)\n",
      "INFO:alphaledger.process_xbrl:[_direct_fact_to_row] Fact CybersecurityRiskManagementPositionsOrCommitteesResponsibleFlag: Found TimeFrameContext - Start: 2024-01-01 (Type: <class 'datetime.date'>), End: 2024-12-31 (Type: <class 'datetime.date'>)\n",
      "INFO:alphaledger.process_xbrl:[_direct_fact_to_row] Fact CybersecurityRiskManagementExpertiseOfManagementResponsibleTextBlock: Found TimeFrameContext - Start: 2024-01-01 (Type: <class 'datetime.date'>), End: 2024-12-31 (Type: <class 'datetime.date'>)\n",
      "INFO:alphaledger.process_xbrl:[_direct_fact_to_row] Fact CybersecurityRiskBoardCommitteeOrSubcommitteeResponsibleForOversightTextBlock: Found TimeFrameContext - Start: 2024-01-01 (Type: <class 'datetime.date'>), End: 2024-12-31 (Type: <class 'datetime.date'>)\n",
      "INFO:alphaledger.process_xbrl:[_direct_fact_to_row] Fact CybersecurityRiskBoardOfDirectorsOversightTextBlock: Found TimeFrameContext - Start: 2024-01-01 (Type: <class 'datetime.date'>), End: 2024-12-31 (Type: <class 'datetime.date'>)\n",
      "INFO:alphaledger.process_xbrl:[_direct_fact_to_row] Fact CybersecurityRiskManagementPositionsOrCommitteesResponsibleReportToBoardFlag: Found TimeFrameContext - Start: 2024-01-01 (Type: <class 'datetime.date'>), End: 2024-12-31 (Type: <class 'datetime.date'>)\n",
      "INFO:alphaledger.process_xbrl:[_direct_fact_to_row] Fact NonRule10b51ArrAdoptedFlag: Found TimeFrameContext - Start: 2024-10-01 (Type: <class 'datetime.date'>), End: 2024-12-31 (Type: <class 'datetime.date'>)\n",
      "INFO:alphaledger.process_xbrl:[_direct_fact_to_row] Fact Rule10b51ArrTrmntdFlag: Found TimeFrameContext - Start: 2024-10-01 (Type: <class 'datetime.date'>), End: 2024-12-31 (Type: <class 'datetime.date'>)\n",
      "INFO:alphaledger.process_xbrl:[_direct_fact_to_row] Fact Rule10b51ArrAdoptedFlag: Found TimeFrameContext - Start: 2024-10-01 (Type: <class 'datetime.date'>), End: 2024-12-31 (Type: <class 'datetime.date'>)\n",
      "INFO:alphaledger.process_xbrl:[_direct_fact_to_row] Fact NonRule10b51ArrTrmntdFlag: Found TimeFrameContext - Start: 2024-10-01 (Type: <class 'datetime.date'>), End: 2024-12-31 (Type: <class 'datetime.date'>)\n",
      "INFO:alphaledger.process_xbrl:[_direct_fact_to_row] Fact AuditorFirmId: Found TimeFrameContext - Start: 2024-01-01 (Type: <class 'datetime.date'>), End: 2024-12-31 (Type: <class 'datetime.date'>)\n",
      "INFO:alphaledger.process_xbrl:[_direct_fact_to_row] Fact InsiderTrdPoliciesProcAdoptedFlag: Found TimeFrameContext - Start: 2024-01-01 (Type: <class 'datetime.date'>), End: 2024-12-31 (Type: <class 'datetime.date'>)\n",
      "INFO:alphaledger.process_xbrl:[_direct_fact_to_row] Fact AuditorName: Found TimeFrameContext - Start: 2024-01-01 (Type: <class 'datetime.date'>), End: 2024-12-31 (Type: <class 'datetime.date'>)\n",
      "INFO:alphaledger.process_xbrl:[_direct_fact_to_row] Fact AuditorLocation: Found TimeFrameContext - Start: 2024-01-01 (Type: <class 'datetime.date'>), End: 2024-12-31 (Type: <class 'datetime.date'>)\n",
      "INFO:alphaledger.process_xbrl:[_direct_fact_to_row] Fact ScheduleOfValuationAndQualifyingAccountsDisclosureTextBlock: Found TimeFrameContext - Start: 2024-01-01 (Type: <class 'datetime.date'>), End: 2024-12-31 (Type: <class 'datetime.date'>)\n",
      "INFO:alphaledger.process_xbrl:[_direct_fact_to_row] Fact EntityPublicFloat: Found InstantContext - Instant: 2023-06-30 (Type: <class 'datetime.date'>)\n",
      "INFO:alphaledger.process_xbrl:[_direct_fact_to_row] Fact EntityCommonStockSharesOutstanding: Found InstantContext - Instant: 2024-02-09 (Type: <class 'datetime.date'>)\n",
      "INFO:alphaledger.process_xbrl:[_direct_fact_to_row] Fact ValuationAllowancesAndReservesBalance: Found InstantContext - Instant: 2022-12-31 (Type: <class 'datetime.date'>)\n",
      "INFO:alphaledger.process_xbrl:[_direct_fact_to_row] Fact ValuationAllowancesAndReservesChargedToCostAndExpense: Found TimeFrameContext - Start: 2023-01-01 (Type: <class 'datetime.date'>), End: 2023-12-31 (Type: <class 'datetime.date'>)\n",
      "INFO:alphaledger.process_xbrl:[_direct_fact_to_row] Fact ValuationAllowancesAndReservesDeductions: Found TimeFrameContext - Start: 2023-01-01 (Type: <class 'datetime.date'>), End: 2023-12-31 (Type: <class 'datetime.date'>)\n",
      "INFO:alphaledger.process_xbrl:[_direct_fact_to_row] Fact ValuationAllowancesAndReservesAdjustments: Found TimeFrameContext - Start: 2023-01-01 (Type: <class 'datetime.date'>), End: 2023-12-31 (Type: <class 'datetime.date'>)\n",
      "INFO:alphaledger.process_xbrl:[_direct_fact_to_row] Fact ValuationAllowancesAndReservesBalance: Found InstantContext - Instant: 2023-12-31 (Type: <class 'datetime.date'>)\n",
      "INFO:alphaledger.process_xbrl:[_direct_fact_to_row] Fact ValuationAllowancesAndReservesBalance: Found InstantContext - Instant: 2022-12-31 (Type: <class 'datetime.date'>)\n",
      "INFO:alphaledger.process_xbrl:[_direct_fact_to_row] Fact ValuationAllowancesAndReservesChargedToCostAndExpense: Found TimeFrameContext - Start: 2023-01-01 (Type: <class 'datetime.date'>), End: 2023-12-31 (Type: <class 'datetime.date'>)\n",
      "INFO:alphaledger.process_xbrl:[_direct_fact_to_row] Fact ValuationAllowancesAndReservesDeductions: Found TimeFrameContext - Start: 2023-01-01 (Type: <class 'datetime.date'>), End: 2023-12-31 (Type: <class 'datetime.date'>)\n",
      "INFO:alphaledger.process_xbrl:[_direct_fact_to_row] Fact ValuationAllowancesAndReservesAdjustments: Found TimeFrameContext - Start: 2023-01-01 (Type: <class 'datetime.date'>), End: 2023-12-31 (Type: <class 'datetime.date'>)\n",
      "INFO:alphaledger.process_xbrl:[_direct_fact_to_row] Fact ValuationAllowancesAndReservesBalance: Found InstantContext - Instant: 2023-12-31 (Type: <class 'datetime.date'>)\n",
      "INFO:alphaledger.process_xbrl:[_direct_fact_to_row] Fact ValuationAllowancesAndReservesBalance: Found InstantContext - Instant: 2021-12-31 (Type: <class 'datetime.date'>)\n",
      "INFO:alphaledger.process_xbrl:[_direct_fact_to_row] Fact ValuationAllowancesAndReservesChargedToCostAndExpense: Found TimeFrameContext - Start: 2022-01-01 (Type: <class 'datetime.date'>), End: 2022-12-31 (Type: <class 'datetime.date'>)\n",
      "INFO:alphaledger.process_xbrl:[_direct_fact_to_row] Fact ValuationAllowancesAndReservesDeductions: Found TimeFrameContext - Start: 2022-01-01 (Type: <class 'datetime.date'>), End: 2022-12-31 (Type: <class 'datetime.date'>)\n",
      "INFO:alphaledger.process_xbrl:[_direct_fact_to_row] Fact ValuationAllowancesAndReservesAdjustments: Found TimeFrameContext - Start: 2022-01-01 (Type: <class 'datetime.date'>), End: 2022-12-31 (Type: <class 'datetime.date'>)\n",
      "INFO:alphaledger.process_xbrl:[_direct_fact_to_row] Fact ValuationAllowancesAndReservesBalance: Found InstantContext - Instant: 2022-12-31 (Type: <class 'datetime.date'>)\n",
      "INFO:alphaledger.process_xbrl:[_direct_fact_to_row] Fact ValuationAllowancesAndReservesBalance: Found InstantContext - Instant: 2021-12-31 (Type: <class 'datetime.date'>)\n",
      "INFO:alphaledger.process_xbrl:[_direct_fact_to_row] Fact ValuationAllowancesAndReservesChargedToCostAndExpense: Found TimeFrameContext - Start: 2022-01-01 (Type: <class 'datetime.date'>), End: 2022-12-31 (Type: <class 'datetime.date'>)\n",
      "INFO:alphaledger.process_xbrl:[_direct_fact_to_row] Fact ValuationAllowancesAndReservesDeductions: Found TimeFrameContext - Start: 2022-01-01 (Type: <class 'datetime.date'>), End: 2022-12-31 (Type: <class 'datetime.date'>)\n",
      "INFO:alphaledger.process_xbrl:[_direct_fact_to_row] Fact ValuationAllowancesAndReservesAdjustments: Found TimeFrameContext - Start: 2022-01-01 (Type: <class 'datetime.date'>), End: 2022-12-31 (Type: <class 'datetime.date'>)\n",
      "INFO:alphaledger.process_xbrl:[_direct_fact_to_row] Fact ValuationAllowancesAndReservesBalance: Found InstantContext - Instant: 2022-12-31 (Type: <class 'datetime.date'>)\n",
      "INFO:alphaledger.process_xbrl:[_direct_fact_to_row] Fact ValuationAllowancesAndReservesBalance: Found InstantContext - Instant: 2020-12-31 (Type: <class 'datetime.date'>)\n",
      "INFO:alphaledger.process_xbrl:[_direct_fact_to_row] Fact ValuationAllowancesAndReservesChargedToCostAndExpense: Found TimeFrameContext - Start: 2021-01-01 (Type: <class 'datetime.date'>), End: 2021-12-31 (Type: <class 'datetime.date'>)\n",
      "INFO:alphaledger.process_xbrl:[_direct_fact_to_row] Fact ValuationAllowancesAndReservesDeductions: Found TimeFrameContext - Start: 2021-01-01 (Type: <class 'datetime.date'>), End: 2021-12-31 (Type: <class 'datetime.date'>)\n",
      "INFO:alphaledger.process_xbrl:[_direct_fact_to_row] Fact ValuationAllowancesAndReservesAdjustments: Found TimeFrameContext - Start: 2021-01-01 (Type: <class 'datetime.date'>), End: 2021-12-31 (Type: <class 'datetime.date'>)\n",
      "INFO:alphaledger.process_xbrl:[_direct_fact_to_row] Fact ValuationAllowancesAndReservesBalance: Found InstantContext - Instant: 2021-12-31 (Type: <class 'datetime.date'>)\n",
      "INFO:alphaledger.process_xbrl:[_direct_fact_to_row] Fact ValuationAllowancesAndReservesBalance: Found InstantContext - Instant: 2020-12-31 (Type: <class 'datetime.date'>)\n",
      "INFO:alphaledger.process_xbrl:[_direct_fact_to_row] Fact ValuationAllowancesAndReservesChargedToCostAndExpense: Found TimeFrameContext - Start: 2021-01-01 (Type: <class 'datetime.date'>), End: 2021-12-31 (Type: <class 'datetime.date'>)\n",
      "INFO:alphaledger.process_xbrl:[_direct_fact_to_row] Fact ValuationAllowancesAndReservesDeductions: Found TimeFrameContext - Start: 2021-01-01 (Type: <class 'datetime.date'>), End: 2021-12-31 (Type: <class 'datetime.date'>)\n",
      "INFO:alphaledger.process_xbrl:[_direct_fact_to_row] Fact ValuationAllowancesAndReservesAdjustments: Found TimeFrameContext - Start: 2021-01-01 (Type: <class 'datetime.date'>), End: 2021-12-31 (Type: <class 'datetime.date'>)\n",
      "INFO:alphaledger.process_xbrl:[_direct_fact_to_row] Fact ValuationAllowancesAndReservesBalance: Found InstantContext - Instant: 2021-12-31 (Type: <class 'datetime.date'>)\n",
      "INFO:alphaledger.process_xbrl:[_direct_fact_to_row] Fact ValuationAllowancesAndReservesBalance: Found InstantContext - Instant: 2022-12-31 (Type: <class 'datetime.date'>)\n",
      "INFO:alphaledger.process_xbrl:[_direct_fact_to_row] Fact ValuationAllowancesAndReservesChargedToCostAndExpense: Found TimeFrameContext - Start: 2023-01-01 (Type: <class 'datetime.date'>), End: 2023-12-31 (Type: <class 'datetime.date'>)\n",
      "INFO:alphaledger.process_xbrl:[_direct_fact_to_row] Fact ValuationAllowancesAndReservesDeductions: Found TimeFrameContext - Start: 2023-01-01 (Type: <class 'datetime.date'>), End: 2023-12-31 (Type: <class 'datetime.date'>)\n",
      "INFO:alphaledger.process_xbrl:[_direct_fact_to_row] Fact ValuationAllowancesAndReservesAdjustments: Found TimeFrameContext - Start: 2023-01-01 (Type: <class 'datetime.date'>), End: 2023-12-31 (Type: <class 'datetime.date'>)\n",
      "INFO:alphaledger.process_xbrl:[_direct_fact_to_row] Fact ValuationAllowancesAndReservesBalance: Found InstantContext - Instant: 2023-12-31 (Type: <class 'datetime.date'>)\n",
      "INFO:alphaledger.process_xbrl:[_direct_fact_to_row] Fact ValuationAllowancesAndReservesBalance: Found InstantContext - Instant: 2021-12-31 (Type: <class 'datetime.date'>)\n",
      "INFO:alphaledger.process_xbrl:[_direct_fact_to_row] Fact ValuationAllowancesAndReservesChargedToCostAndExpense: Found TimeFrameContext - Start: 2022-01-01 (Type: <class 'datetime.date'>), End: 2022-12-31 (Type: <class 'datetime.date'>)\n",
      "INFO:alphaledger.process_xbrl:[_direct_fact_to_row] Fact ValuationAllowancesAndReservesDeductions: Found TimeFrameContext - Start: 2022-01-01 (Type: <class 'datetime.date'>), End: 2022-12-31 (Type: <class 'datetime.date'>)\n",
      "INFO:alphaledger.process_xbrl:[_direct_fact_to_row] Fact ValuationAllowancesAndReservesAdjustments: Found TimeFrameContext - Start: 2022-01-01 (Type: <class 'datetime.date'>), End: 2022-12-31 (Type: <class 'datetime.date'>)\n",
      "INFO:alphaledger.process_xbrl:[_direct_fact_to_row] Fact ValuationAllowancesAndReservesBalance: Found InstantContext - Instant: 2022-12-31 (Type: <class 'datetime.date'>)\n",
      "INFO:alphaledger.process_xbrl:[_direct_fact_to_row] Fact ValuationAllowancesAndReservesBalance: Found InstantContext - Instant: 2020-12-31 (Type: <class 'datetime.date'>)\n",
      "INFO:alphaledger.process_xbrl:[_direct_fact_to_row] Fact ValuationAllowancesAndReservesChargedToCostAndExpense: Found TimeFrameContext - Start: 2021-01-01 (Type: <class 'datetime.date'>), End: 2021-12-31 (Type: <class 'datetime.date'>)\n",
      "INFO:alphaledger.process_xbrl:[_direct_fact_to_row] Fact ValuationAllowancesAndReservesDeductions: Found TimeFrameContext - Start: 2021-01-01 (Type: <class 'datetime.date'>), End: 2021-12-31 (Type: <class 'datetime.date'>)\n",
      "INFO:alphaledger.process_xbrl:[_direct_fact_to_row] Fact ValuationAllowancesAndReservesAdjustments: Found TimeFrameContext - Start: 2021-01-01 (Type: <class 'datetime.date'>), End: 2021-12-31 (Type: <class 'datetime.date'>)\n",
      "INFO:alphaledger.process_xbrl:[_direct_fact_to_row] Fact ValuationAllowancesAndReservesBalance: Found InstantContext - Instant: 2021-12-31 (Type: <class 'datetime.date'>)\n",
      "INFO:alphaledger.process_xbrl:[_direct_fact_to_row] Fact ValuationAllowancesAndReservesBalance: Found InstantContext - Instant: 2022-12-31 (Type: <class 'datetime.date'>)\n",
      "INFO:alphaledger.process_xbrl:[_direct_fact_to_row] Fact ValuationAllowancesAndReservesChargedToCostAndExpense: Found TimeFrameContext - Start: 2023-01-01 (Type: <class 'datetime.date'>), End: 2023-12-31 (Type: <class 'datetime.date'>)\n",
      "INFO:alphaledger.process_xbrl:[_direct_fact_to_row] Fact ValuationAllowancesAndReservesDeductions: Found TimeFrameContext - Start: 2023-01-01 (Type: <class 'datetime.date'>), End: 2023-12-31 (Type: <class 'datetime.date'>)\n",
      "INFO:alphaledger.process_xbrl:[_direct_fact_to_row] Fact ValuationAllowancesAndReservesAdjustments: Found TimeFrameContext - Start: 2023-01-01 (Type: <class 'datetime.date'>), End: 2023-12-31 (Type: <class 'datetime.date'>)\n",
      "INFO:alphaledger.process_xbrl:[_direct_fact_to_row] Fact ValuationAllowancesAndReservesBalance: Found InstantContext - Instant: 2023-12-31 (Type: <class 'datetime.date'>)\n",
      "INFO:alphaledger.process_xbrl:[_direct_fact_to_row] Fact ValuationAllowancesAndReservesBalance: Found InstantContext - Instant: 2021-12-31 (Type: <class 'datetime.date'>)\n",
      "INFO:alphaledger.process_xbrl:[_direct_fact_to_row] Fact ValuationAllowancesAndReservesChargedToCostAndExpense: Found TimeFrameContext - Start: 2022-01-01 (Type: <class 'datetime.date'>), End: 2022-12-31 (Type: <class 'datetime.date'>)\n",
      "INFO:alphaledger.process_xbrl:[_direct_fact_to_row] Fact ValuationAllowancesAndReservesDeductions: Found TimeFrameContext - Start: 2022-01-01 (Type: <class 'datetime.date'>), End: 2022-12-31 (Type: <class 'datetime.date'>)\n",
      "INFO:alphaledger.process_xbrl:[_direct_fact_to_row] Fact ValuationAllowancesAndReservesAdjustments: Found TimeFrameContext - Start: 2022-01-01 (Type: <class 'datetime.date'>), End: 2022-12-31 (Type: <class 'datetime.date'>)\n",
      "INFO:alphaledger.process_xbrl:[_direct_fact_to_row] Fact ValuationAllowancesAndReservesBalance: Found InstantContext - Instant: 2022-12-31 (Type: <class 'datetime.date'>)\n",
      "INFO:alphaledger.process_xbrl:[_direct_fact_to_row] Fact ValuationAllowancesAndReservesBalance: Found InstantContext - Instant: 2020-12-31 (Type: <class 'datetime.date'>)\n",
      "INFO:alphaledger.process_xbrl:[_direct_fact_to_row] Fact ValuationAllowancesAndReservesChargedToCostAndExpense: Found TimeFrameContext - Start: 2021-01-01 (Type: <class 'datetime.date'>), End: 2021-12-31 (Type: <class 'datetime.date'>)\n",
      "INFO:alphaledger.process_xbrl:[_direct_fact_to_row] Fact ValuationAllowancesAndReservesDeductions: Found TimeFrameContext - Start: 2021-01-01 (Type: <class 'datetime.date'>), End: 2021-12-31 (Type: <class 'datetime.date'>)\n",
      "INFO:alphaledger.process_xbrl:[_direct_fact_to_row] Fact ValuationAllowancesAndReservesAdjustments: Found TimeFrameContext - Start: 2021-01-01 (Type: <class 'datetime.date'>), End: 2021-12-31 (Type: <class 'datetime.date'>)\n",
      "INFO:alphaledger.process_xbrl:[_direct_fact_to_row] Fact ValuationAllowancesAndReservesBalance: Found InstantContext - Instant: 2021-12-31 (Type: <class 'datetime.date'>)\n",
      "INFO:alphaledger.process_xbrl:[_direct_fact_to_row] Fact SecurityExchangeName: Found TimeFrameContext - Start: 2023-01-01 (Type: <class 'datetime.date'>), End: 2023-12-31 (Type: <class 'datetime.date'>)\n",
      "INFO:alphaledger.process_xbrl:[_direct_fact_to_row] Fact EntityCentralIndexKey: Found TimeFrameContext - Start: 2023-01-01 (Type: <class 'datetime.date'>), End: 2023-12-31 (Type: <class 'datetime.date'>)\n",
      "INFO:alphaledger.process_xbrl:[_direct_fact_to_row] Fact DocumentFiscalYearFocus: Found TimeFrameContext - Start: 2023-01-01 (Type: <class 'datetime.date'>), End: 2023-12-31 (Type: <class 'datetime.date'>)\n",
      "INFO:alphaledger.process_xbrl:[_direct_fact_to_row] Fact DocumentFiscalPeriodFocus: Found TimeFrameContext - Start: 2023-01-01 (Type: <class 'datetime.date'>), End: 2023-12-31 (Type: <class 'datetime.date'>)\n",
      "INFO:alphaledger.process_xbrl:[_direct_fact_to_row] Fact AmendmentFlag: Found TimeFrameContext - Start: 2023-01-01 (Type: <class 'datetime.date'>), End: 2023-12-31 (Type: <class 'datetime.date'>)\n",
      "INFO:alphaledger.process_xbrl:[_direct_fact_to_row] Fact PropertyPlantAndEquipmentUsefulLife: Found InstantContext - Instant: 2022-09-30 (Type: <class 'datetime.date'>)\n",
      "INFO:alphaledger.process_xbrl:[_direct_fact_to_row] Fact PropertyPlantAndEquipmentUsefulLife: Found InstantContext - Instant: 2022-09-30 (Type: <class 'datetime.date'>)\n",
      "INFO:alphaledger.process_xbrl:[_direct_fact_to_row] Fact OperatingLeaseIncomeComprehensiveIncomeExtensibleList: Found TimeFrameContext - Start: 2023-01-01 (Type: <class 'datetime.date'>), End: 2023-12-31 (Type: <class 'datetime.date'>)\n",
      "INFO:alphaledger.process_xbrl:[_direct_fact_to_row] Fact OperatingLeaseIncomeComprehensiveIncomeExtensibleList: Found TimeFrameContext - Start: 2022-01-01 (Type: <class 'datetime.date'>), End: 2022-12-31 (Type: <class 'datetime.date'>)\n",
      "INFO:alphaledger.process_xbrl:[_direct_fact_to_row] Fact OperatingLeaseIncomeComprehensiveIncomeExtensibleList: Found TimeFrameContext - Start: 2021-01-01 (Type: <class 'datetime.date'>), End: 2021-12-31 (Type: <class 'datetime.date'>)\n",
      "INFO:alphaledger.process_xbrl:[_direct_fact_to_row] Fact ProductWarrantyTerm: Found TimeFrameContext - Start: 2023-01-01 (Type: <class 'datetime.date'>), End: 2023-12-31 (Type: <class 'datetime.date'>)\n",
      "INFO:alphaledger.process_xbrl:[_direct_fact_to_row] Fact ProductWarrantyTerm: Found TimeFrameContext - Start: 2023-01-01 (Type: <class 'datetime.date'>), End: 2023-12-31 (Type: <class 'datetime.date'>)\n",
      "INFO:alphaledger.process_xbrl:[_direct_fact_to_row] Fact GovernmentAssistancePeriodOfGrants: Found TimeFrameContext - Start: 2023-01-01 (Type: <class 'datetime.date'>), End: 2023-12-31 (Type: <class 'datetime.date'>)\n",
      "INFO:alphaledger.process_xbrl:[_direct_fact_to_row] Fact ShareBasedCompensationArrangementByShareBasedPaymentAwardAwardVestingPeriod1: Found TimeFrameContext - Start: 2023-01-01 (Type: <class 'datetime.date'>), End: 2023-12-31 (Type: <class 'datetime.date'>)\n",
      "INFO:alphaledger.process_xbrl:[_direct_fact_to_row] Fact SupplierFinanceProgramObligationStatementOfFinancialPositionExtensibleEnumeration: Found InstantContext - Instant: 2023-12-31 (Type: <class 'datetime.date'>)\n",
      "INFO:alphaledger.process_xbrl:[_direct_fact_to_row] Fact SupplierFinanceProgramObligationStatementOfFinancialPositionExtensibleEnumeration: Found InstantContext - Instant: 2022-12-31 (Type: <class 'datetime.date'>)\n",
      "INFO:alphaledger.process_xbrl:[_direct_fact_to_row] Fact FinanceLeaseRightOfUseAssetStatementOfFinancialPositionExtensibleList: Found InstantContext - Instant: 2022-12-31 (Type: <class 'datetime.date'>)\n",
      "INFO:alphaledger.process_xbrl:[_direct_fact_to_row] Fact FinanceLeaseRightOfUseAssetStatementOfFinancialPositionExtensibleList: Found InstantContext - Instant: 2023-12-31 (Type: <class 'datetime.date'>)\n",
      "INFO:alphaledger.process_xbrl:[_direct_fact_to_row] Fact FinanceLeaseLiabilityCurrentStatementOfFinancialPositionExtensibleList: Found InstantContext - Instant: 2023-12-31 (Type: <class 'datetime.date'>)\n",
      "INFO:alphaledger.process_xbrl:[_direct_fact_to_row] Fact FinanceLeaseLiabilityCurrentStatementOfFinancialPositionExtensibleList: Found InstantContext - Instant: 2022-12-31 (Type: <class 'datetime.date'>)\n",
      "INFO:alphaledger.process_xbrl:[_direct_fact_to_row] Fact FinanceLeaseLiabilityNoncurrentStatementOfFinancialPositionExtensibleList: Found InstantContext - Instant: 2023-12-31 (Type: <class 'datetime.date'>)\n",
      "INFO:alphaledger.process_xbrl:[_direct_fact_to_row] Fact FinanceLeaseLiabilityNoncurrentStatementOfFinancialPositionExtensibleList: Found InstantContext - Instant: 2022-12-31 (Type: <class 'datetime.date'>)\n",
      "INFO:alphaledger.process_xbrl:[_direct_fact_to_row] Fact LesseeOperatingLeaseTermOfContract: Found InstantContext - Instant: 2023-12-31 (Type: <class 'datetime.date'>)\n",
      "INFO:alphaledger.process_xbrl:[_direct_fact_to_row] Fact RevenueRemainingPerformanceObligationExpectedTimingOfSatisfactionPeriod1: Found InstantContext - Instant: 2023-12-31 (Type: <class 'datetime.date'>)\n",
      "INFO:alphaledger.process_xbrl:[_direct_fact_to_row] Fact DisposalGroupNotDiscontinuedOperationGainLossOnDisposalStatementOfIncomeExtensibleList: Found TimeFrameContext - Start: 2023-01-01 (Type: <class 'datetime.date'>), End: 2023-12-31 (Type: <class 'datetime.date'>)\n",
      "INFO:alphaledger.process_xbrl:[_direct_fact_to_row] Fact DisposalGroupIncludingDiscontinuedOperationsUpgradedHardwareServicesPeriod: Found TimeFrameContext - Start: 2021-11-03 (Type: <class 'datetime.date'>), End: 2021-11-03 (Type: <class 'datetime.date'>)\n",
      "INFO:alphaledger.process_xbrl:[_direct_fact_to_row] Fact EnvironmentalLossContingencyStatementOfFinancialPositionExtensibleEnumeration: Found InstantContext - Instant: 2022-12-31 (Type: <class 'datetime.date'>)\n",
      "INFO:alphaledger.process_xbrl:[_direct_fact_to_row] Fact EnvironmentalLossContingencyStatementOfFinancialPositionExtensibleEnumeration: Found InstantContext - Instant: 2023-12-31 (Type: <class 'datetime.date'>)\n",
      "INFO:alphaledger.process_xbrl:[_direct_fact_to_row] Fact HedgedLiabilityStatementOfFinancialPositionExtensibleEnumeration: Found InstantContext - Instant: 2023-12-31 (Type: <class 'datetime.date'>)\n",
      "INFO:alphaledger.process_xbrl:[_direct_fact_to_row] Fact HedgedLiabilityStatementOfFinancialPositionExtensibleEnumeration: Found InstantContext - Instant: 2022-12-31 (Type: <class 'datetime.date'>)\n",
      "INFO:alphaledger.process_xbrl:[_direct_fact_to_row] Fact HedgedLiabilityStatementOfFinancialPositionExtensibleEnumeration: Found InstantContext - Instant: 2022-12-31 (Type: <class 'datetime.date'>)\n",
      "INFO:alphaledger.process_xbrl:[_direct_fact_to_row] Fact HedgedLiabilityStatementOfFinancialPositionExtensibleEnumeration: Found InstantContext - Instant: 2023-12-31 (Type: <class 'datetime.date'>)\n",
      "INFO:alphaledger.process_xbrl:[_direct_fact_to_row] Fact DerivativeGainLossStatementOfIncomeOrComprehensiveIncomeExtensibleEnumeration: Found TimeFrameContext - Start: 2021-01-01 (Type: <class 'datetime.date'>), End: 2021-12-31 (Type: <class 'datetime.date'>)\n",
      "INFO:alphaledger.process_xbrl:[_direct_fact_to_row] Fact DerivativeGainLossStatementOfIncomeOrComprehensiveIncomeExtensibleEnumeration: Found TimeFrameContext - Start: 2022-01-01 (Type: <class 'datetime.date'>), End: 2022-12-31 (Type: <class 'datetime.date'>)\n",
      "INFO:alphaledger.process_xbrl:[_direct_fact_to_row] Fact DerivativeGainLossStatementOfIncomeOrComprehensiveIncomeExtensibleEnumeration: Found TimeFrameContext - Start: 2023-01-01 (Type: <class 'datetime.date'>), End: 2023-12-31 (Type: <class 'datetime.date'>)\n",
      "INFO:alphaledger.process_xbrl:[_direct_fact_to_row] Fact DerivativeExcludedComponentGainLossStatementOfIncomeOrComprehensiveIncomeExtensibleEnumeration: Found TimeFrameContext - Start: 2023-01-01 (Type: <class 'datetime.date'>), End: 2023-12-31 (Type: <class 'datetime.date'>)\n",
      "INFO:alphaledger.process_xbrl:[_direct_fact_to_row] Fact DerivativeExcludedComponentGainLossStatementOfIncomeOrComprehensiveIncomeExtensibleEnumeration: Found TimeFrameContext - Start: 2022-01-01 (Type: <class 'datetime.date'>), End: 2022-12-31 (Type: <class 'datetime.date'>)\n",
      "INFO:alphaledger.process_xbrl:[_direct_fact_to_row] Fact DerivativeExcludedComponentGainLossStatementOfIncomeOrComprehensiveIncomeExtensibleEnumeration: Found TimeFrameContext - Start: 2021-01-01 (Type: <class 'datetime.date'>), End: 2021-12-31 (Type: <class 'datetime.date'>)\n",
      "INFO:alphaledger.process_xbrl:[_direct_fact_to_row] Fact DefinedBenefitPlanPeriodUsedInFinalPayFormulaThatDeterminesBenefits: Found TimeFrameContext - Start: 2023-01-01 (Type: <class 'datetime.date'>), End: 2023-12-31 (Type: <class 'datetime.date'>)\n",
      "INFO:alphaledger.process_xbrl:[_direct_fact_to_row] Fact NumberOfYearsOverWhichChangesInFairValueOfPlanAssetsRecognizedInNetPeriodicIncomeCost: Found TimeFrameContext - Start: 2023-01-01 (Type: <class 'datetime.date'>), End: 2023-12-31 (Type: <class 'datetime.date'>)\n",
      "INFO:alphaledger.process_xbrl:[_direct_fact_to_row] Fact DocumentType: Found TimeFrameContext - Start: 2023-01-01 (Type: <class 'datetime.date'>), End: 2023-12-31 (Type: <class 'datetime.date'>)\n",
      "INFO:alphaledger.process_xbrl:[_direct_fact_to_row] Fact DocumentAnnualReport: Found TimeFrameContext - Start: 2023-01-01 (Type: <class 'datetime.date'>), End: 2023-12-31 (Type: <class 'datetime.date'>)\n",
      "INFO:alphaledger.process_xbrl:[_direct_fact_to_row] Fact DocumentTransitionReport: Found TimeFrameContext - Start: 2023-01-01 (Type: <class 'datetime.date'>), End: 2023-12-31 (Type: <class 'datetime.date'>)\n",
      "INFO:alphaledger.process_xbrl:[_direct_fact_to_row] Fact DocumentPeriodEndDate: Found TimeFrameContext - Start: 2023-01-01 (Type: <class 'datetime.date'>), End: 2023-12-31 (Type: <class 'datetime.date'>)\n",
      "INFO:alphaledger.process_xbrl:[_direct_fact_to_row] Fact CurrentFiscalYearEndDate: Found TimeFrameContext - Start: 2023-01-01 (Type: <class 'datetime.date'>), End: 2023-12-31 (Type: <class 'datetime.date'>)\n",
      "INFO:alphaledger.process_xbrl:[_direct_fact_to_row] Fact EntityFileNumber: Found TimeFrameContext - Start: 2023-01-01 (Type: <class 'datetime.date'>), End: 2023-12-31 (Type: <class 'datetime.date'>)\n",
      "INFO:alphaledger.process_xbrl:[_direct_fact_to_row] Fact EntityRegistrantName: Found TimeFrameContext - Start: 2023-01-01 (Type: <class 'datetime.date'>), End: 2023-12-31 (Type: <class 'datetime.date'>)\n",
      "INFO:alphaledger.process_xbrl:[_direct_fact_to_row] Fact EntityIncorporationStateCountryCode: Found TimeFrameContext - Start: 2023-01-01 (Type: <class 'datetime.date'>), End: 2023-12-31 (Type: <class 'datetime.date'>)\n",
      "INFO:alphaledger.process_xbrl:[_direct_fact_to_row] Fact EntityTaxIdentificationNumber: Found TimeFrameContext - Start: 2023-01-01 (Type: <class 'datetime.date'>), End: 2023-12-31 (Type: <class 'datetime.date'>)\n",
      "INFO:alphaledger.process_xbrl:[_direct_fact_to_row] Fact EntityAddressAddressLine1: Found TimeFrameContext - Start: 2023-01-01 (Type: <class 'datetime.date'>), End: 2023-12-31 (Type: <class 'datetime.date'>)\n",
      "INFO:alphaledger.process_xbrl:[_direct_fact_to_row] Fact EntityAddressCityOrTown: Found TimeFrameContext - Start: 2023-01-01 (Type: <class 'datetime.date'>), End: 2023-12-31 (Type: <class 'datetime.date'>)\n",
      "INFO:alphaledger.process_xbrl:[_direct_fact_to_row] Fact EntityAddressStateOrProvince: Found TimeFrameContext - Start: 2023-01-01 (Type: <class 'datetime.date'>), End: 2023-12-31 (Type: <class 'datetime.date'>)\n",
      "INFO:alphaledger.process_xbrl:[_direct_fact_to_row] Fact EntityAddressPostalZipCode: Found TimeFrameContext - Start: 2023-01-01 (Type: <class 'datetime.date'>), End: 2023-12-31 (Type: <class 'datetime.date'>)\n",
      "INFO:alphaledger.process_xbrl:[_direct_fact_to_row] Fact CityAreaCode: Found TimeFrameContext - Start: 2023-01-01 (Type: <class 'datetime.date'>), End: 2023-12-31 (Type: <class 'datetime.date'>)\n",
      "INFO:alphaledger.process_xbrl:[_direct_fact_to_row] Fact LocalPhoneNumber: Found TimeFrameContext - Start: 2023-01-01 (Type: <class 'datetime.date'>), End: 2023-12-31 (Type: <class 'datetime.date'>)\n",
      "INFO:alphaledger.process_xbrl:[_direct_fact_to_row] Fact Security12bTitle: Found TimeFrameContext - Start: 2023-01-01 (Type: <class 'datetime.date'>), End: 2023-12-31 (Type: <class 'datetime.date'>)\n",
      "INFO:alphaledger.process_xbrl:[_direct_fact_to_row] Fact Security12bTitle: Found TimeFrameContext - Start: 2023-01-01 (Type: <class 'datetime.date'>), End: 2023-12-31 (Type: <class 'datetime.date'>)\n",
      "INFO:alphaledger.process_xbrl:[_direct_fact_to_row] Fact TradingSymbol: Found TimeFrameContext - Start: 2023-01-01 (Type: <class 'datetime.date'>), End: 2023-12-31 (Type: <class 'datetime.date'>)\n",
      "INFO:alphaledger.process_xbrl:[_direct_fact_to_row] Fact TradingSymbol: Found TimeFrameContext - Start: 2023-01-01 (Type: <class 'datetime.date'>), End: 2023-12-31 (Type: <class 'datetime.date'>)\n",
      "INFO:alphaledger.process_xbrl:[_direct_fact_to_row] Fact SecurityExchangeName: Found TimeFrameContext - Start: 2023-01-01 (Type: <class 'datetime.date'>), End: 2023-12-31 (Type: <class 'datetime.date'>)\n",
      "INFO:alphaledger.process_xbrl:[_direct_fact_to_row] Fact Security12bTitle: Found TimeFrameContext - Start: 2023-01-01 (Type: <class 'datetime.date'>), End: 2023-12-31 (Type: <class 'datetime.date'>)\n",
      "INFO:alphaledger.process_xbrl:[_direct_fact_to_row] Fact TradingSymbol: Found TimeFrameContext - Start: 2023-01-01 (Type: <class 'datetime.date'>), End: 2023-12-31 (Type: <class 'datetime.date'>)\n",
      "INFO:alphaledger.process_xbrl:[_direct_fact_to_row] Fact SecurityExchangeName: Found TimeFrameContext - Start: 2023-01-01 (Type: <class 'datetime.date'>), End: 2023-12-31 (Type: <class 'datetime.date'>)\n",
      "INFO:alphaledger.process_xbrl:[_direct_fact_to_row] Fact Security12bTitle: Found TimeFrameContext - Start: 2023-01-01 (Type: <class 'datetime.date'>), End: 2023-12-31 (Type: <class 'datetime.date'>)\n",
      "INFO:alphaledger.process_xbrl:[_direct_fact_to_row] Fact TradingSymbol: Found TimeFrameContext - Start: 2023-01-01 (Type: <class 'datetime.date'>), End: 2023-12-31 (Type: <class 'datetime.date'>)\n",
      "INFO:alphaledger.process_xbrl:[_direct_fact_to_row] Fact SecurityExchangeName: Found TimeFrameContext - Start: 2023-01-01 (Type: <class 'datetime.date'>), End: 2023-12-31 (Type: <class 'datetime.date'>)\n",
      "INFO:alphaledger.process_xbrl:[_direct_fact_to_row] Fact Security12bTitle: Found TimeFrameContext - Start: 2023-01-01 (Type: <class 'datetime.date'>), End: 2023-12-31 (Type: <class 'datetime.date'>)\n",
      "INFO:alphaledger.process_xbrl:[_direct_fact_to_row] Fact TradingSymbol: Found TimeFrameContext - Start: 2023-01-01 (Type: <class 'datetime.date'>), End: 2023-12-31 (Type: <class 'datetime.date'>)\n",
      "INFO:alphaledger.process_xbrl:[_direct_fact_to_row] Fact SecurityExchangeName: Found TimeFrameContext - Start: 2023-01-01 (Type: <class 'datetime.date'>), End: 2023-12-31 (Type: <class 'datetime.date'>)\n",
      "INFO:alphaledger.process_xbrl:[_direct_fact_to_row] Fact Security12bTitle: Found TimeFrameContext - Start: 2023-01-01 (Type: <class 'datetime.date'>), End: 2023-12-31 (Type: <class 'datetime.date'>)\n",
      "INFO:alphaledger.process_xbrl:[_direct_fact_to_row] Fact TradingSymbol: Found TimeFrameContext - Start: 2023-01-01 (Type: <class 'datetime.date'>), End: 2023-12-31 (Type: <class 'datetime.date'>)\n",
      "INFO:alphaledger.process_xbrl:[_direct_fact_to_row] Fact SecurityExchangeName: Found TimeFrameContext - Start: 2023-01-01 (Type: <class 'datetime.date'>), End: 2023-12-31 (Type: <class 'datetime.date'>)\n",
      "INFO:alphaledger.process_xbrl:[_direct_fact_to_row] Fact Security12bTitle: Found TimeFrameContext - Start: 2023-01-01 (Type: <class 'datetime.date'>), End: 2023-12-31 (Type: <class 'datetime.date'>)\n",
      "INFO:alphaledger.process_xbrl:[_direct_fact_to_row] Fact TradingSymbol: Found TimeFrameContext - Start: 2023-01-01 (Type: <class 'datetime.date'>), End: 2023-12-31 (Type: <class 'datetime.date'>)\n",
      "INFO:alphaledger.process_xbrl:[_direct_fact_to_row] Fact SecurityExchangeName: Found TimeFrameContext - Start: 2023-01-01 (Type: <class 'datetime.date'>), End: 2023-12-31 (Type: <class 'datetime.date'>)\n",
      "INFO:alphaledger.process_xbrl:[_direct_fact_to_row] Fact Security12bTitle: Found TimeFrameContext - Start: 2023-01-01 (Type: <class 'datetime.date'>), End: 2023-12-31 (Type: <class 'datetime.date'>)\n",
      "INFO:alphaledger.process_xbrl:[_direct_fact_to_row] Fact TradingSymbol: Found TimeFrameContext - Start: 2023-01-01 (Type: <class 'datetime.date'>), End: 2023-12-31 (Type: <class 'datetime.date'>)\n",
      "INFO:alphaledger.process_xbrl:[_direct_fact_to_row] Fact SecurityExchangeName: Found TimeFrameContext - Start: 2023-01-01 (Type: <class 'datetime.date'>), End: 2023-12-31 (Type: <class 'datetime.date'>)\n",
      "INFO:alphaledger.process_xbrl:[_direct_fact_to_row] Fact Security12bTitle: Found TimeFrameContext - Start: 2023-01-01 (Type: <class 'datetime.date'>), End: 2023-12-31 (Type: <class 'datetime.date'>)\n",
      "INFO:alphaledger.process_xbrl:[_direct_fact_to_row] Fact TradingSymbol: Found TimeFrameContext - Start: 2023-01-01 (Type: <class 'datetime.date'>), End: 2023-12-31 (Type: <class 'datetime.date'>)\n",
      "INFO:alphaledger.process_xbrl:[_direct_fact_to_row] Fact SecurityExchangeName: Found TimeFrameContext - Start: 2023-01-01 (Type: <class 'datetime.date'>), End: 2023-12-31 (Type: <class 'datetime.date'>)\n",
      "INFO:alphaledger.process_xbrl:[_direct_fact_to_row] Fact Security12bTitle: Found TimeFrameContext - Start: 2023-01-01 (Type: <class 'datetime.date'>), End: 2023-12-31 (Type: <class 'datetime.date'>)\n",
      "INFO:alphaledger.process_xbrl:[_direct_fact_to_row] Fact TradingSymbol: Found TimeFrameContext - Start: 2023-01-01 (Type: <class 'datetime.date'>), End: 2023-12-31 (Type: <class 'datetime.date'>)\n",
      "INFO:alphaledger.process_xbrl:[_direct_fact_to_row] Fact SecurityExchangeName: Found TimeFrameContext - Start: 2023-01-01 (Type: <class 'datetime.date'>), End: 2023-12-31 (Type: <class 'datetime.date'>)\n",
      "INFO:alphaledger.process_xbrl:[_direct_fact_to_row] Fact Security12bTitle: Found TimeFrameContext - Start: 2023-01-01 (Type: <class 'datetime.date'>), End: 2023-12-31 (Type: <class 'datetime.date'>)\n",
      "INFO:alphaledger.process_xbrl:[_direct_fact_to_row] Fact TradingSymbol: Found TimeFrameContext - Start: 2023-01-01 (Type: <class 'datetime.date'>), End: 2023-12-31 (Type: <class 'datetime.date'>)\n",
      "INFO:alphaledger.process_xbrl:[_direct_fact_to_row] Fact SecurityExchangeName: Found TimeFrameContext - Start: 2023-01-01 (Type: <class 'datetime.date'>), End: 2023-12-31 (Type: <class 'datetime.date'>)\n",
      "INFO:alphaledger.process_xbrl:[_direct_fact_to_row] Fact Security12bTitle: Found TimeFrameContext - Start: 2023-01-01 (Type: <class 'datetime.date'>), End: 2023-12-31 (Type: <class 'datetime.date'>)\n",
      "INFO:alphaledger.process_xbrl:[_direct_fact_to_row] Fact TradingSymbol: Found TimeFrameContext - Start: 2023-01-01 (Type: <class 'datetime.date'>), End: 2023-12-31 (Type: <class 'datetime.date'>)\n",
      "INFO:alphaledger.process_xbrl:[_direct_fact_to_row] Fact SecurityExchangeName: Found TimeFrameContext - Start: 2023-01-01 (Type: <class 'datetime.date'>), End: 2023-12-31 (Type: <class 'datetime.date'>)\n",
      "INFO:alphaledger.process_xbrl:[_direct_fact_to_row] Fact Security12bTitle: Found TimeFrameContext - Start: 2023-01-01 (Type: <class 'datetime.date'>), End: 2023-12-31 (Type: <class 'datetime.date'>)\n",
      "INFO:alphaledger.process_xbrl:[_direct_fact_to_row] Fact TradingSymbol: Found TimeFrameContext - Start: 2023-01-01 (Type: <class 'datetime.date'>), End: 2023-12-31 (Type: <class 'datetime.date'>)\n",
      "INFO:alphaledger.process_xbrl:[_direct_fact_to_row] Fact SecurityExchangeName: Found TimeFrameContext - Start: 2023-01-01 (Type: <class 'datetime.date'>), End: 2023-12-31 (Type: <class 'datetime.date'>)\n",
      "INFO:alphaledger.process_xbrl:[_direct_fact_to_row] Fact Security12bTitle: Found TimeFrameContext - Start: 2023-01-01 (Type: <class 'datetime.date'>), End: 2023-12-31 (Type: <class 'datetime.date'>)\n",
      "INFO:alphaledger.process_xbrl:[_direct_fact_to_row] Fact TradingSymbol: Found TimeFrameContext - Start: 2023-01-01 (Type: <class 'datetime.date'>), End: 2023-12-31 (Type: <class 'datetime.date'>)\n",
      "INFO:alphaledger.process_xbrl:[_direct_fact_to_row] Fact SecurityExchangeName: Found TimeFrameContext - Start: 2023-01-01 (Type: <class 'datetime.date'>), End: 2023-12-31 (Type: <class 'datetime.date'>)\n",
      "INFO:alphaledger.process_xbrl:[_direct_fact_to_row] Fact Security12bTitle: Found TimeFrameContext - Start: 2023-01-01 (Type: <class 'datetime.date'>), End: 2023-12-31 (Type: <class 'datetime.date'>)\n",
      "INFO:alphaledger.process_xbrl:[_direct_fact_to_row] Fact TradingSymbol: Found TimeFrameContext - Start: 2023-01-01 (Type: <class 'datetime.date'>), End: 2023-12-31 (Type: <class 'datetime.date'>)\n",
      "INFO:alphaledger.process_xbrl:[_direct_fact_to_row] Fact SecurityExchangeName: Found TimeFrameContext - Start: 2023-01-01 (Type: <class 'datetime.date'>), End: 2023-12-31 (Type: <class 'datetime.date'>)\n",
      "INFO:alphaledger.process_xbrl:[_direct_fact_to_row] Fact Security12bTitle: Found TimeFrameContext - Start: 2023-01-01 (Type: <class 'datetime.date'>), End: 2023-12-31 (Type: <class 'datetime.date'>)\n",
      "INFO:alphaledger.process_xbrl:[_direct_fact_to_row] Fact TradingSymbol: Found TimeFrameContext - Start: 2023-01-01 (Type: <class 'datetime.date'>), End: 2023-12-31 (Type: <class 'datetime.date'>)\n",
      "INFO:alphaledger.process_xbrl:[_direct_fact_to_row] Fact SecurityExchangeName: Found TimeFrameContext - Start: 2023-01-01 (Type: <class 'datetime.date'>), End: 2023-12-31 (Type: <class 'datetime.date'>)\n",
      "INFO:alphaledger.process_xbrl:[_direct_fact_to_row] Fact Security12bTitle: Found TimeFrameContext - Start: 2023-01-01 (Type: <class 'datetime.date'>), End: 2023-12-31 (Type: <class 'datetime.date'>)\n",
      "INFO:alphaledger.process_xbrl:[_direct_fact_to_row] Fact TradingSymbol: Found TimeFrameContext - Start: 2023-01-01 (Type: <class 'datetime.date'>), End: 2023-12-31 (Type: <class 'datetime.date'>)\n",
      "INFO:alphaledger.process_xbrl:[_direct_fact_to_row] Fact SecurityExchangeName: Found TimeFrameContext - Start: 2023-01-01 (Type: <class 'datetime.date'>), End: 2023-12-31 (Type: <class 'datetime.date'>)\n",
      "INFO:alphaledger.process_xbrl:[_direct_fact_to_row] Fact Security12bTitle: Found TimeFrameContext - Start: 2023-01-01 (Type: <class 'datetime.date'>), End: 2023-12-31 (Type: <class 'datetime.date'>)\n",
      "INFO:alphaledger.process_xbrl:[_direct_fact_to_row] Fact TradingSymbol: Found TimeFrameContext - Start: 2023-01-01 (Type: <class 'datetime.date'>), End: 2023-12-31 (Type: <class 'datetime.date'>)\n",
      "INFO:alphaledger.process_xbrl:[_direct_fact_to_row] Fact SecurityExchangeName: Found TimeFrameContext - Start: 2023-01-01 (Type: <class 'datetime.date'>), End: 2023-12-31 (Type: <class 'datetime.date'>)\n",
      "INFO:alphaledger.process_xbrl:[_direct_fact_to_row] Fact Security12bTitle: Found TimeFrameContext - Start: 2023-01-01 (Type: <class 'datetime.date'>), End: 2023-12-31 (Type: <class 'datetime.date'>)\n",
      "INFO:alphaledger.process_xbrl:[_direct_fact_to_row] Fact TradingSymbol: Found TimeFrameContext - Start: 2023-01-01 (Type: <class 'datetime.date'>), End: 2023-12-31 (Type: <class 'datetime.date'>)\n",
      "INFO:alphaledger.process_xbrl:[_direct_fact_to_row] Fact SecurityExchangeName: Found TimeFrameContext - Start: 2023-01-01 (Type: <class 'datetime.date'>), End: 2023-12-31 (Type: <class 'datetime.date'>)\n",
      "INFO:alphaledger.process_xbrl:[_direct_fact_to_row] Fact Security12bTitle: Found TimeFrameContext - Start: 2023-01-01 (Type: <class 'datetime.date'>), End: 2023-12-31 (Type: <class 'datetime.date'>)\n",
      "INFO:alphaledger.process_xbrl:[_direct_fact_to_row] Fact TradingSymbol: Found TimeFrameContext - Start: 2023-01-01 (Type: <class 'datetime.date'>), End: 2023-12-31 (Type: <class 'datetime.date'>)\n",
      "INFO:alphaledger.process_xbrl:[_direct_fact_to_row] Fact SecurityExchangeName: Found TimeFrameContext - Start: 2023-01-01 (Type: <class 'datetime.date'>), End: 2023-12-31 (Type: <class 'datetime.date'>)\n",
      "INFO:alphaledger.process_xbrl:[_direct_fact_to_row] Fact Security12bTitle: Found TimeFrameContext - Start: 2023-01-01 (Type: <class 'datetime.date'>), End: 2023-12-31 (Type: <class 'datetime.date'>)\n",
      "INFO:alphaledger.process_xbrl:[_direct_fact_to_row] Fact TradingSymbol: Found TimeFrameContext - Start: 2023-01-01 (Type: <class 'datetime.date'>), End: 2023-12-31 (Type: <class 'datetime.date'>)\n",
      "INFO:alphaledger.process_xbrl:[_direct_fact_to_row] Fact SecurityExchangeName: Found TimeFrameContext - Start: 2023-01-01 (Type: <class 'datetime.date'>), End: 2023-12-31 (Type: <class 'datetime.date'>)\n",
      "INFO:alphaledger.process_xbrl:[_direct_fact_to_row] Fact Security12bTitle: Found TimeFrameContext - Start: 2023-01-01 (Type: <class 'datetime.date'>), End: 2023-12-31 (Type: <class 'datetime.date'>)\n",
      "INFO:alphaledger.process_xbrl:[_direct_fact_to_row] Fact TradingSymbol: Found TimeFrameContext - Start: 2023-01-01 (Type: <class 'datetime.date'>), End: 2023-12-31 (Type: <class 'datetime.date'>)\n",
      "INFO:alphaledger.process_xbrl:[_direct_fact_to_row] Fact SecurityExchangeName: Found TimeFrameContext - Start: 2023-01-01 (Type: <class 'datetime.date'>), End: 2023-12-31 (Type: <class 'datetime.date'>)\n",
      "INFO:alphaledger.process_xbrl:[_direct_fact_to_row] Fact Security12bTitle: Found TimeFrameContext - Start: 2023-01-01 (Type: <class 'datetime.date'>), End: 2023-12-31 (Type: <class 'datetime.date'>)\n",
      "INFO:alphaledger.process_xbrl:[_direct_fact_to_row] Fact TradingSymbol: Found TimeFrameContext - Start: 2023-01-01 (Type: <class 'datetime.date'>), End: 2023-12-31 (Type: <class 'datetime.date'>)\n",
      "INFO:alphaledger.process_xbrl:[_direct_fact_to_row] Fact SecurityExchangeName: Found TimeFrameContext - Start: 2023-01-01 (Type: <class 'datetime.date'>), End: 2023-12-31 (Type: <class 'datetime.date'>)\n",
      "INFO:alphaledger.process_xbrl:[_direct_fact_to_row] Fact Security12bTitle: Found TimeFrameContext - Start: 2023-01-01 (Type: <class 'datetime.date'>), End: 2023-12-31 (Type: <class 'datetime.date'>)\n",
      "INFO:alphaledger.process_xbrl:[_direct_fact_to_row] Fact TradingSymbol: Found TimeFrameContext - Start: 2023-01-01 (Type: <class 'datetime.date'>), End: 2023-12-31 (Type: <class 'datetime.date'>)\n",
      "INFO:alphaledger.process_xbrl:[_direct_fact_to_row] Fact SecurityExchangeName: Found TimeFrameContext - Start: 2023-01-01 (Type: <class 'datetime.date'>), End: 2023-12-31 (Type: <class 'datetime.date'>)\n",
      "INFO:alphaledger.process_xbrl:[_direct_fact_to_row] Fact Security12bTitle: Found TimeFrameContext - Start: 2023-01-01 (Type: <class 'datetime.date'>), End: 2023-12-31 (Type: <class 'datetime.date'>)\n",
      "INFO:alphaledger.process_xbrl:[_direct_fact_to_row] Fact TradingSymbol: Found TimeFrameContext - Start: 2023-01-01 (Type: <class 'datetime.date'>), End: 2023-12-31 (Type: <class 'datetime.date'>)\n",
      "INFO:alphaledger.process_xbrl:[_direct_fact_to_row] Fact SecurityExchangeName: Found TimeFrameContext - Start: 2023-01-01 (Type: <class 'datetime.date'>), End: 2023-12-31 (Type: <class 'datetime.date'>)\n",
      "INFO:alphaledger.process_xbrl:[_direct_fact_to_row] Fact Security12bTitle: Found TimeFrameContext - Start: 2023-01-01 (Type: <class 'datetime.date'>), End: 2023-12-31 (Type: <class 'datetime.date'>)\n",
      "INFO:alphaledger.process_xbrl:[_direct_fact_to_row] Fact TradingSymbol: Found TimeFrameContext - Start: 2023-01-01 (Type: <class 'datetime.date'>), End: 2023-12-31 (Type: <class 'datetime.date'>)\n",
      "INFO:alphaledger.process_xbrl:[_direct_fact_to_row] Fact SecurityExchangeName: Found TimeFrameContext - Start: 2023-01-01 (Type: <class 'datetime.date'>), End: 2023-12-31 (Type: <class 'datetime.date'>)\n",
      "INFO:alphaledger.process_xbrl:[_direct_fact_to_row] Fact Security12bTitle: Found TimeFrameContext - Start: 2023-01-01 (Type: <class 'datetime.date'>), End: 2023-12-31 (Type: <class 'datetime.date'>)\n",
      "INFO:alphaledger.process_xbrl:[_direct_fact_to_row] Fact TradingSymbol: Found TimeFrameContext - Start: 2023-01-01 (Type: <class 'datetime.date'>), End: 2023-12-31 (Type: <class 'datetime.date'>)\n",
      "INFO:alphaledger.process_xbrl:[_direct_fact_to_row] Fact SecurityExchangeName: Found TimeFrameContext - Start: 2023-01-01 (Type: <class 'datetime.date'>), End: 2023-12-31 (Type: <class 'datetime.date'>)\n",
      "INFO:alphaledger.process_xbrl:[_direct_fact_to_row] Fact EntityWellKnownSeasonedIssuer: Found TimeFrameContext - Start: 2023-01-01 (Type: <class 'datetime.date'>), End: 2023-12-31 (Type: <class 'datetime.date'>)\n",
      "INFO:alphaledger.process_xbrl:[_direct_fact_to_row] Fact EntityVoluntaryFilers: Found TimeFrameContext - Start: 2023-01-01 (Type: <class 'datetime.date'>), End: 2023-12-31 (Type: <class 'datetime.date'>)\n",
      "INFO:alphaledger.process_xbrl:[_direct_fact_to_row] Fact EntityCurrentReportingStatus: Found TimeFrameContext - Start: 2023-01-01 (Type: <class 'datetime.date'>), End: 2023-12-31 (Type: <class 'datetime.date'>)\n",
      "INFO:alphaledger.process_xbrl:[_direct_fact_to_row] Fact EntityInteractiveDataCurrent: Found TimeFrameContext - Start: 2023-01-01 (Type: <class 'datetime.date'>), End: 2023-12-31 (Type: <class 'datetime.date'>)\n",
      "INFO:alphaledger.process_xbrl:[_direct_fact_to_row] Fact EntityFilerCategory: Found TimeFrameContext - Start: 2023-01-01 (Type: <class 'datetime.date'>), End: 2023-12-31 (Type: <class 'datetime.date'>)\n",
      "INFO:alphaledger.process_xbrl:[_direct_fact_to_row] Fact EntitySmallBusiness: Found TimeFrameContext - Start: 2023-01-01 (Type: <class 'datetime.date'>), End: 2023-12-31 (Type: <class 'datetime.date'>)\n",
      "INFO:alphaledger.process_xbrl:[_direct_fact_to_row] Fact EntityEmergingGrowthCompany: Found TimeFrameContext - Start: 2023-01-01 (Type: <class 'datetime.date'>), End: 2023-12-31 (Type: <class 'datetime.date'>)\n",
      "INFO:alphaledger.process_xbrl:[_direct_fact_to_row] Fact IcfrAuditorAttestationFlag: Found TimeFrameContext - Start: 2023-01-01 (Type: <class 'datetime.date'>), End: 2023-12-31 (Type: <class 'datetime.date'>)\n",
      "INFO:alphaledger.process_xbrl:[_direct_fact_to_row] Fact DocumentFinStmtErrorCorrectionFlag: Found TimeFrameContext - Start: 2023-01-01 (Type: <class 'datetime.date'>), End: 2023-12-31 (Type: <class 'datetime.date'>)\n",
      "INFO:alphaledger.process_xbrl:[_direct_fact_to_row] Fact EntityShellCompany: Found TimeFrameContext - Start: 2023-01-01 (Type: <class 'datetime.date'>), End: 2023-12-31 (Type: <class 'datetime.date'>)\n",
      "INFO:alphaledger.process_xbrl:[_direct_fact_to_row] Fact DocumentsIncorporatedByReferenceTextBlock: Found TimeFrameContext - Start: 2023-01-01 (Type: <class 'datetime.date'>), End: 2023-12-31 (Type: <class 'datetime.date'>)\n",
      "INFO:alphaledger.process_xbrl:[_direct_fact_to_row] Fact AuditorFirmId: Found TimeFrameContext - Start: 2023-01-01 (Type: <class 'datetime.date'>), End: 2023-12-31 (Type: <class 'datetime.date'>)\n",
      "INFO:alphaledger.process_xbrl:[_direct_fact_to_row] Fact AuditorName: Found TimeFrameContext - Start: 2023-01-01 (Type: <class 'datetime.date'>), End: 2023-12-31 (Type: <class 'datetime.date'>)\n",
      "INFO:alphaledger.process_xbrl:[_direct_fact_to_row] Fact AuditorLocation: Found TimeFrameContext - Start: 2023-01-01 (Type: <class 'datetime.date'>), End: 2023-12-31 (Type: <class 'datetime.date'>)\n",
      "INFO:alphaledger.process_xbrl:[_direct_fact_to_row] Fact ScheduleOfValuationAndQualifyingAccountsDisclosureTextBlock: Found TimeFrameContext - Start: 2023-01-01 (Type: <class 'datetime.date'>), End: 2023-12-31 (Type: <class 'datetime.date'>)\n",
      "WARNING:root:Could not transform value \"New York Stock Exchange\" with format ixt-sec:exchnameen\n",
      "WARNING:root:Could not transform value \"New York Stock Exchange\" with format ixt-sec:exchnameen\n",
      "WARNING:root:Could not transform value \"New York Stock Exchange\" with format ixt-sec:exchnameen\n",
      "WARNING:root:Could not transform value \"New York Stock Exchange\" with format ixt-sec:exchnameen\n",
      "WARNING:root:Could not transform value \"New York Stock Exchange\" with format ixt-sec:exchnameen\n",
      "WARNING:root:Could not transform value \"New York Stock Exchange\" with format ixt-sec:exchnameen\n",
      "WARNING:root:Could not transform value \"New York Stock Exchange\" with format ixt-sec:exchnameen\n",
      "WARNING:root:Could not transform value \"New York Stock Exchange\" with format ixt-sec:exchnameen\n",
      "WARNING:root:Could not transform value \"New York Stock Exchange\" with format ixt-sec:exchnameen\n",
      "WARNING:root:Could not transform value \"New York Stock Exchange\" with format ixt-sec:exchnameen\n",
      "WARNING:root:Could not transform value \"New York Stock Exchange\" with format ixt-sec:exchnameen\n",
      "WARNING:root:Could not transform value \"New York Stock Exchange\" with format ixt-sec:exchnameen\n",
      "WARNING:root:Could not transform value \"New York Stock Exchange\" with format ixt-sec:exchnameen\n",
      "WARNING:root:Could not transform value \"New York Stock Exchange\" with format ixt-sec:exchnameen\n",
      "WARNING:root:Could not transform value \"New York Stock Exchange\" with format ixt-sec:exchnameen\n",
      "WARNING:root:Could not transform value \"New York Stock Exchange\" with format ixt-sec:exchnameen\n",
      "WARNING:root:Could not transform value \"New York Stock Exchange\" with format ixt-sec:exchnameen\n",
      "WARNING:root:Could not transform value \"New York Stock Exchange\" with format ixt-sec:exchnameen\n",
      "WARNING:root:Could not transform value \"New York Stock Exchange\" with format ixt-sec:exchnameen\n",
      "WARNING:root:Could not transform value \"New York Stock Exchange\" with format ixt-sec:exchnameen\n",
      "WARNING:root:Could not transform value \"New York Stock Exchange\" with format ixt-sec:exchnameen\n",
      "INFO:alphaledger.process_xbrl:[_direct_fact_to_row] Fact EntityPublicFloat: Found InstantContext - Instant: 2022-06-30 (Type: <class 'datetime.date'>)\n",
      "INFO:alphaledger.process_xbrl:[_direct_fact_to_row] Fact EntityCommonStockSharesOutstanding: Found InstantContext - Instant: 2023-02-10 (Type: <class 'datetime.date'>)\n",
      "INFO:alphaledger.process_xbrl:[_direct_fact_to_row] Fact ValuationAllowancesAndReservesBalance: Found InstantContext - Instant: 2021-12-31 (Type: <class 'datetime.date'>)\n",
      "INFO:alphaledger.process_xbrl:[_direct_fact_to_row] Fact ValuationAllowancesAndReservesChargedToCostAndExpense: Found TimeFrameContext - Start: 2022-01-01 (Type: <class 'datetime.date'>), End: 2022-12-31 (Type: <class 'datetime.date'>)\n",
      "INFO:alphaledger.process_xbrl:[_direct_fact_to_row] Fact ValuationAllowancesAndReservesDeductions: Found TimeFrameContext - Start: 2022-01-01 (Type: <class 'datetime.date'>), End: 2022-12-31 (Type: <class 'datetime.date'>)\n",
      "INFO:alphaledger.process_xbrl:[_direct_fact_to_row] Fact ValuationAllowancesAndReservesAdjustments: Found TimeFrameContext - Start: 2022-01-01 (Type: <class 'datetime.date'>), End: 2022-12-31 (Type: <class 'datetime.date'>)\n",
      "INFO:alphaledger.process_xbrl:[_direct_fact_to_row] Fact ValuationAllowancesAndReservesBalance: Found InstantContext - Instant: 2022-12-31 (Type: <class 'datetime.date'>)\n",
      "INFO:alphaledger.process_xbrl:[_direct_fact_to_row] Fact ValuationAllowancesAndReservesBalance: Found InstantContext - Instant: 2021-12-31 (Type: <class 'datetime.date'>)\n",
      "INFO:alphaledger.process_xbrl:[_direct_fact_to_row] Fact ValuationAllowancesAndReservesChargedToCostAndExpense: Found TimeFrameContext - Start: 2022-01-01 (Type: <class 'datetime.date'>), End: 2022-12-31 (Type: <class 'datetime.date'>)\n",
      "INFO:alphaledger.process_xbrl:[_direct_fact_to_row] Fact ValuationAllowancesAndReservesDeductions: Found TimeFrameContext - Start: 2022-01-01 (Type: <class 'datetime.date'>), End: 2022-12-31 (Type: <class 'datetime.date'>)\n",
      "INFO:alphaledger.process_xbrl:[_direct_fact_to_row] Fact ValuationAllowancesAndReservesAdjustments: Found TimeFrameContext - Start: 2022-01-01 (Type: <class 'datetime.date'>), End: 2022-12-31 (Type: <class 'datetime.date'>)\n",
      "INFO:alphaledger.process_xbrl:[_direct_fact_to_row] Fact ValuationAllowancesAndReservesBalance: Found InstantContext - Instant: 2022-12-31 (Type: <class 'datetime.date'>)\n",
      "INFO:alphaledger.process_xbrl:[_direct_fact_to_row] Fact ValuationAllowancesAndReservesBalance: Found InstantContext - Instant: 2020-12-31 (Type: <class 'datetime.date'>)\n",
      "INFO:alphaledger.process_xbrl:[_direct_fact_to_row] Fact ValuationAllowancesAndReservesChargedToCostAndExpense: Found TimeFrameContext - Start: 2021-01-01 (Type: <class 'datetime.date'>), End: 2021-12-31 (Type: <class 'datetime.date'>)\n",
      "INFO:alphaledger.process_xbrl:[_direct_fact_to_row] Fact ValuationAllowancesAndReservesDeductions: Found TimeFrameContext - Start: 2021-01-01 (Type: <class 'datetime.date'>), End: 2021-12-31 (Type: <class 'datetime.date'>)\n",
      "INFO:alphaledger.process_xbrl:[_direct_fact_to_row] Fact ValuationAllowancesAndReservesAdjustments: Found TimeFrameContext - Start: 2021-01-01 (Type: <class 'datetime.date'>), End: 2021-12-31 (Type: <class 'datetime.date'>)\n",
      "INFO:alphaledger.process_xbrl:[_direct_fact_to_row] Fact ValuationAllowancesAndReservesBalance: Found InstantContext - Instant: 2021-12-31 (Type: <class 'datetime.date'>)\n",
      "INFO:alphaledger.process_xbrl:[_direct_fact_to_row] Fact ValuationAllowancesAndReservesBalance: Found InstantContext - Instant: 2020-12-31 (Type: <class 'datetime.date'>)\n",
      "INFO:alphaledger.process_xbrl:[_direct_fact_to_row] Fact ValuationAllowancesAndReservesChargedToCostAndExpense: Found TimeFrameContext - Start: 2021-01-01 (Type: <class 'datetime.date'>), End: 2021-12-31 (Type: <class 'datetime.date'>)\n",
      "INFO:alphaledger.process_xbrl:[_direct_fact_to_row] Fact ValuationAllowancesAndReservesDeductions: Found TimeFrameContext - Start: 2021-01-01 (Type: <class 'datetime.date'>), End: 2021-12-31 (Type: <class 'datetime.date'>)\n",
      "INFO:alphaledger.process_xbrl:[_direct_fact_to_row] Fact ValuationAllowancesAndReservesAdjustments: Found TimeFrameContext - Start: 2021-01-01 (Type: <class 'datetime.date'>), End: 2021-12-31 (Type: <class 'datetime.date'>)\n",
      "INFO:alphaledger.process_xbrl:[_direct_fact_to_row] Fact ValuationAllowancesAndReservesBalance: Found InstantContext - Instant: 2021-12-31 (Type: <class 'datetime.date'>)\n",
      "INFO:alphaledger.process_xbrl:[_direct_fact_to_row] Fact ValuationAllowancesAndReservesBalance: Found InstantContext - Instant: 2019-12-31 (Type: <class 'datetime.date'>)\n",
      "INFO:alphaledger.process_xbrl:[_direct_fact_to_row] Fact ValuationAllowancesAndReservesChargedToCostAndExpense: Found TimeFrameContext - Start: 2020-01-01 (Type: <class 'datetime.date'>), End: 2020-12-31 (Type: <class 'datetime.date'>)\n",
      "INFO:alphaledger.process_xbrl:[_direct_fact_to_row] Fact ValuationAllowancesAndReservesDeductions: Found TimeFrameContext - Start: 2020-01-01 (Type: <class 'datetime.date'>), End: 2020-12-31 (Type: <class 'datetime.date'>)\n",
      "INFO:alphaledger.process_xbrl:[_direct_fact_to_row] Fact ValuationAllowancesAndReservesAdjustments: Found TimeFrameContext - Start: 2020-01-01 (Type: <class 'datetime.date'>), End: 2020-12-31 (Type: <class 'datetime.date'>)\n",
      "INFO:alphaledger.process_xbrl:[_direct_fact_to_row] Fact ValuationAllowancesAndReservesBalance: Found InstantContext - Instant: 2020-12-31 (Type: <class 'datetime.date'>)\n",
      "INFO:alphaledger.process_xbrl:[_direct_fact_to_row] Fact ValuationAllowancesAndReservesBalance: Found InstantContext - Instant: 2019-12-31 (Type: <class 'datetime.date'>)\n",
      "INFO:alphaledger.process_xbrl:[_direct_fact_to_row] Fact ValuationAllowancesAndReservesChargedToCostAndExpense: Found TimeFrameContext - Start: 2020-01-01 (Type: <class 'datetime.date'>), End: 2020-12-31 (Type: <class 'datetime.date'>)\n",
      "INFO:alphaledger.process_xbrl:[_direct_fact_to_row] Fact ValuationAllowancesAndReservesDeductions: Found TimeFrameContext - Start: 2020-01-01 (Type: <class 'datetime.date'>), End: 2020-12-31 (Type: <class 'datetime.date'>)\n",
      "INFO:alphaledger.process_xbrl:[_direct_fact_to_row] Fact ValuationAllowancesAndReservesAdjustments: Found TimeFrameContext - Start: 2020-01-01 (Type: <class 'datetime.date'>), End: 2020-12-31 (Type: <class 'datetime.date'>)\n",
      "INFO:alphaledger.process_xbrl:[_direct_fact_to_row] Fact ValuationAllowancesAndReservesBalance: Found InstantContext - Instant: 2020-12-31 (Type: <class 'datetime.date'>)\n",
      "INFO:alphaledger.process_xbrl:[_direct_fact_to_row] Fact ValuationAllowancesAndReservesBalance: Found InstantContext - Instant: 2021-12-31 (Type: <class 'datetime.date'>)\n",
      "INFO:alphaledger.process_xbrl:[_direct_fact_to_row] Fact ValuationAllowancesAndReservesChargedToCostAndExpense: Found TimeFrameContext - Start: 2022-01-01 (Type: <class 'datetime.date'>), End: 2022-12-31 (Type: <class 'datetime.date'>)\n",
      "INFO:alphaledger.process_xbrl:[_direct_fact_to_row] Fact ValuationAllowancesAndReservesDeductions: Found TimeFrameContext - Start: 2022-01-01 (Type: <class 'datetime.date'>), End: 2022-12-31 (Type: <class 'datetime.date'>)\n",
      "INFO:alphaledger.process_xbrl:[_direct_fact_to_row] Fact ValuationAllowancesAndReservesAdjustments: Found TimeFrameContext - Start: 2022-01-01 (Type: <class 'datetime.date'>), End: 2022-12-31 (Type: <class 'datetime.date'>)\n",
      "INFO:alphaledger.process_xbrl:[_direct_fact_to_row] Fact ValuationAllowancesAndReservesBalance: Found InstantContext - Instant: 2022-12-31 (Type: <class 'datetime.date'>)\n",
      "INFO:alphaledger.process_xbrl:[_direct_fact_to_row] Fact ValuationAllowancesAndReservesBalance: Found InstantContext - Instant: 2020-12-31 (Type: <class 'datetime.date'>)\n",
      "INFO:alphaledger.process_xbrl:[_direct_fact_to_row] Fact ValuationAllowancesAndReservesChargedToCostAndExpense: Found TimeFrameContext - Start: 2021-01-01 (Type: <class 'datetime.date'>), End: 2021-12-31 (Type: <class 'datetime.date'>)\n",
      "INFO:alphaledger.process_xbrl:[_direct_fact_to_row] Fact ValuationAllowancesAndReservesDeductions: Found TimeFrameContext - Start: 2021-01-01 (Type: <class 'datetime.date'>), End: 2021-12-31 (Type: <class 'datetime.date'>)\n",
      "INFO:alphaledger.process_xbrl:[_direct_fact_to_row] Fact ValuationAllowancesAndReservesAdjustments: Found TimeFrameContext - Start: 2021-01-01 (Type: <class 'datetime.date'>), End: 2021-12-31 (Type: <class 'datetime.date'>)\n",
      "INFO:alphaledger.process_xbrl:[_direct_fact_to_row] Fact ValuationAllowancesAndReservesBalance: Found InstantContext - Instant: 2021-12-31 (Type: <class 'datetime.date'>)\n",
      "INFO:alphaledger.process_xbrl:[_direct_fact_to_row] Fact ValuationAllowancesAndReservesBalance: Found InstantContext - Instant: 2019-12-31 (Type: <class 'datetime.date'>)\n",
      "INFO:alphaledger.process_xbrl:[_direct_fact_to_row] Fact ValuationAllowancesAndReservesChargedToCostAndExpense: Found TimeFrameContext - Start: 2020-01-01 (Type: <class 'datetime.date'>), End: 2020-12-31 (Type: <class 'datetime.date'>)\n",
      "INFO:alphaledger.process_xbrl:[_direct_fact_to_row] Fact ValuationAllowancesAndReservesDeductions: Found TimeFrameContext - Start: 2020-01-01 (Type: <class 'datetime.date'>), End: 2020-12-31 (Type: <class 'datetime.date'>)\n",
      "INFO:alphaledger.process_xbrl:[_direct_fact_to_row] Fact ValuationAllowancesAndReservesAdjustments: Found TimeFrameContext - Start: 2020-01-01 (Type: <class 'datetime.date'>), End: 2020-12-31 (Type: <class 'datetime.date'>)\n",
      "INFO:alphaledger.process_xbrl:[_direct_fact_to_row] Fact ValuationAllowancesAndReservesBalance: Found InstantContext - Instant: 2020-12-31 (Type: <class 'datetime.date'>)\n",
      "INFO:alphaledger.process_xbrl:[_direct_fact_to_row] Fact ValuationAllowancesAndReservesBalance: Found InstantContext - Instant: 2021-12-31 (Type: <class 'datetime.date'>)\n",
      "INFO:alphaledger.process_xbrl:[_direct_fact_to_row] Fact ValuationAllowancesAndReservesChargedToOtherAccounts: Found TimeFrameContext - Start: 2022-01-01 (Type: <class 'datetime.date'>), End: 2022-12-31 (Type: <class 'datetime.date'>)\n",
      "INFO:alphaledger.process_xbrl:[_direct_fact_to_row] Fact ValuationAllowancesAndReservesDeductions: Found TimeFrameContext - Start: 2022-01-01 (Type: <class 'datetime.date'>), End: 2022-12-31 (Type: <class 'datetime.date'>)\n",
      "INFO:alphaledger.process_xbrl:[_direct_fact_to_row] Fact ValuationAllowancesAndReservesAdjustments: Found TimeFrameContext - Start: 2022-01-01 (Type: <class 'datetime.date'>), End: 2022-12-31 (Type: <class 'datetime.date'>)\n",
      "INFO:alphaledger.process_xbrl:[_direct_fact_to_row] Fact ValuationAllowancesAndReservesBalance: Found InstantContext - Instant: 2022-12-31 (Type: <class 'datetime.date'>)\n",
      "INFO:alphaledger.process_xbrl:[_direct_fact_to_row] Fact ValuationAllowancesAndReservesBalance: Found InstantContext - Instant: 2020-12-31 (Type: <class 'datetime.date'>)\n",
      "INFO:alphaledger.process_xbrl:[_direct_fact_to_row] Fact ValuationAllowancesAndReservesChargedToOtherAccounts: Found TimeFrameContext - Start: 2021-01-01 (Type: <class 'datetime.date'>), End: 2021-12-31 (Type: <class 'datetime.date'>)\n",
      "INFO:alphaledger.process_xbrl:[_direct_fact_to_row] Fact ValuationAllowancesAndReservesDeductions: Found TimeFrameContext - Start: 2021-01-01 (Type: <class 'datetime.date'>), End: 2021-12-31 (Type: <class 'datetime.date'>)\n",
      "INFO:alphaledger.process_xbrl:[_direct_fact_to_row] Fact ValuationAllowancesAndReservesAdjustments: Found TimeFrameContext - Start: 2021-01-01 (Type: <class 'datetime.date'>), End: 2021-12-31 (Type: <class 'datetime.date'>)\n",
      "INFO:alphaledger.process_xbrl:[_direct_fact_to_row] Fact ValuationAllowancesAndReservesBalance: Found InstantContext - Instant: 2021-12-31 (Type: <class 'datetime.date'>)\n",
      "INFO:alphaledger.process_xbrl:[_direct_fact_to_row] Fact ValuationAllowancesAndReservesBalance: Found InstantContext - Instant: 2019-12-31 (Type: <class 'datetime.date'>)\n",
      "INFO:alphaledger.process_xbrl:[_direct_fact_to_row] Fact ValuationAllowancesAndReservesChargedToOtherAccounts: Found TimeFrameContext - Start: 2020-01-01 (Type: <class 'datetime.date'>), End: 2020-12-31 (Type: <class 'datetime.date'>)\n",
      "INFO:alphaledger.process_xbrl:[_direct_fact_to_row] Fact ValuationAllowancesAndReservesDeductions: Found TimeFrameContext - Start: 2020-01-01 (Type: <class 'datetime.date'>), End: 2020-12-31 (Type: <class 'datetime.date'>)\n",
      "INFO:alphaledger.process_xbrl:[_direct_fact_to_row] Fact ValuationAllowancesAndReservesAdjustments: Found TimeFrameContext - Start: 2020-01-01 (Type: <class 'datetime.date'>), End: 2020-12-31 (Type: <class 'datetime.date'>)\n",
      "INFO:alphaledger.process_xbrl:[_direct_fact_to_row] Fact ValuationAllowancesAndReservesBalance: Found InstantContext - Instant: 2020-12-31 (Type: <class 'datetime.date'>)\n",
      "INFO:alphaledger.process_xbrl:[_direct_fact_to_row] Fact Security12bTitle: Found TimeFrameContext - Start: 2022-01-01 (Type: <class 'datetime.date'>), End: 2022-12-31 (Type: <class 'datetime.date'>)\n",
      "INFO:alphaledger.process_xbrl:[_direct_fact_to_row] Fact TradingSymbol: Found TimeFrameContext - Start: 2022-01-01 (Type: <class 'datetime.date'>), End: 2022-12-31 (Type: <class 'datetime.date'>)\n",
      "INFO:alphaledger.process_xbrl:[_direct_fact_to_row] Fact SecurityExchangeName: Found TimeFrameContext - Start: 2022-01-01 (Type: <class 'datetime.date'>), End: 2022-12-31 (Type: <class 'datetime.date'>)\n",
      "INFO:alphaledger.process_xbrl:[_direct_fact_to_row] Fact EntityCentralIndexKey: Found TimeFrameContext - Start: 2022-01-01 (Type: <class 'datetime.date'>), End: 2022-12-31 (Type: <class 'datetime.date'>)\n",
      "INFO:alphaledger.process_xbrl:[_direct_fact_to_row] Fact CurrentFiscalYearEndDate: Found TimeFrameContext - Start: 2022-01-01 (Type: <class 'datetime.date'>), End: 2022-12-31 (Type: <class 'datetime.date'>)\n",
      "INFO:alphaledger.process_xbrl:[_direct_fact_to_row] Fact DocumentFiscalYearFocus: Found TimeFrameContext - Start: 2022-01-01 (Type: <class 'datetime.date'>), End: 2022-12-31 (Type: <class 'datetime.date'>)\n",
      "INFO:alphaledger.process_xbrl:[_direct_fact_to_row] Fact DocumentFiscalPeriodFocus: Found TimeFrameContext - Start: 2022-01-01 (Type: <class 'datetime.date'>), End: 2022-12-31 (Type: <class 'datetime.date'>)\n",
      "INFO:alphaledger.process_xbrl:[_direct_fact_to_row] Fact AmendmentFlag: Found TimeFrameContext - Start: 2022-01-01 (Type: <class 'datetime.date'>), End: 2022-12-31 (Type: <class 'datetime.date'>)\n",
      "INFO:alphaledger.process_xbrl:[_direct_fact_to_row] Fact DocumentType: Found TimeFrameContext - Start: 2022-01-01 (Type: <class 'datetime.date'>), End: 2022-12-31 (Type: <class 'datetime.date'>)\n",
      "INFO:alphaledger.process_xbrl:[_direct_fact_to_row] Fact DocumentAnnualReport: Found TimeFrameContext - Start: 2022-01-01 (Type: <class 'datetime.date'>), End: 2022-12-31 (Type: <class 'datetime.date'>)\n",
      "INFO:alphaledger.process_xbrl:[_direct_fact_to_row] Fact DocumentTransitionReport: Found TimeFrameContext - Start: 2022-01-01 (Type: <class 'datetime.date'>), End: 2022-12-31 (Type: <class 'datetime.date'>)\n",
      "INFO:alphaledger.process_xbrl:[_direct_fact_to_row] Fact DocumentPeriodEndDate: Found TimeFrameContext - Start: 2022-01-01 (Type: <class 'datetime.date'>), End: 2022-12-31 (Type: <class 'datetime.date'>)\n",
      "INFO:alphaledger.process_xbrl:[_direct_fact_to_row] Fact EntityFileNumber: Found TimeFrameContext - Start: 2022-01-01 (Type: <class 'datetime.date'>), End: 2022-12-31 (Type: <class 'datetime.date'>)\n",
      "INFO:alphaledger.process_xbrl:[_direct_fact_to_row] Fact EntityRegistrantName: Found TimeFrameContext - Start: 2022-01-01 (Type: <class 'datetime.date'>), End: 2022-12-31 (Type: <class 'datetime.date'>)\n",
      "INFO:alphaledger.process_xbrl:[_direct_fact_to_row] Fact EntityIncorporationStateCountryCode: Found TimeFrameContext - Start: 2022-01-01 (Type: <class 'datetime.date'>), End: 2022-12-31 (Type: <class 'datetime.date'>)\n",
      "INFO:alphaledger.process_xbrl:[_direct_fact_to_row] Fact EntityAddressAddressLine1: Found TimeFrameContext - Start: 2022-01-01 (Type: <class 'datetime.date'>), End: 2022-12-31 (Type: <class 'datetime.date'>)\n",
      "INFO:alphaledger.process_xbrl:[_direct_fact_to_row] Fact EntityTaxIdentificationNumber: Found TimeFrameContext - Start: 2022-01-01 (Type: <class 'datetime.date'>), End: 2022-12-31 (Type: <class 'datetime.date'>)\n",
      "INFO:alphaledger.process_xbrl:[_direct_fact_to_row] Fact EntityAddressCityOrTown: Found TimeFrameContext - Start: 2022-01-01 (Type: <class 'datetime.date'>), End: 2022-12-31 (Type: <class 'datetime.date'>)\n",
      "INFO:alphaledger.process_xbrl:[_direct_fact_to_row] Fact EntityAddressStateOrProvince: Found TimeFrameContext - Start: 2022-01-01 (Type: <class 'datetime.date'>), End: 2022-12-31 (Type: <class 'datetime.date'>)\n",
      "INFO:alphaledger.process_xbrl:[_direct_fact_to_row] Fact EntityAddressPostalZipCode: Found TimeFrameContext - Start: 2022-01-01 (Type: <class 'datetime.date'>), End: 2022-12-31 (Type: <class 'datetime.date'>)\n",
      "INFO:alphaledger.process_xbrl:[_direct_fact_to_row] Fact CityAreaCode: Found TimeFrameContext - Start: 2022-01-01 (Type: <class 'datetime.date'>), End: 2022-12-31 (Type: <class 'datetime.date'>)\n",
      "INFO:alphaledger.process_xbrl:[_direct_fact_to_row] Fact LocalPhoneNumber: Found TimeFrameContext - Start: 2022-01-01 (Type: <class 'datetime.date'>), End: 2022-12-31 (Type: <class 'datetime.date'>)\n",
      "INFO:alphaledger.process_xbrl:[_direct_fact_to_row] Fact Security12bTitle: Found TimeFrameContext - Start: 2022-01-01 (Type: <class 'datetime.date'>), End: 2022-12-31 (Type: <class 'datetime.date'>)\n",
      "INFO:alphaledger.process_xbrl:[_direct_fact_to_row] Fact TradingSymbol: Found TimeFrameContext - Start: 2022-01-01 (Type: <class 'datetime.date'>), End: 2022-12-31 (Type: <class 'datetime.date'>)\n",
      "INFO:alphaledger.process_xbrl:[_direct_fact_to_row] Fact SecurityExchangeName: Found TimeFrameContext - Start: 2022-01-01 (Type: <class 'datetime.date'>), End: 2022-12-31 (Type: <class 'datetime.date'>)\n",
      "INFO:alphaledger.process_xbrl:[_direct_fact_to_row] Fact Security12bTitle: Found TimeFrameContext - Start: 2022-01-01 (Type: <class 'datetime.date'>), End: 2022-12-31 (Type: <class 'datetime.date'>)\n",
      "INFO:alphaledger.process_xbrl:[_direct_fact_to_row] Fact TradingSymbol: Found TimeFrameContext - Start: 2022-01-01 (Type: <class 'datetime.date'>), End: 2022-12-31 (Type: <class 'datetime.date'>)\n",
      "INFO:alphaledger.process_xbrl:[_direct_fact_to_row] Fact SecurityExchangeName: Found TimeFrameContext - Start: 2022-01-01 (Type: <class 'datetime.date'>), End: 2022-12-31 (Type: <class 'datetime.date'>)\n",
      "INFO:alphaledger.process_xbrl:[_direct_fact_to_row] Fact Security12bTitle: Found TimeFrameContext - Start: 2022-01-01 (Type: <class 'datetime.date'>), End: 2022-12-31 (Type: <class 'datetime.date'>)\n",
      "INFO:alphaledger.process_xbrl:[_direct_fact_to_row] Fact TradingSymbol: Found TimeFrameContext - Start: 2022-01-01 (Type: <class 'datetime.date'>), End: 2022-12-31 (Type: <class 'datetime.date'>)\n",
      "INFO:alphaledger.process_xbrl:[_direct_fact_to_row] Fact SecurityExchangeName: Found TimeFrameContext - Start: 2022-01-01 (Type: <class 'datetime.date'>), End: 2022-12-31 (Type: <class 'datetime.date'>)\n",
      "INFO:alphaledger.process_xbrl:[_direct_fact_to_row] Fact Security12bTitle: Found TimeFrameContext - Start: 2022-01-01 (Type: <class 'datetime.date'>), End: 2022-12-31 (Type: <class 'datetime.date'>)\n",
      "INFO:alphaledger.process_xbrl:[_direct_fact_to_row] Fact TradingSymbol: Found TimeFrameContext - Start: 2022-01-01 (Type: <class 'datetime.date'>), End: 2022-12-31 (Type: <class 'datetime.date'>)\n",
      "INFO:alphaledger.process_xbrl:[_direct_fact_to_row] Fact SecurityExchangeName: Found TimeFrameContext - Start: 2022-01-01 (Type: <class 'datetime.date'>), End: 2022-12-31 (Type: <class 'datetime.date'>)\n",
      "INFO:alphaledger.process_xbrl:[_direct_fact_to_row] Fact Security12bTitle: Found TimeFrameContext - Start: 2022-01-01 (Type: <class 'datetime.date'>), End: 2022-12-31 (Type: <class 'datetime.date'>)\n",
      "INFO:alphaledger.process_xbrl:[_direct_fact_to_row] Fact TradingSymbol: Found TimeFrameContext - Start: 2022-01-01 (Type: <class 'datetime.date'>), End: 2022-12-31 (Type: <class 'datetime.date'>)\n",
      "INFO:alphaledger.process_xbrl:[_direct_fact_to_row] Fact SecurityExchangeName: Found TimeFrameContext - Start: 2022-01-01 (Type: <class 'datetime.date'>), End: 2022-12-31 (Type: <class 'datetime.date'>)\n",
      "INFO:alphaledger.process_xbrl:[_direct_fact_to_row] Fact Security12bTitle: Found TimeFrameContext - Start: 2022-01-01 (Type: <class 'datetime.date'>), End: 2022-12-31 (Type: <class 'datetime.date'>)\n",
      "INFO:alphaledger.process_xbrl:[_direct_fact_to_row] Fact TradingSymbol: Found TimeFrameContext - Start: 2022-01-01 (Type: <class 'datetime.date'>), End: 2022-12-31 (Type: <class 'datetime.date'>)\n",
      "INFO:alphaledger.process_xbrl:[_direct_fact_to_row] Fact SecurityExchangeName: Found TimeFrameContext - Start: 2022-01-01 (Type: <class 'datetime.date'>), End: 2022-12-31 (Type: <class 'datetime.date'>)\n",
      "INFO:alphaledger.process_xbrl:[_direct_fact_to_row] Fact Security12bTitle: Found TimeFrameContext - Start: 2022-01-01 (Type: <class 'datetime.date'>), End: 2022-12-31 (Type: <class 'datetime.date'>)\n",
      "INFO:alphaledger.process_xbrl:[_direct_fact_to_row] Fact TradingSymbol: Found TimeFrameContext - Start: 2022-01-01 (Type: <class 'datetime.date'>), End: 2022-12-31 (Type: <class 'datetime.date'>)\n",
      "INFO:alphaledger.process_xbrl:[_direct_fact_to_row] Fact SecurityExchangeName: Found TimeFrameContext - Start: 2022-01-01 (Type: <class 'datetime.date'>), End: 2022-12-31 (Type: <class 'datetime.date'>)\n",
      "INFO:alphaledger.process_xbrl:[_direct_fact_to_row] Fact Security12bTitle: Found TimeFrameContext - Start: 2022-01-01 (Type: <class 'datetime.date'>), End: 2022-12-31 (Type: <class 'datetime.date'>)\n",
      "INFO:alphaledger.process_xbrl:[_direct_fact_to_row] Fact TradingSymbol: Found TimeFrameContext - Start: 2022-01-01 (Type: <class 'datetime.date'>), End: 2022-12-31 (Type: <class 'datetime.date'>)\n",
      "INFO:alphaledger.process_xbrl:[_direct_fact_to_row] Fact SecurityExchangeName: Found TimeFrameContext - Start: 2022-01-01 (Type: <class 'datetime.date'>), End: 2022-12-31 (Type: <class 'datetime.date'>)\n",
      "INFO:alphaledger.process_xbrl:[_direct_fact_to_row] Fact Security12bTitle: Found TimeFrameContext - Start: 2022-01-01 (Type: <class 'datetime.date'>), End: 2022-12-31 (Type: <class 'datetime.date'>)\n",
      "INFO:alphaledger.process_xbrl:[_direct_fact_to_row] Fact TradingSymbol: Found TimeFrameContext - Start: 2022-01-01 (Type: <class 'datetime.date'>), End: 2022-12-31 (Type: <class 'datetime.date'>)\n",
      "INFO:alphaledger.process_xbrl:[_direct_fact_to_row] Fact SecurityExchangeName: Found TimeFrameContext - Start: 2022-01-01 (Type: <class 'datetime.date'>), End: 2022-12-31 (Type: <class 'datetime.date'>)\n",
      "INFO:alphaledger.process_xbrl:[_direct_fact_to_row] Fact Security12bTitle: Found TimeFrameContext - Start: 2022-01-01 (Type: <class 'datetime.date'>), End: 2022-12-31 (Type: <class 'datetime.date'>)\n",
      "INFO:alphaledger.process_xbrl:[_direct_fact_to_row] Fact TradingSymbol: Found TimeFrameContext - Start: 2022-01-01 (Type: <class 'datetime.date'>), End: 2022-12-31 (Type: <class 'datetime.date'>)\n",
      "INFO:alphaledger.process_xbrl:[_direct_fact_to_row] Fact SecurityExchangeName: Found TimeFrameContext - Start: 2022-01-01 (Type: <class 'datetime.date'>), End: 2022-12-31 (Type: <class 'datetime.date'>)\n",
      "INFO:alphaledger.process_xbrl:[_direct_fact_to_row] Fact Security12bTitle: Found TimeFrameContext - Start: 2022-01-01 (Type: <class 'datetime.date'>), End: 2022-12-31 (Type: <class 'datetime.date'>)\n",
      "INFO:alphaledger.process_xbrl:[_direct_fact_to_row] Fact TradingSymbol: Found TimeFrameContext - Start: 2022-01-01 (Type: <class 'datetime.date'>), End: 2022-12-31 (Type: <class 'datetime.date'>)\n",
      "INFO:alphaledger.process_xbrl:[_direct_fact_to_row] Fact SecurityExchangeName: Found TimeFrameContext - Start: 2022-01-01 (Type: <class 'datetime.date'>), End: 2022-12-31 (Type: <class 'datetime.date'>)\n",
      "INFO:alphaledger.process_xbrl:[_direct_fact_to_row] Fact Security12bTitle: Found TimeFrameContext - Start: 2022-01-01 (Type: <class 'datetime.date'>), End: 2022-12-31 (Type: <class 'datetime.date'>)\n",
      "INFO:alphaledger.process_xbrl:[_direct_fact_to_row] Fact TradingSymbol: Found TimeFrameContext - Start: 2022-01-01 (Type: <class 'datetime.date'>), End: 2022-12-31 (Type: <class 'datetime.date'>)\n",
      "INFO:alphaledger.process_xbrl:[_direct_fact_to_row] Fact SecurityExchangeName: Found TimeFrameContext - Start: 2022-01-01 (Type: <class 'datetime.date'>), End: 2022-12-31 (Type: <class 'datetime.date'>)\n",
      "INFO:alphaledger.process_xbrl:[_direct_fact_to_row] Fact Security12bTitle: Found TimeFrameContext - Start: 2022-01-01 (Type: <class 'datetime.date'>), End: 2022-12-31 (Type: <class 'datetime.date'>)\n",
      "INFO:alphaledger.process_xbrl:[_direct_fact_to_row] Fact TradingSymbol: Found TimeFrameContext - Start: 2022-01-01 (Type: <class 'datetime.date'>), End: 2022-12-31 (Type: <class 'datetime.date'>)\n",
      "INFO:alphaledger.process_xbrl:[_direct_fact_to_row] Fact SecurityExchangeName: Found TimeFrameContext - Start: 2022-01-01 (Type: <class 'datetime.date'>), End: 2022-12-31 (Type: <class 'datetime.date'>)\n",
      "INFO:alphaledger.process_xbrl:[_direct_fact_to_row] Fact Security12bTitle: Found TimeFrameContext - Start: 2022-01-01 (Type: <class 'datetime.date'>), End: 2022-12-31 (Type: <class 'datetime.date'>)\n",
      "INFO:alphaledger.process_xbrl:[_direct_fact_to_row] Fact TradingSymbol: Found TimeFrameContext - Start: 2022-01-01 (Type: <class 'datetime.date'>), End: 2022-12-31 (Type: <class 'datetime.date'>)\n",
      "INFO:alphaledger.process_xbrl:[_direct_fact_to_row] Fact SecurityExchangeName: Found TimeFrameContext - Start: 2022-01-01 (Type: <class 'datetime.date'>), End: 2022-12-31 (Type: <class 'datetime.date'>)\n",
      "INFO:alphaledger.process_xbrl:[_direct_fact_to_row] Fact Security12bTitle: Found TimeFrameContext - Start: 2022-01-01 (Type: <class 'datetime.date'>), End: 2022-12-31 (Type: <class 'datetime.date'>)\n",
      "INFO:alphaledger.process_xbrl:[_direct_fact_to_row] Fact TradingSymbol: Found TimeFrameContext - Start: 2022-01-01 (Type: <class 'datetime.date'>), End: 2022-12-31 (Type: <class 'datetime.date'>)\n",
      "INFO:alphaledger.process_xbrl:[_direct_fact_to_row] Fact SecurityExchangeName: Found TimeFrameContext - Start: 2022-01-01 (Type: <class 'datetime.date'>), End: 2022-12-31 (Type: <class 'datetime.date'>)\n",
      "INFO:alphaledger.process_xbrl:[_direct_fact_to_row] Fact Security12bTitle: Found TimeFrameContext - Start: 2022-01-01 (Type: <class 'datetime.date'>), End: 2022-12-31 (Type: <class 'datetime.date'>)\n",
      "INFO:alphaledger.process_xbrl:[_direct_fact_to_row] Fact TradingSymbol: Found TimeFrameContext - Start: 2022-01-01 (Type: <class 'datetime.date'>), End: 2022-12-31 (Type: <class 'datetime.date'>)\n",
      "INFO:alphaledger.process_xbrl:[_direct_fact_to_row] Fact SecurityExchangeName: Found TimeFrameContext - Start: 2022-01-01 (Type: <class 'datetime.date'>), End: 2022-12-31 (Type: <class 'datetime.date'>)\n",
      "INFO:alphaledger.process_xbrl:[_direct_fact_to_row] Fact Security12bTitle: Found TimeFrameContext - Start: 2022-01-01 (Type: <class 'datetime.date'>), End: 2022-12-31 (Type: <class 'datetime.date'>)\n",
      "INFO:alphaledger.process_xbrl:[_direct_fact_to_row] Fact TradingSymbol: Found TimeFrameContext - Start: 2022-01-01 (Type: <class 'datetime.date'>), End: 2022-12-31 (Type: <class 'datetime.date'>)\n",
      "INFO:alphaledger.process_xbrl:[_direct_fact_to_row] Fact SecurityExchangeName: Found TimeFrameContext - Start: 2022-01-01 (Type: <class 'datetime.date'>), End: 2022-12-31 (Type: <class 'datetime.date'>)\n",
      "INFO:alphaledger.process_xbrl:[_direct_fact_to_row] Fact Security12bTitle: Found TimeFrameContext - Start: 2022-01-01 (Type: <class 'datetime.date'>), End: 2022-12-31 (Type: <class 'datetime.date'>)\n",
      "INFO:alphaledger.process_xbrl:[_direct_fact_to_row] Fact TradingSymbol: Found TimeFrameContext - Start: 2022-01-01 (Type: <class 'datetime.date'>), End: 2022-12-31 (Type: <class 'datetime.date'>)\n",
      "INFO:alphaledger.process_xbrl:[_direct_fact_to_row] Fact SecurityExchangeName: Found TimeFrameContext - Start: 2022-01-01 (Type: <class 'datetime.date'>), End: 2022-12-31 (Type: <class 'datetime.date'>)\n",
      "INFO:alphaledger.process_xbrl:[_direct_fact_to_row] Fact Security12bTitle: Found TimeFrameContext - Start: 2022-01-01 (Type: <class 'datetime.date'>), End: 2022-12-31 (Type: <class 'datetime.date'>)\n",
      "INFO:alphaledger.process_xbrl:[_direct_fact_to_row] Fact TradingSymbol: Found TimeFrameContext - Start: 2022-01-01 (Type: <class 'datetime.date'>), End: 2022-12-31 (Type: <class 'datetime.date'>)\n",
      "INFO:alphaledger.process_xbrl:[_direct_fact_to_row] Fact SecurityExchangeName: Found TimeFrameContext - Start: 2022-01-01 (Type: <class 'datetime.date'>), End: 2022-12-31 (Type: <class 'datetime.date'>)\n",
      "INFO:alphaledger.process_xbrl:[_direct_fact_to_row] Fact Security12bTitle: Found TimeFrameContext - Start: 2022-01-01 (Type: <class 'datetime.date'>), End: 2022-12-31 (Type: <class 'datetime.date'>)\n",
      "INFO:alphaledger.process_xbrl:[_direct_fact_to_row] Fact TradingSymbol: Found TimeFrameContext - Start: 2022-01-01 (Type: <class 'datetime.date'>), End: 2022-12-31 (Type: <class 'datetime.date'>)\n",
      "INFO:alphaledger.process_xbrl:[_direct_fact_to_row] Fact SecurityExchangeName: Found TimeFrameContext - Start: 2022-01-01 (Type: <class 'datetime.date'>), End: 2022-12-31 (Type: <class 'datetime.date'>)\n",
      "INFO:alphaledger.process_xbrl:[_direct_fact_to_row] Fact Security12bTitle: Found TimeFrameContext - Start: 2022-01-01 (Type: <class 'datetime.date'>), End: 2022-12-31 (Type: <class 'datetime.date'>)\n",
      "INFO:alphaledger.process_xbrl:[_direct_fact_to_row] Fact TradingSymbol: Found TimeFrameContext - Start: 2022-01-01 (Type: <class 'datetime.date'>), End: 2022-12-31 (Type: <class 'datetime.date'>)\n",
      "INFO:alphaledger.process_xbrl:[_direct_fact_to_row] Fact SecurityExchangeName: Found TimeFrameContext - Start: 2022-01-01 (Type: <class 'datetime.date'>), End: 2022-12-31 (Type: <class 'datetime.date'>)\n",
      "INFO:alphaledger.process_xbrl:[_direct_fact_to_row] Fact Security12bTitle: Found TimeFrameContext - Start: 2022-01-01 (Type: <class 'datetime.date'>), End: 2022-12-31 (Type: <class 'datetime.date'>)\n",
      "INFO:alphaledger.process_xbrl:[_direct_fact_to_row] Fact TradingSymbol: Found TimeFrameContext - Start: 2022-01-01 (Type: <class 'datetime.date'>), End: 2022-12-31 (Type: <class 'datetime.date'>)\n",
      "INFO:alphaledger.process_xbrl:[_direct_fact_to_row] Fact SecurityExchangeName: Found TimeFrameContext - Start: 2022-01-01 (Type: <class 'datetime.date'>), End: 2022-12-31 (Type: <class 'datetime.date'>)\n",
      "INFO:alphaledger.process_xbrl:[_direct_fact_to_row] Fact Security12bTitle: Found TimeFrameContext - Start: 2022-01-01 (Type: <class 'datetime.date'>), End: 2022-12-31 (Type: <class 'datetime.date'>)\n",
      "INFO:alphaledger.process_xbrl:[_direct_fact_to_row] Fact TradingSymbol: Found TimeFrameContext - Start: 2022-01-01 (Type: <class 'datetime.date'>), End: 2022-12-31 (Type: <class 'datetime.date'>)\n",
      "INFO:alphaledger.process_xbrl:[_direct_fact_to_row] Fact SecurityExchangeName: Found TimeFrameContext - Start: 2022-01-01 (Type: <class 'datetime.date'>), End: 2022-12-31 (Type: <class 'datetime.date'>)\n",
      "INFO:alphaledger.process_xbrl:[_direct_fact_to_row] Fact Security12bTitle: Found TimeFrameContext - Start: 2022-01-01 (Type: <class 'datetime.date'>), End: 2022-12-31 (Type: <class 'datetime.date'>)\n",
      "INFO:alphaledger.process_xbrl:[_direct_fact_to_row] Fact TradingSymbol: Found TimeFrameContext - Start: 2022-01-01 (Type: <class 'datetime.date'>), End: 2022-12-31 (Type: <class 'datetime.date'>)\n",
      "INFO:alphaledger.process_xbrl:[_direct_fact_to_row] Fact SecurityExchangeName: Found TimeFrameContext - Start: 2022-01-01 (Type: <class 'datetime.date'>), End: 2022-12-31 (Type: <class 'datetime.date'>)\n",
      "INFO:alphaledger.process_xbrl:[_direct_fact_to_row] Fact Security12bTitle: Found TimeFrameContext - Start: 2022-01-01 (Type: <class 'datetime.date'>), End: 2022-12-31 (Type: <class 'datetime.date'>)\n",
      "INFO:alphaledger.process_xbrl:[_direct_fact_to_row] Fact TradingSymbol: Found TimeFrameContext - Start: 2022-01-01 (Type: <class 'datetime.date'>), End: 2022-12-31 (Type: <class 'datetime.date'>)\n",
      "INFO:alphaledger.process_xbrl:[_direct_fact_to_row] Fact SecurityExchangeName: Found TimeFrameContext - Start: 2022-01-01 (Type: <class 'datetime.date'>), End: 2022-12-31 (Type: <class 'datetime.date'>)\n",
      "INFO:alphaledger.process_xbrl:[_direct_fact_to_row] Fact Security12bTitle: Found TimeFrameContext - Start: 2022-01-01 (Type: <class 'datetime.date'>), End: 2022-12-31 (Type: <class 'datetime.date'>)\n",
      "INFO:alphaledger.process_xbrl:[_direct_fact_to_row] Fact TradingSymbol: Found TimeFrameContext - Start: 2022-01-01 (Type: <class 'datetime.date'>), End: 2022-12-31 (Type: <class 'datetime.date'>)\n",
      "INFO:alphaledger.process_xbrl:[_direct_fact_to_row] Fact SecurityExchangeName: Found TimeFrameContext - Start: 2022-01-01 (Type: <class 'datetime.date'>), End: 2022-12-31 (Type: <class 'datetime.date'>)\n",
      "INFO:alphaledger.process_xbrl:[_direct_fact_to_row] Fact Security12bTitle: Found TimeFrameContext - Start: 2022-01-01 (Type: <class 'datetime.date'>), End: 2022-12-31 (Type: <class 'datetime.date'>)\n",
      "INFO:alphaledger.process_xbrl:[_direct_fact_to_row] Fact TradingSymbol: Found TimeFrameContext - Start: 2022-01-01 (Type: <class 'datetime.date'>), End: 2022-12-31 (Type: <class 'datetime.date'>)\n",
      "INFO:alphaledger.process_xbrl:[_direct_fact_to_row] Fact SecurityExchangeName: Found TimeFrameContext - Start: 2022-01-01 (Type: <class 'datetime.date'>), End: 2022-12-31 (Type: <class 'datetime.date'>)\n",
      "INFO:alphaledger.process_xbrl:[_direct_fact_to_row] Fact EntityWellKnownSeasonedIssuer: Found TimeFrameContext - Start: 2022-01-01 (Type: <class 'datetime.date'>), End: 2022-12-31 (Type: <class 'datetime.date'>)\n",
      "INFO:alphaledger.process_xbrl:[_direct_fact_to_row] Fact EntityVoluntaryFilers: Found TimeFrameContext - Start: 2022-01-01 (Type: <class 'datetime.date'>), End: 2022-12-31 (Type: <class 'datetime.date'>)\n",
      "INFO:alphaledger.process_xbrl:[_direct_fact_to_row] Fact EntityCurrentReportingStatus: Found TimeFrameContext - Start: 2022-01-01 (Type: <class 'datetime.date'>), End: 2022-12-31 (Type: <class 'datetime.date'>)\n",
      "INFO:alphaledger.process_xbrl:[_direct_fact_to_row] Fact EntityInteractiveDataCurrent: Found TimeFrameContext - Start: 2022-01-01 (Type: <class 'datetime.date'>), End: 2022-12-31 (Type: <class 'datetime.date'>)\n",
      "INFO:alphaledger.process_xbrl:[_direct_fact_to_row] Fact EntityFilerCategory: Found TimeFrameContext - Start: 2022-01-01 (Type: <class 'datetime.date'>), End: 2022-12-31 (Type: <class 'datetime.date'>)\n",
      "INFO:alphaledger.process_xbrl:[_direct_fact_to_row] Fact EntitySmallBusiness: Found TimeFrameContext - Start: 2022-01-01 (Type: <class 'datetime.date'>), End: 2022-12-31 (Type: <class 'datetime.date'>)\n",
      "INFO:alphaledger.process_xbrl:[_direct_fact_to_row] Fact EntityEmergingGrowthCompany: Found TimeFrameContext - Start: 2022-01-01 (Type: <class 'datetime.date'>), End: 2022-12-31 (Type: <class 'datetime.date'>)\n",
      "INFO:alphaledger.process_xbrl:[_direct_fact_to_row] Fact IcfrAuditorAttestationFlag: Found TimeFrameContext - Start: 2022-01-01 (Type: <class 'datetime.date'>), End: 2022-12-31 (Type: <class 'datetime.date'>)\n",
      "INFO:alphaledger.process_xbrl:[_direct_fact_to_row] Fact EntityShellCompany: Found TimeFrameContext - Start: 2022-01-01 (Type: <class 'datetime.date'>), End: 2022-12-31 (Type: <class 'datetime.date'>)\n",
      "INFO:alphaledger.process_xbrl:[_direct_fact_to_row] Fact AuditorFirmId: Found TimeFrameContext - Start: 2022-01-01 (Type: <class 'datetime.date'>), End: 2022-12-31 (Type: <class 'datetime.date'>)\n",
      "INFO:alphaledger.process_xbrl:[_direct_fact_to_row] Fact AuditorName: Found TimeFrameContext - Start: 2022-01-01 (Type: <class 'datetime.date'>), End: 2022-12-31 (Type: <class 'datetime.date'>)\n",
      "INFO:alphaledger.process_xbrl:[_direct_fact_to_row] Fact AuditorLocation: Found TimeFrameContext - Start: 2022-01-01 (Type: <class 'datetime.date'>), End: 2022-12-31 (Type: <class 'datetime.date'>)\n",
      "INFO:alphaledger.process_xbrl:[_direct_fact_to_row] Fact ScheduleOfValuationAndQualifyingAccountsDisclosureTextBlock: Found TimeFrameContext - Start: 2022-01-01 (Type: <class 'datetime.date'>), End: 2022-12-31 (Type: <class 'datetime.date'>)\n",
      "WARNING:root:Could not transform value \"New York Stock Exchange\" with format ixt-sec:exchnameen\n",
      "WARNING:root:Could not transform value \"New York Stock Exchange\" with format ixt-sec:exchnameen\n",
      "WARNING:root:Could not transform value \"New York Stock Exchange\" with format ixt-sec:exchnameen\n",
      "WARNING:root:Could not transform value \"New York Stock Exchange\" with format ixt-sec:exchnameen\n",
      "WARNING:root:Could not transform value \"New York Stock Exchange\" with format ixt-sec:exchnameen\n",
      "WARNING:root:Could not transform value \"New York Stock Exchange\" with format ixt-sec:exchnameen\n",
      "WARNING:root:Could not transform value \"New York Stock Exchange\" with format ixt-sec:exchnameen\n",
      "WARNING:root:Could not transform value \"New York Stock Exchange\" with format ixt-sec:exchnameen\n",
      "WARNING:root:Could not transform value \"New York Stock Exchange\" with format ixt-sec:exchnameen\n",
      "WARNING:root:Could not transform value \"New York Stock Exchange\" with format ixt-sec:exchnameen\n",
      "WARNING:root:Could not transform value \"New York Stock Exchange\" with format ixt-sec:exchnameen\n",
      "WARNING:root:Could not transform value \"New York Stock Exchange\" with format ixt-sec:exchnameen\n",
      "WARNING:root:Could not transform value \"New York Stock Exchange\" with format ixt-sec:exchnameen\n",
      "WARNING:root:Could not transform value \"New York Stock Exchange\" with format ixt-sec:exchnameen\n",
      "WARNING:root:Could not transform value \"New York Stock Exchange\" with format ixt-sec:exchnameen\n",
      "WARNING:root:Could not transform value \"New York Stock Exchange\" with format ixt-sec:exchnameen\n",
      "WARNING:root:Could not transform value \"New York Stock Exchange\" with format ixt-sec:exchnameen\n",
      "WARNING:root:Could not transform value \"New York Stock Exchange\" with format ixt-sec:exchnameen\n",
      "INFO:alphaledger.process_xbrl:[_direct_fact_to_row] Fact EntityPublicFloat: Found InstantContext - Instant: 2021-06-30 (Type: <class 'datetime.date'>)\n",
      "INFO:alphaledger.process_xbrl:[_direct_fact_to_row] Fact EntityCommonStockSharesOutstanding: Found InstantContext - Instant: 2022-02-11 (Type: <class 'datetime.date'>)\n",
      "INFO:alphaledger.process_xbrl:[_direct_fact_to_row] Fact ValuationAllowancesAndReservesBalance: Found InstantContext - Instant: 2020-12-31 (Type: <class 'datetime.date'>)\n",
      "INFO:alphaledger.process_xbrl:[_direct_fact_to_row] Fact ValuationAllowancesAndReservesChargedToCostAndExpense: Found TimeFrameContext - Start: 2021-01-01 (Type: <class 'datetime.date'>), End: 2021-12-31 (Type: <class 'datetime.date'>)\n",
      "INFO:alphaledger.process_xbrl:[_direct_fact_to_row] Fact ValuationAllowancesAndReservesDeductions: Found TimeFrameContext - Start: 2021-01-01 (Type: <class 'datetime.date'>), End: 2021-12-31 (Type: <class 'datetime.date'>)\n",
      "INFO:alphaledger.process_xbrl:[_direct_fact_to_row] Fact ValuationAllowancesAndReservesAdjustments: Found TimeFrameContext - Start: 2021-01-01 (Type: <class 'datetime.date'>), End: 2021-12-31 (Type: <class 'datetime.date'>)\n",
      "INFO:alphaledger.process_xbrl:[_direct_fact_to_row] Fact ValuationAllowancesAndReservesBalance: Found InstantContext - Instant: 2021-12-31 (Type: <class 'datetime.date'>)\n",
      "INFO:alphaledger.process_xbrl:[_direct_fact_to_row] Fact ValuationAllowancesAndReservesBalance: Found InstantContext - Instant: 2020-12-31 (Type: <class 'datetime.date'>)\n",
      "INFO:alphaledger.process_xbrl:[_direct_fact_to_row] Fact ValuationAllowancesAndReservesChargedToCostAndExpense: Found TimeFrameContext - Start: 2021-01-01 (Type: <class 'datetime.date'>), End: 2021-12-31 (Type: <class 'datetime.date'>)\n",
      "INFO:alphaledger.process_xbrl:[_direct_fact_to_row] Fact ValuationAllowancesAndReservesDeductions: Found TimeFrameContext - Start: 2021-01-01 (Type: <class 'datetime.date'>), End: 2021-12-31 (Type: <class 'datetime.date'>)\n",
      "INFO:alphaledger.process_xbrl:[_direct_fact_to_row] Fact ValuationAllowancesAndReservesAdjustments: Found TimeFrameContext - Start: 2021-01-01 (Type: <class 'datetime.date'>), End: 2021-12-31 (Type: <class 'datetime.date'>)\n",
      "INFO:alphaledger.process_xbrl:[_direct_fact_to_row] Fact ValuationAllowancesAndReservesBalance: Found InstantContext - Instant: 2021-12-31 (Type: <class 'datetime.date'>)\n",
      "INFO:alphaledger.process_xbrl:[_direct_fact_to_row] Fact ValuationAllowancesAndReservesBalance: Found InstantContext - Instant: 2019-12-31 (Type: <class 'datetime.date'>)\n",
      "INFO:alphaledger.process_xbrl:[_direct_fact_to_row] Fact ValuationAllowancesAndReservesChargedToCostAndExpense: Found TimeFrameContext - Start: 2020-01-01 (Type: <class 'datetime.date'>), End: 2020-12-31 (Type: <class 'datetime.date'>)\n",
      "INFO:alphaledger.process_xbrl:[_direct_fact_to_row] Fact ValuationAllowancesAndReservesDeductions: Found TimeFrameContext - Start: 2020-01-01 (Type: <class 'datetime.date'>), End: 2020-12-31 (Type: <class 'datetime.date'>)\n",
      "INFO:alphaledger.process_xbrl:[_direct_fact_to_row] Fact ValuationAllowancesAndReservesAdjustments: Found TimeFrameContext - Start: 2020-01-01 (Type: <class 'datetime.date'>), End: 2020-12-31 (Type: <class 'datetime.date'>)\n",
      "INFO:alphaledger.process_xbrl:[_direct_fact_to_row] Fact ValuationAllowancesAndReservesBalance: Found InstantContext - Instant: 2020-12-31 (Type: <class 'datetime.date'>)\n",
      "INFO:alphaledger.process_xbrl:[_direct_fact_to_row] Fact ValuationAllowancesAndReservesBalance: Found InstantContext - Instant: 2019-12-31 (Type: <class 'datetime.date'>)\n",
      "INFO:alphaledger.process_xbrl:[_direct_fact_to_row] Fact ValuationAllowancesAndReservesChargedToCostAndExpense: Found TimeFrameContext - Start: 2020-01-01 (Type: <class 'datetime.date'>), End: 2020-12-31 (Type: <class 'datetime.date'>)\n",
      "INFO:alphaledger.process_xbrl:[_direct_fact_to_row] Fact ValuationAllowancesAndReservesDeductions: Found TimeFrameContext - Start: 2020-01-01 (Type: <class 'datetime.date'>), End: 2020-12-31 (Type: <class 'datetime.date'>)\n",
      "INFO:alphaledger.process_xbrl:[_direct_fact_to_row] Fact ValuationAllowancesAndReservesAdjustments: Found TimeFrameContext - Start: 2020-01-01 (Type: <class 'datetime.date'>), End: 2020-12-31 (Type: <class 'datetime.date'>)\n",
      "INFO:alphaledger.process_xbrl:[_direct_fact_to_row] Fact ValuationAllowancesAndReservesBalance: Found InstantContext - Instant: 2020-12-31 (Type: <class 'datetime.date'>)\n",
      "INFO:alphaledger.process_xbrl:[_direct_fact_to_row] Fact ValuationAllowancesAndReservesBalance: Found InstantContext - Instant: 2018-12-31 (Type: <class 'datetime.date'>)\n",
      "INFO:alphaledger.process_xbrl:[_direct_fact_to_row] Fact ValuationAllowancesAndReservesChargedToCostAndExpense: Found TimeFrameContext - Start: 2019-01-01 (Type: <class 'datetime.date'>), End: 2019-12-31 (Type: <class 'datetime.date'>)\n",
      "INFO:alphaledger.process_xbrl:[_direct_fact_to_row] Fact ValuationAllowancesAndReservesDeductions: Found TimeFrameContext - Start: 2019-01-01 (Type: <class 'datetime.date'>), End: 2019-12-31 (Type: <class 'datetime.date'>)\n",
      "INFO:alphaledger.process_xbrl:[_direct_fact_to_row] Fact ValuationAllowancesAndReservesAdjustments: Found TimeFrameContext - Start: 2019-01-01 (Type: <class 'datetime.date'>), End: 2019-12-31 (Type: <class 'datetime.date'>)\n",
      "INFO:alphaledger.process_xbrl:[_direct_fact_to_row] Fact ValuationAllowancesAndReservesBalance: Found InstantContext - Instant: 2019-12-31 (Type: <class 'datetime.date'>)\n",
      "INFO:alphaledger.process_xbrl:[_direct_fact_to_row] Fact ValuationAllowancesAndReservesBalance: Found InstantContext - Instant: 2018-12-31 (Type: <class 'datetime.date'>)\n",
      "INFO:alphaledger.process_xbrl:[_direct_fact_to_row] Fact ValuationAllowancesAndReservesChargedToCostAndExpense: Found TimeFrameContext - Start: 2019-01-01 (Type: <class 'datetime.date'>), End: 2019-12-31 (Type: <class 'datetime.date'>)\n",
      "INFO:alphaledger.process_xbrl:[_direct_fact_to_row] Fact ValuationAllowancesAndReservesDeductions: Found TimeFrameContext - Start: 2019-01-01 (Type: <class 'datetime.date'>), End: 2019-12-31 (Type: <class 'datetime.date'>)\n",
      "INFO:alphaledger.process_xbrl:[_direct_fact_to_row] Fact ValuationAllowancesAndReservesAdjustments: Found TimeFrameContext - Start: 2019-01-01 (Type: <class 'datetime.date'>), End: 2019-12-31 (Type: <class 'datetime.date'>)\n",
      "INFO:alphaledger.process_xbrl:[_direct_fact_to_row] Fact ValuationAllowancesAndReservesBalance: Found InstantContext - Instant: 2019-12-31 (Type: <class 'datetime.date'>)\n",
      "INFO:alphaledger.process_xbrl:[_direct_fact_to_row] Fact ValuationAllowancesAndReservesBalance: Found InstantContext - Instant: 2020-12-31 (Type: <class 'datetime.date'>)\n",
      "INFO:alphaledger.process_xbrl:[_direct_fact_to_row] Fact ValuationAllowancesAndReservesChargedToCostAndExpense: Found TimeFrameContext - Start: 2021-01-01 (Type: <class 'datetime.date'>), End: 2021-12-31 (Type: <class 'datetime.date'>)\n",
      "INFO:alphaledger.process_xbrl:[_direct_fact_to_row] Fact ValuationAllowancesAndReservesDeductions: Found TimeFrameContext - Start: 2021-01-01 (Type: <class 'datetime.date'>), End: 2021-12-31 (Type: <class 'datetime.date'>)\n",
      "INFO:alphaledger.process_xbrl:[_direct_fact_to_row] Fact ValuationAllowancesAndReservesAdjustments: Found TimeFrameContext - Start: 2021-01-01 (Type: <class 'datetime.date'>), End: 2021-12-31 (Type: <class 'datetime.date'>)\n",
      "INFO:alphaledger.process_xbrl:[_direct_fact_to_row] Fact ValuationAllowancesAndReservesBalance: Found InstantContext - Instant: 2021-12-31 (Type: <class 'datetime.date'>)\n",
      "INFO:alphaledger.process_xbrl:[_direct_fact_to_row] Fact ValuationAllowancesAndReservesBalance: Found InstantContext - Instant: 2019-12-31 (Type: <class 'datetime.date'>)\n",
      "INFO:alphaledger.process_xbrl:[_direct_fact_to_row] Fact ValuationAllowancesAndReservesChargedToCostAndExpense: Found TimeFrameContext - Start: 2020-01-01 (Type: <class 'datetime.date'>), End: 2020-12-31 (Type: <class 'datetime.date'>)\n",
      "INFO:alphaledger.process_xbrl:[_direct_fact_to_row] Fact ValuationAllowancesAndReservesDeductions: Found TimeFrameContext - Start: 2020-01-01 (Type: <class 'datetime.date'>), End: 2020-12-31 (Type: <class 'datetime.date'>)\n",
      "INFO:alphaledger.process_xbrl:[_direct_fact_to_row] Fact ValuationAllowancesAndReservesAdjustments: Found TimeFrameContext - Start: 2020-01-01 (Type: <class 'datetime.date'>), End: 2020-12-31 (Type: <class 'datetime.date'>)\n",
      "INFO:alphaledger.process_xbrl:[_direct_fact_to_row] Fact ValuationAllowancesAndReservesBalance: Found InstantContext - Instant: 2020-12-31 (Type: <class 'datetime.date'>)\n",
      "INFO:alphaledger.process_xbrl:[_direct_fact_to_row] Fact ValuationAllowancesAndReservesBalance: Found InstantContext - Instant: 2018-12-31 (Type: <class 'datetime.date'>)\n",
      "INFO:alphaledger.process_xbrl:[_direct_fact_to_row] Fact ValuationAllowancesAndReservesChargedToCostAndExpense: Found TimeFrameContext - Start: 2019-01-01 (Type: <class 'datetime.date'>), End: 2019-12-31 (Type: <class 'datetime.date'>)\n",
      "INFO:alphaledger.process_xbrl:[_direct_fact_to_row] Fact ValuationAllowancesAndReservesDeductions: Found TimeFrameContext - Start: 2019-01-01 (Type: <class 'datetime.date'>), End: 2019-12-31 (Type: <class 'datetime.date'>)\n",
      "INFO:alphaledger.process_xbrl:[_direct_fact_to_row] Fact ValuationAllowancesAndReservesAdjustments: Found TimeFrameContext - Start: 2019-01-01 (Type: <class 'datetime.date'>), End: 2019-12-31 (Type: <class 'datetime.date'>)\n",
      "INFO:alphaledger.process_xbrl:[_direct_fact_to_row] Fact ValuationAllowancesAndReservesBalance: Found InstantContext - Instant: 2019-12-31 (Type: <class 'datetime.date'>)\n",
      "INFO:alphaledger.process_xbrl:[_direct_fact_to_row] Fact ValuationAllowancesAndReservesBalance: Found InstantContext - Instant: 2020-12-31 (Type: <class 'datetime.date'>)\n",
      "INFO:alphaledger.process_xbrl:[_direct_fact_to_row] Fact ValuationAllowancesAndReservesChargedToOtherAccounts: Found TimeFrameContext - Start: 2021-01-01 (Type: <class 'datetime.date'>), End: 2021-12-31 (Type: <class 'datetime.date'>)\n",
      "INFO:alphaledger.process_xbrl:[_direct_fact_to_row] Fact ValuationAllowancesAndReservesDeductions: Found TimeFrameContext - Start: 2021-01-01 (Type: <class 'datetime.date'>), End: 2021-12-31 (Type: <class 'datetime.date'>)\n",
      "INFO:alphaledger.process_xbrl:[_direct_fact_to_row] Fact ValuationAllowancesAndReservesAdjustments: Found TimeFrameContext - Start: 2021-01-01 (Type: <class 'datetime.date'>), End: 2021-12-31 (Type: <class 'datetime.date'>)\n",
      "INFO:alphaledger.process_xbrl:[_direct_fact_to_row] Fact ValuationAllowancesAndReservesBalance: Found InstantContext - Instant: 2021-12-31 (Type: <class 'datetime.date'>)\n",
      "INFO:alphaledger.process_xbrl:[_direct_fact_to_row] Fact ValuationAllowancesAndReservesBalance: Found InstantContext - Instant: 2019-12-31 (Type: <class 'datetime.date'>)\n",
      "INFO:alphaledger.process_xbrl:[_direct_fact_to_row] Fact ValuationAllowancesAndReservesChargedToOtherAccounts: Found TimeFrameContext - Start: 2020-01-01 (Type: <class 'datetime.date'>), End: 2020-12-31 (Type: <class 'datetime.date'>)\n",
      "INFO:alphaledger.process_xbrl:[_direct_fact_to_row] Fact ValuationAllowancesAndReservesDeductions: Found TimeFrameContext - Start: 2020-01-01 (Type: <class 'datetime.date'>), End: 2020-12-31 (Type: <class 'datetime.date'>)\n",
      "INFO:alphaledger.process_xbrl:[_direct_fact_to_row] Fact ValuationAllowancesAndReservesAdjustments: Found TimeFrameContext - Start: 2020-01-01 (Type: <class 'datetime.date'>), End: 2020-12-31 (Type: <class 'datetime.date'>)\n",
      "INFO:alphaledger.process_xbrl:[_direct_fact_to_row] Fact ValuationAllowancesAndReservesBalance: Found InstantContext - Instant: 2020-12-31 (Type: <class 'datetime.date'>)\n",
      "INFO:alphaledger.process_xbrl:[_direct_fact_to_row] Fact ValuationAllowancesAndReservesBalance: Found InstantContext - Instant: 2018-12-31 (Type: <class 'datetime.date'>)\n",
      "INFO:alphaledger.process_xbrl:[_direct_fact_to_row] Fact ValuationAllowancesAndReservesChargedToOtherAccounts: Found TimeFrameContext - Start: 2019-01-01 (Type: <class 'datetime.date'>), End: 2019-12-31 (Type: <class 'datetime.date'>)\n",
      "INFO:alphaledger.process_xbrl:[_direct_fact_to_row] Fact ValuationAllowancesAndReservesDeductions: Found TimeFrameContext - Start: 2019-01-01 (Type: <class 'datetime.date'>), End: 2019-12-31 (Type: <class 'datetime.date'>)\n",
      "INFO:alphaledger.process_xbrl:[_direct_fact_to_row] Fact ValuationAllowancesAndReservesAdjustments: Found TimeFrameContext - Start: 2019-01-01 (Type: <class 'datetime.date'>), End: 2019-12-31 (Type: <class 'datetime.date'>)\n",
      "INFO:alphaledger.process_xbrl:[_direct_fact_to_row] Fact ValuationAllowancesAndReservesBalance: Found InstantContext - Instant: 2019-12-31 (Type: <class 'datetime.date'>)\n",
      "INFO:alphaledger.process_xbrl:[_direct_fact_to_row] Fact Security12bTitle: Found TimeFrameContext - Start: 2021-01-01 (Type: <class 'datetime.date'>), End: 2021-12-31 (Type: <class 'datetime.date'>)\n",
      "INFO:alphaledger.process_xbrl:[_direct_fact_to_row] Fact TradingSymbol: Found TimeFrameContext - Start: 2021-01-01 (Type: <class 'datetime.date'>), End: 2021-12-31 (Type: <class 'datetime.date'>)\n",
      "INFO:alphaledger.process_xbrl:[_direct_fact_to_row] Fact SecurityExchangeName: Found TimeFrameContext - Start: 2021-01-01 (Type: <class 'datetime.date'>), End: 2021-12-31 (Type: <class 'datetime.date'>)\n",
      "INFO:alphaledger.process_xbrl:[_direct_fact_to_row] Fact EntityCentralIndexKey: Found TimeFrameContext - Start: 2021-01-01 (Type: <class 'datetime.date'>), End: 2021-12-31 (Type: <class 'datetime.date'>)\n",
      "INFO:alphaledger.process_xbrl:[_direct_fact_to_row] Fact CurrentFiscalYearEndDate: Found TimeFrameContext - Start: 2021-01-01 (Type: <class 'datetime.date'>), End: 2021-12-31 (Type: <class 'datetime.date'>)\n",
      "INFO:alphaledger.process_xbrl:[_direct_fact_to_row] Fact DocumentFiscalYearFocus: Found TimeFrameContext - Start: 2021-01-01 (Type: <class 'datetime.date'>), End: 2021-12-31 (Type: <class 'datetime.date'>)\n",
      "INFO:alphaledger.process_xbrl:[_direct_fact_to_row] Fact DocumentFiscalPeriodFocus: Found TimeFrameContext - Start: 2021-01-01 (Type: <class 'datetime.date'>), End: 2021-12-31 (Type: <class 'datetime.date'>)\n",
      "INFO:alphaledger.process_xbrl:[_direct_fact_to_row] Fact AmendmentFlag: Found TimeFrameContext - Start: 2021-01-01 (Type: <class 'datetime.date'>), End: 2021-12-31 (Type: <class 'datetime.date'>)\n",
      "INFO:alphaledger.process_xbrl:[_direct_fact_to_row] Fact DocumentType: Found TimeFrameContext - Start: 2021-01-01 (Type: <class 'datetime.date'>), End: 2021-12-31 (Type: <class 'datetime.date'>)\n",
      "INFO:alphaledger.process_xbrl:[_direct_fact_to_row] Fact DocumentAnnualReport: Found TimeFrameContext - Start: 2021-01-01 (Type: <class 'datetime.date'>), End: 2021-12-31 (Type: <class 'datetime.date'>)\n",
      "INFO:alphaledger.process_xbrl:[_direct_fact_to_row] Fact DocumentTransitionReport: Found TimeFrameContext - Start: 2021-01-01 (Type: <class 'datetime.date'>), End: 2021-12-31 (Type: <class 'datetime.date'>)\n",
      "INFO:alphaledger.process_xbrl:[_direct_fact_to_row] Fact DocumentPeriodEndDate: Found TimeFrameContext - Start: 2021-01-01 (Type: <class 'datetime.date'>), End: 2021-12-31 (Type: <class 'datetime.date'>)\n",
      "INFO:alphaledger.process_xbrl:[_direct_fact_to_row] Fact EntityFileNumber: Found TimeFrameContext - Start: 2021-01-01 (Type: <class 'datetime.date'>), End: 2021-12-31 (Type: <class 'datetime.date'>)\n",
      "INFO:alphaledger.process_xbrl:[_direct_fact_to_row] Fact EntityRegistrantName: Found TimeFrameContext - Start: 2021-01-01 (Type: <class 'datetime.date'>), End: 2021-12-31 (Type: <class 'datetime.date'>)\n",
      "INFO:alphaledger.process_xbrl:[_direct_fact_to_row] Fact EntityIncorporationStateCountryCode: Found TimeFrameContext - Start: 2021-01-01 (Type: <class 'datetime.date'>), End: 2021-12-31 (Type: <class 'datetime.date'>)\n",
      "INFO:alphaledger.process_xbrl:[_direct_fact_to_row] Fact EntityAddressAddressLine1: Found TimeFrameContext - Start: 2021-01-01 (Type: <class 'datetime.date'>), End: 2021-12-31 (Type: <class 'datetime.date'>)\n",
      "INFO:alphaledger.process_xbrl:[_direct_fact_to_row] Fact EntityTaxIdentificationNumber: Found TimeFrameContext - Start: 2021-01-01 (Type: <class 'datetime.date'>), End: 2021-12-31 (Type: <class 'datetime.date'>)\n",
      "INFO:alphaledger.process_xbrl:[_direct_fact_to_row] Fact EntityAddressCityOrTown: Found TimeFrameContext - Start: 2021-01-01 (Type: <class 'datetime.date'>), End: 2021-12-31 (Type: <class 'datetime.date'>)\n",
      "INFO:alphaledger.process_xbrl:[_direct_fact_to_row] Fact EntityAddressStateOrProvince: Found TimeFrameContext - Start: 2021-01-01 (Type: <class 'datetime.date'>), End: 2021-12-31 (Type: <class 'datetime.date'>)\n",
      "INFO:alphaledger.process_xbrl:[_direct_fact_to_row] Fact EntityAddressPostalZipCode: Found TimeFrameContext - Start: 2021-01-01 (Type: <class 'datetime.date'>), End: 2021-12-31 (Type: <class 'datetime.date'>)\n",
      "INFO:alphaledger.process_xbrl:[_direct_fact_to_row] Fact CityAreaCode: Found TimeFrameContext - Start: 2021-01-01 (Type: <class 'datetime.date'>), End: 2021-12-31 (Type: <class 'datetime.date'>)\n",
      "INFO:alphaledger.process_xbrl:[_direct_fact_to_row] Fact LocalPhoneNumber: Found TimeFrameContext - Start: 2021-01-01 (Type: <class 'datetime.date'>), End: 2021-12-31 (Type: <class 'datetime.date'>)\n",
      "INFO:alphaledger.process_xbrl:[_direct_fact_to_row] Fact Security12bTitle: Found TimeFrameContext - Start: 2021-01-01 (Type: <class 'datetime.date'>), End: 2021-12-31 (Type: <class 'datetime.date'>)\n",
      "INFO:alphaledger.process_xbrl:[_direct_fact_to_row] Fact TradingSymbol: Found TimeFrameContext - Start: 2021-01-01 (Type: <class 'datetime.date'>), End: 2021-12-31 (Type: <class 'datetime.date'>)\n",
      "INFO:alphaledger.process_xbrl:[_direct_fact_to_row] Fact SecurityExchangeName: Found TimeFrameContext - Start: 2021-01-01 (Type: <class 'datetime.date'>), End: 2021-12-31 (Type: <class 'datetime.date'>)\n",
      "INFO:alphaledger.process_xbrl:[_direct_fact_to_row] Fact Security12bTitle: Found TimeFrameContext - Start: 2021-01-01 (Type: <class 'datetime.date'>), End: 2021-12-31 (Type: <class 'datetime.date'>)\n",
      "INFO:alphaledger.process_xbrl:[_direct_fact_to_row] Fact TradingSymbol: Found TimeFrameContext - Start: 2021-01-01 (Type: <class 'datetime.date'>), End: 2021-12-31 (Type: <class 'datetime.date'>)\n",
      "INFO:alphaledger.process_xbrl:[_direct_fact_to_row] Fact SecurityExchangeName: Found TimeFrameContext - Start: 2021-01-01 (Type: <class 'datetime.date'>), End: 2021-12-31 (Type: <class 'datetime.date'>)\n",
      "INFO:alphaledger.process_xbrl:[_direct_fact_to_row] Fact Security12bTitle: Found TimeFrameContext - Start: 2021-01-01 (Type: <class 'datetime.date'>), End: 2021-12-31 (Type: <class 'datetime.date'>)\n",
      "INFO:alphaledger.process_xbrl:[_direct_fact_to_row] Fact TradingSymbol: Found TimeFrameContext - Start: 2021-01-01 (Type: <class 'datetime.date'>), End: 2021-12-31 (Type: <class 'datetime.date'>)\n",
      "INFO:alphaledger.process_xbrl:[_direct_fact_to_row] Fact SecurityExchangeName: Found TimeFrameContext - Start: 2021-01-01 (Type: <class 'datetime.date'>), End: 2021-12-31 (Type: <class 'datetime.date'>)\n",
      "INFO:alphaledger.process_xbrl:[_direct_fact_to_row] Fact Security12bTitle: Found TimeFrameContext - Start: 2021-01-01 (Type: <class 'datetime.date'>), End: 2021-12-31 (Type: <class 'datetime.date'>)\n",
      "INFO:alphaledger.process_xbrl:[_direct_fact_to_row] Fact TradingSymbol: Found TimeFrameContext - Start: 2021-01-01 (Type: <class 'datetime.date'>), End: 2021-12-31 (Type: <class 'datetime.date'>)\n",
      "INFO:alphaledger.process_xbrl:[_direct_fact_to_row] Fact SecurityExchangeName: Found TimeFrameContext - Start: 2021-01-01 (Type: <class 'datetime.date'>), End: 2021-12-31 (Type: <class 'datetime.date'>)\n",
      "INFO:alphaledger.process_xbrl:[_direct_fact_to_row] Fact Security12bTitle: Found TimeFrameContext - Start: 2021-01-01 (Type: <class 'datetime.date'>), End: 2021-12-31 (Type: <class 'datetime.date'>)\n",
      "INFO:alphaledger.process_xbrl:[_direct_fact_to_row] Fact TradingSymbol: Found TimeFrameContext - Start: 2021-01-01 (Type: <class 'datetime.date'>), End: 2021-12-31 (Type: <class 'datetime.date'>)\n",
      "INFO:alphaledger.process_xbrl:[_direct_fact_to_row] Fact SecurityExchangeName: Found TimeFrameContext - Start: 2021-01-01 (Type: <class 'datetime.date'>), End: 2021-12-31 (Type: <class 'datetime.date'>)\n",
      "INFO:alphaledger.process_xbrl:[_direct_fact_to_row] Fact Security12bTitle: Found TimeFrameContext - Start: 2021-01-01 (Type: <class 'datetime.date'>), End: 2021-12-31 (Type: <class 'datetime.date'>)\n",
      "INFO:alphaledger.process_xbrl:[_direct_fact_to_row] Fact TradingSymbol: Found TimeFrameContext - Start: 2021-01-01 (Type: <class 'datetime.date'>), End: 2021-12-31 (Type: <class 'datetime.date'>)\n",
      "INFO:alphaledger.process_xbrl:[_direct_fact_to_row] Fact SecurityExchangeName: Found TimeFrameContext - Start: 2021-01-01 (Type: <class 'datetime.date'>), End: 2021-12-31 (Type: <class 'datetime.date'>)\n",
      "INFO:alphaledger.process_xbrl:[_direct_fact_to_row] Fact Security12bTitle: Found TimeFrameContext - Start: 2021-01-01 (Type: <class 'datetime.date'>), End: 2021-12-31 (Type: <class 'datetime.date'>)\n",
      "INFO:alphaledger.process_xbrl:[_direct_fact_to_row] Fact TradingSymbol: Found TimeFrameContext - Start: 2021-01-01 (Type: <class 'datetime.date'>), End: 2021-12-31 (Type: <class 'datetime.date'>)\n",
      "INFO:alphaledger.process_xbrl:[_direct_fact_to_row] Fact SecurityExchangeName: Found TimeFrameContext - Start: 2021-01-01 (Type: <class 'datetime.date'>), End: 2021-12-31 (Type: <class 'datetime.date'>)\n",
      "INFO:alphaledger.process_xbrl:[_direct_fact_to_row] Fact Security12bTitle: Found TimeFrameContext - Start: 2021-01-01 (Type: <class 'datetime.date'>), End: 2021-12-31 (Type: <class 'datetime.date'>)\n",
      "INFO:alphaledger.process_xbrl:[_direct_fact_to_row] Fact TradingSymbol: Found TimeFrameContext - Start: 2021-01-01 (Type: <class 'datetime.date'>), End: 2021-12-31 (Type: <class 'datetime.date'>)\n",
      "INFO:alphaledger.process_xbrl:[_direct_fact_to_row] Fact SecurityExchangeName: Found TimeFrameContext - Start: 2021-01-01 (Type: <class 'datetime.date'>), End: 2021-12-31 (Type: <class 'datetime.date'>)\n",
      "INFO:alphaledger.process_xbrl:[_direct_fact_to_row] Fact Security12bTitle: Found TimeFrameContext - Start: 2021-01-01 (Type: <class 'datetime.date'>), End: 2021-12-31 (Type: <class 'datetime.date'>)\n",
      "INFO:alphaledger.process_xbrl:[_direct_fact_to_row] Fact TradingSymbol: Found TimeFrameContext - Start: 2021-01-01 (Type: <class 'datetime.date'>), End: 2021-12-31 (Type: <class 'datetime.date'>)\n",
      "INFO:alphaledger.process_xbrl:[_direct_fact_to_row] Fact SecurityExchangeName: Found TimeFrameContext - Start: 2021-01-01 (Type: <class 'datetime.date'>), End: 2021-12-31 (Type: <class 'datetime.date'>)\n",
      "INFO:alphaledger.process_xbrl:[_direct_fact_to_row] Fact Security12bTitle: Found TimeFrameContext - Start: 2021-01-01 (Type: <class 'datetime.date'>), End: 2021-12-31 (Type: <class 'datetime.date'>)\n",
      "INFO:alphaledger.process_xbrl:[_direct_fact_to_row] Fact TradingSymbol: Found TimeFrameContext - Start: 2021-01-01 (Type: <class 'datetime.date'>), End: 2021-12-31 (Type: <class 'datetime.date'>)\n",
      "INFO:alphaledger.process_xbrl:[_direct_fact_to_row] Fact SecurityExchangeName: Found TimeFrameContext - Start: 2021-01-01 (Type: <class 'datetime.date'>), End: 2021-12-31 (Type: <class 'datetime.date'>)\n",
      "INFO:alphaledger.process_xbrl:[_direct_fact_to_row] Fact Security12bTitle: Found TimeFrameContext - Start: 2021-01-01 (Type: <class 'datetime.date'>), End: 2021-12-31 (Type: <class 'datetime.date'>)\n",
      "INFO:alphaledger.process_xbrl:[_direct_fact_to_row] Fact TradingSymbol: Found TimeFrameContext - Start: 2021-01-01 (Type: <class 'datetime.date'>), End: 2021-12-31 (Type: <class 'datetime.date'>)\n",
      "INFO:alphaledger.process_xbrl:[_direct_fact_to_row] Fact SecurityExchangeName: Found TimeFrameContext - Start: 2021-01-01 (Type: <class 'datetime.date'>), End: 2021-12-31 (Type: <class 'datetime.date'>)\n",
      "INFO:alphaledger.process_xbrl:[_direct_fact_to_row] Fact Security12bTitle: Found TimeFrameContext - Start: 2021-01-01 (Type: <class 'datetime.date'>), End: 2021-12-31 (Type: <class 'datetime.date'>)\n",
      "INFO:alphaledger.process_xbrl:[_direct_fact_to_row] Fact TradingSymbol: Found TimeFrameContext - Start: 2021-01-01 (Type: <class 'datetime.date'>), End: 2021-12-31 (Type: <class 'datetime.date'>)\n",
      "INFO:alphaledger.process_xbrl:[_direct_fact_to_row] Fact SecurityExchangeName: Found TimeFrameContext - Start: 2021-01-01 (Type: <class 'datetime.date'>), End: 2021-12-31 (Type: <class 'datetime.date'>)\n",
      "INFO:alphaledger.process_xbrl:[_direct_fact_to_row] Fact Security12bTitle: Found TimeFrameContext - Start: 2021-01-01 (Type: <class 'datetime.date'>), End: 2021-12-31 (Type: <class 'datetime.date'>)\n",
      "INFO:alphaledger.process_xbrl:[_direct_fact_to_row] Fact TradingSymbol: Found TimeFrameContext - Start: 2021-01-01 (Type: <class 'datetime.date'>), End: 2021-12-31 (Type: <class 'datetime.date'>)\n",
      "INFO:alphaledger.process_xbrl:[_direct_fact_to_row] Fact SecurityExchangeName: Found TimeFrameContext - Start: 2021-01-01 (Type: <class 'datetime.date'>), End: 2021-12-31 (Type: <class 'datetime.date'>)\n",
      "INFO:alphaledger.process_xbrl:[_direct_fact_to_row] Fact Security12bTitle: Found TimeFrameContext - Start: 2021-01-01 (Type: <class 'datetime.date'>), End: 2021-12-31 (Type: <class 'datetime.date'>)\n",
      "INFO:alphaledger.process_xbrl:[_direct_fact_to_row] Fact TradingSymbol: Found TimeFrameContext - Start: 2021-01-01 (Type: <class 'datetime.date'>), End: 2021-12-31 (Type: <class 'datetime.date'>)\n",
      "INFO:alphaledger.process_xbrl:[_direct_fact_to_row] Fact SecurityExchangeName: Found TimeFrameContext - Start: 2021-01-01 (Type: <class 'datetime.date'>), End: 2021-12-31 (Type: <class 'datetime.date'>)\n",
      "INFO:alphaledger.process_xbrl:[_direct_fact_to_row] Fact Security12bTitle: Found TimeFrameContext - Start: 2021-01-01 (Type: <class 'datetime.date'>), End: 2021-12-31 (Type: <class 'datetime.date'>)\n",
      "INFO:alphaledger.process_xbrl:[_direct_fact_to_row] Fact TradingSymbol: Found TimeFrameContext - Start: 2021-01-01 (Type: <class 'datetime.date'>), End: 2021-12-31 (Type: <class 'datetime.date'>)\n",
      "INFO:alphaledger.process_xbrl:[_direct_fact_to_row] Fact SecurityExchangeName: Found TimeFrameContext - Start: 2021-01-01 (Type: <class 'datetime.date'>), End: 2021-12-31 (Type: <class 'datetime.date'>)\n",
      "INFO:alphaledger.process_xbrl:[_direct_fact_to_row] Fact Security12bTitle: Found TimeFrameContext - Start: 2021-01-01 (Type: <class 'datetime.date'>), End: 2021-12-31 (Type: <class 'datetime.date'>)\n",
      "INFO:alphaledger.process_xbrl:[_direct_fact_to_row] Fact TradingSymbol: Found TimeFrameContext - Start: 2021-01-01 (Type: <class 'datetime.date'>), End: 2021-12-31 (Type: <class 'datetime.date'>)\n",
      "INFO:alphaledger.process_xbrl:[_direct_fact_to_row] Fact SecurityExchangeName: Found TimeFrameContext - Start: 2021-01-01 (Type: <class 'datetime.date'>), End: 2021-12-31 (Type: <class 'datetime.date'>)\n",
      "INFO:alphaledger.process_xbrl:[_direct_fact_to_row] Fact Security12bTitle: Found TimeFrameContext - Start: 2021-01-01 (Type: <class 'datetime.date'>), End: 2021-12-31 (Type: <class 'datetime.date'>)\n",
      "INFO:alphaledger.process_xbrl:[_direct_fact_to_row] Fact TradingSymbol: Found TimeFrameContext - Start: 2021-01-01 (Type: <class 'datetime.date'>), End: 2021-12-31 (Type: <class 'datetime.date'>)\n",
      "INFO:alphaledger.process_xbrl:[_direct_fact_to_row] Fact SecurityExchangeName: Found TimeFrameContext - Start: 2021-01-01 (Type: <class 'datetime.date'>), End: 2021-12-31 (Type: <class 'datetime.date'>)\n",
      "INFO:alphaledger.process_xbrl:[_direct_fact_to_row] Fact Security12bTitle: Found TimeFrameContext - Start: 2021-01-01 (Type: <class 'datetime.date'>), End: 2021-12-31 (Type: <class 'datetime.date'>)\n",
      "INFO:alphaledger.process_xbrl:[_direct_fact_to_row] Fact TradingSymbol: Found TimeFrameContext - Start: 2021-01-01 (Type: <class 'datetime.date'>), End: 2021-12-31 (Type: <class 'datetime.date'>)\n",
      "INFO:alphaledger.process_xbrl:[_direct_fact_to_row] Fact SecurityExchangeName: Found TimeFrameContext - Start: 2021-01-01 (Type: <class 'datetime.date'>), End: 2021-12-31 (Type: <class 'datetime.date'>)\n",
      "INFO:alphaledger.process_xbrl:[_direct_fact_to_row] Fact Security12bTitle: Found TimeFrameContext - Start: 2021-01-01 (Type: <class 'datetime.date'>), End: 2021-12-31 (Type: <class 'datetime.date'>)\n",
      "INFO:alphaledger.process_xbrl:[_direct_fact_to_row] Fact TradingSymbol: Found TimeFrameContext - Start: 2021-01-01 (Type: <class 'datetime.date'>), End: 2021-12-31 (Type: <class 'datetime.date'>)\n",
      "INFO:alphaledger.process_xbrl:[_direct_fact_to_row] Fact SecurityExchangeName: Found TimeFrameContext - Start: 2021-01-01 (Type: <class 'datetime.date'>), End: 2021-12-31 (Type: <class 'datetime.date'>)\n",
      "INFO:alphaledger.process_xbrl:[_direct_fact_to_row] Fact Security12bTitle: Found TimeFrameContext - Start: 2021-01-01 (Type: <class 'datetime.date'>), End: 2021-12-31 (Type: <class 'datetime.date'>)\n",
      "INFO:alphaledger.process_xbrl:[_direct_fact_to_row] Fact TradingSymbol: Found TimeFrameContext - Start: 2021-01-01 (Type: <class 'datetime.date'>), End: 2021-12-31 (Type: <class 'datetime.date'>)\n",
      "INFO:alphaledger.process_xbrl:[_direct_fact_to_row] Fact SecurityExchangeName: Found TimeFrameContext - Start: 2021-01-01 (Type: <class 'datetime.date'>), End: 2021-12-31 (Type: <class 'datetime.date'>)\n",
      "INFO:alphaledger.process_xbrl:[_direct_fact_to_row] Fact Security12bTitle: Found TimeFrameContext - Start: 2021-01-01 (Type: <class 'datetime.date'>), End: 2021-12-31 (Type: <class 'datetime.date'>)\n",
      "INFO:alphaledger.process_xbrl:[_direct_fact_to_row] Fact TradingSymbol: Found TimeFrameContext - Start: 2021-01-01 (Type: <class 'datetime.date'>), End: 2021-12-31 (Type: <class 'datetime.date'>)\n",
      "INFO:alphaledger.process_xbrl:[_direct_fact_to_row] Fact SecurityExchangeName: Found TimeFrameContext - Start: 2021-01-01 (Type: <class 'datetime.date'>), End: 2021-12-31 (Type: <class 'datetime.date'>)\n",
      "INFO:alphaledger.process_xbrl:[_direct_fact_to_row] Fact Security12bTitle: Found TimeFrameContext - Start: 2021-01-01 (Type: <class 'datetime.date'>), End: 2021-12-31 (Type: <class 'datetime.date'>)\n",
      "INFO:alphaledger.process_xbrl:[_direct_fact_to_row] Fact TradingSymbol: Found TimeFrameContext - Start: 2021-01-01 (Type: <class 'datetime.date'>), End: 2021-12-31 (Type: <class 'datetime.date'>)\n",
      "INFO:alphaledger.process_xbrl:[_direct_fact_to_row] Fact SecurityExchangeName: Found TimeFrameContext - Start: 2021-01-01 (Type: <class 'datetime.date'>), End: 2021-12-31 (Type: <class 'datetime.date'>)\n",
      "INFO:alphaledger.process_xbrl:[_direct_fact_to_row] Fact Security12bTitle: Found TimeFrameContext - Start: 2021-01-01 (Type: <class 'datetime.date'>), End: 2021-12-31 (Type: <class 'datetime.date'>)\n",
      "INFO:alphaledger.process_xbrl:[_direct_fact_to_row] Fact TradingSymbol: Found TimeFrameContext - Start: 2021-01-01 (Type: <class 'datetime.date'>), End: 2021-12-31 (Type: <class 'datetime.date'>)\n",
      "INFO:alphaledger.process_xbrl:[_direct_fact_to_row] Fact SecurityExchangeName: Found TimeFrameContext - Start: 2021-01-01 (Type: <class 'datetime.date'>), End: 2021-12-31 (Type: <class 'datetime.date'>)\n",
      "INFO:alphaledger.process_xbrl:[_direct_fact_to_row] Fact EntityWellKnownSeasonedIssuer: Found TimeFrameContext - Start: 2021-01-01 (Type: <class 'datetime.date'>), End: 2021-12-31 (Type: <class 'datetime.date'>)\n",
      "INFO:alphaledger.process_xbrl:[_direct_fact_to_row] Fact EntityVoluntaryFilers: Found TimeFrameContext - Start: 2021-01-01 (Type: <class 'datetime.date'>), End: 2021-12-31 (Type: <class 'datetime.date'>)\n",
      "INFO:alphaledger.process_xbrl:[_direct_fact_to_row] Fact EntityCurrentReportingStatus: Found TimeFrameContext - Start: 2021-01-01 (Type: <class 'datetime.date'>), End: 2021-12-31 (Type: <class 'datetime.date'>)\n",
      "INFO:alphaledger.process_xbrl:[_direct_fact_to_row] Fact EntityInteractiveDataCurrent: Found TimeFrameContext - Start: 2021-01-01 (Type: <class 'datetime.date'>), End: 2021-12-31 (Type: <class 'datetime.date'>)\n",
      "INFO:alphaledger.process_xbrl:[_direct_fact_to_row] Fact EntityFilerCategory: Found TimeFrameContext - Start: 2021-01-01 (Type: <class 'datetime.date'>), End: 2021-12-31 (Type: <class 'datetime.date'>)\n",
      "INFO:alphaledger.process_xbrl:[_direct_fact_to_row] Fact EntitySmallBusiness: Found TimeFrameContext - Start: 2021-01-01 (Type: <class 'datetime.date'>), End: 2021-12-31 (Type: <class 'datetime.date'>)\n",
      "INFO:alphaledger.process_xbrl:[_direct_fact_to_row] Fact EntityEmergingGrowthCompany: Found TimeFrameContext - Start: 2021-01-01 (Type: <class 'datetime.date'>), End: 2021-12-31 (Type: <class 'datetime.date'>)\n",
      "INFO:alphaledger.process_xbrl:[_direct_fact_to_row] Fact IcfrAuditorAttestationFlag: Found TimeFrameContext - Start: 2021-01-01 (Type: <class 'datetime.date'>), End: 2021-12-31 (Type: <class 'datetime.date'>)\n",
      "INFO:alphaledger.process_xbrl:[_direct_fact_to_row] Fact EntityShellCompany: Found TimeFrameContext - Start: 2021-01-01 (Type: <class 'datetime.date'>), End: 2021-12-31 (Type: <class 'datetime.date'>)\n",
      "INFO:alphaledger.process_xbrl:[_direct_fact_to_row] Fact AuditorFirmId: Found TimeFrameContext - Start: 2021-01-01 (Type: <class 'datetime.date'>), End: 2021-12-31 (Type: <class 'datetime.date'>)\n",
      "INFO:alphaledger.process_xbrl:[_direct_fact_to_row] Fact AuditorName: Found TimeFrameContext - Start: 2021-01-01 (Type: <class 'datetime.date'>), End: 2021-12-31 (Type: <class 'datetime.date'>)\n",
      "INFO:alphaledger.process_xbrl:[_direct_fact_to_row] Fact AuditorLocation: Found TimeFrameContext - Start: 2021-01-01 (Type: <class 'datetime.date'>), End: 2021-12-31 (Type: <class 'datetime.date'>)\n",
      "INFO:alphaledger.process_xbrl:[_direct_fact_to_row] Fact ScheduleOfValuationAndQualifyingAccountsDisclosureTextBlock: Found TimeFrameContext - Start: 2021-01-01 (Type: <class 'datetime.date'>), End: 2021-12-31 (Type: <class 'datetime.date'>)\n",
      "WARNING:root:Could not transform value \"New York Stock Exchange\" with format ixt-sec:exchnameen\n",
      "WARNING:root:Could not transform value \"New York Stock Exchange\" with format ixt-sec:exchnameen\n",
      "WARNING:root:Could not transform value \"New York Stock Exchange\" with format ixt-sec:exchnameen\n",
      "WARNING:root:Could not transform value \"New York Stock Exchange\" with format ixt-sec:exchnameen\n",
      "WARNING:root:Could not transform value \"New York Stock Exchange\" with format ixt-sec:exchnameen\n",
      "WARNING:root:Could not transform value \"New York Stock Exchange\" with format ixt-sec:exchnameen\n",
      "WARNING:root:Could not transform value \"New York Stock Exchange\" with format ixt-sec:exchnameen\n",
      "WARNING:root:Could not transform value \"New York Stock Exchange\" with format ixt-sec:exchnameen\n",
      "WARNING:root:Could not transform value \"New York Stock Exchange\" with format ixt-sec:exchnameen\n",
      "WARNING:root:Could not transform value \"New York Stock Exchange\" with format ixt-sec:exchnameen\n",
      "WARNING:root:Could not transform value \"New York Stock Exchange\" with format ixt-sec:exchnameen\n",
      "WARNING:root:Could not transform value \"New York Stock Exchange\" with format ixt-sec:exchnameen\n",
      "WARNING:root:Could not transform value \"New York Stock Exchange\" with format ixt-sec:exchnameen\n",
      "WARNING:root:Could not transform value \"New York Stock Exchange\" with format ixt-sec:exchnameen\n",
      "WARNING:root:Could not transform value \"New York Stock Exchange\" with format ixt-sec:exchnameen\n",
      "WARNING:root:Could not transform value \"New York Stock Exchange\" with format ixt-sec:exchnameen\n",
      "WARNING:root:Could not transform value \"New York Stock Exchange\" with format ixt-sec:exchnameen\n",
      "WARNING:root:Could not transform value \"New York Stock Exchange\" with format ixt-sec:exchnameen\n",
      "WARNING:root:Could not transform value \"New York Stock Exchange\" with format ixt-sec:exchnameen\n",
      "INFO:alphaledger.process_xbrl:[_direct_fact_to_row] Fact EntityPublicFloat: Found InstantContext - Instant: 2020-06-30 (Type: <class 'datetime.date'>)\n",
      "INFO:alphaledger.process_xbrl:[_direct_fact_to_row] Fact EntityCommonStockSharesOutstanding: Found InstantContext - Instant: 2021-02-10 (Type: <class 'datetime.date'>)\n",
      "INFO:alphaledger.process_xbrl:[_direct_fact_to_row] Fact ValuationAllowancesAndReservesBalance: Found InstantContext - Instant: 2019-12-31 (Type: <class 'datetime.date'>)\n",
      "INFO:alphaledger.process_xbrl:[_direct_fact_to_row] Fact ValuationAllowancesAndReservesChargedToCostAndExpense: Found TimeFrameContext - Start: 2020-01-01 (Type: <class 'datetime.date'>), End: 2020-12-31 (Type: <class 'datetime.date'>)\n",
      "INFO:alphaledger.process_xbrl:[_direct_fact_to_row] Fact ValuationAllowancesAndReservesDeductions: Found TimeFrameContext - Start: 2020-01-01 (Type: <class 'datetime.date'>), End: 2020-12-31 (Type: <class 'datetime.date'>)\n",
      "INFO:alphaledger.process_xbrl:[_direct_fact_to_row] Fact ValuationAllowancesAndReservesAdjustments: Found TimeFrameContext - Start: 2020-01-01 (Type: <class 'datetime.date'>), End: 2020-12-31 (Type: <class 'datetime.date'>)\n",
      "INFO:alphaledger.process_xbrl:[_direct_fact_to_row] Fact ValuationAllowancesAndReservesBalance: Found InstantContext - Instant: 2020-12-31 (Type: <class 'datetime.date'>)\n",
      "INFO:alphaledger.process_xbrl:[_direct_fact_to_row] Fact ValuationAllowancesAndReservesBalance: Found InstantContext - Instant: 2019-12-31 (Type: <class 'datetime.date'>)\n",
      "INFO:alphaledger.process_xbrl:[_direct_fact_to_row] Fact ValuationAllowancesAndReservesChargedToCostAndExpense: Found TimeFrameContext - Start: 2020-01-01 (Type: <class 'datetime.date'>), End: 2020-12-31 (Type: <class 'datetime.date'>)\n",
      "INFO:alphaledger.process_xbrl:[_direct_fact_to_row] Fact ValuationAllowancesAndReservesDeductions: Found TimeFrameContext - Start: 2020-01-01 (Type: <class 'datetime.date'>), End: 2020-12-31 (Type: <class 'datetime.date'>)\n",
      "INFO:alphaledger.process_xbrl:[_direct_fact_to_row] Fact ValuationAllowancesAndReservesAdjustments: Found TimeFrameContext - Start: 2020-01-01 (Type: <class 'datetime.date'>), End: 2020-12-31 (Type: <class 'datetime.date'>)\n",
      "INFO:alphaledger.process_xbrl:[_direct_fact_to_row] Fact ValuationAllowancesAndReservesBalance: Found InstantContext - Instant: 2020-12-31 (Type: <class 'datetime.date'>)\n",
      "INFO:alphaledger.process_xbrl:[_direct_fact_to_row] Fact ValuationAllowancesAndReservesBalance: Found InstantContext - Instant: 2018-12-31 (Type: <class 'datetime.date'>)\n",
      "INFO:alphaledger.process_xbrl:[_direct_fact_to_row] Fact ValuationAllowancesAndReservesChargedToCostAndExpense: Found TimeFrameContext - Start: 2019-01-01 (Type: <class 'datetime.date'>), End: 2019-12-31 (Type: <class 'datetime.date'>)\n",
      "INFO:alphaledger.process_xbrl:[_direct_fact_to_row] Fact ValuationAllowancesAndReservesDeductions: Found TimeFrameContext - Start: 2019-01-01 (Type: <class 'datetime.date'>), End: 2019-12-31 (Type: <class 'datetime.date'>)\n",
      "INFO:alphaledger.process_xbrl:[_direct_fact_to_row] Fact ValuationAllowancesAndReservesAdjustments: Found TimeFrameContext - Start: 2019-01-01 (Type: <class 'datetime.date'>), End: 2019-12-31 (Type: <class 'datetime.date'>)\n",
      "INFO:alphaledger.process_xbrl:[_direct_fact_to_row] Fact ValuationAllowancesAndReservesBalance: Found InstantContext - Instant: 2019-12-31 (Type: <class 'datetime.date'>)\n",
      "INFO:alphaledger.process_xbrl:[_direct_fact_to_row] Fact ValuationAllowancesAndReservesBalance: Found InstantContext - Instant: 2018-12-31 (Type: <class 'datetime.date'>)\n",
      "INFO:alphaledger.process_xbrl:[_direct_fact_to_row] Fact ValuationAllowancesAndReservesChargedToCostAndExpense: Found TimeFrameContext - Start: 2019-01-01 (Type: <class 'datetime.date'>), End: 2019-12-31 (Type: <class 'datetime.date'>)\n",
      "INFO:alphaledger.process_xbrl:[_direct_fact_to_row] Fact ValuationAllowancesAndReservesDeductions: Found TimeFrameContext - Start: 2019-01-01 (Type: <class 'datetime.date'>), End: 2019-12-31 (Type: <class 'datetime.date'>)\n",
      "INFO:alphaledger.process_xbrl:[_direct_fact_to_row] Fact ValuationAllowancesAndReservesAdjustments: Found TimeFrameContext - Start: 2019-01-01 (Type: <class 'datetime.date'>), End: 2019-12-31 (Type: <class 'datetime.date'>)\n",
      "INFO:alphaledger.process_xbrl:[_direct_fact_to_row] Fact ValuationAllowancesAndReservesBalance: Found InstantContext - Instant: 2019-12-31 (Type: <class 'datetime.date'>)\n",
      "INFO:alphaledger.process_xbrl:[_direct_fact_to_row] Fact ValuationAllowancesAndReservesBalance: Found InstantContext - Instant: 2017-12-31 (Type: <class 'datetime.date'>)\n",
      "INFO:alphaledger.process_xbrl:[_direct_fact_to_row] Fact ValuationAllowancesAndReservesChargedToCostAndExpense: Found TimeFrameContext - Start: 2018-01-01 (Type: <class 'datetime.date'>), End: 2018-12-31 (Type: <class 'datetime.date'>)\n",
      "INFO:alphaledger.process_xbrl:[_direct_fact_to_row] Fact ValuationAllowancesAndReservesDeductions: Found TimeFrameContext - Start: 2018-01-01 (Type: <class 'datetime.date'>), End: 2018-12-31 (Type: <class 'datetime.date'>)\n",
      "INFO:alphaledger.process_xbrl:[_direct_fact_to_row] Fact ValuationAllowancesAndReservesAdjustments: Found TimeFrameContext - Start: 2018-01-01 (Type: <class 'datetime.date'>), End: 2018-12-31 (Type: <class 'datetime.date'>)\n",
      "INFO:alphaledger.process_xbrl:[_direct_fact_to_row] Fact ValuationAllowancesAndReservesBalance: Found InstantContext - Instant: 2018-12-31 (Type: <class 'datetime.date'>)\n",
      "INFO:alphaledger.process_xbrl:[_direct_fact_to_row] Fact ValuationAllowancesAndReservesBalance: Found InstantContext - Instant: 2017-12-31 (Type: <class 'datetime.date'>)\n",
      "INFO:alphaledger.process_xbrl:[_direct_fact_to_row] Fact ValuationAllowancesAndReservesChargedToCostAndExpense: Found TimeFrameContext - Start: 2018-01-01 (Type: <class 'datetime.date'>), End: 2018-12-31 (Type: <class 'datetime.date'>)\n",
      "INFO:alphaledger.process_xbrl:[_direct_fact_to_row] Fact ValuationAllowancesAndReservesDeductions: Found TimeFrameContext - Start: 2018-01-01 (Type: <class 'datetime.date'>), End: 2018-12-31 (Type: <class 'datetime.date'>)\n",
      "INFO:alphaledger.process_xbrl:[_direct_fact_to_row] Fact ValuationAllowancesAndReservesAdjustments: Found TimeFrameContext - Start: 2018-01-01 (Type: <class 'datetime.date'>), End: 2018-12-31 (Type: <class 'datetime.date'>)\n",
      "INFO:alphaledger.process_xbrl:[_direct_fact_to_row] Fact ValuationAllowancesAndReservesBalance: Found InstantContext - Instant: 2018-12-31 (Type: <class 'datetime.date'>)\n",
      "INFO:alphaledger.process_xbrl:[_direct_fact_to_row] Fact ValuationAllowancesAndReservesBalance: Found InstantContext - Instant: 2019-12-31 (Type: <class 'datetime.date'>)\n",
      "INFO:alphaledger.process_xbrl:[_direct_fact_to_row] Fact ValuationAllowancesAndReservesChargedToCostAndExpense: Found TimeFrameContext - Start: 2020-01-01 (Type: <class 'datetime.date'>), End: 2020-12-31 (Type: <class 'datetime.date'>)\n",
      "INFO:alphaledger.process_xbrl:[_direct_fact_to_row] Fact ValuationAllowancesAndReservesDeductions: Found TimeFrameContext - Start: 2020-01-01 (Type: <class 'datetime.date'>), End: 2020-12-31 (Type: <class 'datetime.date'>)\n",
      "INFO:alphaledger.process_xbrl:[_direct_fact_to_row] Fact ValuationAllowancesAndReservesAdjustments: Found TimeFrameContext - Start: 2020-01-01 (Type: <class 'datetime.date'>), End: 2020-12-31 (Type: <class 'datetime.date'>)\n",
      "INFO:alphaledger.process_xbrl:[_direct_fact_to_row] Fact ValuationAllowancesAndReservesBalance: Found InstantContext - Instant: 2020-12-31 (Type: <class 'datetime.date'>)\n",
      "INFO:alphaledger.process_xbrl:[_direct_fact_to_row] Fact ValuationAllowancesAndReservesBalance: Found InstantContext - Instant: 2018-12-31 (Type: <class 'datetime.date'>)\n",
      "INFO:alphaledger.process_xbrl:[_direct_fact_to_row] Fact ValuationAllowancesAndReservesChargedToCostAndExpense: Found TimeFrameContext - Start: 2019-01-01 (Type: <class 'datetime.date'>), End: 2019-12-31 (Type: <class 'datetime.date'>)\n",
      "INFO:alphaledger.process_xbrl:[_direct_fact_to_row] Fact ValuationAllowancesAndReservesDeductions: Found TimeFrameContext - Start: 2019-01-01 (Type: <class 'datetime.date'>), End: 2019-12-31 (Type: <class 'datetime.date'>)\n",
      "INFO:alphaledger.process_xbrl:[_direct_fact_to_row] Fact ValuationAllowancesAndReservesAdjustments: Found TimeFrameContext - Start: 2019-01-01 (Type: <class 'datetime.date'>), End: 2019-12-31 (Type: <class 'datetime.date'>)\n",
      "INFO:alphaledger.process_xbrl:[_direct_fact_to_row] Fact ValuationAllowancesAndReservesBalance: Found InstantContext - Instant: 2019-12-31 (Type: <class 'datetime.date'>)\n",
      "INFO:alphaledger.process_xbrl:[_direct_fact_to_row] Fact ValuationAllowancesAndReservesBalance: Found InstantContext - Instant: 2017-12-31 (Type: <class 'datetime.date'>)\n",
      "INFO:alphaledger.process_xbrl:[_direct_fact_to_row] Fact ValuationAllowancesAndReservesChargedToCostAndExpense: Found TimeFrameContext - Start: 2018-01-01 (Type: <class 'datetime.date'>), End: 2018-12-31 (Type: <class 'datetime.date'>)\n",
      "INFO:alphaledger.process_xbrl:[_direct_fact_to_row] Fact ValuationAllowancesAndReservesDeductions: Found TimeFrameContext - Start: 2018-01-01 (Type: <class 'datetime.date'>), End: 2018-12-31 (Type: <class 'datetime.date'>)\n",
      "INFO:alphaledger.process_xbrl:[_direct_fact_to_row] Fact ValuationAllowancesAndReservesAdjustments: Found TimeFrameContext - Start: 2018-01-01 (Type: <class 'datetime.date'>), End: 2018-12-31 (Type: <class 'datetime.date'>)\n",
      "INFO:alphaledger.process_xbrl:[_direct_fact_to_row] Fact ValuationAllowancesAndReservesBalance: Found InstantContext - Instant: 2018-12-31 (Type: <class 'datetime.date'>)\n",
      "INFO:alphaledger.process_xbrl:[_direct_fact_to_row] Fact ValuationAllowancesAndReservesBalance: Found InstantContext - Instant: 2019-12-31 (Type: <class 'datetime.date'>)\n",
      "INFO:alphaledger.process_xbrl:[_direct_fact_to_row] Fact ValuationAllowancesAndReservesChargedToOtherAccounts: Found TimeFrameContext - Start: 2020-01-01 (Type: <class 'datetime.date'>), End: 2020-12-31 (Type: <class 'datetime.date'>)\n",
      "INFO:alphaledger.process_xbrl:[_direct_fact_to_row] Fact ValuationAllowancesAndReservesDeductions: Found TimeFrameContext - Start: 2020-01-01 (Type: <class 'datetime.date'>), End: 2020-12-31 (Type: <class 'datetime.date'>)\n",
      "INFO:alphaledger.process_xbrl:[_direct_fact_to_row] Fact ValuationAllowancesAndReservesAdjustments: Found TimeFrameContext - Start: 2020-01-01 (Type: <class 'datetime.date'>), End: 2020-12-31 (Type: <class 'datetime.date'>)\n",
      "INFO:alphaledger.process_xbrl:[_direct_fact_to_row] Fact ValuationAllowancesAndReservesBalance: Found InstantContext - Instant: 2020-12-31 (Type: <class 'datetime.date'>)\n",
      "INFO:alphaledger.process_xbrl:[_direct_fact_to_row] Fact ValuationAllowancesAndReservesBalance: Found InstantContext - Instant: 2018-12-31 (Type: <class 'datetime.date'>)\n",
      "INFO:alphaledger.process_xbrl:[_direct_fact_to_row] Fact ValuationAllowancesAndReservesChargedToOtherAccounts: Found TimeFrameContext - Start: 2019-01-01 (Type: <class 'datetime.date'>), End: 2019-12-31 (Type: <class 'datetime.date'>)\n",
      "INFO:alphaledger.process_xbrl:[_direct_fact_to_row] Fact ValuationAllowancesAndReservesDeductions: Found TimeFrameContext - Start: 2019-01-01 (Type: <class 'datetime.date'>), End: 2019-12-31 (Type: <class 'datetime.date'>)\n",
      "INFO:alphaledger.process_xbrl:[_direct_fact_to_row] Fact ValuationAllowancesAndReservesAdjustments: Found TimeFrameContext - Start: 2019-01-01 (Type: <class 'datetime.date'>), End: 2019-12-31 (Type: <class 'datetime.date'>)\n",
      "INFO:alphaledger.process_xbrl:[_direct_fact_to_row] Fact ValuationAllowancesAndReservesBalance: Found InstantContext - Instant: 2019-12-31 (Type: <class 'datetime.date'>)\n",
      "INFO:alphaledger.process_xbrl:[_direct_fact_to_row] Fact ValuationAllowancesAndReservesBalance: Found InstantContext - Instant: 2017-12-31 (Type: <class 'datetime.date'>)\n",
      "INFO:alphaledger.process_xbrl:[_direct_fact_to_row] Fact ValuationAllowancesAndReservesChargedToOtherAccounts: Found TimeFrameContext - Start: 2018-01-01 (Type: <class 'datetime.date'>), End: 2018-12-31 (Type: <class 'datetime.date'>)\n",
      "INFO:alphaledger.process_xbrl:[_direct_fact_to_row] Fact ValuationAllowancesAndReservesDeductions: Found TimeFrameContext - Start: 2018-01-01 (Type: <class 'datetime.date'>), End: 2018-12-31 (Type: <class 'datetime.date'>)\n",
      "INFO:alphaledger.process_xbrl:[_direct_fact_to_row] Fact ValuationAllowancesAndReservesAdjustments: Found TimeFrameContext - Start: 2018-01-01 (Type: <class 'datetime.date'>), End: 2018-12-31 (Type: <class 'datetime.date'>)\n",
      "INFO:alphaledger.process_xbrl:[_direct_fact_to_row] Fact ValuationAllowancesAndReservesBalance: Found InstantContext - Instant: 2018-12-31 (Type: <class 'datetime.date'>)\n",
      "INFO:alphaledger.process_xbrl:[_direct_fact_to_row] Fact Security12bTitle: Found TimeFrameContext - Start: 2020-01-01 (Type: <class 'datetime.date'>), End: 2020-12-31 (Type: <class 'datetime.date'>)\n",
      "INFO:alphaledger.process_xbrl:[_direct_fact_to_row] Fact TradingSymbol: Found TimeFrameContext - Start: 2020-01-01 (Type: <class 'datetime.date'>), End: 2020-12-31 (Type: <class 'datetime.date'>)\n",
      "INFO:alphaledger.process_xbrl:[_direct_fact_to_row] Fact SecurityExchangeName: Found TimeFrameContext - Start: 2020-01-01 (Type: <class 'datetime.date'>), End: 2020-12-31 (Type: <class 'datetime.date'>)\n",
      "INFO:alphaledger.process_xbrl:[_direct_fact_to_row] Fact EntityCentralIndexKey: Found TimeFrameContext - Start: 2020-01-01 (Type: <class 'datetime.date'>), End: 2020-12-31 (Type: <class 'datetime.date'>)\n",
      "INFO:alphaledger.process_xbrl:[_direct_fact_to_row] Fact CurrentFiscalYearEndDate: Found TimeFrameContext - Start: 2020-01-01 (Type: <class 'datetime.date'>), End: 2020-12-31 (Type: <class 'datetime.date'>)\n",
      "INFO:alphaledger.process_xbrl:[_direct_fact_to_row] Fact DocumentFiscalYearFocus: Found TimeFrameContext - Start: 2020-01-01 (Type: <class 'datetime.date'>), End: 2020-12-31 (Type: <class 'datetime.date'>)\n",
      "INFO:alphaledger.process_xbrl:[_direct_fact_to_row] Fact DocumentFiscalPeriodFocus: Found TimeFrameContext - Start: 2020-01-01 (Type: <class 'datetime.date'>), End: 2020-12-31 (Type: <class 'datetime.date'>)\n",
      "INFO:alphaledger.process_xbrl:[_direct_fact_to_row] Fact AmendmentFlag: Found TimeFrameContext - Start: 2020-01-01 (Type: <class 'datetime.date'>), End: 2020-12-31 (Type: <class 'datetime.date'>)\n",
      "INFO:alphaledger.process_xbrl:[_direct_fact_to_row] Fact DocumentType: Found TimeFrameContext - Start: 2020-01-01 (Type: <class 'datetime.date'>), End: 2020-12-31 (Type: <class 'datetime.date'>)\n",
      "INFO:alphaledger.process_xbrl:[_direct_fact_to_row] Fact DocumentAnnualReport: Found TimeFrameContext - Start: 2020-01-01 (Type: <class 'datetime.date'>), End: 2020-12-31 (Type: <class 'datetime.date'>)\n",
      "INFO:alphaledger.process_xbrl:[_direct_fact_to_row] Fact DocumentTransitionReport: Found TimeFrameContext - Start: 2020-01-01 (Type: <class 'datetime.date'>), End: 2020-12-31 (Type: <class 'datetime.date'>)\n",
      "INFO:alphaledger.process_xbrl:[_direct_fact_to_row] Fact DocumentPeriodEndDate: Found TimeFrameContext - Start: 2020-01-01 (Type: <class 'datetime.date'>), End: 2020-12-31 (Type: <class 'datetime.date'>)\n",
      "INFO:alphaledger.process_xbrl:[_direct_fact_to_row] Fact EntityFileNumber: Found TimeFrameContext - Start: 2020-01-01 (Type: <class 'datetime.date'>), End: 2020-12-31 (Type: <class 'datetime.date'>)\n",
      "INFO:alphaledger.process_xbrl:[_direct_fact_to_row] Fact EntityRegistrantName: Found TimeFrameContext - Start: 2020-01-01 (Type: <class 'datetime.date'>), End: 2020-12-31 (Type: <class 'datetime.date'>)\n",
      "INFO:alphaledger.process_xbrl:[_direct_fact_to_row] Fact EntityIncorporationStateCountryCode: Found TimeFrameContext - Start: 2020-01-01 (Type: <class 'datetime.date'>), End: 2020-12-31 (Type: <class 'datetime.date'>)\n",
      "INFO:alphaledger.process_xbrl:[_direct_fact_to_row] Fact EntityAddressAddressLine1: Found TimeFrameContext - Start: 2020-01-01 (Type: <class 'datetime.date'>), End: 2020-12-31 (Type: <class 'datetime.date'>)\n",
      "INFO:alphaledger.process_xbrl:[_direct_fact_to_row] Fact EntityTaxIdentificationNumber: Found TimeFrameContext - Start: 2020-01-01 (Type: <class 'datetime.date'>), End: 2020-12-31 (Type: <class 'datetime.date'>)\n",
      "INFO:alphaledger.process_xbrl:[_direct_fact_to_row] Fact EntityAddressCityOrTown: Found TimeFrameContext - Start: 2020-01-01 (Type: <class 'datetime.date'>), End: 2020-12-31 (Type: <class 'datetime.date'>)\n",
      "INFO:alphaledger.process_xbrl:[_direct_fact_to_row] Fact EntityAddressStateOrProvince: Found TimeFrameContext - Start: 2020-01-01 (Type: <class 'datetime.date'>), End: 2020-12-31 (Type: <class 'datetime.date'>)\n",
      "INFO:alphaledger.process_xbrl:[_direct_fact_to_row] Fact EntityAddressPostalZipCode: Found TimeFrameContext - Start: 2020-01-01 (Type: <class 'datetime.date'>), End: 2020-12-31 (Type: <class 'datetime.date'>)\n",
      "INFO:alphaledger.process_xbrl:[_direct_fact_to_row] Fact CityAreaCode: Found TimeFrameContext - Start: 2020-01-01 (Type: <class 'datetime.date'>), End: 2020-12-31 (Type: <class 'datetime.date'>)\n",
      "INFO:alphaledger.process_xbrl:[_direct_fact_to_row] Fact LocalPhoneNumber: Found TimeFrameContext - Start: 2020-01-01 (Type: <class 'datetime.date'>), End: 2020-12-31 (Type: <class 'datetime.date'>)\n",
      "INFO:alphaledger.process_xbrl:[_direct_fact_to_row] Fact Security12bTitle: Found TimeFrameContext - Start: 2020-01-01 (Type: <class 'datetime.date'>), End: 2020-12-31 (Type: <class 'datetime.date'>)\n",
      "INFO:alphaledger.process_xbrl:[_direct_fact_to_row] Fact TradingSymbol: Found TimeFrameContext - Start: 2020-01-01 (Type: <class 'datetime.date'>), End: 2020-12-31 (Type: <class 'datetime.date'>)\n",
      "INFO:alphaledger.process_xbrl:[_direct_fact_to_row] Fact SecurityExchangeName: Found TimeFrameContext - Start: 2020-01-01 (Type: <class 'datetime.date'>), End: 2020-12-31 (Type: <class 'datetime.date'>)\n",
      "INFO:alphaledger.process_xbrl:[_direct_fact_to_row] Fact Security12bTitle: Found TimeFrameContext - Start: 2020-01-01 (Type: <class 'datetime.date'>), End: 2020-12-31 (Type: <class 'datetime.date'>)\n",
      "INFO:alphaledger.process_xbrl:[_direct_fact_to_row] Fact TradingSymbol: Found TimeFrameContext - Start: 2020-01-01 (Type: <class 'datetime.date'>), End: 2020-12-31 (Type: <class 'datetime.date'>)\n",
      "INFO:alphaledger.process_xbrl:[_direct_fact_to_row] Fact SecurityExchangeName: Found TimeFrameContext - Start: 2020-01-01 (Type: <class 'datetime.date'>), End: 2020-12-31 (Type: <class 'datetime.date'>)\n",
      "INFO:alphaledger.process_xbrl:[_direct_fact_to_row] Fact Security12bTitle: Found TimeFrameContext - Start: 2020-01-01 (Type: <class 'datetime.date'>), End: 2020-12-31 (Type: <class 'datetime.date'>)\n",
      "INFO:alphaledger.process_xbrl:[_direct_fact_to_row] Fact TradingSymbol: Found TimeFrameContext - Start: 2020-01-01 (Type: <class 'datetime.date'>), End: 2020-12-31 (Type: <class 'datetime.date'>)\n",
      "INFO:alphaledger.process_xbrl:[_direct_fact_to_row] Fact SecurityExchangeName: Found TimeFrameContext - Start: 2020-01-01 (Type: <class 'datetime.date'>), End: 2020-12-31 (Type: <class 'datetime.date'>)\n",
      "INFO:alphaledger.process_xbrl:[_direct_fact_to_row] Fact Security12bTitle: Found TimeFrameContext - Start: 2020-01-01 (Type: <class 'datetime.date'>), End: 2020-12-31 (Type: <class 'datetime.date'>)\n",
      "INFO:alphaledger.process_xbrl:[_direct_fact_to_row] Fact TradingSymbol: Found TimeFrameContext - Start: 2020-01-01 (Type: <class 'datetime.date'>), End: 2020-12-31 (Type: <class 'datetime.date'>)\n",
      "INFO:alphaledger.process_xbrl:[_direct_fact_to_row] Fact SecurityExchangeName: Found TimeFrameContext - Start: 2020-01-01 (Type: <class 'datetime.date'>), End: 2020-12-31 (Type: <class 'datetime.date'>)\n",
      "INFO:alphaledger.process_xbrl:[_direct_fact_to_row] Fact Security12bTitle: Found TimeFrameContext - Start: 2020-01-01 (Type: <class 'datetime.date'>), End: 2020-12-31 (Type: <class 'datetime.date'>)\n",
      "INFO:alphaledger.process_xbrl:[_direct_fact_to_row] Fact TradingSymbol: Found TimeFrameContext - Start: 2020-01-01 (Type: <class 'datetime.date'>), End: 2020-12-31 (Type: <class 'datetime.date'>)\n",
      "INFO:alphaledger.process_xbrl:[_direct_fact_to_row] Fact SecurityExchangeName: Found TimeFrameContext - Start: 2020-01-01 (Type: <class 'datetime.date'>), End: 2020-12-31 (Type: <class 'datetime.date'>)\n",
      "INFO:alphaledger.process_xbrl:[_direct_fact_to_row] Fact Security12bTitle: Found TimeFrameContext - Start: 2020-01-01 (Type: <class 'datetime.date'>), End: 2020-12-31 (Type: <class 'datetime.date'>)\n",
      "INFO:alphaledger.process_xbrl:[_direct_fact_to_row] Fact TradingSymbol: Found TimeFrameContext - Start: 2020-01-01 (Type: <class 'datetime.date'>), End: 2020-12-31 (Type: <class 'datetime.date'>)\n",
      "INFO:alphaledger.process_xbrl:[_direct_fact_to_row] Fact SecurityExchangeName: Found TimeFrameContext - Start: 2020-01-01 (Type: <class 'datetime.date'>), End: 2020-12-31 (Type: <class 'datetime.date'>)\n",
      "INFO:alphaledger.process_xbrl:[_direct_fact_to_row] Fact Security12bTitle: Found TimeFrameContext - Start: 2020-01-01 (Type: <class 'datetime.date'>), End: 2020-12-31 (Type: <class 'datetime.date'>)\n",
      "INFO:alphaledger.process_xbrl:[_direct_fact_to_row] Fact TradingSymbol: Found TimeFrameContext - Start: 2020-01-01 (Type: <class 'datetime.date'>), End: 2020-12-31 (Type: <class 'datetime.date'>)\n",
      "INFO:alphaledger.process_xbrl:[_direct_fact_to_row] Fact SecurityExchangeName: Found TimeFrameContext - Start: 2020-01-01 (Type: <class 'datetime.date'>), End: 2020-12-31 (Type: <class 'datetime.date'>)\n",
      "INFO:alphaledger.process_xbrl:[_direct_fact_to_row] Fact Security12bTitle: Found TimeFrameContext - Start: 2020-01-01 (Type: <class 'datetime.date'>), End: 2020-12-31 (Type: <class 'datetime.date'>)\n",
      "INFO:alphaledger.process_xbrl:[_direct_fact_to_row] Fact TradingSymbol: Found TimeFrameContext - Start: 2020-01-01 (Type: <class 'datetime.date'>), End: 2020-12-31 (Type: <class 'datetime.date'>)\n",
      "INFO:alphaledger.process_xbrl:[_direct_fact_to_row] Fact SecurityExchangeName: Found TimeFrameContext - Start: 2020-01-01 (Type: <class 'datetime.date'>), End: 2020-12-31 (Type: <class 'datetime.date'>)\n",
      "INFO:alphaledger.process_xbrl:[_direct_fact_to_row] Fact Security12bTitle: Found TimeFrameContext - Start: 2020-01-01 (Type: <class 'datetime.date'>), End: 2020-12-31 (Type: <class 'datetime.date'>)\n",
      "INFO:alphaledger.process_xbrl:[_direct_fact_to_row] Fact TradingSymbol: Found TimeFrameContext - Start: 2020-01-01 (Type: <class 'datetime.date'>), End: 2020-12-31 (Type: <class 'datetime.date'>)\n",
      "INFO:alphaledger.process_xbrl:[_direct_fact_to_row] Fact SecurityExchangeName: Found TimeFrameContext - Start: 2020-01-01 (Type: <class 'datetime.date'>), End: 2020-12-31 (Type: <class 'datetime.date'>)\n",
      "INFO:alphaledger.process_xbrl:[_direct_fact_to_row] Fact Security12bTitle: Found TimeFrameContext - Start: 2020-01-01 (Type: <class 'datetime.date'>), End: 2020-12-31 (Type: <class 'datetime.date'>)\n",
      "INFO:alphaledger.process_xbrl:[_direct_fact_to_row] Fact TradingSymbol: Found TimeFrameContext - Start: 2020-01-01 (Type: <class 'datetime.date'>), End: 2020-12-31 (Type: <class 'datetime.date'>)\n",
      "INFO:alphaledger.process_xbrl:[_direct_fact_to_row] Fact SecurityExchangeName: Found TimeFrameContext - Start: 2020-01-01 (Type: <class 'datetime.date'>), End: 2020-12-31 (Type: <class 'datetime.date'>)\n",
      "INFO:alphaledger.process_xbrl:[_direct_fact_to_row] Fact Security12bTitle: Found TimeFrameContext - Start: 2020-01-01 (Type: <class 'datetime.date'>), End: 2020-12-31 (Type: <class 'datetime.date'>)\n",
      "INFO:alphaledger.process_xbrl:[_direct_fact_to_row] Fact TradingSymbol: Found TimeFrameContext - Start: 2020-01-01 (Type: <class 'datetime.date'>), End: 2020-12-31 (Type: <class 'datetime.date'>)\n",
      "INFO:alphaledger.process_xbrl:[_direct_fact_to_row] Fact SecurityExchangeName: Found TimeFrameContext - Start: 2020-01-01 (Type: <class 'datetime.date'>), End: 2020-12-31 (Type: <class 'datetime.date'>)\n",
      "INFO:alphaledger.process_xbrl:[_direct_fact_to_row] Fact Security12bTitle: Found TimeFrameContext - Start: 2020-01-01 (Type: <class 'datetime.date'>), End: 2020-12-31 (Type: <class 'datetime.date'>)\n",
      "INFO:alphaledger.process_xbrl:[_direct_fact_to_row] Fact TradingSymbol: Found TimeFrameContext - Start: 2020-01-01 (Type: <class 'datetime.date'>), End: 2020-12-31 (Type: <class 'datetime.date'>)\n",
      "INFO:alphaledger.process_xbrl:[_direct_fact_to_row] Fact SecurityExchangeName: Found TimeFrameContext - Start: 2020-01-01 (Type: <class 'datetime.date'>), End: 2020-12-31 (Type: <class 'datetime.date'>)\n",
      "INFO:alphaledger.process_xbrl:[_direct_fact_to_row] Fact Security12bTitle: Found TimeFrameContext - Start: 2020-01-01 (Type: <class 'datetime.date'>), End: 2020-12-31 (Type: <class 'datetime.date'>)\n",
      "INFO:alphaledger.process_xbrl:[_direct_fact_to_row] Fact TradingSymbol: Found TimeFrameContext - Start: 2020-01-01 (Type: <class 'datetime.date'>), End: 2020-12-31 (Type: <class 'datetime.date'>)\n",
      "INFO:alphaledger.process_xbrl:[_direct_fact_to_row] Fact SecurityExchangeName: Found TimeFrameContext - Start: 2020-01-01 (Type: <class 'datetime.date'>), End: 2020-12-31 (Type: <class 'datetime.date'>)\n",
      "INFO:alphaledger.process_xbrl:[_direct_fact_to_row] Fact Security12bTitle: Found TimeFrameContext - Start: 2020-01-01 (Type: <class 'datetime.date'>), End: 2020-12-31 (Type: <class 'datetime.date'>)\n",
      "INFO:alphaledger.process_xbrl:[_direct_fact_to_row] Fact TradingSymbol: Found TimeFrameContext - Start: 2020-01-01 (Type: <class 'datetime.date'>), End: 2020-12-31 (Type: <class 'datetime.date'>)\n",
      "INFO:alphaledger.process_xbrl:[_direct_fact_to_row] Fact SecurityExchangeName: Found TimeFrameContext - Start: 2020-01-01 (Type: <class 'datetime.date'>), End: 2020-12-31 (Type: <class 'datetime.date'>)\n",
      "INFO:alphaledger.process_xbrl:[_direct_fact_to_row] Fact Security12bTitle: Found TimeFrameContext - Start: 2020-01-01 (Type: <class 'datetime.date'>), End: 2020-12-31 (Type: <class 'datetime.date'>)\n",
      "INFO:alphaledger.process_xbrl:[_direct_fact_to_row] Fact TradingSymbol: Found TimeFrameContext - Start: 2020-01-01 (Type: <class 'datetime.date'>), End: 2020-12-31 (Type: <class 'datetime.date'>)\n",
      "INFO:alphaledger.process_xbrl:[_direct_fact_to_row] Fact SecurityExchangeName: Found TimeFrameContext - Start: 2020-01-01 (Type: <class 'datetime.date'>), End: 2020-12-31 (Type: <class 'datetime.date'>)\n",
      "INFO:alphaledger.process_xbrl:[_direct_fact_to_row] Fact Security12bTitle: Found TimeFrameContext - Start: 2020-01-01 (Type: <class 'datetime.date'>), End: 2020-12-31 (Type: <class 'datetime.date'>)\n",
      "INFO:alphaledger.process_xbrl:[_direct_fact_to_row] Fact TradingSymbol: Found TimeFrameContext - Start: 2020-01-01 (Type: <class 'datetime.date'>), End: 2020-12-31 (Type: <class 'datetime.date'>)\n",
      "INFO:alphaledger.process_xbrl:[_direct_fact_to_row] Fact SecurityExchangeName: Found TimeFrameContext - Start: 2020-01-01 (Type: <class 'datetime.date'>), End: 2020-12-31 (Type: <class 'datetime.date'>)\n",
      "INFO:alphaledger.process_xbrl:[_direct_fact_to_row] Fact Security12bTitle: Found TimeFrameContext - Start: 2020-01-01 (Type: <class 'datetime.date'>), End: 2020-12-31 (Type: <class 'datetime.date'>)\n",
      "INFO:alphaledger.process_xbrl:[_direct_fact_to_row] Fact TradingSymbol: Found TimeFrameContext - Start: 2020-01-01 (Type: <class 'datetime.date'>), End: 2020-12-31 (Type: <class 'datetime.date'>)\n",
      "INFO:alphaledger.process_xbrl:[_direct_fact_to_row] Fact SecurityExchangeName: Found TimeFrameContext - Start: 2020-01-01 (Type: <class 'datetime.date'>), End: 2020-12-31 (Type: <class 'datetime.date'>)\n",
      "INFO:alphaledger.process_xbrl:[_direct_fact_to_row] Fact Security12bTitle: Found TimeFrameContext - Start: 2020-01-01 (Type: <class 'datetime.date'>), End: 2020-12-31 (Type: <class 'datetime.date'>)\n",
      "INFO:alphaledger.process_xbrl:[_direct_fact_to_row] Fact TradingSymbol: Found TimeFrameContext - Start: 2020-01-01 (Type: <class 'datetime.date'>), End: 2020-12-31 (Type: <class 'datetime.date'>)\n",
      "INFO:alphaledger.process_xbrl:[_direct_fact_to_row] Fact SecurityExchangeName: Found TimeFrameContext - Start: 2020-01-01 (Type: <class 'datetime.date'>), End: 2020-12-31 (Type: <class 'datetime.date'>)\n",
      "INFO:alphaledger.process_xbrl:[_direct_fact_to_row] Fact Security12bTitle: Found TimeFrameContext - Start: 2020-01-01 (Type: <class 'datetime.date'>), End: 2020-12-31 (Type: <class 'datetime.date'>)\n",
      "INFO:alphaledger.process_xbrl:[_direct_fact_to_row] Fact TradingSymbol: Found TimeFrameContext - Start: 2020-01-01 (Type: <class 'datetime.date'>), End: 2020-12-31 (Type: <class 'datetime.date'>)\n",
      "INFO:alphaledger.process_xbrl:[_direct_fact_to_row] Fact SecurityExchangeName: Found TimeFrameContext - Start: 2020-01-01 (Type: <class 'datetime.date'>), End: 2020-12-31 (Type: <class 'datetime.date'>)\n",
      "INFO:alphaledger.process_xbrl:[_direct_fact_to_row] Fact Security12bTitle: Found TimeFrameContext - Start: 2020-01-01 (Type: <class 'datetime.date'>), End: 2020-12-31 (Type: <class 'datetime.date'>)\n",
      "INFO:alphaledger.process_xbrl:[_direct_fact_to_row] Fact TradingSymbol: Found TimeFrameContext - Start: 2020-01-01 (Type: <class 'datetime.date'>), End: 2020-12-31 (Type: <class 'datetime.date'>)\n",
      "INFO:alphaledger.process_xbrl:[_direct_fact_to_row] Fact SecurityExchangeName: Found TimeFrameContext - Start: 2020-01-01 (Type: <class 'datetime.date'>), End: 2020-12-31 (Type: <class 'datetime.date'>)\n",
      "INFO:alphaledger.process_xbrl:[_direct_fact_to_row] Fact Security12bTitle: Found TimeFrameContext - Start: 2020-01-01 (Type: <class 'datetime.date'>), End: 2020-12-31 (Type: <class 'datetime.date'>)\n",
      "INFO:alphaledger.process_xbrl:[_direct_fact_to_row] Fact TradingSymbol: Found TimeFrameContext - Start: 2020-01-01 (Type: <class 'datetime.date'>), End: 2020-12-31 (Type: <class 'datetime.date'>)\n",
      "INFO:alphaledger.process_xbrl:[_direct_fact_to_row] Fact SecurityExchangeName: Found TimeFrameContext - Start: 2020-01-01 (Type: <class 'datetime.date'>), End: 2020-12-31 (Type: <class 'datetime.date'>)\n",
      "INFO:alphaledger.process_xbrl:[_direct_fact_to_row] Fact Security12bTitle: Found TimeFrameContext - Start: 2020-01-01 (Type: <class 'datetime.date'>), End: 2020-12-31 (Type: <class 'datetime.date'>)\n",
      "INFO:alphaledger.process_xbrl:[_direct_fact_to_row] Fact TradingSymbol: Found TimeFrameContext - Start: 2020-01-01 (Type: <class 'datetime.date'>), End: 2020-12-31 (Type: <class 'datetime.date'>)\n",
      "INFO:alphaledger.process_xbrl:[_direct_fact_to_row] Fact SecurityExchangeName: Found TimeFrameContext - Start: 2020-01-01 (Type: <class 'datetime.date'>), End: 2020-12-31 (Type: <class 'datetime.date'>)\n",
      "INFO:alphaledger.process_xbrl:[_direct_fact_to_row] Fact EntityWellKnownSeasonedIssuer: Found TimeFrameContext - Start: 2020-01-01 (Type: <class 'datetime.date'>), End: 2020-12-31 (Type: <class 'datetime.date'>)\n",
      "INFO:alphaledger.process_xbrl:[_direct_fact_to_row] Fact EntityVoluntaryFilers: Found TimeFrameContext - Start: 2020-01-01 (Type: <class 'datetime.date'>), End: 2020-12-31 (Type: <class 'datetime.date'>)\n",
      "INFO:alphaledger.process_xbrl:[_direct_fact_to_row] Fact EntityCurrentReportingStatus: Found TimeFrameContext - Start: 2020-01-01 (Type: <class 'datetime.date'>), End: 2020-12-31 (Type: <class 'datetime.date'>)\n",
      "INFO:alphaledger.process_xbrl:[_direct_fact_to_row] Fact EntityInteractiveDataCurrent: Found TimeFrameContext - Start: 2020-01-01 (Type: <class 'datetime.date'>), End: 2020-12-31 (Type: <class 'datetime.date'>)\n",
      "INFO:alphaledger.process_xbrl:[_direct_fact_to_row] Fact EntityFilerCategory: Found TimeFrameContext - Start: 2020-01-01 (Type: <class 'datetime.date'>), End: 2020-12-31 (Type: <class 'datetime.date'>)\n",
      "INFO:alphaledger.process_xbrl:[_direct_fact_to_row] Fact EntitySmallBusiness: Found TimeFrameContext - Start: 2020-01-01 (Type: <class 'datetime.date'>), End: 2020-12-31 (Type: <class 'datetime.date'>)\n",
      "INFO:alphaledger.process_xbrl:[_direct_fact_to_row] Fact EntityEmergingGrowthCompany: Found TimeFrameContext - Start: 2020-01-01 (Type: <class 'datetime.date'>), End: 2020-12-31 (Type: <class 'datetime.date'>)\n",
      "INFO:alphaledger.process_xbrl:[_direct_fact_to_row] Fact IcfrAuditorAttestationFlag: Found TimeFrameContext - Start: 2020-01-01 (Type: <class 'datetime.date'>), End: 2020-12-31 (Type: <class 'datetime.date'>)\n",
      "INFO:alphaledger.process_xbrl:[_direct_fact_to_row] Fact EntityShellCompany: Found TimeFrameContext - Start: 2020-01-01 (Type: <class 'datetime.date'>), End: 2020-12-31 (Type: <class 'datetime.date'>)\n",
      "INFO:alphaledger.process_xbrl:[_direct_fact_to_row] Fact ScheduleOfValuationAndQualifyingAccountsDisclosureTextBlock: Found TimeFrameContext - Start: 2020-01-01 (Type: <class 'datetime.date'>), End: 2020-12-31 (Type: <class 'datetime.date'>)\n",
      "WARNING:root:Could not transform value \"New York Stock Exchange\" with format ixt-sec:exchnameen\n",
      "WARNING:root:Could not transform value \"Chicago Stock Exchange\" with format ixt-sec:exchnameen\n",
      "WARNING:root:Could not transform value \"New York Stock Exchange\" with format ixt-sec:exchnameen\n",
      "WARNING:root:Could not transform value \"New York Stock Exchange\" with format ixt-sec:exchnameen\n",
      "WARNING:root:Could not transform value \"New York Stock Exchange\" with format ixt-sec:exchnameen\n",
      "WARNING:root:Could not transform value \"New York Stock Exchange\" with format ixt-sec:exchnameen\n",
      "WARNING:root:Could not transform value \"New York Stock Exchange\" with format ixt-sec:exchnameen\n",
      "WARNING:root:Could not transform value \"New York Stock Exchange\" with format ixt-sec:exchnameen\n",
      "WARNING:root:Could not transform value \"New York Stock Exchange\" with format ixt-sec:exchnameen\n",
      "WARNING:root:Could not transform value \"New York Stock Exchange\" with format ixt-sec:exchnameen\n",
      "WARNING:root:Could not transform value \"New York Stock Exchange\" with format ixt-sec:exchnameen\n",
      "WARNING:root:Could not transform value \"New York Stock Exchange\" with format ixt-sec:exchnameen\n",
      "WARNING:root:Could not transform value \"New York Stock Exchange\" with format ixt-sec:exchnameen\n",
      "WARNING:root:Could not transform value \"New York Stock Exchange\" with format ixt-sec:exchnameen\n",
      "WARNING:root:Could not transform value \"New York Stock Exchange\" with format ixt-sec:exchnameen\n",
      "WARNING:root:Could not transform value \"New York Stock Exchange\" with format ixt-sec:exchnameen\n",
      "WARNING:root:Could not transform value \"New York Stock Exchange\" with format ixt-sec:exchnameen\n",
      "WARNING:root:Could not transform value \"New York Stock Exchange\" with format ixt-sec:exchnameen\n",
      "WARNING:root:Could not transform value \"New York Stock Exchange\" with format ixt-sec:exchnameen\n",
      "WARNING:root:Could not transform value \"New York Stock Exchange\" with format ixt-sec:exchnameen\n",
      "WARNING:root:Could not transform value \"New York Stock Exchange\" with format ixt-sec:exchnameen\n",
      "WARNING:root:Could not transform value \"New York Stock Exchange\" with format ixt-sec:exchnameen\n",
      "INFO:alphaledger.process_xbrl:[_direct_fact_to_row] Fact EntityPublicFloat: Found InstantContext - Instant: 2019-06-30 (Type: <class 'datetime.date'>)\n",
      "INFO:alphaledger.process_xbrl:[_direct_fact_to_row] Fact EntityCommonStockSharesOutstanding: Found InstantContext - Instant: 2020-02-10 (Type: <class 'datetime.date'>)\n",
      "INFO:alphaledger.process_xbrl:[_direct_fact_to_row] Fact ValuationAllowancesAndReservesBalance: Found InstantContext - Instant: 2018-12-31 (Type: <class 'datetime.date'>)\n",
      "INFO:alphaledger.process_xbrl:[_direct_fact_to_row] Fact ValuationAllowancesAndReservesChargedToCostAndExpense: Found TimeFrameContext - Start: 2019-01-01 (Type: <class 'datetime.date'>), End: 2019-12-31 (Type: <class 'datetime.date'>)\n",
      "INFO:alphaledger.process_xbrl:[_direct_fact_to_row] Fact ValuationAllowancesAndReservesDeductions: Found TimeFrameContext - Start: 2019-01-01 (Type: <class 'datetime.date'>), End: 2019-12-31 (Type: <class 'datetime.date'>)\n",
      "INFO:alphaledger.process_xbrl:[_direct_fact_to_row] Fact ValuationAllowancesAndReservesAdjustments: Found TimeFrameContext - Start: 2019-01-01 (Type: <class 'datetime.date'>), End: 2019-12-31 (Type: <class 'datetime.date'>)\n",
      "INFO:alphaledger.process_xbrl:[_direct_fact_to_row] Fact ValuationAllowancesAndReservesBalance: Found InstantContext - Instant: 2019-12-31 (Type: <class 'datetime.date'>)\n",
      "INFO:alphaledger.process_xbrl:[_direct_fact_to_row] Fact ValuationAllowancesAndReservesBalance: Found InstantContext - Instant: 2018-12-31 (Type: <class 'datetime.date'>)\n",
      "INFO:alphaledger.process_xbrl:[_direct_fact_to_row] Fact ValuationAllowancesAndReservesChargedToCostAndExpense: Found TimeFrameContext - Start: 2019-01-01 (Type: <class 'datetime.date'>), End: 2019-12-31 (Type: <class 'datetime.date'>)\n",
      "INFO:alphaledger.process_xbrl:[_direct_fact_to_row] Fact ValuationAllowancesAndReservesDeductions: Found TimeFrameContext - Start: 2019-01-01 (Type: <class 'datetime.date'>), End: 2019-12-31 (Type: <class 'datetime.date'>)\n",
      "INFO:alphaledger.process_xbrl:[_direct_fact_to_row] Fact ValuationAllowancesAndReservesAdjustments: Found TimeFrameContext - Start: 2019-01-01 (Type: <class 'datetime.date'>), End: 2019-12-31 (Type: <class 'datetime.date'>)\n",
      "INFO:alphaledger.process_xbrl:[_direct_fact_to_row] Fact ValuationAllowancesAndReservesBalance: Found InstantContext - Instant: 2019-12-31 (Type: <class 'datetime.date'>)\n",
      "INFO:alphaledger.process_xbrl:[_direct_fact_to_row] Fact ValuationAllowancesAndReservesBalance: Found InstantContext - Instant: 2017-12-31 (Type: <class 'datetime.date'>)\n",
      "INFO:alphaledger.process_xbrl:[_direct_fact_to_row] Fact ValuationAllowancesAndReservesChargedToCostAndExpense: Found TimeFrameContext - Start: 2018-01-01 (Type: <class 'datetime.date'>), End: 2018-12-31 (Type: <class 'datetime.date'>)\n",
      "INFO:alphaledger.process_xbrl:[_direct_fact_to_row] Fact ValuationAllowancesAndReservesDeductions: Found TimeFrameContext - Start: 2018-01-01 (Type: <class 'datetime.date'>), End: 2018-12-31 (Type: <class 'datetime.date'>)\n",
      "INFO:alphaledger.process_xbrl:[_direct_fact_to_row] Fact ValuationAllowancesAndReservesAdjustments: Found TimeFrameContext - Start: 2018-01-01 (Type: <class 'datetime.date'>), End: 2018-12-31 (Type: <class 'datetime.date'>)\n",
      "INFO:alphaledger.process_xbrl:[_direct_fact_to_row] Fact ValuationAllowancesAndReservesBalance: Found InstantContext - Instant: 2018-12-31 (Type: <class 'datetime.date'>)\n",
      "INFO:alphaledger.process_xbrl:[_direct_fact_to_row] Fact ValuationAllowancesAndReservesBalance: Found InstantContext - Instant: 2017-12-31 (Type: <class 'datetime.date'>)\n",
      "INFO:alphaledger.process_xbrl:[_direct_fact_to_row] Fact ValuationAllowancesAndReservesChargedToCostAndExpense: Found TimeFrameContext - Start: 2018-01-01 (Type: <class 'datetime.date'>), End: 2018-12-31 (Type: <class 'datetime.date'>)\n",
      "INFO:alphaledger.process_xbrl:[_direct_fact_to_row] Fact ValuationAllowancesAndReservesDeductions: Found TimeFrameContext - Start: 2018-01-01 (Type: <class 'datetime.date'>), End: 2018-12-31 (Type: <class 'datetime.date'>)\n",
      "INFO:alphaledger.process_xbrl:[_direct_fact_to_row] Fact ValuationAllowancesAndReservesAdjustments: Found TimeFrameContext - Start: 2018-01-01 (Type: <class 'datetime.date'>), End: 2018-12-31 (Type: <class 'datetime.date'>)\n",
      "INFO:alphaledger.process_xbrl:[_direct_fact_to_row] Fact ValuationAllowancesAndReservesBalance: Found InstantContext - Instant: 2018-12-31 (Type: <class 'datetime.date'>)\n",
      "INFO:alphaledger.process_xbrl:[_direct_fact_to_row] Fact ValuationAllowancesAndReservesBalance: Found InstantContext - Instant: 2016-12-31 (Type: <class 'datetime.date'>)\n",
      "INFO:alphaledger.process_xbrl:[_direct_fact_to_row] Fact ValuationAllowancesAndReservesChargedToCostAndExpense: Found TimeFrameContext - Start: 2017-01-01 (Type: <class 'datetime.date'>), End: 2017-12-31 (Type: <class 'datetime.date'>)\n",
      "INFO:alphaledger.process_xbrl:[_direct_fact_to_row] Fact ValuationAllowancesAndReservesDeductions: Found TimeFrameContext - Start: 2017-01-01 (Type: <class 'datetime.date'>), End: 2017-12-31 (Type: <class 'datetime.date'>)\n",
      "INFO:alphaledger.process_xbrl:[_direct_fact_to_row] Fact ValuationAllowancesAndReservesAdjustments: Found TimeFrameContext - Start: 2017-01-01 (Type: <class 'datetime.date'>), End: 2017-12-31 (Type: <class 'datetime.date'>)\n",
      "INFO:alphaledger.process_xbrl:[_direct_fact_to_row] Fact ValuationAllowancesAndReservesBalance: Found InstantContext - Instant: 2017-12-31 (Type: <class 'datetime.date'>)\n",
      "INFO:alphaledger.process_xbrl:[_direct_fact_to_row] Fact ValuationAllowancesAndReservesBalance: Found InstantContext - Instant: 2016-12-31 (Type: <class 'datetime.date'>)\n",
      "INFO:alphaledger.process_xbrl:[_direct_fact_to_row] Fact ValuationAllowancesAndReservesChargedToCostAndExpense: Found TimeFrameContext - Start: 2017-01-01 (Type: <class 'datetime.date'>), End: 2017-12-31 (Type: <class 'datetime.date'>)\n",
      "INFO:alphaledger.process_xbrl:[_direct_fact_to_row] Fact ValuationAllowancesAndReservesDeductions: Found TimeFrameContext - Start: 2017-01-01 (Type: <class 'datetime.date'>), End: 2017-12-31 (Type: <class 'datetime.date'>)\n",
      "INFO:alphaledger.process_xbrl:[_direct_fact_to_row] Fact ValuationAllowancesAndReservesAdjustments: Found TimeFrameContext - Start: 2017-01-01 (Type: <class 'datetime.date'>), End: 2017-12-31 (Type: <class 'datetime.date'>)\n",
      "INFO:alphaledger.process_xbrl:[_direct_fact_to_row] Fact ValuationAllowancesAndReservesBalance: Found InstantContext - Instant: 2017-12-31 (Type: <class 'datetime.date'>)\n",
      "INFO:alphaledger.process_xbrl:[_direct_fact_to_row] Fact ValuationAllowancesAndReservesBalance: Found InstantContext - Instant: 2018-12-31 (Type: <class 'datetime.date'>)\n",
      "INFO:alphaledger.process_xbrl:[_direct_fact_to_row] Fact ValuationAllowancesAndReservesChargedToCostAndExpense: Found TimeFrameContext - Start: 2019-01-01 (Type: <class 'datetime.date'>), End: 2019-12-31 (Type: <class 'datetime.date'>)\n",
      "INFO:alphaledger.process_xbrl:[_direct_fact_to_row] Fact ValuationAllowancesAndReservesDeductions: Found TimeFrameContext - Start: 2019-01-01 (Type: <class 'datetime.date'>), End: 2019-12-31 (Type: <class 'datetime.date'>)\n",
      "INFO:alphaledger.process_xbrl:[_direct_fact_to_row] Fact ValuationAllowancesAndReservesAdjustments: Found TimeFrameContext - Start: 2019-01-01 (Type: <class 'datetime.date'>), End: 2019-12-31 (Type: <class 'datetime.date'>)\n",
      "INFO:alphaledger.process_xbrl:[_direct_fact_to_row] Fact ValuationAllowancesAndReservesBalance: Found InstantContext - Instant: 2019-12-31 (Type: <class 'datetime.date'>)\n",
      "INFO:alphaledger.process_xbrl:[_direct_fact_to_row] Fact ValuationAllowancesAndReservesBalance: Found InstantContext - Instant: 2017-12-31 (Type: <class 'datetime.date'>)\n",
      "INFO:alphaledger.process_xbrl:[_direct_fact_to_row] Fact ValuationAllowancesAndReservesChargedToCostAndExpense: Found TimeFrameContext - Start: 2018-01-01 (Type: <class 'datetime.date'>), End: 2018-12-31 (Type: <class 'datetime.date'>)\n",
      "INFO:alphaledger.process_xbrl:[_direct_fact_to_row] Fact ValuationAllowancesAndReservesDeductions: Found TimeFrameContext - Start: 2018-01-01 (Type: <class 'datetime.date'>), End: 2018-12-31 (Type: <class 'datetime.date'>)\n",
      "INFO:alphaledger.process_xbrl:[_direct_fact_to_row] Fact ValuationAllowancesAndReservesAdjustments: Found TimeFrameContext - Start: 2018-01-01 (Type: <class 'datetime.date'>), End: 2018-12-31 (Type: <class 'datetime.date'>)\n",
      "INFO:alphaledger.process_xbrl:[_direct_fact_to_row] Fact ValuationAllowancesAndReservesBalance: Found InstantContext - Instant: 2018-12-31 (Type: <class 'datetime.date'>)\n",
      "INFO:alphaledger.process_xbrl:[_direct_fact_to_row] Fact ValuationAllowancesAndReservesBalance: Found InstantContext - Instant: 2016-12-31 (Type: <class 'datetime.date'>)\n",
      "INFO:alphaledger.process_xbrl:[_direct_fact_to_row] Fact ValuationAllowancesAndReservesChargedToCostAndExpense: Found TimeFrameContext - Start: 2017-01-01 (Type: <class 'datetime.date'>), End: 2017-12-31 (Type: <class 'datetime.date'>)\n",
      "INFO:alphaledger.process_xbrl:[_direct_fact_to_row] Fact ValuationAllowancesAndReservesDeductions: Found TimeFrameContext - Start: 2017-01-01 (Type: <class 'datetime.date'>), End: 2017-12-31 (Type: <class 'datetime.date'>)\n",
      "INFO:alphaledger.process_xbrl:[_direct_fact_to_row] Fact ValuationAllowancesAndReservesAdjustments: Found TimeFrameContext - Start: 2017-01-01 (Type: <class 'datetime.date'>), End: 2017-12-31 (Type: <class 'datetime.date'>)\n",
      "INFO:alphaledger.process_xbrl:[_direct_fact_to_row] Fact ValuationAllowancesAndReservesBalance: Found InstantContext - Instant: 2017-12-31 (Type: <class 'datetime.date'>)\n",
      "INFO:alphaledger.process_xbrl:[_direct_fact_to_row] Fact ValuationAllowancesAndReservesBalance: Found InstantContext - Instant: 2018-12-31 (Type: <class 'datetime.date'>)\n",
      "INFO:alphaledger.process_xbrl:[_direct_fact_to_row] Fact ValuationAllowancesAndReservesChargedToOtherAccounts: Found TimeFrameContext - Start: 2019-01-01 (Type: <class 'datetime.date'>), End: 2019-12-31 (Type: <class 'datetime.date'>)\n",
      "INFO:alphaledger.process_xbrl:[_direct_fact_to_row] Fact ValuationAllowancesAndReservesDeductions: Found TimeFrameContext - Start: 2019-01-01 (Type: <class 'datetime.date'>), End: 2019-12-31 (Type: <class 'datetime.date'>)\n",
      "INFO:alphaledger.process_xbrl:[_direct_fact_to_row] Fact ValuationAllowancesAndReservesAdjustments: Found TimeFrameContext - Start: 2019-01-01 (Type: <class 'datetime.date'>), End: 2019-12-31 (Type: <class 'datetime.date'>)\n",
      "INFO:alphaledger.process_xbrl:[_direct_fact_to_row] Fact ValuationAllowancesAndReservesBalance: Found InstantContext - Instant: 2019-12-31 (Type: <class 'datetime.date'>)\n",
      "INFO:alphaledger.process_xbrl:[_direct_fact_to_row] Fact ValuationAllowancesAndReservesBalance: Found InstantContext - Instant: 2017-12-31 (Type: <class 'datetime.date'>)\n",
      "INFO:alphaledger.process_xbrl:[_direct_fact_to_row] Fact ValuationAllowancesAndReservesChargedToOtherAccounts: Found TimeFrameContext - Start: 2018-01-01 (Type: <class 'datetime.date'>), End: 2018-12-31 (Type: <class 'datetime.date'>)\n",
      "INFO:alphaledger.process_xbrl:[_direct_fact_to_row] Fact ValuationAllowancesAndReservesDeductions: Found TimeFrameContext - Start: 2018-01-01 (Type: <class 'datetime.date'>), End: 2018-12-31 (Type: <class 'datetime.date'>)\n",
      "INFO:alphaledger.process_xbrl:[_direct_fact_to_row] Fact ValuationAllowancesAndReservesAdjustments: Found TimeFrameContext - Start: 2018-01-01 (Type: <class 'datetime.date'>), End: 2018-12-31 (Type: <class 'datetime.date'>)\n",
      "INFO:alphaledger.process_xbrl:[_direct_fact_to_row] Fact ValuationAllowancesAndReservesBalance: Found InstantContext - Instant: 2018-12-31 (Type: <class 'datetime.date'>)\n",
      "INFO:alphaledger.process_xbrl:[_direct_fact_to_row] Fact ValuationAllowancesAndReservesBalance: Found InstantContext - Instant: 2016-12-31 (Type: <class 'datetime.date'>)\n",
      "INFO:alphaledger.process_xbrl:[_direct_fact_to_row] Fact ValuationAllowancesAndReservesChargedToOtherAccounts: Found TimeFrameContext - Start: 2017-01-01 (Type: <class 'datetime.date'>), End: 2017-12-31 (Type: <class 'datetime.date'>)\n",
      "INFO:alphaledger.process_xbrl:[_direct_fact_to_row] Fact ValuationAllowancesAndReservesDeductions: Found TimeFrameContext - Start: 2017-01-01 (Type: <class 'datetime.date'>), End: 2017-12-31 (Type: <class 'datetime.date'>)\n",
      "INFO:alphaledger.process_xbrl:[_direct_fact_to_row] Fact ValuationAllowancesAndReservesAdjustments: Found TimeFrameContext - Start: 2017-01-01 (Type: <class 'datetime.date'>), End: 2017-12-31 (Type: <class 'datetime.date'>)\n",
      "INFO:alphaledger.process_xbrl:[_direct_fact_to_row] Fact ValuationAllowancesAndReservesBalance: Found InstantContext - Instant: 2017-12-31 (Type: <class 'datetime.date'>)\n",
      "INFO:alphaledger.process_xbrl:[_direct_fact_to_row] Fact Security12bTitle: Found TimeFrameContext - Start: 2019-01-01 (Type: <class 'datetime.date'>), End: 2019-12-31 (Type: <class 'datetime.date'>)\n",
      "INFO:alphaledger.process_xbrl:[_direct_fact_to_row] Fact TradingSymbol: Found TimeFrameContext - Start: 2019-01-01 (Type: <class 'datetime.date'>), End: 2019-12-31 (Type: <class 'datetime.date'>)\n",
      "INFO:alphaledger.process_xbrl:[_direct_fact_to_row] Fact EntityCentralIndexKey: Found TimeFrameContext - Start: 2019-01-01 (Type: <class 'datetime.date'>), End: 2019-12-31 (Type: <class 'datetime.date'>)\n",
      "INFO:alphaledger.process_xbrl:[_direct_fact_to_row] Fact CurrentFiscalYearEndDate: Found TimeFrameContext - Start: 2019-01-01 (Type: <class 'datetime.date'>), End: 2019-12-31 (Type: <class 'datetime.date'>)\n",
      "INFO:alphaledger.process_xbrl:[_direct_fact_to_row] Fact DocumentFiscalYearFocus: Found TimeFrameContext - Start: 2019-01-01 (Type: <class 'datetime.date'>), End: 2019-12-31 (Type: <class 'datetime.date'>)\n",
      "INFO:alphaledger.process_xbrl:[_direct_fact_to_row] Fact DocumentFiscalPeriodFocus: Found TimeFrameContext - Start: 2019-01-01 (Type: <class 'datetime.date'>), End: 2019-12-31 (Type: <class 'datetime.date'>)\n",
      "INFO:alphaledger.process_xbrl:[_direct_fact_to_row] Fact AmendmentFlag: Found TimeFrameContext - Start: 2019-01-01 (Type: <class 'datetime.date'>), End: 2019-12-31 (Type: <class 'datetime.date'>)\n",
      "INFO:alphaledger.process_xbrl:[_direct_fact_to_row] Fact DocumentType: Found TimeFrameContext - Start: 2019-01-01 (Type: <class 'datetime.date'>), End: 2019-12-31 (Type: <class 'datetime.date'>)\n",
      "INFO:alphaledger.process_xbrl:[_direct_fact_to_row] Fact DocumentAnnualReport: Found TimeFrameContext - Start: 2019-01-01 (Type: <class 'datetime.date'>), End: 2019-12-31 (Type: <class 'datetime.date'>)\n",
      "INFO:alphaledger.process_xbrl:[_direct_fact_to_row] Fact DocumentTransitionReport: Found TimeFrameContext - Start: 2019-01-01 (Type: <class 'datetime.date'>), End: 2019-12-31 (Type: <class 'datetime.date'>)\n",
      "INFO:alphaledger.process_xbrl:[_direct_fact_to_row] Fact DocumentPeriodEndDate: Found TimeFrameContext - Start: 2019-01-01 (Type: <class 'datetime.date'>), End: 2019-12-31 (Type: <class 'datetime.date'>)\n",
      "INFO:alphaledger.process_xbrl:[_direct_fact_to_row] Fact EntityFileNumber: Found TimeFrameContext - Start: 2019-01-01 (Type: <class 'datetime.date'>), End: 2019-12-31 (Type: <class 'datetime.date'>)\n",
      "INFO:alphaledger.process_xbrl:[_direct_fact_to_row] Fact EntityRegistrantName: Found TimeFrameContext - Start: 2019-01-01 (Type: <class 'datetime.date'>), End: 2019-12-31 (Type: <class 'datetime.date'>)\n",
      "INFO:alphaledger.process_xbrl:[_direct_fact_to_row] Fact EntityIncorporationStateCountryCode: Found TimeFrameContext - Start: 2019-01-01 (Type: <class 'datetime.date'>), End: 2019-12-31 (Type: <class 'datetime.date'>)\n",
      "INFO:alphaledger.process_xbrl:[_direct_fact_to_row] Fact EntityAddressAddressLine1: Found TimeFrameContext - Start: 2019-01-01 (Type: <class 'datetime.date'>), End: 2019-12-31 (Type: <class 'datetime.date'>)\n",
      "INFO:alphaledger.process_xbrl:[_direct_fact_to_row] Fact EntityTaxIdentificationNumber: Found TimeFrameContext - Start: 2019-01-01 (Type: <class 'datetime.date'>), End: 2019-12-31 (Type: <class 'datetime.date'>)\n",
      "INFO:alphaledger.process_xbrl:[_direct_fact_to_row] Fact EntityAddressCityOrTown: Found TimeFrameContext - Start: 2019-01-01 (Type: <class 'datetime.date'>), End: 2019-12-31 (Type: <class 'datetime.date'>)\n",
      "INFO:alphaledger.process_xbrl:[_direct_fact_to_row] Fact EntityAddressStateOrProvince: Found TimeFrameContext - Start: 2019-01-01 (Type: <class 'datetime.date'>), End: 2019-12-31 (Type: <class 'datetime.date'>)\n",
      "INFO:alphaledger.process_xbrl:[_direct_fact_to_row] Fact EntityAddressPostalZipCode: Found TimeFrameContext - Start: 2019-01-01 (Type: <class 'datetime.date'>), End: 2019-12-31 (Type: <class 'datetime.date'>)\n",
      "INFO:alphaledger.process_xbrl:[_direct_fact_to_row] Fact CityAreaCode: Found TimeFrameContext - Start: 2019-01-01 (Type: <class 'datetime.date'>), End: 2019-12-31 (Type: <class 'datetime.date'>)\n",
      "INFO:alphaledger.process_xbrl:[_direct_fact_to_row] Fact LocalPhoneNumber: Found TimeFrameContext - Start: 2019-01-01 (Type: <class 'datetime.date'>), End: 2019-12-31 (Type: <class 'datetime.date'>)\n",
      "INFO:alphaledger.process_xbrl:[_direct_fact_to_row] Fact Security12bTitle: Found TimeFrameContext - Start: 2019-01-01 (Type: <class 'datetime.date'>), End: 2019-12-31 (Type: <class 'datetime.date'>)\n",
      "INFO:alphaledger.process_xbrl:[_direct_fact_to_row] Fact TradingSymbol: Found TimeFrameContext - Start: 2019-01-01 (Type: <class 'datetime.date'>), End: 2019-12-31 (Type: <class 'datetime.date'>)\n",
      "INFO:alphaledger.process_xbrl:[_direct_fact_to_row] Fact SecurityExchangeName: Found TimeFrameContext - Start: 2019-01-01 (Type: <class 'datetime.date'>), End: 2019-12-31 (Type: <class 'datetime.date'>)\n",
      "INFO:alphaledger.process_xbrl:[_direct_fact_to_row] Fact SecurityExchangeName: Found TimeFrameContext - Start: 2019-01-01 (Type: <class 'datetime.date'>), End: 2019-12-31 (Type: <class 'datetime.date'>)\n",
      "INFO:alphaledger.process_xbrl:[_direct_fact_to_row] Fact Security12bTitle: Found TimeFrameContext - Start: 2019-01-01 (Type: <class 'datetime.date'>), End: 2019-12-31 (Type: <class 'datetime.date'>)\n",
      "INFO:alphaledger.process_xbrl:[_direct_fact_to_row] Fact TradingSymbol: Found TimeFrameContext - Start: 2019-01-01 (Type: <class 'datetime.date'>), End: 2019-12-31 (Type: <class 'datetime.date'>)\n",
      "INFO:alphaledger.process_xbrl:[_direct_fact_to_row] Fact SecurityExchangeName: Found TimeFrameContext - Start: 2019-01-01 (Type: <class 'datetime.date'>), End: 2019-12-31 (Type: <class 'datetime.date'>)\n",
      "INFO:alphaledger.process_xbrl:[_direct_fact_to_row] Fact Security12bTitle: Found TimeFrameContext - Start: 2019-01-01 (Type: <class 'datetime.date'>), End: 2019-12-31 (Type: <class 'datetime.date'>)\n",
      "INFO:alphaledger.process_xbrl:[_direct_fact_to_row] Fact TradingSymbol: Found TimeFrameContext - Start: 2019-01-01 (Type: <class 'datetime.date'>), End: 2019-12-31 (Type: <class 'datetime.date'>)\n",
      "INFO:alphaledger.process_xbrl:[_direct_fact_to_row] Fact SecurityExchangeName: Found TimeFrameContext - Start: 2019-01-01 (Type: <class 'datetime.date'>), End: 2019-12-31 (Type: <class 'datetime.date'>)\n",
      "INFO:alphaledger.process_xbrl:[_direct_fact_to_row] Fact Security12bTitle: Found TimeFrameContext - Start: 2019-01-01 (Type: <class 'datetime.date'>), End: 2019-12-31 (Type: <class 'datetime.date'>)\n",
      "INFO:alphaledger.process_xbrl:[_direct_fact_to_row] Fact TradingSymbol: Found TimeFrameContext - Start: 2019-01-01 (Type: <class 'datetime.date'>), End: 2019-12-31 (Type: <class 'datetime.date'>)\n",
      "INFO:alphaledger.process_xbrl:[_direct_fact_to_row] Fact SecurityExchangeName: Found TimeFrameContext - Start: 2019-01-01 (Type: <class 'datetime.date'>), End: 2019-12-31 (Type: <class 'datetime.date'>)\n",
      "INFO:alphaledger.process_xbrl:[_direct_fact_to_row] Fact Security12bTitle: Found TimeFrameContext - Start: 2019-01-01 (Type: <class 'datetime.date'>), End: 2019-12-31 (Type: <class 'datetime.date'>)\n",
      "INFO:alphaledger.process_xbrl:[_direct_fact_to_row] Fact TradingSymbol: Found TimeFrameContext - Start: 2019-01-01 (Type: <class 'datetime.date'>), End: 2019-12-31 (Type: <class 'datetime.date'>)\n",
      "INFO:alphaledger.process_xbrl:[_direct_fact_to_row] Fact SecurityExchangeName: Found TimeFrameContext - Start: 2019-01-01 (Type: <class 'datetime.date'>), End: 2019-12-31 (Type: <class 'datetime.date'>)\n",
      "INFO:alphaledger.process_xbrl:[_direct_fact_to_row] Fact Security12bTitle: Found TimeFrameContext - Start: 2019-01-01 (Type: <class 'datetime.date'>), End: 2019-12-31 (Type: <class 'datetime.date'>)\n",
      "INFO:alphaledger.process_xbrl:[_direct_fact_to_row] Fact TradingSymbol: Found TimeFrameContext - Start: 2019-01-01 (Type: <class 'datetime.date'>), End: 2019-12-31 (Type: <class 'datetime.date'>)\n",
      "INFO:alphaledger.process_xbrl:[_direct_fact_to_row] Fact SecurityExchangeName: Found TimeFrameContext - Start: 2019-01-01 (Type: <class 'datetime.date'>), End: 2019-12-31 (Type: <class 'datetime.date'>)\n",
      "INFO:alphaledger.process_xbrl:[_direct_fact_to_row] Fact Security12bTitle: Found TimeFrameContext - Start: 2019-01-01 (Type: <class 'datetime.date'>), End: 2019-12-31 (Type: <class 'datetime.date'>)\n",
      "INFO:alphaledger.process_xbrl:[_direct_fact_to_row] Fact TradingSymbol: Found TimeFrameContext - Start: 2019-01-01 (Type: <class 'datetime.date'>), End: 2019-12-31 (Type: <class 'datetime.date'>)\n",
      "INFO:alphaledger.process_xbrl:[_direct_fact_to_row] Fact SecurityExchangeName: Found TimeFrameContext - Start: 2019-01-01 (Type: <class 'datetime.date'>), End: 2019-12-31 (Type: <class 'datetime.date'>)\n",
      "INFO:alphaledger.process_xbrl:[_direct_fact_to_row] Fact Security12bTitle: Found TimeFrameContext - Start: 2019-01-01 (Type: <class 'datetime.date'>), End: 2019-12-31 (Type: <class 'datetime.date'>)\n",
      "INFO:alphaledger.process_xbrl:[_direct_fact_to_row] Fact TradingSymbol: Found TimeFrameContext - Start: 2019-01-01 (Type: <class 'datetime.date'>), End: 2019-12-31 (Type: <class 'datetime.date'>)\n",
      "INFO:alphaledger.process_xbrl:[_direct_fact_to_row] Fact SecurityExchangeName: Found TimeFrameContext - Start: 2019-01-01 (Type: <class 'datetime.date'>), End: 2019-12-31 (Type: <class 'datetime.date'>)\n",
      "INFO:alphaledger.process_xbrl:[_direct_fact_to_row] Fact Security12bTitle: Found TimeFrameContext - Start: 2019-01-01 (Type: <class 'datetime.date'>), End: 2019-12-31 (Type: <class 'datetime.date'>)\n",
      "INFO:alphaledger.process_xbrl:[_direct_fact_to_row] Fact TradingSymbol: Found TimeFrameContext - Start: 2019-01-01 (Type: <class 'datetime.date'>), End: 2019-12-31 (Type: <class 'datetime.date'>)\n",
      "INFO:alphaledger.process_xbrl:[_direct_fact_to_row] Fact SecurityExchangeName: Found TimeFrameContext - Start: 2019-01-01 (Type: <class 'datetime.date'>), End: 2019-12-31 (Type: <class 'datetime.date'>)\n",
      "INFO:alphaledger.process_xbrl:[_direct_fact_to_row] Fact Security12bTitle: Found TimeFrameContext - Start: 2019-01-01 (Type: <class 'datetime.date'>), End: 2019-12-31 (Type: <class 'datetime.date'>)\n",
      "INFO:alphaledger.process_xbrl:[_direct_fact_to_row] Fact TradingSymbol: Found TimeFrameContext - Start: 2019-01-01 (Type: <class 'datetime.date'>), End: 2019-12-31 (Type: <class 'datetime.date'>)\n",
      "INFO:alphaledger.process_xbrl:[_direct_fact_to_row] Fact SecurityExchangeName: Found TimeFrameContext - Start: 2019-01-01 (Type: <class 'datetime.date'>), End: 2019-12-31 (Type: <class 'datetime.date'>)\n",
      "INFO:alphaledger.process_xbrl:[_direct_fact_to_row] Fact Security12bTitle: Found TimeFrameContext - Start: 2019-01-01 (Type: <class 'datetime.date'>), End: 2019-12-31 (Type: <class 'datetime.date'>)\n",
      "INFO:alphaledger.process_xbrl:[_direct_fact_to_row] Fact TradingSymbol: Found TimeFrameContext - Start: 2019-01-01 (Type: <class 'datetime.date'>), End: 2019-12-31 (Type: <class 'datetime.date'>)\n",
      "INFO:alphaledger.process_xbrl:[_direct_fact_to_row] Fact SecurityExchangeName: Found TimeFrameContext - Start: 2019-01-01 (Type: <class 'datetime.date'>), End: 2019-12-31 (Type: <class 'datetime.date'>)\n",
      "INFO:alphaledger.process_xbrl:[_direct_fact_to_row] Fact Security12bTitle: Found TimeFrameContext - Start: 2019-01-01 (Type: <class 'datetime.date'>), End: 2019-12-31 (Type: <class 'datetime.date'>)\n",
      "INFO:alphaledger.process_xbrl:[_direct_fact_to_row] Fact TradingSymbol: Found TimeFrameContext - Start: 2019-01-01 (Type: <class 'datetime.date'>), End: 2019-12-31 (Type: <class 'datetime.date'>)\n",
      "INFO:alphaledger.process_xbrl:[_direct_fact_to_row] Fact SecurityExchangeName: Found TimeFrameContext - Start: 2019-01-01 (Type: <class 'datetime.date'>), End: 2019-12-31 (Type: <class 'datetime.date'>)\n",
      "INFO:alphaledger.process_xbrl:[_direct_fact_to_row] Fact Security12bTitle: Found TimeFrameContext - Start: 2019-01-01 (Type: <class 'datetime.date'>), End: 2019-12-31 (Type: <class 'datetime.date'>)\n",
      "INFO:alphaledger.process_xbrl:[_direct_fact_to_row] Fact TradingSymbol: Found TimeFrameContext - Start: 2019-01-01 (Type: <class 'datetime.date'>), End: 2019-12-31 (Type: <class 'datetime.date'>)\n",
      "INFO:alphaledger.process_xbrl:[_direct_fact_to_row] Fact SecurityExchangeName: Found TimeFrameContext - Start: 2019-01-01 (Type: <class 'datetime.date'>), End: 2019-12-31 (Type: <class 'datetime.date'>)\n",
      "INFO:alphaledger.process_xbrl:[_direct_fact_to_row] Fact Security12bTitle: Found TimeFrameContext - Start: 2019-01-01 (Type: <class 'datetime.date'>), End: 2019-12-31 (Type: <class 'datetime.date'>)\n",
      "INFO:alphaledger.process_xbrl:[_direct_fact_to_row] Fact TradingSymbol: Found TimeFrameContext - Start: 2019-01-01 (Type: <class 'datetime.date'>), End: 2019-12-31 (Type: <class 'datetime.date'>)\n",
      "INFO:alphaledger.process_xbrl:[_direct_fact_to_row] Fact SecurityExchangeName: Found TimeFrameContext - Start: 2019-01-01 (Type: <class 'datetime.date'>), End: 2019-12-31 (Type: <class 'datetime.date'>)\n",
      "INFO:alphaledger.process_xbrl:[_direct_fact_to_row] Fact Security12bTitle: Found TimeFrameContext - Start: 2019-01-01 (Type: <class 'datetime.date'>), End: 2019-12-31 (Type: <class 'datetime.date'>)\n",
      "INFO:alphaledger.process_xbrl:[_direct_fact_to_row] Fact TradingSymbol: Found TimeFrameContext - Start: 2019-01-01 (Type: <class 'datetime.date'>), End: 2019-12-31 (Type: <class 'datetime.date'>)\n",
      "INFO:alphaledger.process_xbrl:[_direct_fact_to_row] Fact SecurityExchangeName: Found TimeFrameContext - Start: 2019-01-01 (Type: <class 'datetime.date'>), End: 2019-12-31 (Type: <class 'datetime.date'>)\n",
      "INFO:alphaledger.process_xbrl:[_direct_fact_to_row] Fact Security12bTitle: Found TimeFrameContext - Start: 2019-01-01 (Type: <class 'datetime.date'>), End: 2019-12-31 (Type: <class 'datetime.date'>)\n",
      "INFO:alphaledger.process_xbrl:[_direct_fact_to_row] Fact TradingSymbol: Found TimeFrameContext - Start: 2019-01-01 (Type: <class 'datetime.date'>), End: 2019-12-31 (Type: <class 'datetime.date'>)\n",
      "INFO:alphaledger.process_xbrl:[_direct_fact_to_row] Fact SecurityExchangeName: Found TimeFrameContext - Start: 2019-01-01 (Type: <class 'datetime.date'>), End: 2019-12-31 (Type: <class 'datetime.date'>)\n",
      "INFO:alphaledger.process_xbrl:[_direct_fact_to_row] Fact Security12bTitle: Found TimeFrameContext - Start: 2019-01-01 (Type: <class 'datetime.date'>), End: 2019-12-31 (Type: <class 'datetime.date'>)\n",
      "INFO:alphaledger.process_xbrl:[_direct_fact_to_row] Fact TradingSymbol: Found TimeFrameContext - Start: 2019-01-01 (Type: <class 'datetime.date'>), End: 2019-12-31 (Type: <class 'datetime.date'>)\n",
      "INFO:alphaledger.process_xbrl:[_direct_fact_to_row] Fact SecurityExchangeName: Found TimeFrameContext - Start: 2019-01-01 (Type: <class 'datetime.date'>), End: 2019-12-31 (Type: <class 'datetime.date'>)\n",
      "INFO:alphaledger.process_xbrl:[_direct_fact_to_row] Fact Security12bTitle: Found TimeFrameContext - Start: 2019-01-01 (Type: <class 'datetime.date'>), End: 2019-12-31 (Type: <class 'datetime.date'>)\n",
      "INFO:alphaledger.process_xbrl:[_direct_fact_to_row] Fact TradingSymbol: Found TimeFrameContext - Start: 2019-01-01 (Type: <class 'datetime.date'>), End: 2019-12-31 (Type: <class 'datetime.date'>)\n",
      "INFO:alphaledger.process_xbrl:[_direct_fact_to_row] Fact SecurityExchangeName: Found TimeFrameContext - Start: 2019-01-01 (Type: <class 'datetime.date'>), End: 2019-12-31 (Type: <class 'datetime.date'>)\n",
      "INFO:alphaledger.process_xbrl:[_direct_fact_to_row] Fact Security12bTitle: Found TimeFrameContext - Start: 2019-01-01 (Type: <class 'datetime.date'>), End: 2019-12-31 (Type: <class 'datetime.date'>)\n",
      "INFO:alphaledger.process_xbrl:[_direct_fact_to_row] Fact TradingSymbol: Found TimeFrameContext - Start: 2019-01-01 (Type: <class 'datetime.date'>), End: 2019-12-31 (Type: <class 'datetime.date'>)\n",
      "INFO:alphaledger.process_xbrl:[_direct_fact_to_row] Fact SecurityExchangeName: Found TimeFrameContext - Start: 2019-01-01 (Type: <class 'datetime.date'>), End: 2019-12-31 (Type: <class 'datetime.date'>)\n",
      "INFO:alphaledger.process_xbrl:[_direct_fact_to_row] Fact Security12bTitle: Found TimeFrameContext - Start: 2019-01-01 (Type: <class 'datetime.date'>), End: 2019-12-31 (Type: <class 'datetime.date'>)\n",
      "INFO:alphaledger.process_xbrl:[_direct_fact_to_row] Fact TradingSymbol: Found TimeFrameContext - Start: 2019-01-01 (Type: <class 'datetime.date'>), End: 2019-12-31 (Type: <class 'datetime.date'>)\n",
      "INFO:alphaledger.process_xbrl:[_direct_fact_to_row] Fact SecurityExchangeName: Found TimeFrameContext - Start: 2019-01-01 (Type: <class 'datetime.date'>), End: 2019-12-31 (Type: <class 'datetime.date'>)\n",
      "INFO:alphaledger.process_xbrl:[_direct_fact_to_row] Fact Security12bTitle: Found TimeFrameContext - Start: 2019-01-01 (Type: <class 'datetime.date'>), End: 2019-12-31 (Type: <class 'datetime.date'>)\n",
      "INFO:alphaledger.process_xbrl:[_direct_fact_to_row] Fact TradingSymbol: Found TimeFrameContext - Start: 2019-01-01 (Type: <class 'datetime.date'>), End: 2019-12-31 (Type: <class 'datetime.date'>)\n",
      "INFO:alphaledger.process_xbrl:[_direct_fact_to_row] Fact SecurityExchangeName: Found TimeFrameContext - Start: 2019-01-01 (Type: <class 'datetime.date'>), End: 2019-12-31 (Type: <class 'datetime.date'>)\n",
      "INFO:alphaledger.process_xbrl:[_direct_fact_to_row] Fact Security12bTitle: Found TimeFrameContext - Start: 2019-01-01 (Type: <class 'datetime.date'>), End: 2019-12-31 (Type: <class 'datetime.date'>)\n",
      "INFO:alphaledger.process_xbrl:[_direct_fact_to_row] Fact TradingSymbol: Found TimeFrameContext - Start: 2019-01-01 (Type: <class 'datetime.date'>), End: 2019-12-31 (Type: <class 'datetime.date'>)\n",
      "INFO:alphaledger.process_xbrl:[_direct_fact_to_row] Fact SecurityExchangeName: Found TimeFrameContext - Start: 2019-01-01 (Type: <class 'datetime.date'>), End: 2019-12-31 (Type: <class 'datetime.date'>)\n",
      "INFO:alphaledger.process_xbrl:[_direct_fact_to_row] Fact Security12bTitle: Found TimeFrameContext - Start: 2019-01-01 (Type: <class 'datetime.date'>), End: 2019-12-31 (Type: <class 'datetime.date'>)\n",
      "INFO:alphaledger.process_xbrl:[_direct_fact_to_row] Fact TradingSymbol: Found TimeFrameContext - Start: 2019-01-01 (Type: <class 'datetime.date'>), End: 2019-12-31 (Type: <class 'datetime.date'>)\n",
      "INFO:alphaledger.process_xbrl:[_direct_fact_to_row] Fact SecurityExchangeName: Found TimeFrameContext - Start: 2019-01-01 (Type: <class 'datetime.date'>), End: 2019-12-31 (Type: <class 'datetime.date'>)\n",
      "INFO:alphaledger.process_xbrl:[_direct_fact_to_row] Fact Security12bTitle: Found TimeFrameContext - Start: 2019-01-01 (Type: <class 'datetime.date'>), End: 2019-12-31 (Type: <class 'datetime.date'>)\n",
      "INFO:alphaledger.process_xbrl:[_direct_fact_to_row] Fact TradingSymbol: Found TimeFrameContext - Start: 2019-01-01 (Type: <class 'datetime.date'>), End: 2019-12-31 (Type: <class 'datetime.date'>)\n",
      "INFO:alphaledger.process_xbrl:[_direct_fact_to_row] Fact SecurityExchangeName: Found TimeFrameContext - Start: 2019-01-01 (Type: <class 'datetime.date'>), End: 2019-12-31 (Type: <class 'datetime.date'>)\n",
      "INFO:alphaledger.process_xbrl:[_direct_fact_to_row] Fact EntityWellKnownSeasonedIssuer: Found TimeFrameContext - Start: 2019-01-01 (Type: <class 'datetime.date'>), End: 2019-12-31 (Type: <class 'datetime.date'>)\n",
      "INFO:alphaledger.process_xbrl:[_direct_fact_to_row] Fact EntityVoluntaryFilers: Found TimeFrameContext - Start: 2019-01-01 (Type: <class 'datetime.date'>), End: 2019-12-31 (Type: <class 'datetime.date'>)\n",
      "INFO:alphaledger.process_xbrl:[_direct_fact_to_row] Fact EntityCurrentReportingStatus: Found TimeFrameContext - Start: 2019-01-01 (Type: <class 'datetime.date'>), End: 2019-12-31 (Type: <class 'datetime.date'>)\n",
      "INFO:alphaledger.process_xbrl:[_direct_fact_to_row] Fact EntityInteractiveDataCurrent: Found TimeFrameContext - Start: 2019-01-01 (Type: <class 'datetime.date'>), End: 2019-12-31 (Type: <class 'datetime.date'>)\n",
      "INFO:alphaledger.process_xbrl:[_direct_fact_to_row] Fact EntityFilerCategory: Found TimeFrameContext - Start: 2019-01-01 (Type: <class 'datetime.date'>), End: 2019-12-31 (Type: <class 'datetime.date'>)\n",
      "INFO:alphaledger.process_xbrl:[_direct_fact_to_row] Fact EntitySmallBusiness: Found TimeFrameContext - Start: 2019-01-01 (Type: <class 'datetime.date'>), End: 2019-12-31 (Type: <class 'datetime.date'>)\n",
      "INFO:alphaledger.process_xbrl:[_direct_fact_to_row] Fact EntityEmergingGrowthCompany: Found TimeFrameContext - Start: 2019-01-01 (Type: <class 'datetime.date'>), End: 2019-12-31 (Type: <class 'datetime.date'>)\n",
      "INFO:alphaledger.process_xbrl:[_direct_fact_to_row] Fact EntityShellCompany: Found TimeFrameContext - Start: 2019-01-01 (Type: <class 'datetime.date'>), End: 2019-12-31 (Type: <class 'datetime.date'>)\n",
      "INFO:alphaledger.process_xbrl:[_direct_fact_to_row] Fact ScheduleOfValuationAndQualifyingAccountsDisclosureTextBlock: Found TimeFrameContext - Start: 2019-01-01 (Type: <class 'datetime.date'>), End: 2019-12-31 (Type: <class 'datetime.date'>)\n",
      "INFO:alphaledger.process_xbrl:[process_filing_urls_direct] Processing complete. Processed 6 filings.\n",
      "INFO:alphaledger.process_xbrl:[direct] Final Numeric DF shape: (372, 15)\n",
      "INFO:alphaledger.process_xbrl:[direct] Final Text DF shape: (750, 13)\n",
      "INFO:alphaledger.universe:Successfully processed facts for IBM. Found 372 numeric facts.\n",
      "INFO:alphaledger.universe:Saved numeric facts for IBM to cache: /Users/forrest.murray/Documents/alphaledger/output/numeric_facts/Cloud_Computing_Giants.delta\n"
     ]
    }
   ],
   "source": [
    "from alphaledger.config import settings\n",
    "\n",
    "settings.verbose = True\n",
    "ibm_facts = universe.get_security_numeric_facts(\"IBM\").collect()"
   ]
  },
  {
   "cell_type": "code",
   "execution_count": 19,
   "metadata": {},
   "outputs": [
    {
     "data": {
      "text/html": [
       "<div><style>\n",
       ".dataframe > thead > tr,\n",
       ".dataframe > tbody > tr {\n",
       "  text-align: right;\n",
       "  white-space: pre-wrap;\n",
       "}\n",
       "</style>\n",
       "<small>shape: (372, 15)</small><table border=\"1\" class=\"dataframe\"><thead><tr><th>concept_name</th><th>concept_namespace</th><th>fact_type</th><th>period_instant</th><th>period_start</th><th>period_end</th><th>context_id</th><th>context_entity</th><th>context_scenario</th><th>filing_date</th><th>report_date</th><th>fact_value</th><th>unit</th><th>metadata</th><th>ticker</th></tr><tr><td>str</td><td>str</td><td>str</td><td>date</td><td>date</td><td>date</td><td>str</td><td>str</td><td>str</td><td>date</td><td>date</td><td>f64</td><td>str</td><td>struct[2]</td><td>str</td></tr></thead><tbody><tr><td>&quot;EntityPublicFloat&quot;</td><td>&quot;2024&quot;</td><td>&quot;NumericFact&quot;</td><td>2024-06-30</td><td>null</td><td>null</td><td>null</td><td>null</td><td>null</td><td>2025-02-25</td><td>2024-12-31</td><td>1.5920e11</td><td>&quot;iso4217:USD&quot;</td><td>{-8,null}</td><td>&quot;IBM&quot;</td></tr><tr><td>&quot;EntityCommonStockSharesOutstan…</td><td>&quot;2024&quot;</td><td>&quot;NumericFact&quot;</td><td>2025-02-10</td><td>null</td><td>null</td><td>null</td><td>null</td><td>null</td><td>2025-02-25</td><td>2024-12-31</td><td>9.27264332e8</td><td>&quot;xbrli:shares&quot;</td><td>{null,null}</td><td>&quot;IBM&quot;</td></tr><tr><td>&quot;ValuationAllowancesAndReserves…</td><td>&quot;elts&quot;</td><td>&quot;NumericFact&quot;</td><td>2023-12-31</td><td>null</td><td>null</td><td>null</td><td>null</td><td>null</td><td>2025-02-25</td><td>2024-12-31</td><td>4.31e8</td><td>&quot;iso4217:USD&quot;</td><td>{-6,null}</td><td>&quot;IBM&quot;</td></tr><tr><td>&quot;ValuationAllowancesAndReserves…</td><td>&quot;elts&quot;</td><td>&quot;NumericFact&quot;</td><td>null</td><td>2024-01-01</td><td>2024-12-31</td><td>null</td><td>null</td><td>null</td><td>2025-02-25</td><td>2024-12-31</td><td>-1.1e7</td><td>&quot;iso4217:USD&quot;</td><td>{-6,null}</td><td>&quot;IBM&quot;</td></tr><tr><td>&quot;ValuationAllowancesAndReserves…</td><td>&quot;elts&quot;</td><td>&quot;NumericFact&quot;</td><td>null</td><td>2024-01-01</td><td>2024-12-31</td><td>null</td><td>null</td><td>null</td><td>2025-02-25</td><td>2024-12-31</td><td>1.46e8</td><td>&quot;iso4217:USD&quot;</td><td>{-6,null}</td><td>&quot;IBM&quot;</td></tr><tr><td>&hellip;</td><td>&hellip;</td><td>&hellip;</td><td>&hellip;</td><td>&hellip;</td><td>&hellip;</td><td>&hellip;</td><td>&hellip;</td><td>&hellip;</td><td>&hellip;</td><td>&hellip;</td><td>&hellip;</td><td>&hellip;</td><td>&hellip;</td><td>&hellip;</td></tr><tr><td>&quot;ValuationAllowancesAndReserves…</td><td>&quot;elts&quot;</td><td>&quot;NumericFact&quot;</td><td>2016-12-31</td><td>null</td><td>null</td><td>null</td><td>null</td><td>null</td><td>2020-02-25</td><td>2019-12-31</td><td>4.81e8</td><td>&quot;iso4217:USD&quot;</td><td>{-6,null}</td><td>&quot;IBM&quot;</td></tr><tr><td>&quot;ValuationAllowancesAndReserves…</td><td>&quot;elts&quot;</td><td>&quot;NumericFact&quot;</td><td>null</td><td>2017-01-01</td><td>2017-12-31</td><td>null</td><td>null</td><td>null</td><td>2020-02-25</td><td>2019-12-31</td><td>1.0060e9</td><td>&quot;iso4217:USD&quot;</td><td>{-6,null}</td><td>&quot;IBM&quot;</td></tr><tr><td>&quot;ValuationAllowancesAndReserves…</td><td>&quot;elts&quot;</td><td>&quot;NumericFact&quot;</td><td>null</td><td>2017-01-01</td><td>2017-12-31</td><td>null</td><td>null</td><td>null</td><td>2020-02-25</td><td>2019-12-31</td><td>1.0560e9</td><td>&quot;iso4217:USD&quot;</td><td>{-6,null}</td><td>&quot;IBM&quot;</td></tr><tr><td>&quot;ValuationAllowancesAndReserves…</td><td>&quot;elts&quot;</td><td>&quot;NumericFact&quot;</td><td>null</td><td>2017-01-01</td><td>2017-12-31</td><td>null</td><td>null</td><td>null</td><td>2020-02-25</td><td>2019-12-31</td><td>2e7</td><td>&quot;iso4217:USD&quot;</td><td>{-6,null}</td><td>&quot;IBM&quot;</td></tr><tr><td>&quot;ValuationAllowancesAndReserves…</td><td>&quot;elts&quot;</td><td>&quot;NumericFact&quot;</td><td>2017-12-31</td><td>null</td><td>null</td><td>null</td><td>null</td><td>null</td><td>2020-02-25</td><td>2019-12-31</td><td>4.51e8</td><td>&quot;iso4217:USD&quot;</td><td>{-6,null}</td><td>&quot;IBM&quot;</td></tr></tbody></table></div>"
      ],
      "text/plain": [
       "shape: (372, 15)\n",
       "┌────────────┬────────────┬───────────┬───────────┬───┬───────────┬───────────┬───────────┬────────┐\n",
       "│ concept_na ┆ concept_na ┆ fact_type ┆ period_in ┆ … ┆ fact_valu ┆ unit      ┆ metadata  ┆ ticker │\n",
       "│ me         ┆ mespace    ┆ ---       ┆ stant     ┆   ┆ e         ┆ ---       ┆ ---       ┆ ---    │\n",
       "│ ---        ┆ ---        ┆ str       ┆ ---       ┆   ┆ ---       ┆ str       ┆ struct[2] ┆ str    │\n",
       "│ str        ┆ str        ┆           ┆ date      ┆   ┆ f64       ┆           ┆           ┆        │\n",
       "╞════════════╪════════════╪═══════════╪═══════════╪═══╪═══════════╪═══════════╪═══════════╪════════╡\n",
       "│ EntityPubl ┆ 2024       ┆ NumericFa ┆ 2024-06-3 ┆ … ┆ 1.5920e11 ┆ iso4217:U ┆ {-8,null} ┆ IBM    │\n",
       "│ icFloat    ┆            ┆ ct        ┆ 0         ┆   ┆           ┆ SD        ┆           ┆        │\n",
       "│ EntityComm ┆ 2024       ┆ NumericFa ┆ 2025-02-1 ┆ … ┆ 9.2726433 ┆ xbrli:sha ┆ {null,nul ┆ IBM    │\n",
       "│ onStockSha ┆            ┆ ct        ┆ 0         ┆   ┆ 2e8       ┆ res       ┆ l}        ┆        │\n",
       "│ resOutstan ┆            ┆           ┆           ┆   ┆           ┆           ┆           ┆        │\n",
       "│ …          ┆            ┆           ┆           ┆   ┆           ┆           ┆           ┆        │\n",
       "│ ValuationA ┆ elts       ┆ NumericFa ┆ 2023-12-3 ┆ … ┆ 4.31e8    ┆ iso4217:U ┆ {-6,null} ┆ IBM    │\n",
       "│ llowancesA ┆            ┆ ct        ┆ 1         ┆   ┆           ┆ SD        ┆           ┆        │\n",
       "│ ndReserves ┆            ┆           ┆           ┆   ┆           ┆           ┆           ┆        │\n",
       "│ …          ┆            ┆           ┆           ┆   ┆           ┆           ┆           ┆        │\n",
       "│ ValuationA ┆ elts       ┆ NumericFa ┆ null      ┆ … ┆ -1.1e7    ┆ iso4217:U ┆ {-6,null} ┆ IBM    │\n",
       "│ llowancesA ┆            ┆ ct        ┆           ┆   ┆           ┆ SD        ┆           ┆        │\n",
       "│ ndReserves ┆            ┆           ┆           ┆   ┆           ┆           ┆           ┆        │\n",
       "│ …          ┆            ┆           ┆           ┆   ┆           ┆           ┆           ┆        │\n",
       "│ ValuationA ┆ elts       ┆ NumericFa ┆ null      ┆ … ┆ 1.46e8    ┆ iso4217:U ┆ {-6,null} ┆ IBM    │\n",
       "│ llowancesA ┆            ┆ ct        ┆           ┆   ┆           ┆ SD        ┆           ┆        │\n",
       "│ ndReserves ┆            ┆           ┆           ┆   ┆           ┆           ┆           ┆        │\n",
       "│ …          ┆            ┆           ┆           ┆   ┆           ┆           ┆           ┆        │\n",
       "│ …          ┆ …          ┆ …         ┆ …         ┆ … ┆ …         ┆ …         ┆ …         ┆ …      │\n",
       "│ ValuationA ┆ elts       ┆ NumericFa ┆ 2016-12-3 ┆ … ┆ 4.81e8    ┆ iso4217:U ┆ {-6,null} ┆ IBM    │\n",
       "│ llowancesA ┆            ┆ ct        ┆ 1         ┆   ┆           ┆ SD        ┆           ┆        │\n",
       "│ ndReserves ┆            ┆           ┆           ┆   ┆           ┆           ┆           ┆        │\n",
       "│ …          ┆            ┆           ┆           ┆   ┆           ┆           ┆           ┆        │\n",
       "│ ValuationA ┆ elts       ┆ NumericFa ┆ null      ┆ … ┆ 1.0060e9  ┆ iso4217:U ┆ {-6,null} ┆ IBM    │\n",
       "│ llowancesA ┆            ┆ ct        ┆           ┆   ┆           ┆ SD        ┆           ┆        │\n",
       "│ ndReserves ┆            ┆           ┆           ┆   ┆           ┆           ┆           ┆        │\n",
       "│ …          ┆            ┆           ┆           ┆   ┆           ┆           ┆           ┆        │\n",
       "│ ValuationA ┆ elts       ┆ NumericFa ┆ null      ┆ … ┆ 1.0560e9  ┆ iso4217:U ┆ {-6,null} ┆ IBM    │\n",
       "│ llowancesA ┆            ┆ ct        ┆           ┆   ┆           ┆ SD        ┆           ┆        │\n",
       "│ ndReserves ┆            ┆           ┆           ┆   ┆           ┆           ┆           ┆        │\n",
       "│ …          ┆            ┆           ┆           ┆   ┆           ┆           ┆           ┆        │\n",
       "│ ValuationA ┆ elts       ┆ NumericFa ┆ null      ┆ … ┆ 2e7       ┆ iso4217:U ┆ {-6,null} ┆ IBM    │\n",
       "│ llowancesA ┆            ┆ ct        ┆           ┆   ┆           ┆ SD        ┆           ┆        │\n",
       "│ ndReserves ┆            ┆           ┆           ┆   ┆           ┆           ┆           ┆        │\n",
       "│ …          ┆            ┆           ┆           ┆   ┆           ┆           ┆           ┆        │\n",
       "│ ValuationA ┆ elts       ┆ NumericFa ┆ 2017-12-3 ┆ … ┆ 4.51e8    ┆ iso4217:U ┆ {-6,null} ┆ IBM    │\n",
       "│ llowancesA ┆            ┆ ct        ┆ 1         ┆   ┆           ┆ SD        ┆           ┆        │\n",
       "│ ndReserves ┆            ┆           ┆           ┆   ┆           ┆           ┆           ┆        │\n",
       "│ …          ┆            ┆           ┆           ┆   ┆           ┆           ┆           ┆        │\n",
       "└────────────┴────────────┴───────────┴───────────┴───┴───────────┴───────────┴───────────┴────────┘"
      ]
     },
     "execution_count": 19,
     "metadata": {},
     "output_type": "execute_result"
    }
   ],
   "source": [
    "ibm_facts"
   ]
  },
  {
   "cell_type": "code",
   "execution_count": null,
   "metadata": {},
   "outputs": [
    {
     "name": "stderr",
     "output_type": "stream",
     "text": [
      "INFO:alphaledger.universe:Found recent filings file (2 days old) at: /Users/forrest.murray/Documents/alphaledger/output/sec_filings_sectors/cloud_computing.delta\n",
      "INFO:alphaledger.universe:Loading filings from /Users/forrest.murray/Documents/alphaledger/output/sec_filings_sectors/cloud_computing.delta...\n",
      "INFO:alphaledger.sec:Loading Delta file: /Users/forrest.murray/Documents/alphaledger/output/sec_filings_sectors/cloud_computing.delta\n",
      "INFO:alphaledger.universe:Successfully loaded 27 filings from disk.\n"
     ]
    }
   ],
   "source": [
    "import polars as pl\n",
    "\n",
    "# universe.fetch_or_load_filings()\n",
    "\n",
    "# numeric_df.filter(pl.col(\"context_entity\").is_in([\"0001018724\"]))\\\n",
    "\n",
    "# numeric_df.head(1)"
   ]
  },
  {
   "cell_type": "code",
   "execution_count": 15,
   "metadata": {},
   "outputs": [
    {
     "data": {
      "text/plain": [
       "[]"
      ]
     },
     "execution_count": 15,
     "metadata": {},
     "output_type": "execute_result"
    }
   ],
   "source": [
    "universe.get_all_securities()"
   ]
  },
  {
   "cell_type": "code",
   "execution_count": null,
   "metadata": {},
   "outputs": [],
   "source": []
  }
 ],
 "metadata": {
  "kernelspec": {
   "display_name": ".venv",
   "language": "python",
   "name": "python3"
  },
  "language_info": {
   "codemirror_mode": {
    "name": "ipython",
    "version": 3
   },
   "file_extension": ".py",
   "mimetype": "text/x-python",
   "name": "python",
   "nbconvert_exporter": "python",
   "pygments_lexer": "ipython3",
   "version": "3.11.10"
  }
 },
 "nbformat": 4,
 "nbformat_minor": 2
}
