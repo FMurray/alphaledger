{
 "cells": [
  {
   "cell_type": "code",
   "execution_count": 23,
   "metadata": {},
   "outputs": [
    {
     "name": "stdout",
     "output_type": "stream",
     "text": [
      "The autoreload extension is already loaded. To reload it, use:\n",
      "  %reload_ext autoreload\n"
     ]
    }
   ],
   "source": [
    "%load_ext autoreload\n",
    "%autoreload 2"
   ]
  },
  {
   "cell_type": "code",
   "execution_count": 2,
   "metadata": {},
   "outputs": [],
   "source": [
    "import sys\n",
    "sys.argv = [sys.argv[0]]"
   ]
  },
  {
   "cell_type": "code",
   "execution_count": 5,
   "metadata": {},
   "outputs": [
    {
     "data": {
      "text/html": [
       "<pre style=\"white-space:pre;overflow-x:auto;line-height:normal;font-family:Menlo,'DejaVu Sans Mono',consolas,'Courier New',monospace\"><span style=\"color: #800080; text-decoration-color: #800080; font-weight: bold\">Using env file at /Users/forrest.murray/Documents/alphaledger/.env</span>\n",
       "</pre>\n"
      ],
      "text/plain": [
       "\u001b[1;35mUsing env file at \u001b[0m\u001b[1;35m/Users/forrest.murray/Documents/alphaledger/\u001b[0m\u001b[1;35m.env\u001b[0m\n"
      ]
     },
     "metadata": {},
     "output_type": "display_data"
    },
    {
     "name": "stdout",
     "output_type": "stream",
     "text": [
      "['AMZN', 'MSFT', 'GOOGL', 'IBM', 'ORCL', 'CRM', 'BABA', 'CSCO', 'AVGO', 'SAP', 'ADBE', 'WDAY', 'ZM', 'NOW', 'NET', 'DDOG']\n"
     ]
    }
   ],
   "source": [
    "from alphaledger.config import settings\n",
    "from alphaledger.universe import load_from_yaml\n",
    "from alphaledger.sec import EDGARFetcher, load_ticker_to_cik_mapping\n",
    "import pathlib\n",
    "\n",
    "edgar_fetcher = EDGARFetcher(settings.sec_user_agent)\n",
    "universe_path = pathlib.Path(settings.universe_dir, settings.universe_name + \".yaml\")\n",
    "\n",
    "universe = load_from_yaml(universe_path)\n",
    "uni_tickers = universe.get_tickers()\n",
    "\n",
    "print(uni_tickers)"
   ]
  },
  {
   "cell_type": "code",
   "execution_count": 6,
   "metadata": {},
   "outputs": [
    {
     "data": {
      "text/html": [
       "<pre style=\"white-space:pre;overflow-x:auto;line-height:normal;font-family:Menlo,'DejaVu Sans Mono',consolas,'Courier New',monospace\">Searching for AMZN <span style=\"font-weight: bold\">(</span>CIK: <span style=\"color: #008080; text-decoration-color: #008080; font-weight: bold\">0001018724</span><span style=\"font-weight: bold\">)</span> filings between <span style=\"color: #008080; text-decoration-color: #008080; font-weight: bold\">2020</span>-<span style=\"color: #008080; text-decoration-color: #008080; font-weight: bold\">2025</span>\n",
       "</pre>\n"
      ],
      "text/plain": [
       "Searching for AMZN \u001b[1m(\u001b[0mCIK: \u001b[1;36m0001018724\u001b[0m\u001b[1m)\u001b[0m filings between \u001b[1;36m2020\u001b[0m-\u001b[1;36m2025\u001b[0m\n"
      ]
     },
     "metadata": {},
     "output_type": "display_data"
    },
    {
     "data": {
      "text/html": [
       "<pre style=\"white-space:pre;overflow-x:auto;line-height:normal;font-family:Menlo,'DejaVu Sans Mono',consolas,'Courier New',monospace\"><span style=\"color: #008000; text-decoration-color: #008000\">Fetching filings from: </span><span style=\"color: #008000; text-decoration-color: #008000; text-decoration: underline\">https://data.sec.gov/submissions/CIK0001018724.json</span>\n",
       "</pre>\n"
      ],
      "text/plain": [
       "\u001b[32mFetching filings from: \u001b[0m\u001b[4;32mhttps://data.sec.gov/submissions/CIK0001018724.json\u001b[0m\n"
      ]
     },
     "metadata": {},
     "output_type": "display_data"
    },
    {
     "data": {
      "text/html": [
       "<pre style=\"white-space:pre;overflow-x:auto;line-height:normal;font-family:Menlo,'DejaVu Sans Mono',consolas,'Courier New',monospace\"><span style=\"color: #008000; text-decoration-color: #008000\">Successfully fetched filings: </span><span style=\"color: #008000; text-decoration-color: #008000; font-weight: bold\">&lt;bound</span><span style=\"color: #008000; text-decoration-color: #008000\"> method Response.json of &lt;Response </span><span style=\"color: #008000; text-decoration-color: #008000; font-weight: bold\">[</span><span style=\"color: #008000; text-decoration-color: #008000; font-weight: bold\">200</span><span style=\"color: #008000; text-decoration-color: #008000; font-weight: bold\">]</span><span style=\"color: #008000; text-decoration-color: #008000\">&gt;</span><span style=\"color: #008000; text-decoration-color: #008000; font-weight: bold\">&gt;</span>\n",
       "</pre>\n"
      ],
      "text/plain": [
       "\u001b[32mSuccessfully fetched filings: \u001b[0m\u001b[1;32m<\u001b[0m\u001b[1;32mbound\u001b[0m\u001b[32m method Response.json of <Response \u001b[0m\u001b[1;32m[\u001b[0m\u001b[1;32m200\u001b[0m\u001b[1;32m]\u001b[0m\u001b[32m>\u001b[0m\u001b[1;32m>\u001b[0m\n"
      ]
     },
     "metadata": {},
     "output_type": "display_data"
    },
    {
     "name": "stdout",
     "output_type": "stream",
     "text": [
      "Found 6 10-K filings for AMZN between 2020-2025\n"
     ]
    },
    {
     "data": {
      "text/html": [
       "<pre style=\"white-space:pre;overflow-x:auto;line-height:normal;font-family:Menlo,'DejaVu Sans Mono',consolas,'Courier New',monospace\">Searching for MSFT <span style=\"font-weight: bold\">(</span>CIK: <span style=\"color: #008080; text-decoration-color: #008080; font-weight: bold\">0000789019</span><span style=\"font-weight: bold\">)</span> filings between <span style=\"color: #008080; text-decoration-color: #008080; font-weight: bold\">2020</span>-<span style=\"color: #008080; text-decoration-color: #008080; font-weight: bold\">2025</span>\n",
       "</pre>\n"
      ],
      "text/plain": [
       "Searching for MSFT \u001b[1m(\u001b[0mCIK: \u001b[1;36m0000789019\u001b[0m\u001b[1m)\u001b[0m filings between \u001b[1;36m2020\u001b[0m-\u001b[1;36m2025\u001b[0m\n"
      ]
     },
     "metadata": {},
     "output_type": "display_data"
    },
    {
     "data": {
      "text/html": [
       "<pre style=\"white-space:pre;overflow-x:auto;line-height:normal;font-family:Menlo,'DejaVu Sans Mono',consolas,'Courier New',monospace\"><span style=\"color: #008000; text-decoration-color: #008000\">Fetching filings from: </span><span style=\"color: #008000; text-decoration-color: #008000; text-decoration: underline\">https://data.sec.gov/submissions/CIK0000789019.json</span>\n",
       "</pre>\n"
      ],
      "text/plain": [
       "\u001b[32mFetching filings from: \u001b[0m\u001b[4;32mhttps://data.sec.gov/submissions/CIK0000789019.json\u001b[0m\n"
      ]
     },
     "metadata": {},
     "output_type": "display_data"
    },
    {
     "data": {
      "text/html": [
       "<pre style=\"white-space:pre;overflow-x:auto;line-height:normal;font-family:Menlo,'DejaVu Sans Mono',consolas,'Courier New',monospace\"><span style=\"color: #008000; text-decoration-color: #008000\">Successfully fetched filings: </span><span style=\"color: #008000; text-decoration-color: #008000; font-weight: bold\">&lt;bound</span><span style=\"color: #008000; text-decoration-color: #008000\"> method Response.json of &lt;Response </span><span style=\"color: #008000; text-decoration-color: #008000; font-weight: bold\">[</span><span style=\"color: #008000; text-decoration-color: #008000; font-weight: bold\">200</span><span style=\"color: #008000; text-decoration-color: #008000; font-weight: bold\">]</span><span style=\"color: #008000; text-decoration-color: #008000\">&gt;</span><span style=\"color: #008000; text-decoration-color: #008000; font-weight: bold\">&gt;</span>\n",
       "</pre>\n"
      ],
      "text/plain": [
       "\u001b[32mSuccessfully fetched filings: \u001b[0m\u001b[1;32m<\u001b[0m\u001b[1;32mbound\u001b[0m\u001b[32m method Response.json of <Response \u001b[0m\u001b[1;32m[\u001b[0m\u001b[1;32m200\u001b[0m\u001b[1;32m]\u001b[0m\u001b[32m>\u001b[0m\u001b[1;32m>\u001b[0m\n"
      ]
     },
     "metadata": {},
     "output_type": "display_data"
    },
    {
     "name": "stdout",
     "output_type": "stream",
     "text": [
      "Found 5 10-K filings for MSFT between 2020-2025\n"
     ]
    },
    {
     "data": {
      "text/html": [
       "<pre style=\"white-space:pre;overflow-x:auto;line-height:normal;font-family:Menlo,'DejaVu Sans Mono',consolas,'Courier New',monospace\">Searching for GOOGL <span style=\"font-weight: bold\">(</span>CIK: <span style=\"color: #008080; text-decoration-color: #008080; font-weight: bold\">0001652044</span><span style=\"font-weight: bold\">)</span> filings between <span style=\"color: #008080; text-decoration-color: #008080; font-weight: bold\">2020</span>-<span style=\"color: #008080; text-decoration-color: #008080; font-weight: bold\">2025</span>\n",
       "</pre>\n"
      ],
      "text/plain": [
       "Searching for GOOGL \u001b[1m(\u001b[0mCIK: \u001b[1;36m0001652044\u001b[0m\u001b[1m)\u001b[0m filings between \u001b[1;36m2020\u001b[0m-\u001b[1;36m2025\u001b[0m\n"
      ]
     },
     "metadata": {},
     "output_type": "display_data"
    },
    {
     "data": {
      "text/html": [
       "<pre style=\"white-space:pre;overflow-x:auto;line-height:normal;font-family:Menlo,'DejaVu Sans Mono',consolas,'Courier New',monospace\"><span style=\"color: #008000; text-decoration-color: #008000\">Fetching filings from: </span><span style=\"color: #008000; text-decoration-color: #008000; text-decoration: underline\">https://data.sec.gov/submissions/CIK0001652044.json</span>\n",
       "</pre>\n"
      ],
      "text/plain": [
       "\u001b[32mFetching filings from: \u001b[0m\u001b[4;32mhttps://data.sec.gov/submissions/CIK0001652044.json\u001b[0m\n"
      ]
     },
     "metadata": {},
     "output_type": "display_data"
    },
    {
     "data": {
      "text/html": [
       "<pre style=\"white-space:pre;overflow-x:auto;line-height:normal;font-family:Menlo,'DejaVu Sans Mono',consolas,'Courier New',monospace\"><span style=\"color: #008000; text-decoration-color: #008000\">Successfully fetched filings: </span><span style=\"color: #008000; text-decoration-color: #008000; font-weight: bold\">&lt;bound</span><span style=\"color: #008000; text-decoration-color: #008000\"> method Response.json of &lt;Response </span><span style=\"color: #008000; text-decoration-color: #008000; font-weight: bold\">[</span><span style=\"color: #008000; text-decoration-color: #008000; font-weight: bold\">200</span><span style=\"color: #008000; text-decoration-color: #008000; font-weight: bold\">]</span><span style=\"color: #008000; text-decoration-color: #008000\">&gt;</span><span style=\"color: #008000; text-decoration-color: #008000; font-weight: bold\">&gt;</span>\n",
       "</pre>\n"
      ],
      "text/plain": [
       "\u001b[32mSuccessfully fetched filings: \u001b[0m\u001b[1;32m<\u001b[0m\u001b[1;32mbound\u001b[0m\u001b[32m method Response.json of <Response \u001b[0m\u001b[1;32m[\u001b[0m\u001b[1;32m200\u001b[0m\u001b[1;32m]\u001b[0m\u001b[32m>\u001b[0m\u001b[1;32m>\u001b[0m\n"
      ]
     },
     "metadata": {},
     "output_type": "display_data"
    },
    {
     "name": "stdout",
     "output_type": "stream",
     "text": [
      "Found 4 10-K filings for GOOGL between 2020-2025\n"
     ]
    },
    {
     "data": {
      "text/html": [
       "<pre style=\"white-space:pre;overflow-x:auto;line-height:normal;font-family:Menlo,'DejaVu Sans Mono',consolas,'Courier New',monospace\">Searching for IBM <span style=\"font-weight: bold\">(</span>CIK: <span style=\"color: #008080; text-decoration-color: #008080; font-weight: bold\">0000051143</span><span style=\"font-weight: bold\">)</span> filings between <span style=\"color: #008080; text-decoration-color: #008080; font-weight: bold\">2020</span>-<span style=\"color: #008080; text-decoration-color: #008080; font-weight: bold\">2025</span>\n",
       "</pre>\n"
      ],
      "text/plain": [
       "Searching for IBM \u001b[1m(\u001b[0mCIK: \u001b[1;36m0000051143\u001b[0m\u001b[1m)\u001b[0m filings between \u001b[1;36m2020\u001b[0m-\u001b[1;36m2025\u001b[0m\n"
      ]
     },
     "metadata": {},
     "output_type": "display_data"
    },
    {
     "data": {
      "text/html": [
       "<pre style=\"white-space:pre;overflow-x:auto;line-height:normal;font-family:Menlo,'DejaVu Sans Mono',consolas,'Courier New',monospace\"><span style=\"color: #008000; text-decoration-color: #008000\">Fetching filings from: </span><span style=\"color: #008000; text-decoration-color: #008000; text-decoration: underline\">https://data.sec.gov/submissions/CIK0000051143.json</span>\n",
       "</pre>\n"
      ],
      "text/plain": [
       "\u001b[32mFetching filings from: \u001b[0m\u001b[4;32mhttps://data.sec.gov/submissions/CIK0000051143.json\u001b[0m\n"
      ]
     },
     "metadata": {},
     "output_type": "display_data"
    },
    {
     "data": {
      "text/html": [
       "<pre style=\"white-space:pre;overflow-x:auto;line-height:normal;font-family:Menlo,'DejaVu Sans Mono',consolas,'Courier New',monospace\"><span style=\"color: #008000; text-decoration-color: #008000\">Successfully fetched filings: </span><span style=\"color: #008000; text-decoration-color: #008000; font-weight: bold\">&lt;bound</span><span style=\"color: #008000; text-decoration-color: #008000\"> method Response.json of &lt;Response </span><span style=\"color: #008000; text-decoration-color: #008000; font-weight: bold\">[</span><span style=\"color: #008000; text-decoration-color: #008000; font-weight: bold\">200</span><span style=\"color: #008000; text-decoration-color: #008000; font-weight: bold\">]</span><span style=\"color: #008000; text-decoration-color: #008000\">&gt;</span><span style=\"color: #008000; text-decoration-color: #008000; font-weight: bold\">&gt;</span>\n",
       "</pre>\n"
      ],
      "text/plain": [
       "\u001b[32mSuccessfully fetched filings: \u001b[0m\u001b[1;32m<\u001b[0m\u001b[1;32mbound\u001b[0m\u001b[32m method Response.json of <Response \u001b[0m\u001b[1;32m[\u001b[0m\u001b[1;32m200\u001b[0m\u001b[1;32m]\u001b[0m\u001b[32m>\u001b[0m\u001b[1;32m>\u001b[0m\n"
      ]
     },
     "metadata": {},
     "output_type": "display_data"
    },
    {
     "name": "stdout",
     "output_type": "stream",
     "text": [
      "Found 6 10-K filings for IBM between 2020-2025\n"
     ]
    },
    {
     "data": {
      "text/html": [
       "<pre style=\"white-space:pre;overflow-x:auto;line-height:normal;font-family:Menlo,'DejaVu Sans Mono',consolas,'Courier New',monospace\">Searching for ORCL <span style=\"font-weight: bold\">(</span>CIK: <span style=\"color: #008080; text-decoration-color: #008080; font-weight: bold\">0001341439</span><span style=\"font-weight: bold\">)</span> filings between <span style=\"color: #008080; text-decoration-color: #008080; font-weight: bold\">2020</span>-<span style=\"color: #008080; text-decoration-color: #008080; font-weight: bold\">2025</span>\n",
       "</pre>\n"
      ],
      "text/plain": [
       "Searching for ORCL \u001b[1m(\u001b[0mCIK: \u001b[1;36m0001341439\u001b[0m\u001b[1m)\u001b[0m filings between \u001b[1;36m2020\u001b[0m-\u001b[1;36m2025\u001b[0m\n"
      ]
     },
     "metadata": {},
     "output_type": "display_data"
    },
    {
     "data": {
      "text/html": [
       "<pre style=\"white-space:pre;overflow-x:auto;line-height:normal;font-family:Menlo,'DejaVu Sans Mono',consolas,'Courier New',monospace\"><span style=\"color: #008000; text-decoration-color: #008000\">Fetching filings from: </span><span style=\"color: #008000; text-decoration-color: #008000; text-decoration: underline\">https://data.sec.gov/submissions/CIK0001341439.json</span>\n",
       "</pre>\n"
      ],
      "text/plain": [
       "\u001b[32mFetching filings from: \u001b[0m\u001b[4;32mhttps://data.sec.gov/submissions/CIK0001341439.json\u001b[0m\n"
      ]
     },
     "metadata": {},
     "output_type": "display_data"
    },
    {
     "data": {
      "text/html": [
       "<pre style=\"white-space:pre;overflow-x:auto;line-height:normal;font-family:Menlo,'DejaVu Sans Mono',consolas,'Courier New',monospace\"><span style=\"color: #008000; text-decoration-color: #008000\">Successfully fetched filings: </span><span style=\"color: #008000; text-decoration-color: #008000; font-weight: bold\">&lt;bound</span><span style=\"color: #008000; text-decoration-color: #008000\"> method Response.json of &lt;Response </span><span style=\"color: #008000; text-decoration-color: #008000; font-weight: bold\">[</span><span style=\"color: #008000; text-decoration-color: #008000; font-weight: bold\">200</span><span style=\"color: #008000; text-decoration-color: #008000; font-weight: bold\">]</span><span style=\"color: #008000; text-decoration-color: #008000\">&gt;</span><span style=\"color: #008000; text-decoration-color: #008000; font-weight: bold\">&gt;</span>\n",
       "</pre>\n"
      ],
      "text/plain": [
       "\u001b[32mSuccessfully fetched filings: \u001b[0m\u001b[1;32m<\u001b[0m\u001b[1;32mbound\u001b[0m\u001b[32m method Response.json of <Response \u001b[0m\u001b[1;32m[\u001b[0m\u001b[1;32m200\u001b[0m\u001b[1;32m]\u001b[0m\u001b[32m>\u001b[0m\u001b[1;32m>\u001b[0m\n"
      ]
     },
     "metadata": {},
     "output_type": "display_data"
    },
    {
     "name": "stdout",
     "output_type": "stream",
     "text": [
      "Found 5 10-K filings for ORCL between 2020-2025\n"
     ]
    },
    {
     "data": {
      "text/html": [
       "<pre style=\"white-space:pre;overflow-x:auto;line-height:normal;font-family:Menlo,'DejaVu Sans Mono',consolas,'Courier New',monospace\">Searching for CRM <span style=\"font-weight: bold\">(</span>CIK: <span style=\"color: #008080; text-decoration-color: #008080; font-weight: bold\">0001108524</span><span style=\"font-weight: bold\">)</span> filings between <span style=\"color: #008080; text-decoration-color: #008080; font-weight: bold\">2020</span>-<span style=\"color: #008080; text-decoration-color: #008080; font-weight: bold\">2025</span>\n",
       "</pre>\n"
      ],
      "text/plain": [
       "Searching for CRM \u001b[1m(\u001b[0mCIK: \u001b[1;36m0001108524\u001b[0m\u001b[1m)\u001b[0m filings between \u001b[1;36m2020\u001b[0m-\u001b[1;36m2025\u001b[0m\n"
      ]
     },
     "metadata": {},
     "output_type": "display_data"
    },
    {
     "data": {
      "text/html": [
       "<pre style=\"white-space:pre;overflow-x:auto;line-height:normal;font-family:Menlo,'DejaVu Sans Mono',consolas,'Courier New',monospace\"><span style=\"color: #008000; text-decoration-color: #008000\">Fetching filings from: </span><span style=\"color: #008000; text-decoration-color: #008000; text-decoration: underline\">https://data.sec.gov/submissions/CIK0001108524.json</span>\n",
       "</pre>\n"
      ],
      "text/plain": [
       "\u001b[32mFetching filings from: \u001b[0m\u001b[4;32mhttps://data.sec.gov/submissions/CIK0001108524.json\u001b[0m\n"
      ]
     },
     "metadata": {},
     "output_type": "display_data"
    },
    {
     "data": {
      "text/html": [
       "<pre style=\"white-space:pre;overflow-x:auto;line-height:normal;font-family:Menlo,'DejaVu Sans Mono',consolas,'Courier New',monospace\"><span style=\"color: #008000; text-decoration-color: #008000\">Successfully fetched filings: </span><span style=\"color: #008000; text-decoration-color: #008000; font-weight: bold\">&lt;bound</span><span style=\"color: #008000; text-decoration-color: #008000\"> method Response.json of &lt;Response </span><span style=\"color: #008000; text-decoration-color: #008000; font-weight: bold\">[</span><span style=\"color: #008000; text-decoration-color: #008000; font-weight: bold\">200</span><span style=\"color: #008000; text-decoration-color: #008000; font-weight: bold\">]</span><span style=\"color: #008000; text-decoration-color: #008000\">&gt;</span><span style=\"color: #008000; text-decoration-color: #008000; font-weight: bold\">&gt;</span>\n",
       "</pre>\n"
      ],
      "text/plain": [
       "\u001b[32mSuccessfully fetched filings: \u001b[0m\u001b[1;32m<\u001b[0m\u001b[1;32mbound\u001b[0m\u001b[32m method Response.json of <Response \u001b[0m\u001b[1;32m[\u001b[0m\u001b[1;32m200\u001b[0m\u001b[1;32m]\u001b[0m\u001b[32m>\u001b[0m\u001b[1;32m>\u001b[0m\n"
      ]
     },
     "metadata": {},
     "output_type": "display_data"
    },
    {
     "name": "stdout",
     "output_type": "stream",
     "text": [
      "Found 3 10-K filings for CRM between 2020-2025\n"
     ]
    },
    {
     "data": {
      "text/html": [
       "<pre style=\"white-space:pre;overflow-x:auto;line-height:normal;font-family:Menlo,'DejaVu Sans Mono',consolas,'Courier New',monospace\">Searching for BABA <span style=\"font-weight: bold\">(</span>CIK: <span style=\"color: #008080; text-decoration-color: #008080; font-weight: bold\">0001577552</span><span style=\"font-weight: bold\">)</span> filings between <span style=\"color: #008080; text-decoration-color: #008080; font-weight: bold\">2020</span>-<span style=\"color: #008080; text-decoration-color: #008080; font-weight: bold\">2025</span>\n",
       "</pre>\n"
      ],
      "text/plain": [
       "Searching for BABA \u001b[1m(\u001b[0mCIK: \u001b[1;36m0001577552\u001b[0m\u001b[1m)\u001b[0m filings between \u001b[1;36m2020\u001b[0m-\u001b[1;36m2025\u001b[0m\n"
      ]
     },
     "metadata": {},
     "output_type": "display_data"
    },
    {
     "data": {
      "text/html": [
       "<pre style=\"white-space:pre;overflow-x:auto;line-height:normal;font-family:Menlo,'DejaVu Sans Mono',consolas,'Courier New',monospace\"><span style=\"color: #008000; text-decoration-color: #008000\">Fetching filings from: </span><span style=\"color: #008000; text-decoration-color: #008000; text-decoration: underline\">https://data.sec.gov/submissions/CIK0001577552.json</span>\n",
       "</pre>\n"
      ],
      "text/plain": [
       "\u001b[32mFetching filings from: \u001b[0m\u001b[4;32mhttps://data.sec.gov/submissions/CIK0001577552.json\u001b[0m\n"
      ]
     },
     "metadata": {},
     "output_type": "display_data"
    },
    {
     "data": {
      "text/html": [
       "<pre style=\"white-space:pre;overflow-x:auto;line-height:normal;font-family:Menlo,'DejaVu Sans Mono',consolas,'Courier New',monospace\"><span style=\"color: #008000; text-decoration-color: #008000\">Successfully fetched filings: </span><span style=\"color: #008000; text-decoration-color: #008000; font-weight: bold\">&lt;bound</span><span style=\"color: #008000; text-decoration-color: #008000\"> method Response.json of &lt;Response </span><span style=\"color: #008000; text-decoration-color: #008000; font-weight: bold\">[</span><span style=\"color: #008000; text-decoration-color: #008000; font-weight: bold\">200</span><span style=\"color: #008000; text-decoration-color: #008000; font-weight: bold\">]</span><span style=\"color: #008000; text-decoration-color: #008000\">&gt;</span><span style=\"color: #008000; text-decoration-color: #008000; font-weight: bold\">&gt;</span>\n",
       "</pre>\n"
      ],
      "text/plain": [
       "\u001b[32mSuccessfully fetched filings: \u001b[0m\u001b[1;32m<\u001b[0m\u001b[1;32mbound\u001b[0m\u001b[32m method Response.json of <Response \u001b[0m\u001b[1;32m[\u001b[0m\u001b[1;32m200\u001b[0m\u001b[1;32m]\u001b[0m\u001b[32m>\u001b[0m\u001b[1;32m>\u001b[0m\n"
      ]
     },
     "metadata": {},
     "output_type": "display_data"
    },
    {
     "data": {
      "text/html": [
       "<pre style=\"white-space:pre;overflow-x:auto;line-height:normal;font-family:Menlo,'DejaVu Sans Mono',consolas,'Courier New',monospace\">Searching for CSCO <span style=\"font-weight: bold\">(</span>CIK: <span style=\"color: #008080; text-decoration-color: #008080; font-weight: bold\">0000858877</span><span style=\"font-weight: bold\">)</span> filings between <span style=\"color: #008080; text-decoration-color: #008080; font-weight: bold\">2020</span>-<span style=\"color: #008080; text-decoration-color: #008080; font-weight: bold\">2025</span>\n",
       "</pre>\n"
      ],
      "text/plain": [
       "Searching for CSCO \u001b[1m(\u001b[0mCIK: \u001b[1;36m0000858877\u001b[0m\u001b[1m)\u001b[0m filings between \u001b[1;36m2020\u001b[0m-\u001b[1;36m2025\u001b[0m\n"
      ]
     },
     "metadata": {},
     "output_type": "display_data"
    },
    {
     "data": {
      "text/html": [
       "<pre style=\"white-space:pre;overflow-x:auto;line-height:normal;font-family:Menlo,'DejaVu Sans Mono',consolas,'Courier New',monospace\"><span style=\"color: #008000; text-decoration-color: #008000\">Fetching filings from: </span><span style=\"color: #008000; text-decoration-color: #008000; text-decoration: underline\">https://data.sec.gov/submissions/CIK0000858877.json</span>\n",
       "</pre>\n"
      ],
      "text/plain": [
       "\u001b[32mFetching filings from: \u001b[0m\u001b[4;32mhttps://data.sec.gov/submissions/CIK0000858877.json\u001b[0m\n"
      ]
     },
     "metadata": {},
     "output_type": "display_data"
    },
    {
     "data": {
      "text/html": [
       "<pre style=\"white-space:pre;overflow-x:auto;line-height:normal;font-family:Menlo,'DejaVu Sans Mono',consolas,'Courier New',monospace\"><span style=\"color: #008000; text-decoration-color: #008000\">Successfully fetched filings: </span><span style=\"color: #008000; text-decoration-color: #008000; font-weight: bold\">&lt;bound</span><span style=\"color: #008000; text-decoration-color: #008000\"> method Response.json of &lt;Response </span><span style=\"color: #008000; text-decoration-color: #008000; font-weight: bold\">[</span><span style=\"color: #008000; text-decoration-color: #008000; font-weight: bold\">200</span><span style=\"color: #008000; text-decoration-color: #008000; font-weight: bold\">]</span><span style=\"color: #008000; text-decoration-color: #008000\">&gt;</span><span style=\"color: #008000; text-decoration-color: #008000; font-weight: bold\">&gt;</span>\n",
       "</pre>\n"
      ],
      "text/plain": [
       "\u001b[32mSuccessfully fetched filings: \u001b[0m\u001b[1;32m<\u001b[0m\u001b[1;32mbound\u001b[0m\u001b[32m method Response.json of <Response \u001b[0m\u001b[1;32m[\u001b[0m\u001b[1;32m200\u001b[0m\u001b[1;32m]\u001b[0m\u001b[32m>\u001b[0m\u001b[1;32m>\u001b[0m\n"
      ]
     },
     "metadata": {},
     "output_type": "display_data"
    },
    {
     "name": "stdout",
     "output_type": "stream",
     "text": [
      "Found 5 10-K filings for CSCO between 2020-2025\n"
     ]
    },
    {
     "data": {
      "text/html": [
       "<pre style=\"white-space:pre;overflow-x:auto;line-height:normal;font-family:Menlo,'DejaVu Sans Mono',consolas,'Courier New',monospace\">Searching for AVGO <span style=\"font-weight: bold\">(</span>CIK: <span style=\"color: #008080; text-decoration-color: #008080; font-weight: bold\">0001730168</span><span style=\"font-weight: bold\">)</span> filings between <span style=\"color: #008080; text-decoration-color: #008080; font-weight: bold\">2020</span>-<span style=\"color: #008080; text-decoration-color: #008080; font-weight: bold\">2025</span>\n",
       "</pre>\n"
      ],
      "text/plain": [
       "Searching for AVGO \u001b[1m(\u001b[0mCIK: \u001b[1;36m0001730168\u001b[0m\u001b[1m)\u001b[0m filings between \u001b[1;36m2020\u001b[0m-\u001b[1;36m2025\u001b[0m\n"
      ]
     },
     "metadata": {},
     "output_type": "display_data"
    },
    {
     "data": {
      "text/html": [
       "<pre style=\"white-space:pre;overflow-x:auto;line-height:normal;font-family:Menlo,'DejaVu Sans Mono',consolas,'Courier New',monospace\"><span style=\"color: #008000; text-decoration-color: #008000\">Fetching filings from: </span><span style=\"color: #008000; text-decoration-color: #008000; text-decoration: underline\">https://data.sec.gov/submissions/CIK0001730168.json</span>\n",
       "</pre>\n"
      ],
      "text/plain": [
       "\u001b[32mFetching filings from: \u001b[0m\u001b[4;32mhttps://data.sec.gov/submissions/CIK0001730168.json\u001b[0m\n"
      ]
     },
     "metadata": {},
     "output_type": "display_data"
    },
    {
     "data": {
      "text/html": [
       "<pre style=\"white-space:pre;overflow-x:auto;line-height:normal;font-family:Menlo,'DejaVu Sans Mono',consolas,'Courier New',monospace\"><span style=\"color: #008000; text-decoration-color: #008000\">Successfully fetched filings: </span><span style=\"color: #008000; text-decoration-color: #008000; font-weight: bold\">&lt;bound</span><span style=\"color: #008000; text-decoration-color: #008000\"> method Response.json of &lt;Response </span><span style=\"color: #008000; text-decoration-color: #008000; font-weight: bold\">[</span><span style=\"color: #008000; text-decoration-color: #008000; font-weight: bold\">200</span><span style=\"color: #008000; text-decoration-color: #008000; font-weight: bold\">]</span><span style=\"color: #008000; text-decoration-color: #008000\">&gt;</span><span style=\"color: #008000; text-decoration-color: #008000; font-weight: bold\">&gt;</span>\n",
       "</pre>\n"
      ],
      "text/plain": [
       "\u001b[32mSuccessfully fetched filings: \u001b[0m\u001b[1;32m<\u001b[0m\u001b[1;32mbound\u001b[0m\u001b[32m method Response.json of <Response \u001b[0m\u001b[1;32m[\u001b[0m\u001b[1;32m200\u001b[0m\u001b[1;32m]\u001b[0m\u001b[32m>\u001b[0m\u001b[1;32m>\u001b[0m\n"
      ]
     },
     "metadata": {},
     "output_type": "display_data"
    },
    {
     "name": "stdout",
     "output_type": "stream",
     "text": [
      "Found 5 10-K filings for AVGO between 2020-2025\n"
     ]
    },
    {
     "data": {
      "text/html": [
       "<pre style=\"white-space:pre;overflow-x:auto;line-height:normal;font-family:Menlo,'DejaVu Sans Mono',consolas,'Courier New',monospace\">Searching for SAP <span style=\"font-weight: bold\">(</span>CIK: <span style=\"color: #008080; text-decoration-color: #008080; font-weight: bold\">0001000184</span><span style=\"font-weight: bold\">)</span> filings between <span style=\"color: #008080; text-decoration-color: #008080; font-weight: bold\">2020</span>-<span style=\"color: #008080; text-decoration-color: #008080; font-weight: bold\">2025</span>\n",
       "</pre>\n"
      ],
      "text/plain": [
       "Searching for SAP \u001b[1m(\u001b[0mCIK: \u001b[1;36m0001000184\u001b[0m\u001b[1m)\u001b[0m filings between \u001b[1;36m2020\u001b[0m-\u001b[1;36m2025\u001b[0m\n"
      ]
     },
     "metadata": {},
     "output_type": "display_data"
    },
    {
     "data": {
      "text/html": [
       "<pre style=\"white-space:pre;overflow-x:auto;line-height:normal;font-family:Menlo,'DejaVu Sans Mono',consolas,'Courier New',monospace\"><span style=\"color: #008000; text-decoration-color: #008000\">Fetching filings from: </span><span style=\"color: #008000; text-decoration-color: #008000; text-decoration: underline\">https://data.sec.gov/submissions/CIK0001000184.json</span>\n",
       "</pre>\n"
      ],
      "text/plain": [
       "\u001b[32mFetching filings from: \u001b[0m\u001b[4;32mhttps://data.sec.gov/submissions/CIK0001000184.json\u001b[0m\n"
      ]
     },
     "metadata": {},
     "output_type": "display_data"
    },
    {
     "data": {
      "text/html": [
       "<pre style=\"white-space:pre;overflow-x:auto;line-height:normal;font-family:Menlo,'DejaVu Sans Mono',consolas,'Courier New',monospace\"><span style=\"color: #008000; text-decoration-color: #008000\">Successfully fetched filings: </span><span style=\"color: #008000; text-decoration-color: #008000; font-weight: bold\">&lt;bound</span><span style=\"color: #008000; text-decoration-color: #008000\"> method Response.json of &lt;Response </span><span style=\"color: #008000; text-decoration-color: #008000; font-weight: bold\">[</span><span style=\"color: #008000; text-decoration-color: #008000; font-weight: bold\">200</span><span style=\"color: #008000; text-decoration-color: #008000; font-weight: bold\">]</span><span style=\"color: #008000; text-decoration-color: #008000\">&gt;</span><span style=\"color: #008000; text-decoration-color: #008000; font-weight: bold\">&gt;</span>\n",
       "</pre>\n"
      ],
      "text/plain": [
       "\u001b[32mSuccessfully fetched filings: \u001b[0m\u001b[1;32m<\u001b[0m\u001b[1;32mbound\u001b[0m\u001b[32m method Response.json of <Response \u001b[0m\u001b[1;32m[\u001b[0m\u001b[1;32m200\u001b[0m\u001b[1;32m]\u001b[0m\u001b[32m>\u001b[0m\u001b[1;32m>\u001b[0m\n"
      ]
     },
     "metadata": {},
     "output_type": "display_data"
    },
    {
     "data": {
      "text/html": [
       "<pre style=\"white-space:pre;overflow-x:auto;line-height:normal;font-family:Menlo,'DejaVu Sans Mono',consolas,'Courier New',monospace\">Searching for ADBE <span style=\"font-weight: bold\">(</span>CIK: <span style=\"color: #008080; text-decoration-color: #008080; font-weight: bold\">0000796343</span><span style=\"font-weight: bold\">)</span> filings between <span style=\"color: #008080; text-decoration-color: #008080; font-weight: bold\">2020</span>-<span style=\"color: #008080; text-decoration-color: #008080; font-weight: bold\">2025</span>\n",
       "</pre>\n"
      ],
      "text/plain": [
       "Searching for ADBE \u001b[1m(\u001b[0mCIK: \u001b[1;36m0000796343\u001b[0m\u001b[1m)\u001b[0m filings between \u001b[1;36m2020\u001b[0m-\u001b[1;36m2025\u001b[0m\n"
      ]
     },
     "metadata": {},
     "output_type": "display_data"
    },
    {
     "data": {
      "text/html": [
       "<pre style=\"white-space:pre;overflow-x:auto;line-height:normal;font-family:Menlo,'DejaVu Sans Mono',consolas,'Courier New',monospace\"><span style=\"color: #008000; text-decoration-color: #008000\">Fetching filings from: </span><span style=\"color: #008000; text-decoration-color: #008000; text-decoration: underline\">https://data.sec.gov/submissions/CIK0000796343.json</span>\n",
       "</pre>\n"
      ],
      "text/plain": [
       "\u001b[32mFetching filings from: \u001b[0m\u001b[4;32mhttps://data.sec.gov/submissions/CIK0000796343.json\u001b[0m\n"
      ]
     },
     "metadata": {},
     "output_type": "display_data"
    },
    {
     "data": {
      "text/html": [
       "<pre style=\"white-space:pre;overflow-x:auto;line-height:normal;font-family:Menlo,'DejaVu Sans Mono',consolas,'Courier New',monospace\"><span style=\"color: #008000; text-decoration-color: #008000\">Successfully fetched filings: </span><span style=\"color: #008000; text-decoration-color: #008000; font-weight: bold\">&lt;bound</span><span style=\"color: #008000; text-decoration-color: #008000\"> method Response.json of &lt;Response </span><span style=\"color: #008000; text-decoration-color: #008000; font-weight: bold\">[</span><span style=\"color: #008000; text-decoration-color: #008000; font-weight: bold\">200</span><span style=\"color: #008000; text-decoration-color: #008000; font-weight: bold\">]</span><span style=\"color: #008000; text-decoration-color: #008000\">&gt;</span><span style=\"color: #008000; text-decoration-color: #008000; font-weight: bold\">&gt;</span>\n",
       "</pre>\n"
      ],
      "text/plain": [
       "\u001b[32mSuccessfully fetched filings: \u001b[0m\u001b[1;32m<\u001b[0m\u001b[1;32mbound\u001b[0m\u001b[32m method Response.json of <Response \u001b[0m\u001b[1;32m[\u001b[0m\u001b[1;32m200\u001b[0m\u001b[1;32m]\u001b[0m\u001b[32m>\u001b[0m\u001b[1;32m>\u001b[0m\n"
      ]
     },
     "metadata": {},
     "output_type": "display_data"
    },
    {
     "name": "stdout",
     "output_type": "stream",
     "text": [
      "Found 6 10-K filings for ADBE between 2020-2025\n"
     ]
    },
    {
     "data": {
      "text/html": [
       "<pre style=\"white-space:pre;overflow-x:auto;line-height:normal;font-family:Menlo,'DejaVu Sans Mono',consolas,'Courier New',monospace\">Searching for WDAY <span style=\"font-weight: bold\">(</span>CIK: <span style=\"color: #008080; text-decoration-color: #008080; font-weight: bold\">0001327811</span><span style=\"font-weight: bold\">)</span> filings between <span style=\"color: #008080; text-decoration-color: #008080; font-weight: bold\">2020</span>-<span style=\"color: #008080; text-decoration-color: #008080; font-weight: bold\">2025</span>\n",
       "</pre>\n"
      ],
      "text/plain": [
       "Searching for WDAY \u001b[1m(\u001b[0mCIK: \u001b[1;36m0001327811\u001b[0m\u001b[1m)\u001b[0m filings between \u001b[1;36m2020\u001b[0m-\u001b[1;36m2025\u001b[0m\n"
      ]
     },
     "metadata": {},
     "output_type": "display_data"
    },
    {
     "data": {
      "text/html": [
       "<pre style=\"white-space:pre;overflow-x:auto;line-height:normal;font-family:Menlo,'DejaVu Sans Mono',consolas,'Courier New',monospace\"><span style=\"color: #008000; text-decoration-color: #008000\">Fetching filings from: </span><span style=\"color: #008000; text-decoration-color: #008000; text-decoration: underline\">https://data.sec.gov/submissions/CIK0001327811.json</span>\n",
       "</pre>\n"
      ],
      "text/plain": [
       "\u001b[32mFetching filings from: \u001b[0m\u001b[4;32mhttps://data.sec.gov/submissions/CIK0001327811.json\u001b[0m\n"
      ]
     },
     "metadata": {},
     "output_type": "display_data"
    },
    {
     "data": {
      "text/html": [
       "<pre style=\"white-space:pre;overflow-x:auto;line-height:normal;font-family:Menlo,'DejaVu Sans Mono',consolas,'Courier New',monospace\"><span style=\"color: #008000; text-decoration-color: #008000\">Successfully fetched filings: </span><span style=\"color: #008000; text-decoration-color: #008000; font-weight: bold\">&lt;bound</span><span style=\"color: #008000; text-decoration-color: #008000\"> method Response.json of &lt;Response </span><span style=\"color: #008000; text-decoration-color: #008000; font-weight: bold\">[</span><span style=\"color: #008000; text-decoration-color: #008000; font-weight: bold\">200</span><span style=\"color: #008000; text-decoration-color: #008000; font-weight: bold\">]</span><span style=\"color: #008000; text-decoration-color: #008000\">&gt;</span><span style=\"color: #008000; text-decoration-color: #008000; font-weight: bold\">&gt;</span>\n",
       "</pre>\n"
      ],
      "text/plain": [
       "\u001b[32mSuccessfully fetched filings: \u001b[0m\u001b[1;32m<\u001b[0m\u001b[1;32mbound\u001b[0m\u001b[32m method Response.json of <Response \u001b[0m\u001b[1;32m[\u001b[0m\u001b[1;32m200\u001b[0m\u001b[1;32m]\u001b[0m\u001b[32m>\u001b[0m\u001b[1;32m>\u001b[0m\n"
      ]
     },
     "metadata": {},
     "output_type": "display_data"
    },
    {
     "name": "stdout",
     "output_type": "stream",
     "text": [
      "Found 6 10-K filings for WDAY between 2020-2025\n"
     ]
    },
    {
     "data": {
      "text/html": [
       "<pre style=\"white-space:pre;overflow-x:auto;line-height:normal;font-family:Menlo,'DejaVu Sans Mono',consolas,'Courier New',monospace\">Searching for ZM <span style=\"font-weight: bold\">(</span>CIK: <span style=\"color: #008080; text-decoration-color: #008080; font-weight: bold\">0001585521</span><span style=\"font-weight: bold\">)</span> filings between <span style=\"color: #008080; text-decoration-color: #008080; font-weight: bold\">2020</span>-<span style=\"color: #008080; text-decoration-color: #008080; font-weight: bold\">2025</span>\n",
       "</pre>\n"
      ],
      "text/plain": [
       "Searching for ZM \u001b[1m(\u001b[0mCIK: \u001b[1;36m0001585521\u001b[0m\u001b[1m)\u001b[0m filings between \u001b[1;36m2020\u001b[0m-\u001b[1;36m2025\u001b[0m\n"
      ]
     },
     "metadata": {},
     "output_type": "display_data"
    },
    {
     "data": {
      "text/html": [
       "<pre style=\"white-space:pre;overflow-x:auto;line-height:normal;font-family:Menlo,'DejaVu Sans Mono',consolas,'Courier New',monospace\"><span style=\"color: #008000; text-decoration-color: #008000\">Fetching filings from: </span><span style=\"color: #008000; text-decoration-color: #008000; text-decoration: underline\">https://data.sec.gov/submissions/CIK0001585521.json</span>\n",
       "</pre>\n"
      ],
      "text/plain": [
       "\u001b[32mFetching filings from: \u001b[0m\u001b[4;32mhttps://data.sec.gov/submissions/CIK0001585521.json\u001b[0m\n"
      ]
     },
     "metadata": {},
     "output_type": "display_data"
    },
    {
     "data": {
      "text/html": [
       "<pre style=\"white-space:pre;overflow-x:auto;line-height:normal;font-family:Menlo,'DejaVu Sans Mono',consolas,'Courier New',monospace\"><span style=\"color: #008000; text-decoration-color: #008000\">Successfully fetched filings: </span><span style=\"color: #008000; text-decoration-color: #008000; font-weight: bold\">&lt;bound</span><span style=\"color: #008000; text-decoration-color: #008000\"> method Response.json of &lt;Response </span><span style=\"color: #008000; text-decoration-color: #008000; font-weight: bold\">[</span><span style=\"color: #008000; text-decoration-color: #008000; font-weight: bold\">200</span><span style=\"color: #008000; text-decoration-color: #008000; font-weight: bold\">]</span><span style=\"color: #008000; text-decoration-color: #008000\">&gt;</span><span style=\"color: #008000; text-decoration-color: #008000; font-weight: bold\">&gt;</span>\n",
       "</pre>\n"
      ],
      "text/plain": [
       "\u001b[32mSuccessfully fetched filings: \u001b[0m\u001b[1;32m<\u001b[0m\u001b[1;32mbound\u001b[0m\u001b[32m method Response.json of <Response \u001b[0m\u001b[1;32m[\u001b[0m\u001b[1;32m200\u001b[0m\u001b[1;32m]\u001b[0m\u001b[32m>\u001b[0m\u001b[1;32m>\u001b[0m\n"
      ]
     },
     "metadata": {},
     "output_type": "display_data"
    },
    {
     "name": "stdout",
     "output_type": "stream",
     "text": [
      "Found 6 10-K filings for ZM between 2020-2025\n"
     ]
    },
    {
     "data": {
      "text/html": [
       "<pre style=\"white-space:pre;overflow-x:auto;line-height:normal;font-family:Menlo,'DejaVu Sans Mono',consolas,'Courier New',monospace\">Searching for NOW <span style=\"font-weight: bold\">(</span>CIK: <span style=\"color: #008080; text-decoration-color: #008080; font-weight: bold\">0001373715</span><span style=\"font-weight: bold\">)</span> filings between <span style=\"color: #008080; text-decoration-color: #008080; font-weight: bold\">2020</span>-<span style=\"color: #008080; text-decoration-color: #008080; font-weight: bold\">2025</span>\n",
       "</pre>\n"
      ],
      "text/plain": [
       "Searching for NOW \u001b[1m(\u001b[0mCIK: \u001b[1;36m0001373715\u001b[0m\u001b[1m)\u001b[0m filings between \u001b[1;36m2020\u001b[0m-\u001b[1;36m2025\u001b[0m\n"
      ]
     },
     "metadata": {},
     "output_type": "display_data"
    },
    {
     "data": {
      "text/html": [
       "<pre style=\"white-space:pre;overflow-x:auto;line-height:normal;font-family:Menlo,'DejaVu Sans Mono',consolas,'Courier New',monospace\"><span style=\"color: #008000; text-decoration-color: #008000\">Fetching filings from: </span><span style=\"color: #008000; text-decoration-color: #008000; text-decoration: underline\">https://data.sec.gov/submissions/CIK0001373715.json</span>\n",
       "</pre>\n"
      ],
      "text/plain": [
       "\u001b[32mFetching filings from: \u001b[0m\u001b[4;32mhttps://data.sec.gov/submissions/CIK0001373715.json\u001b[0m\n"
      ]
     },
     "metadata": {},
     "output_type": "display_data"
    },
    {
     "data": {
      "text/html": [
       "<pre style=\"white-space:pre;overflow-x:auto;line-height:normal;font-family:Menlo,'DejaVu Sans Mono',consolas,'Courier New',monospace\"><span style=\"color: #008000; text-decoration-color: #008000\">Successfully fetched filings: </span><span style=\"color: #008000; text-decoration-color: #008000; font-weight: bold\">&lt;bound</span><span style=\"color: #008000; text-decoration-color: #008000\"> method Response.json of &lt;Response </span><span style=\"color: #008000; text-decoration-color: #008000; font-weight: bold\">[</span><span style=\"color: #008000; text-decoration-color: #008000; font-weight: bold\">200</span><span style=\"color: #008000; text-decoration-color: #008000; font-weight: bold\">]</span><span style=\"color: #008000; text-decoration-color: #008000\">&gt;</span><span style=\"color: #008000; text-decoration-color: #008000; font-weight: bold\">&gt;</span>\n",
       "</pre>\n"
      ],
      "text/plain": [
       "\u001b[32mSuccessfully fetched filings: \u001b[0m\u001b[1;32m<\u001b[0m\u001b[1;32mbound\u001b[0m\u001b[32m method Response.json of <Response \u001b[0m\u001b[1;32m[\u001b[0m\u001b[1;32m200\u001b[0m\u001b[1;32m]\u001b[0m\u001b[32m>\u001b[0m\u001b[1;32m>\u001b[0m\n"
      ]
     },
     "metadata": {},
     "output_type": "display_data"
    },
    {
     "name": "stdout",
     "output_type": "stream",
     "text": [
      "Found 5 10-K filings for NOW between 2020-2025\n"
     ]
    },
    {
     "data": {
      "text/html": [
       "<pre style=\"white-space:pre;overflow-x:auto;line-height:normal;font-family:Menlo,'DejaVu Sans Mono',consolas,'Courier New',monospace\">Searching for NET <span style=\"font-weight: bold\">(</span>CIK: <span style=\"color: #008080; text-decoration-color: #008080; font-weight: bold\">0001477333</span><span style=\"font-weight: bold\">)</span> filings between <span style=\"color: #008080; text-decoration-color: #008080; font-weight: bold\">2020</span>-<span style=\"color: #008080; text-decoration-color: #008080; font-weight: bold\">2025</span>\n",
       "</pre>\n"
      ],
      "text/plain": [
       "Searching for NET \u001b[1m(\u001b[0mCIK: \u001b[1;36m0001477333\u001b[0m\u001b[1m)\u001b[0m filings between \u001b[1;36m2020\u001b[0m-\u001b[1;36m2025\u001b[0m\n"
      ]
     },
     "metadata": {},
     "output_type": "display_data"
    },
    {
     "data": {
      "text/html": [
       "<pre style=\"white-space:pre;overflow-x:auto;line-height:normal;font-family:Menlo,'DejaVu Sans Mono',consolas,'Courier New',monospace\"><span style=\"color: #008000; text-decoration-color: #008000\">Fetching filings from: </span><span style=\"color: #008000; text-decoration-color: #008000; text-decoration: underline\">https://data.sec.gov/submissions/CIK0001477333.json</span>\n",
       "</pre>\n"
      ],
      "text/plain": [
       "\u001b[32mFetching filings from: \u001b[0m\u001b[4;32mhttps://data.sec.gov/submissions/CIK0001477333.json\u001b[0m\n"
      ]
     },
     "metadata": {},
     "output_type": "display_data"
    },
    {
     "data": {
      "text/html": [
       "<pre style=\"white-space:pre;overflow-x:auto;line-height:normal;font-family:Menlo,'DejaVu Sans Mono',consolas,'Courier New',monospace\"><span style=\"color: #008000; text-decoration-color: #008000\">Successfully fetched filings: </span><span style=\"color: #008000; text-decoration-color: #008000; font-weight: bold\">&lt;bound</span><span style=\"color: #008000; text-decoration-color: #008000\"> method Response.json of &lt;Response </span><span style=\"color: #008000; text-decoration-color: #008000; font-weight: bold\">[</span><span style=\"color: #008000; text-decoration-color: #008000; font-weight: bold\">200</span><span style=\"color: #008000; text-decoration-color: #008000; font-weight: bold\">]</span><span style=\"color: #008000; text-decoration-color: #008000\">&gt;</span><span style=\"color: #008000; text-decoration-color: #008000; font-weight: bold\">&gt;</span>\n",
       "</pre>\n"
      ],
      "text/plain": [
       "\u001b[32mSuccessfully fetched filings: \u001b[0m\u001b[1;32m<\u001b[0m\u001b[1;32mbound\u001b[0m\u001b[32m method Response.json of <Response \u001b[0m\u001b[1;32m[\u001b[0m\u001b[1;32m200\u001b[0m\u001b[1;32m]\u001b[0m\u001b[32m>\u001b[0m\u001b[1;32m>\u001b[0m\n"
      ]
     },
     "metadata": {},
     "output_type": "display_data"
    },
    {
     "name": "stdout",
     "output_type": "stream",
     "text": [
      "Found 6 10-K filings for NET between 2020-2025\n"
     ]
    },
    {
     "data": {
      "text/html": [
       "<pre style=\"white-space:pre;overflow-x:auto;line-height:normal;font-family:Menlo,'DejaVu Sans Mono',consolas,'Courier New',monospace\">Searching for DDOG <span style=\"font-weight: bold\">(</span>CIK: <span style=\"color: #008080; text-decoration-color: #008080; font-weight: bold\">0001561550</span><span style=\"font-weight: bold\">)</span> filings between <span style=\"color: #008080; text-decoration-color: #008080; font-weight: bold\">2020</span>-<span style=\"color: #008080; text-decoration-color: #008080; font-weight: bold\">2025</span>\n",
       "</pre>\n"
      ],
      "text/plain": [
       "Searching for DDOG \u001b[1m(\u001b[0mCIK: \u001b[1;36m0001561550\u001b[0m\u001b[1m)\u001b[0m filings between \u001b[1;36m2020\u001b[0m-\u001b[1;36m2025\u001b[0m\n"
      ]
     },
     "metadata": {},
     "output_type": "display_data"
    },
    {
     "data": {
      "text/html": [
       "<pre style=\"white-space:pre;overflow-x:auto;line-height:normal;font-family:Menlo,'DejaVu Sans Mono',consolas,'Courier New',monospace\"><span style=\"color: #008000; text-decoration-color: #008000\">Fetching filings from: </span><span style=\"color: #008000; text-decoration-color: #008000; text-decoration: underline\">https://data.sec.gov/submissions/CIK0001561550.json</span>\n",
       "</pre>\n"
      ],
      "text/plain": [
       "\u001b[32mFetching filings from: \u001b[0m\u001b[4;32mhttps://data.sec.gov/submissions/CIK0001561550.json\u001b[0m\n"
      ]
     },
     "metadata": {},
     "output_type": "display_data"
    },
    {
     "data": {
      "text/html": [
       "<pre style=\"white-space:pre;overflow-x:auto;line-height:normal;font-family:Menlo,'DejaVu Sans Mono',consolas,'Courier New',monospace\"><span style=\"color: #008000; text-decoration-color: #008000\">Successfully fetched filings: </span><span style=\"color: #008000; text-decoration-color: #008000; font-weight: bold\">&lt;bound</span><span style=\"color: #008000; text-decoration-color: #008000\"> method Response.json of &lt;Response </span><span style=\"color: #008000; text-decoration-color: #008000; font-weight: bold\">[</span><span style=\"color: #008000; text-decoration-color: #008000; font-weight: bold\">200</span><span style=\"color: #008000; text-decoration-color: #008000; font-weight: bold\">]</span><span style=\"color: #008000; text-decoration-color: #008000\">&gt;</span><span style=\"color: #008000; text-decoration-color: #008000; font-weight: bold\">&gt;</span>\n",
       "</pre>\n"
      ],
      "text/plain": [
       "\u001b[32mSuccessfully fetched filings: \u001b[0m\u001b[1;32m<\u001b[0m\u001b[1;32mbound\u001b[0m\u001b[32m method Response.json of <Response \u001b[0m\u001b[1;32m[\u001b[0m\u001b[1;32m200\u001b[0m\u001b[1;32m]\u001b[0m\u001b[32m>\u001b[0m\u001b[1;32m>\u001b[0m\n"
      ]
     },
     "metadata": {},
     "output_type": "display_data"
    },
    {
     "name": "stdout",
     "output_type": "stream",
     "text": [
      "Found 5 10-K filings for DDOG between 2020-2025\n"
     ]
    }
   ],
   "source": [
    "ticker_to_cik_mapping = load_ticker_to_cik_mapping(uni_tickers)\n",
    "filings_df = edgar_fetcher.fetch_filings_for_universe(universe, ticker_to_cik_mapping)"
   ]
  },
  {
   "cell_type": "code",
   "execution_count": 7,
   "metadata": {},
   "outputs": [
    {
     "name": "stdout",
     "output_type": "stream",
     "text": [
      "Saved 73 filings to /Users/forrest.murray/Documents/alphaledger/output/filings/sec_filings_universe.parquet\n"
     ]
    },
    {
     "data": {
      "text/plain": [
       "'/Users/forrest.murray/Documents/alphaledger/output/filings/sec_filings_universe.parquet'"
      ]
     },
     "execution_count": 7,
     "metadata": {},
     "output_type": "execute_result"
    }
   ],
   "source": [
    "edgar_fetcher.save_filings_to_disk(filings_df, settings.output_dir / \"filings\")"
   ]
  },
  {
   "cell_type": "code",
   "execution_count": 8,
   "metadata": {},
   "outputs": [
    {
     "data": {
      "text/html": [
       "<div>\n",
       "<style scoped>\n",
       "    .dataframe tbody tr th:only-of-type {\n",
       "        vertical-align: middle;\n",
       "    }\n",
       "\n",
       "    .dataframe tbody tr th {\n",
       "        vertical-align: top;\n",
       "    }\n",
       "\n",
       "    .dataframe thead th {\n",
       "        text-align: right;\n",
       "    }\n",
       "</style>\n",
       "<table border=\"1\" class=\"dataframe\">\n",
       "  <thead>\n",
       "    <tr style=\"text-align: right;\">\n",
       "      <th></th>\n",
       "      <th>accessionNumber</th>\n",
       "      <th>filingDate</th>\n",
       "      <th>reportDate</th>\n",
       "      <th>acceptanceDateTime</th>\n",
       "      <th>act</th>\n",
       "      <th>form</th>\n",
       "      <th>fileNumber</th>\n",
       "      <th>filmNumber</th>\n",
       "      <th>items</th>\n",
       "      <th>core_type</th>\n",
       "      <th>...</th>\n",
       "      <th>primaryDocument</th>\n",
       "      <th>primaryDocDescription</th>\n",
       "      <th>filing_year</th>\n",
       "      <th>filing_date</th>\n",
       "      <th>report_date</th>\n",
       "      <th>cik</th>\n",
       "      <th>ticker</th>\n",
       "      <th>documents_url</th>\n",
       "      <th>xbrl_root_url</th>\n",
       "      <th>processed_date</th>\n",
       "    </tr>\n",
       "  </thead>\n",
       "  <tbody>\n",
       "    <tr>\n",
       "      <th>0</th>\n",
       "      <td>0001018724-25-000004</td>\n",
       "      <td>2025-02-07</td>\n",
       "      <td>2024-12-31</td>\n",
       "      <td>2025-02-06T18:40:29.000Z</td>\n",
       "      <td>34</td>\n",
       "      <td>10-K</td>\n",
       "      <td>000-22513</td>\n",
       "      <td>25598704</td>\n",
       "      <td></td>\n",
       "      <td>XBRL</td>\n",
       "      <td>...</td>\n",
       "      <td>amzn-20241231.htm</td>\n",
       "      <td>10-K</td>\n",
       "      <td>2025</td>\n",
       "      <td>2025-02-07</td>\n",
       "      <td>2024-12-31</td>\n",
       "      <td>0001018724</td>\n",
       "      <td>AMZN</td>\n",
       "      <td>https://www.sec.gov/Archives/edgar/data/000101...</td>\n",
       "      <td>https://www.sec.gov/Archives/edgar/data/000101...</td>\n",
       "      <td>2025-04-02 13:44:42.173829</td>\n",
       "    </tr>\n",
       "    <tr>\n",
       "      <th>1</th>\n",
       "      <td>0001018724-24-000008</td>\n",
       "      <td>2024-02-02</td>\n",
       "      <td>2023-12-31</td>\n",
       "      <td>2024-02-01T18:48:30.000Z</td>\n",
       "      <td>34</td>\n",
       "      <td>10-K</td>\n",
       "      <td>000-22513</td>\n",
       "      <td>24588330</td>\n",
       "      <td></td>\n",
       "      <td>XBRL</td>\n",
       "      <td>...</td>\n",
       "      <td>amzn-20231231.htm</td>\n",
       "      <td>10-K</td>\n",
       "      <td>2024</td>\n",
       "      <td>2024-02-02</td>\n",
       "      <td>2023-12-31</td>\n",
       "      <td>0001018724</td>\n",
       "      <td>AMZN</td>\n",
       "      <td>https://www.sec.gov/Archives/edgar/data/000101...</td>\n",
       "      <td>https://www.sec.gov/Archives/edgar/data/000101...</td>\n",
       "      <td>2025-04-02 13:44:42.173829</td>\n",
       "    </tr>\n",
       "    <tr>\n",
       "      <th>2</th>\n",
       "      <td>0001018724-23-000004</td>\n",
       "      <td>2023-02-03</td>\n",
       "      <td>2022-12-31</td>\n",
       "      <td>2023-02-02T18:27:34.000Z</td>\n",
       "      <td>34</td>\n",
       "      <td>10-K</td>\n",
       "      <td>000-22513</td>\n",
       "      <td>23582822</td>\n",
       "      <td></td>\n",
       "      <td>XBRL</td>\n",
       "      <td>...</td>\n",
       "      <td>amzn-20221231.htm</td>\n",
       "      <td>10-K</td>\n",
       "      <td>2023</td>\n",
       "      <td>2023-02-03</td>\n",
       "      <td>2022-12-31</td>\n",
       "      <td>0001018724</td>\n",
       "      <td>AMZN</td>\n",
       "      <td>https://www.sec.gov/Archives/edgar/data/000101...</td>\n",
       "      <td>https://www.sec.gov/Archives/edgar/data/000101...</td>\n",
       "      <td>2025-04-02 13:44:42.173829</td>\n",
       "    </tr>\n",
       "    <tr>\n",
       "      <th>3</th>\n",
       "      <td>0001018724-22-000005</td>\n",
       "      <td>2022-02-04</td>\n",
       "      <td>2021-12-31</td>\n",
       "      <td>2022-02-03T18:46:51.000Z</td>\n",
       "      <td>34</td>\n",
       "      <td>10-K</td>\n",
       "      <td>000-22513</td>\n",
       "      <td>22590195</td>\n",
       "      <td></td>\n",
       "      <td>XBRL</td>\n",
       "      <td>...</td>\n",
       "      <td>amzn-20211231.htm</td>\n",
       "      <td>10-K</td>\n",
       "      <td>2022</td>\n",
       "      <td>2022-02-04</td>\n",
       "      <td>2021-12-31</td>\n",
       "      <td>0001018724</td>\n",
       "      <td>AMZN</td>\n",
       "      <td>https://www.sec.gov/Archives/edgar/data/000101...</td>\n",
       "      <td>https://www.sec.gov/Archives/edgar/data/000101...</td>\n",
       "      <td>2025-04-02 13:44:42.173829</td>\n",
       "    </tr>\n",
       "    <tr>\n",
       "      <th>4</th>\n",
       "      <td>0001018724-21-000004</td>\n",
       "      <td>2021-02-03</td>\n",
       "      <td>2020-12-31</td>\n",
       "      <td>2021-02-02T19:44:10.000Z</td>\n",
       "      <td>34</td>\n",
       "      <td>10-K</td>\n",
       "      <td>000-22513</td>\n",
       "      <td>21583589</td>\n",
       "      <td></td>\n",
       "      <td>XBRL</td>\n",
       "      <td>...</td>\n",
       "      <td>amzn-20201231.htm</td>\n",
       "      <td>10-K</td>\n",
       "      <td>2021</td>\n",
       "      <td>2021-02-03</td>\n",
       "      <td>2020-12-31</td>\n",
       "      <td>0001018724</td>\n",
       "      <td>AMZN</td>\n",
       "      <td>https://www.sec.gov/Archives/edgar/data/000101...</td>\n",
       "      <td>https://www.sec.gov/Archives/edgar/data/000101...</td>\n",
       "      <td>2025-04-02 13:44:42.173829</td>\n",
       "    </tr>\n",
       "    <tr>\n",
       "      <th>...</th>\n",
       "      <td>...</td>\n",
       "      <td>...</td>\n",
       "      <td>...</td>\n",
       "      <td>...</td>\n",
       "      <td>...</td>\n",
       "      <td>...</td>\n",
       "      <td>...</td>\n",
       "      <td>...</td>\n",
       "      <td>...</td>\n",
       "      <td>...</td>\n",
       "      <td>...</td>\n",
       "      <td>...</td>\n",
       "      <td>...</td>\n",
       "      <td>...</td>\n",
       "      <td>...</td>\n",
       "      <td>...</td>\n",
       "      <td>...</td>\n",
       "      <td>...</td>\n",
       "      <td>...</td>\n",
       "      <td>...</td>\n",
       "      <td>...</td>\n",
       "    </tr>\n",
       "    <tr>\n",
       "      <th>68</th>\n",
       "      <td>0001561550-25-000025</td>\n",
       "      <td>2025-02-20</td>\n",
       "      <td>2024-12-31</td>\n",
       "      <td>2025-02-20T08:53:34.000Z</td>\n",
       "      <td>34</td>\n",
       "      <td>10-K</td>\n",
       "      <td>001-39051</td>\n",
       "      <td>25643433</td>\n",
       "      <td></td>\n",
       "      <td>XBRL</td>\n",
       "      <td>...</td>\n",
       "      <td>ddog-20241231.htm</td>\n",
       "      <td>10-K</td>\n",
       "      <td>2025</td>\n",
       "      <td>2025-02-20</td>\n",
       "      <td>2024-12-31</td>\n",
       "      <td>0001561550</td>\n",
       "      <td>DDOG</td>\n",
       "      <td>https://www.sec.gov/Archives/edgar/data/000156...</td>\n",
       "      <td>https://www.sec.gov/Archives/edgar/data/000156...</td>\n",
       "      <td>2025-04-02 13:44:42.173829</td>\n",
       "    </tr>\n",
       "    <tr>\n",
       "      <th>69</th>\n",
       "      <td>0001561550-24-000009</td>\n",
       "      <td>2024-02-23</td>\n",
       "      <td>2023-12-31</td>\n",
       "      <td>2024-02-23T08:35:39.000Z</td>\n",
       "      <td>34</td>\n",
       "      <td>10-K</td>\n",
       "      <td>001-39051</td>\n",
       "      <td>24667336</td>\n",
       "      <td></td>\n",
       "      <td>XBRL</td>\n",
       "      <td>...</td>\n",
       "      <td>ddog-20231231.htm</td>\n",
       "      <td>10-K</td>\n",
       "      <td>2024</td>\n",
       "      <td>2024-02-23</td>\n",
       "      <td>2023-12-31</td>\n",
       "      <td>0001561550</td>\n",
       "      <td>DDOG</td>\n",
       "      <td>https://www.sec.gov/Archives/edgar/data/000156...</td>\n",
       "      <td>https://www.sec.gov/Archives/edgar/data/000156...</td>\n",
       "      <td>2025-04-02 13:44:42.173829</td>\n",
       "    </tr>\n",
       "    <tr>\n",
       "      <th>70</th>\n",
       "      <td>0001561550-23-000006</td>\n",
       "      <td>2023-02-24</td>\n",
       "      <td>2022-12-31</td>\n",
       "      <td>2023-02-24T16:11:43.000Z</td>\n",
       "      <td>34</td>\n",
       "      <td>10-K</td>\n",
       "      <td>001-39051</td>\n",
       "      <td>23667261</td>\n",
       "      <td></td>\n",
       "      <td>XBRL</td>\n",
       "      <td>...</td>\n",
       "      <td>ddog-20221231.htm</td>\n",
       "      <td>10-K</td>\n",
       "      <td>2023</td>\n",
       "      <td>2023-02-24</td>\n",
       "      <td>2022-12-31</td>\n",
       "      <td>0001561550</td>\n",
       "      <td>DDOG</td>\n",
       "      <td>https://www.sec.gov/Archives/edgar/data/000156...</td>\n",
       "      <td>https://www.sec.gov/Archives/edgar/data/000156...</td>\n",
       "      <td>2025-04-02 13:44:42.173829</td>\n",
       "    </tr>\n",
       "    <tr>\n",
       "      <th>71</th>\n",
       "      <td>0001561550-22-000009</td>\n",
       "      <td>2022-02-25</td>\n",
       "      <td>2021-12-31</td>\n",
       "      <td>2022-02-25T16:36:34.000Z</td>\n",
       "      <td>34</td>\n",
       "      <td>10-K</td>\n",
       "      <td>001-39051</td>\n",
       "      <td>22680834</td>\n",
       "      <td></td>\n",
       "      <td>XBRL</td>\n",
       "      <td>...</td>\n",
       "      <td>ddog-20211231.htm</td>\n",
       "      <td>10-K</td>\n",
       "      <td>2022</td>\n",
       "      <td>2022-02-25</td>\n",
       "      <td>2021-12-31</td>\n",
       "      <td>0001561550</td>\n",
       "      <td>DDOG</td>\n",
       "      <td>https://www.sec.gov/Archives/edgar/data/000156...</td>\n",
       "      <td>https://www.sec.gov/Archives/edgar/data/000156...</td>\n",
       "      <td>2025-04-02 13:44:42.173829</td>\n",
       "    </tr>\n",
       "    <tr>\n",
       "      <th>72</th>\n",
       "      <td>0001564590-21-009770</td>\n",
       "      <td>2021-03-01</td>\n",
       "      <td>2020-12-31</td>\n",
       "      <td>2021-03-01T14:25:23.000Z</td>\n",
       "      <td>34</td>\n",
       "      <td>10-K</td>\n",
       "      <td>001-39051</td>\n",
       "      <td>21696902</td>\n",
       "      <td></td>\n",
       "      <td>10-K</td>\n",
       "      <td>...</td>\n",
       "      <td>ddog-10k_20201231.htm</td>\n",
       "      <td>10-K</td>\n",
       "      <td>2021</td>\n",
       "      <td>2021-03-01</td>\n",
       "      <td>2020-12-31</td>\n",
       "      <td>0001561550</td>\n",
       "      <td>DDOG</td>\n",
       "      <td>https://www.sec.gov/Archives/edgar/data/000156...</td>\n",
       "      <td>https://www.sec.gov/Archives/edgar/data/000156...</td>\n",
       "      <td>2025-04-02 13:44:42.173829</td>\n",
       "    </tr>\n",
       "  </tbody>\n",
       "</table>\n",
       "<p>73 rows × 23 columns</p>\n",
       "</div>"
      ],
      "text/plain": [
       "         accessionNumber  filingDate  reportDate        acceptanceDateTime  \\\n",
       "0   0001018724-25-000004  2025-02-07  2024-12-31  2025-02-06T18:40:29.000Z   \n",
       "1   0001018724-24-000008  2024-02-02  2023-12-31  2024-02-01T18:48:30.000Z   \n",
       "2   0001018724-23-000004  2023-02-03  2022-12-31  2023-02-02T18:27:34.000Z   \n",
       "3   0001018724-22-000005  2022-02-04  2021-12-31  2022-02-03T18:46:51.000Z   \n",
       "4   0001018724-21-000004  2021-02-03  2020-12-31  2021-02-02T19:44:10.000Z   \n",
       "..                   ...         ...         ...                       ...   \n",
       "68  0001561550-25-000025  2025-02-20  2024-12-31  2025-02-20T08:53:34.000Z   \n",
       "69  0001561550-24-000009  2024-02-23  2023-12-31  2024-02-23T08:35:39.000Z   \n",
       "70  0001561550-23-000006  2023-02-24  2022-12-31  2023-02-24T16:11:43.000Z   \n",
       "71  0001561550-22-000009  2022-02-25  2021-12-31  2022-02-25T16:36:34.000Z   \n",
       "72  0001564590-21-009770  2021-03-01  2020-12-31  2021-03-01T14:25:23.000Z   \n",
       "\n",
       "   act  form fileNumber filmNumber items core_type  ...  \\\n",
       "0   34  10-K  000-22513   25598704            XBRL  ...   \n",
       "1   34  10-K  000-22513   24588330            XBRL  ...   \n",
       "2   34  10-K  000-22513   23582822            XBRL  ...   \n",
       "3   34  10-K  000-22513   22590195            XBRL  ...   \n",
       "4   34  10-K  000-22513   21583589            XBRL  ...   \n",
       "..  ..   ...        ...        ...   ...       ...  ...   \n",
       "68  34  10-K  001-39051   25643433            XBRL  ...   \n",
       "69  34  10-K  001-39051   24667336            XBRL  ...   \n",
       "70  34  10-K  001-39051   23667261            XBRL  ...   \n",
       "71  34  10-K  001-39051   22680834            XBRL  ...   \n",
       "72  34  10-K  001-39051   21696902            10-K  ...   \n",
       "\n",
       "          primaryDocument  primaryDocDescription  filing_year filing_date  \\\n",
       "0       amzn-20241231.htm                   10-K         2025  2025-02-07   \n",
       "1       amzn-20231231.htm                   10-K         2024  2024-02-02   \n",
       "2       amzn-20221231.htm                   10-K         2023  2023-02-03   \n",
       "3       amzn-20211231.htm                   10-K         2022  2022-02-04   \n",
       "4       amzn-20201231.htm                   10-K         2021  2021-02-03   \n",
       "..                    ...                    ...          ...         ...   \n",
       "68      ddog-20241231.htm                   10-K         2025  2025-02-20   \n",
       "69      ddog-20231231.htm                   10-K         2024  2024-02-23   \n",
       "70      ddog-20221231.htm                   10-K         2023  2023-02-24   \n",
       "71      ddog-20211231.htm                   10-K         2022  2022-02-25   \n",
       "72  ddog-10k_20201231.htm                   10-K         2021  2021-03-01   \n",
       "\n",
       "   report_date         cik ticker  \\\n",
       "0   2024-12-31  0001018724   AMZN   \n",
       "1   2023-12-31  0001018724   AMZN   \n",
       "2   2022-12-31  0001018724   AMZN   \n",
       "3   2021-12-31  0001018724   AMZN   \n",
       "4   2020-12-31  0001018724   AMZN   \n",
       "..         ...         ...    ...   \n",
       "68  2024-12-31  0001561550   DDOG   \n",
       "69  2023-12-31  0001561550   DDOG   \n",
       "70  2022-12-31  0001561550   DDOG   \n",
       "71  2021-12-31  0001561550   DDOG   \n",
       "72  2020-12-31  0001561550   DDOG   \n",
       "\n",
       "                                        documents_url  \\\n",
       "0   https://www.sec.gov/Archives/edgar/data/000101...   \n",
       "1   https://www.sec.gov/Archives/edgar/data/000101...   \n",
       "2   https://www.sec.gov/Archives/edgar/data/000101...   \n",
       "3   https://www.sec.gov/Archives/edgar/data/000101...   \n",
       "4   https://www.sec.gov/Archives/edgar/data/000101...   \n",
       "..                                                ...   \n",
       "68  https://www.sec.gov/Archives/edgar/data/000156...   \n",
       "69  https://www.sec.gov/Archives/edgar/data/000156...   \n",
       "70  https://www.sec.gov/Archives/edgar/data/000156...   \n",
       "71  https://www.sec.gov/Archives/edgar/data/000156...   \n",
       "72  https://www.sec.gov/Archives/edgar/data/000156...   \n",
       "\n",
       "                                        xbrl_root_url  \\\n",
       "0   https://www.sec.gov/Archives/edgar/data/000101...   \n",
       "1   https://www.sec.gov/Archives/edgar/data/000101...   \n",
       "2   https://www.sec.gov/Archives/edgar/data/000101...   \n",
       "3   https://www.sec.gov/Archives/edgar/data/000101...   \n",
       "4   https://www.sec.gov/Archives/edgar/data/000101...   \n",
       "..                                                ...   \n",
       "68  https://www.sec.gov/Archives/edgar/data/000156...   \n",
       "69  https://www.sec.gov/Archives/edgar/data/000156...   \n",
       "70  https://www.sec.gov/Archives/edgar/data/000156...   \n",
       "71  https://www.sec.gov/Archives/edgar/data/000156...   \n",
       "72  https://www.sec.gov/Archives/edgar/data/000156...   \n",
       "\n",
       "               processed_date  \n",
       "0  2025-04-02 13:44:42.173829  \n",
       "1  2025-04-02 13:44:42.173829  \n",
       "2  2025-04-02 13:44:42.173829  \n",
       "3  2025-04-02 13:44:42.173829  \n",
       "4  2025-04-02 13:44:42.173829  \n",
       "..                        ...  \n",
       "68 2025-04-02 13:44:42.173829  \n",
       "69 2025-04-02 13:44:42.173829  \n",
       "70 2025-04-02 13:44:42.173829  \n",
       "71 2025-04-02 13:44:42.173829  \n",
       "72 2025-04-02 13:44:42.173829  \n",
       "\n",
       "[73 rows x 23 columns]"
      ]
     },
     "metadata": {},
     "output_type": "display_data"
    }
   ],
   "source": [
    "display(filings_df)"
   ]
  },
  {
   "cell_type": "code",
   "execution_count": 6,
   "metadata": {},
   "outputs": [
    {
     "data": {
      "text/html": [
       "<pre style=\"white-space:pre;overflow-x:auto;line-height:normal;font-family:Menlo,'DejaVu Sans Mono',consolas,'Courier New',monospace\"><span style=\"color: #008000; text-decoration-color: #008000\">Transformation rule durday of registry ixt-sec is not supported. The parser will just parse the value as it is and </span>\n",
       "<span style=\"color: #008000; text-decoration-color: #008000\">not transform it according to the rule.</span>\n",
       "</pre>\n"
      ],
      "text/plain": [
       "\u001b[32mTransformation rule durday of registry ixt-sec is not supported. The parser will just parse the value as it is and \u001b[0m\n",
       "\u001b[32mnot transform it according to the rule.\u001b[0m\n"
      ]
     },
     "metadata": {},
     "output_type": "display_data"
    },
    {
     "data": {
      "text/html": [
       "<pre style=\"white-space:pre;overflow-x:auto;line-height:normal;font-family:Menlo,'DejaVu Sans Mono',consolas,'Courier New',monospace\"><span style=\"color: #008000; text-decoration-color: #008000\">Transformation rule durday of registry ixt-sec is not supported. The parser will just parse the value as it is and </span>\n",
       "<span style=\"color: #008000; text-decoration-color: #008000\">not transform it according to the rule.</span>\n",
       "</pre>\n"
      ],
      "text/plain": [
       "\u001b[32mTransformation rule durday of registry ixt-sec is not supported. The parser will just parse the value as it is and \u001b[0m\n",
       "\u001b[32mnot transform it according to the rule.\u001b[0m\n"
      ]
     },
     "metadata": {},
     "output_type": "display_data"
    }
   ],
   "source": [
    "import logging\n",
    "from xbrl.cache import HttpCache\n",
    "from xbrl.instance import XbrlParser, XbrlInstance\n",
    "\n",
    "from alphaledger.config import settings\n",
    "# just to see which files are downloaded\n",
    "# logging.basicConfig(level=logging.INFO)\n",
    "\n",
    "cache: HttpCache = HttpCache('./cache')\n",
    "cache.set_headers({'From': 'forrest.murray@databricks.com', 'User-Agent': settings.sec_user_agent})\n",
    "parser = XbrlParser(cache)\n",
    "\n",
    "schema_url = \"https://www.sec.gov/Archives/edgar/data/1018724/000101872424000008/amzn-20231231.htm\"\n",
    "inst: XbrlInstance = parser.parse_instance(schema_url)"
   ]
  },
  {
   "cell_type": "code",
   "execution_count": 22,
   "metadata": {},
   "outputs": [
    {
     "name": "stdout",
     "output_type": "stream",
     "text": [
      "f-39\n",
      "f-40\n"
     ]
    }
   ],
   "source": [
    "for fact in inst.facts[0:5]:\n",
    "    concept = fact.concept\n",
    "    if \"us-gaap\" in concept.schema_url:\n",
    "        print(fact.xml_id)\n",
    "\n",
    "# print(us_gaap_facts)\n"
   ]
  },
  {
   "cell_type": "code",
   "execution_count": 42,
   "metadata": {},
   "outputs": [],
   "source": [
    "from alphaledger.process_xbrl import extract_us_gaap_facts\n",
    "\n",
    "gaap_facts = extract_us_gaap_facts(inst)"
   ]
  },
  {
   "cell_type": "code",
   "execution_count": 50,
   "metadata": {},
   "outputs": [
    {
     "data": {
      "text/html": [
       "<pre style=\"white-space:pre;overflow-x:auto;line-height:normal;font-family:Menlo,'DejaVu Sans Mono',consolas,'Courier New',monospace\"><span style=\"color: #008000; text-decoration-color: #008000\">Parser Initialized: Received </span><span style=\"color: #008000; text-decoration-color: #008000; font-weight: bold\">1275</span><span style=\"color: #008000; text-decoration-color: #008000\"> facts, created lookup for </span><span style=\"color: #008000; text-decoration-color: #008000; font-weight: bold\">1275</span><span style=\"color: #008000; text-decoration-color: #008000\"> facts with IDs.</span>\n",
       "</pre>\n"
      ],
      "text/plain": [
       "\u001b[32mParser Initialized: Received \u001b[0m\u001b[1;32m1275\u001b[0m\u001b[32m facts, created lookup for \u001b[0m\u001b[1;32m1275\u001b[0m\u001b[32m facts with IDs.\u001b[0m\n"
      ]
     },
     "metadata": {},
     "output_type": "display_data"
    },
    {
     "data": {
      "text/html": [
       "<pre style=\"white-space:pre;overflow-x:auto;line-height:normal;font-family:Menlo,'DejaVu Sans Mono',consolas,'Courier New',monospace\"><span style=\"color: #008000; text-decoration-color: #008000\">First </span><span style=\"color: #008000; text-decoration-color: #008000; font-weight: bold\">5</span><span style=\"color: #008000; text-decoration-color: #008000\"> available fact IDs in lookup: </span><span style=\"color: #008000; text-decoration-color: #008000; font-weight: bold\">[</span><span style=\"color: #008000; text-decoration-color: #008000\">'f-39'</span><span style=\"color: #008000; text-decoration-color: #008000\">, </span><span style=\"color: #008000; text-decoration-color: #008000\">'f-40'</span><span style=\"color: #008000; text-decoration-color: #008000\">, </span><span style=\"color: #008000; text-decoration-color: #008000\">'f-41'</span><span style=\"color: #008000; text-decoration-color: #008000\">, </span><span style=\"color: #008000; text-decoration-color: #008000\">'f-42'</span><span style=\"color: #008000; text-decoration-color: #008000\">, </span><span style=\"color: #008000; text-decoration-color: #008000\">'f-43'</span><span style=\"color: #008000; text-decoration-color: #008000; font-weight: bold\">]</span>\n",
       "</pre>\n"
      ],
      "text/plain": [
       "\u001b[32mFirst \u001b[0m\u001b[1;32m5\u001b[0m\u001b[32m available fact IDs in lookup: \u001b[0m\u001b[1;32m[\u001b[0m\u001b[32m'f-39'\u001b[0m\u001b[32m, \u001b[0m\u001b[32m'f-40'\u001b[0m\u001b[32m, \u001b[0m\u001b[32m'f-41'\u001b[0m\u001b[32m, \u001b[0m\u001b[32m'f-42'\u001b[0m\u001b[32m, \u001b[0m\u001b[32m'f-43'\u001b[0m\u001b[1;32m]\u001b[0m\n"
      ]
     },
     "metadata": {},
     "output_type": "display_data"
    },
    {
     "data": {
      "text/html": [
       "<pre style=\"white-space:pre;overflow-x:auto;line-height:normal;font-family:Menlo,'DejaVu Sans Mono',consolas,'Courier New',monospace\"><span style=\"color: #008000; text-decoration-color: #008000\">Attempting to parse with </span><span style=\"color: #008000; text-decoration-color: #008000\">'lxml'</span><span style=\"color: #008000; text-decoration-color: #008000\">...</span>\n",
       "</pre>\n"
      ],
      "text/plain": [
       "\u001b[32mAttempting to parse with \u001b[0m\u001b[32m'lxml'\u001b[0m\u001b[32m...\u001b[0m\n"
      ]
     },
     "metadata": {},
     "output_type": "display_data"
    },
    {
     "name": "stderr",
     "output_type": "stream",
     "text": [
      "/Users/forrest.murray/Documents/alphaledger/src/alphaledger/process_xbrl.py:120: XMLParsedAsHTMLWarning: It looks like you're using an HTML parser to parse an XML document.\n",
      "\n",
      "Assuming this really is an XML document, what you're doing might work, but you should know that using an XML parser will be more reliable. To parse this document as XML, make sure you have the Python package 'lxml' installed, and pass the keyword argument `features=\"xml\"` into the BeautifulSoup constructor.\n",
      "\n",
      "If you want or need to use an HTML parser on this document, you can make this warning go away by filtering it. To do that, run this code before calling the BeautifulSoup constructor:\n",
      "\n",
      "    from bs4 import XMLParsedAsHTMLWarning\n",
      "    import warnings\n",
      "\n",
      "    warnings.filterwarnings(\"ignore\", category=XMLParsedAsHTMLWarning)\n",
      "\n",
      "  temp_soup = BeautifulSoup(content, parser_name)\n"
     ]
    },
    {
     "data": {
      "text/html": [
       "<pre style=\"white-space:pre;overflow-x:auto;line-height:normal;font-family:Menlo,'DejaVu Sans Mono',consolas,'Courier New',monospace\"><span style=\"color: #008000; text-decoration-color: #008000\">Parser </span><span style=\"color: #008000; text-decoration-color: #008000\">'lxml'</span><span style=\"color: #008000; text-decoration-color: #008000\"> found </span><span style=\"color: #008000; text-decoration-color: #008000; font-weight: bold\">1502</span><span style=\"color: #008000; text-decoration-color: #008000\"> ix:non* tags.</span>\n",
       "</pre>\n"
      ],
      "text/plain": [
       "\u001b[32mParser \u001b[0m\u001b[32m'lxml'\u001b[0m\u001b[32m found \u001b[0m\u001b[1;32m1502\u001b[0m\u001b[32m ix:non* tags.\u001b[0m\n"
      ]
     },
     "metadata": {},
     "output_type": "display_data"
    },
    {
     "data": {
      "text/html": [
       "<pre style=\"white-space:pre;overflow-x:auto;line-height:normal;font-family:Menlo,'DejaVu Sans Mono',consolas,'Courier New',monospace\"><span style=\"color: #008000; text-decoration-color: #008000\">Parser </span><span style=\"color: #008000; text-decoration-color: #008000\">'lxml'</span><span style=\"color: #008000; text-decoration-color: #008000\"> found </span><span style=\"color: #008000; text-decoration-color: #008000; font-weight: bold\">1502</span><span style=\"color: #008000; text-decoration-color: #008000\"> tags with IDs. Using this parser.</span>\n",
       "</pre>\n"
      ],
      "text/plain": [
       "\u001b[32mParser \u001b[0m\u001b[32m'lxml'\u001b[0m\u001b[32m found \u001b[0m\u001b[1;32m1502\u001b[0m\u001b[32m tags with IDs. Using this parser.\u001b[0m\n"
      ]
     },
     "metadata": {},
     "output_type": "display_data"
    },
    {
     "data": {
      "text/html": [
       "<pre style=\"white-space:pre;overflow-x:auto;line-height:normal;font-family:Menlo,'DejaVu Sans Mono',consolas,'Courier New',monospace\"><span style=\"color: #008000; text-decoration-color: #008000\">Using HTML parser: </span><span style=\"color: #008000; text-decoration-color: #008000\">'lxml'</span>\n",
       "</pre>\n"
      ],
      "text/plain": [
       "\u001b[32mUsing HTML parser: \u001b[0m\u001b[32m'lxml'\u001b[0m\n"
      ]
     },
     "metadata": {},
     "output_type": "display_data"
    },
    {
     "data": {
      "text/html": [
       "<pre style=\"white-space:pre;overflow-x:auto;line-height:normal;font-family:Menlo,'DejaVu Sans Mono',consolas,'Courier New',monospace\"><span style=\"color: #008000; text-decoration-color: #008000\">Scanning parsed HTML for fact tags...</span>\n",
       "</pre>\n"
      ],
      "text/plain": [
       "\u001b[32mScanning parsed HTML for fact tags\u001b[0m\u001b[32m...\u001b[0m\n"
      ]
     },
     "metadata": {},
     "output_type": "display_data"
    },
    {
     "data": {
      "text/html": [
       "<pre style=\"white-space:pre;overflow-x:auto;line-height:normal;font-family:Menlo,'DejaVu Sans Mono',consolas,'Courier New',monospace\"><span style=\"color: #008000; text-decoration-color: #008000\">HTML Scan Complete: Found </span><span style=\"color: #008000; text-decoration-color: #008000; font-weight: bold\">1502</span><span style=\"color: #008000; text-decoration-color: #008000\"> </span><span style=\"color: #008000; text-decoration-color: #008000; font-weight: bold\">&lt;ix:non</span><span style=\"color: #008000; text-decoration-color: #008000\">*</span><span style=\"color: #008000; text-decoration-color: #008000; font-weight: bold\">&gt;</span><span style=\"color: #008000; text-decoration-color: #008000\"> tags.</span>\n",
       "</pre>\n"
      ],
      "text/plain": [
       "\u001b[32mHTML Scan Complete: Found \u001b[0m\u001b[1;32m1502\u001b[0m\u001b[32m \u001b[0m\u001b[1;32m<\u001b[0m\u001b[1;32mix:non\u001b[0m\u001b[32m*\u001b[0m\u001b[1;32m>\u001b[0m\u001b[32m tags.\u001b[0m\n"
      ]
     },
     "metadata": {},
     "output_type": "display_data"
    },
    {
     "data": {
      "text/html": [
       "<pre style=\"white-space:pre;overflow-x:auto;line-height:normal;font-family:Menlo,'DejaVu Sans Mono',consolas,'Courier New',monospace\"><span style=\"color: #008000; text-decoration-color: #008000\">Matched </span><span style=\"color: #008000; text-decoration-color: #008000; font-weight: bold\">1275</span><span style=\"color: #008000; text-decoration-color: #008000\"> tags to provided facts using the </span><span style=\"color: #008000; text-decoration-color: #008000\">'id'</span><span style=\"color: #008000; text-decoration-color: #008000\"> attribute.</span>\n",
       "</pre>\n"
      ],
      "text/plain": [
       "\u001b[32mMatched \u001b[0m\u001b[1;32m1275\u001b[0m\u001b[32m tags to provided facts using the \u001b[0m\u001b[32m'id'\u001b[0m\u001b[32m attribute.\u001b[0m\n"
      ]
     },
     "metadata": {},
     "output_type": "display_data"
    },
    {
     "data": {
      "text/html": [
       "<pre style=\"white-space:pre;overflow-x:auto;line-height:normal;font-family:Menlo,'DejaVu Sans Mono',consolas,'Courier New',monospace\"><span style=\"color: #808000; text-decoration-color: #808000\">Found </span><span style=\"color: #808000; text-decoration-color: #808000; font-weight: bold\">227</span><span style=\"color: #808000; text-decoration-color: #808000\"> tags with IDs that were NOT in the provided facts dictionary. First </span><span style=\"color: #808000; text-decoration-color: #808000; font-weight: bold\">5</span><span style=\"color: #808000; text-decoration-color: #808000\"> unmatched: </span><span style=\"color: #808000; text-decoration-color: #808000; font-weight: bold\">[</span><span style=\"color: #808000; text-decoration-color: #808000\">'f-32'</span><span style=\"color: #808000; text-decoration-color: #808000\">, </span><span style=\"color: #808000; text-decoration-color: #808000\">'f-33'</span><span style=\"color: #808000; text-decoration-color: #808000\">, </span><span style=\"color: #808000; text-decoration-color: #808000\">'f-34'</span><span style=\"color: #808000; text-decoration-color: #808000\">,</span>\n",
       "<span style=\"color: #808000; text-decoration-color: #808000\">'f-35'</span><span style=\"color: #808000; text-decoration-color: #808000\">, </span><span style=\"color: #808000; text-decoration-color: #808000\">'f-528'</span><span style=\"color: #808000; text-decoration-color: #808000; font-weight: bold\">]</span>\n",
       "</pre>\n"
      ],
      "text/plain": [
       "\u001b[33mFound \u001b[0m\u001b[1;33m227\u001b[0m\u001b[33m tags with IDs that were NOT in the provided facts dictionary. First \u001b[0m\u001b[1;33m5\u001b[0m\u001b[33m unmatched: \u001b[0m\u001b[1;33m[\u001b[0m\u001b[33m'f-32'\u001b[0m\u001b[33m, \u001b[0m\u001b[33m'f-33'\u001b[0m\u001b[33m, \u001b[0m\u001b[33m'f-34'\u001b[0m\u001b[33m,\u001b[0m\n",
       "\u001b[33m'f-35'\u001b[0m\u001b[33m, \u001b[0m\u001b[33m'f-528'\u001b[0m\u001b[1;33m]\u001b[0m\n"
      ]
     },
     "metadata": {},
     "output_type": "display_data"
    },
    {
     "data": {
      "text/html": [
       "<pre style=\"white-space:pre;overflow-x:auto;line-height:normal;font-family:Menlo,'DejaVu Sans Mono',consolas,'Courier New',monospace\"><span style=\"color: #008000; text-decoration-color: #008000\">Starting recursive processing of document body...</span>\n",
       "</pre>\n"
      ],
      "text/plain": [
       "\u001b[32mStarting recursive processing of document body\u001b[0m\u001b[32m...\u001b[0m\n"
      ]
     },
     "metadata": {},
     "output_type": "display_data"
    },
    {
     "data": {
      "text/html": [
       "<pre style=\"white-space:pre;overflow-x:auto;line-height:normal;font-family:Menlo,'DejaVu Sans Mono',consolas,'Courier New',monospace\"><span style=\"color: #008000; text-decoration-color: #008000\">Completing final section: </span><span style=\"color: #008000; text-decoration-color: #008000\">'Document Start'</span><span style=\"color: #008000; text-decoration-color: #008000\"> with </span><span style=\"color: #008000; text-decoration-color: #008000; font-weight: bold\">5088</span><span style=\"color: #008000; text-decoration-color: #008000\"> parts.</span>\n",
       "</pre>\n"
      ],
      "text/plain": [
       "\u001b[32mCompleting final section: \u001b[0m\u001b[32m'Document Start'\u001b[0m\u001b[32m with \u001b[0m\u001b[1;32m5088\u001b[0m\u001b[32m parts.\u001b[0m\n"
      ]
     },
     "metadata": {},
     "output_type": "display_data"
    },
    {
     "data": {
      "text/html": [
       "<pre style=\"white-space:pre;overflow-x:auto;line-height:normal;font-family:Menlo,'DejaVu Sans Mono',consolas,'Courier New',monospace\"><span style=\"color: #008000; text-decoration-color: #008000\">Processing complete. Created </span><span style=\"color: #008000; text-decoration-color: #008000; font-weight: bold\">1</span><span style=\"color: #008000; text-decoration-color: #008000\"> sections.</span>\n",
       "</pre>\n"
      ],
      "text/plain": [
       "\u001b[32mProcessing complete. Created \u001b[0m\u001b[1;32m1\u001b[0m\u001b[32m sections.\u001b[0m\n"
      ]
     },
     "metadata": {},
     "output_type": "display_data"
    }
   ],
   "source": [
    "from alphaledger.process_xbrl import IXBRLDocumentParser\n",
    "\n",
    "ixbrl_parser = IXBRLDocumentParser(\"./cache/www.sec.gov/Archives/edgar/data/1018724/000101872424000008/amzn-20231231.htm\", gaap_facts)\n",
    "\n",
    "document = ixbrl_parser.parse()\n"
   ]
  },
  {
   "cell_type": "code",
   "execution_count": 51,
   "metadata": {},
   "outputs": [
    {
     "name": "stderr",
     "output_type": "stream",
     "text": [
      "/Users/forrest.murray/Documents/alphaledger/src/alphaledger/formatter.py:143: MarkupResemblesLocatorWarning: The input passed in on this line looks more like a URL than HTML or XML.\n",
      "\n",
      "If you meant to use Beautiful Soup to parse the web page found at a certain URL, then something has gone wrong. You should use an Python package like 'requests' to fetch the content behind the URL. Once you have the content as a string, you can feed that string into Beautiful Soup.\n",
      "\n",
      "However, if you want to parse some data that happens to look like a URL, then nothing has gone wrong: you are using Beautiful Soup correctly, and this warning is spurious and can be filtered. To make this warning go away, run this code before calling the BeautifulSoup constructor:\n",
      "\n",
      "    from bs4 import MarkupResemblesLocatorWarning\n",
      "    import warnings\n",
      "\n",
      "    warnings.filterwarnings(\"ignore\", category=MarkupResemblesLocatorWarning)\n",
      "    \n",
      "  \n"
     ]
    }
   ],
   "source": [
    "from alphaledger.formatter import MarkdownFormatter\n",
    "\n",
    "with open(\"output.md\", \"w\") as f:\n",
    "    f.write(document.to_string(MarkdownFormatter()))"
   ]
  },
  {
   "cell_type": "code",
   "execution_count": null,
   "metadata": {},
   "outputs": [],
   "source": []
  }
 ],
 "metadata": {
  "kernelspec": {
   "display_name": ".venv",
   "language": "python",
   "name": "python3"
  },
  "language_info": {
   "codemirror_mode": {
    "name": "ipython",
    "version": 3
   },
   "file_extension": ".py",
   "mimetype": "text/x-python",
   "name": "python",
   "nbconvert_exporter": "python",
   "pygments_lexer": "ipython3",
   "version": "3.11.10"
  }
 },
 "nbformat": 4,
 "nbformat_minor": 2
}
