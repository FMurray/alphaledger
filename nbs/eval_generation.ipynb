{
 "cells": [
  {
   "cell_type": "code",
   "execution_count": null,
   "metadata": {
    "vscode": {
     "languageId": "plaintext"
    }
   },
   "outputs": [],
   "source": [
    "# Basic Facts (Numeric Timeseries focus)\n",
    "\n",
    "\n",
    "# get revenue related facts with their surrounding text \n",
    "# expected facts, and negative expected facts (shuffled timeseries)\n",
    "\n",
    "# generate report from surrounding text + expected facts\n",
    "\n",
    "# judge tempate\n",
    "# you are an ai judge evaluating the consistency of metrics (revenue, etc.) in a financial report\n",
    "# {report}\n",
    "# {expected_facts}\n",
    "## Expect this to trend to +1.0\n",
    "\n",
    "# judge template 2\n",
    "# same as above, but with shuffled facts\n",
    "## Expect this to trend to -1.0"
   ]
  },
  {
   "cell_type": "code",
   "execution_count": null,
   "metadata": {
    "vscode": {
     "languageId": "plaintext"
    }
   },
   "outputs": [],
   "source": [
    "# Tech \n",
    "\n",
    "# Top line revenue\n",
    "# User related metrics\n",
    "# Retention, acquisition costs, MAU/DAU, rev/user/time spent on platform \n",
    "\n",
    "\n",
    "# Cloud computing\n",
    "\n",
    "- Capex (like building a datacenter), realized LATER as revenue\n",
    "- Net Dollar Revenue Retention (%pct of revenue retained from existing customers)"
   ]
  },
  {
   "cell_type": "code",
   "execution_count": null,
   "metadata": {
    "vscode": {
     "languageId": "plaintext"
    }
   },
   "outputs": [],
   "source": [
    "- PGRM scores \n",
    "- Compare these outputs to the same judge only with o3"
   ]
  },
  {
   "cell_type": "code",
   "execution_count": null,
   "metadata": {
    "vscode": {
     "languageId": "plaintext"
    }
   },
   "outputs": [],
   "source": [
    "# Hard metrics (insights, root cause analysis)"
   ]
  }
 ],
 "metadata": {
  "language_info": {
   "name": "python"
  }
 },
 "nbformat": 4,
 "nbformat_minor": 2
}
