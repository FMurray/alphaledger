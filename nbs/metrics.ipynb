{
 "cells": [
  {
   "cell_type": "code",
   "execution_count": 1,
   "metadata": {},
   "outputs": [],
   "source": [
    "%load_ext autoreload\n",
    "%autoreload 2"
   ]
  },
  {
   "cell_type": "code",
   "execution_count": 2,
   "metadata": {},
   "outputs": [],
   "source": [
    "import sys\n",
    "sys.argv = [sys.argv[0]]"
   ]
  },
  {
   "cell_type": "code",
   "execution_count": 4,
   "metadata": {},
   "outputs": [],
   "source": [
    "from alphaledger.config import settings\n",
    "from alphaledger.metrics import get_revenue_time_series\n",
    "from alphaledger.universe import load_universe"
   ]
  },
  {
   "cell_type": "code",
   "execution_count": 18,
   "metadata": {},
   "outputs": [
    {
     "data": {
      "text/html": [
       "<pre style=\"white-space:pre;overflow-x:auto;line-height:normal;font-family:Menlo,'DejaVu Sans Mono',consolas,'Courier New',monospace\"><span style=\"color: #008000; text-decoration-color: #008000\">Automatically triggering filings load for universe </span><span style=\"color: #008000; text-decoration-color: #008000\">'Cloud Computing Giants'</span><span style=\"color: #008000; text-decoration-color: #008000\">...</span>\n",
       "</pre>\n"
      ],
      "text/plain": [
       "\u001b[32mAutomatically triggering filings load for universe \u001b[0m\u001b[32m'Cloud Computing Giants'\u001b[0m\u001b[32m...\u001b[0m\n"
      ]
     },
     "metadata": {},
     "output_type": "display_data"
    },
    {
     "data": {
      "text/html": [
       "<pre style=\"white-space:pre;overflow-x:auto;line-height:normal;font-family:Menlo,'DejaVu Sans Mono',consolas,'Courier New',monospace\"><span style=\"color: #008000; text-decoration-color: #008000\">No recent filings file found at /Users/forrest.murray/Documents/alphaledger/output/filings/Cloud Computing </span>\n",
       "<span style=\"color: #008000; text-decoration-color: #008000\">Giants/sec_filings.parquet or </span><span style=\"color: #008000; text-decoration-color: #008000\">force_fetch</span><span style=\"color: #008000; text-decoration-color: #008000\">=</span><span style=\"color: #008000; text-decoration-color: #008000; font-style: italic\">True</span><span style=\"color: #008000; text-decoration-color: #008000\">. Fetching from SEC.</span>\n",
       "</pre>\n"
      ],
      "text/plain": [
       "\u001b[32mNo recent filings file found at \u001b[0m\u001b[32m/Users/forrest.murray/Documents/alphaledger/output/filings/\u001b[0m\u001b[32mCloud\u001b[0m\u001b[32m Computing \u001b[0m\n",
       "\u001b[32mGiants/sec_filings.parquet or \u001b[0m\u001b[32mforce_fetch\u001b[0m\u001b[32m=\u001b[0m\u001b[3;32mTrue\u001b[0m\u001b[32m. Fetching from SEC.\u001b[0m\n"
      ]
     },
     "metadata": {},
     "output_type": "display_data"
    },
    {
     "data": {
      "text/html": [
       "<pre style=\"white-space:pre;overflow-x:auto;line-height:normal;font-family:Menlo,'DejaVu Sans Mono',consolas,'Courier New',monospace\"><span style=\"color: #008000; text-decoration-color: #008000\">Fetching filings from SEC EDGAR...</span>\n",
       "</pre>\n"
      ],
      "text/plain": [
       "\u001b[32mFetching filings from SEC EDGAR\u001b[0m\u001b[32m...\u001b[0m\n"
      ]
     },
     "metadata": {},
     "output_type": "display_data"
    },
    {
     "data": {
      "text/html": [
       "<pre style=\"white-space:pre;overflow-x:auto;line-height:normal;font-family:Menlo,'DejaVu Sans Mono',consolas,'Courier New',monospace\"><span style=\"color: #008000; text-decoration-color: #008000\">Using </span><span style=\"color: #008000; text-decoration-color: #008000; font-weight: bold\">16</span><span style=\"color: #008000; text-decoration-color: #008000\"> CIKs for fetching.</span>\n",
       "</pre>\n"
      ],
      "text/plain": [
       "\u001b[32mUsing \u001b[0m\u001b[1;32m16\u001b[0m\u001b[32m CIKs for fetching.\u001b[0m\n"
      ]
     },
     "metadata": {},
     "output_type": "display_data"
    },
    {
     "data": {
      "text/html": [
       "<pre style=\"white-space:pre;overflow-x:auto;line-height:normal;font-family:Menlo,'DejaVu Sans Mono',consolas,'Courier New',monospace\"><span style=\"color: #008000; text-decoration-color: #008000\">Searching for AMZN </span><span style=\"color: #008000; text-decoration-color: #008000; font-weight: bold\">(</span><span style=\"color: #008000; text-decoration-color: #008000\">CIK: </span><span style=\"color: #008000; text-decoration-color: #008000; font-weight: bold\">0001018724</span><span style=\"color: #008000; text-decoration-color: #008000; font-weight: bold\">)</span><span style=\"color: #008000; text-decoration-color: #008000\"> filings between </span><span style=\"color: #008000; text-decoration-color: #008000; font-weight: bold\">2020</span><span style=\"color: #008000; text-decoration-color: #008000\">-</span><span style=\"color: #008000; text-decoration-color: #008000; font-weight: bold\">2024</span>\n",
       "</pre>\n"
      ],
      "text/plain": [
       "\u001b[32mSearching for AMZN \u001b[0m\u001b[1;32m(\u001b[0m\u001b[32mCIK: \u001b[0m\u001b[1;32m0001018724\u001b[0m\u001b[1;32m)\u001b[0m\u001b[32m filings between \u001b[0m\u001b[1;32m2020\u001b[0m\u001b[32m-\u001b[0m\u001b[1;32m2024\u001b[0m\n"
      ]
     },
     "metadata": {},
     "output_type": "display_data"
    },
    {
     "data": {
      "text/html": [
       "<pre style=\"white-space:pre;overflow-x:auto;line-height:normal;font-family:Menlo,'DejaVu Sans Mono',consolas,'Courier New',monospace\"><span style=\"color: #008000; text-decoration-color: #008000\">Fetching filings index from: </span><span style=\"color: #008000; text-decoration-color: #008000; text-decoration: underline\">https://data.sec.gov/submissions/CIK0001018724.json</span>\n",
       "</pre>\n"
      ],
      "text/plain": [
       "\u001b[32mFetching filings index from: \u001b[0m\u001b[4;32mhttps://data.sec.gov/submissions/CIK0001018724.json\u001b[0m\n"
      ]
     },
     "metadata": {},
     "output_type": "display_data"
    },
    {
     "data": {
      "text/html": [
       "<pre style=\"white-space:pre;overflow-x:auto;line-height:normal;font-family:Menlo,'DejaVu Sans Mono',consolas,'Courier New',monospace\"><span style=\"color: #008000; text-decoration-color: #008000\">Successfully fetched filings index for CIK </span><span style=\"color: #008000; text-decoration-color: #008000; font-weight: bold\">0001018724</span>\n",
       "</pre>\n"
      ],
      "text/plain": [
       "\u001b[32mSuccessfully fetched filings index for CIK \u001b[0m\u001b[1;32m0001018724\u001b[0m\n"
      ]
     },
     "metadata": {},
     "output_type": "display_data"
    },
    {
     "data": {
      "text/html": [
       "<pre style=\"white-space:pre;overflow-x:auto;line-height:normal;font-family:Menlo,'DejaVu Sans Mono',consolas,'Courier New',monospace\"><span style=\"color: #008000; text-decoration-color: #008000\">Found </span><span style=\"color: #008000; text-decoration-color: #008000; font-weight: bold\">5</span><span style=\"color: #008000; text-decoration-color: #008000\"> </span><span style=\"color: #008000; text-decoration-color: #008000; font-weight: bold\">10</span><span style=\"color: #008000; text-decoration-color: #008000\">-K filings for AMZN between </span><span style=\"color: #008000; text-decoration-color: #008000; font-weight: bold\">2020</span><span style=\"color: #008000; text-decoration-color: #008000\">-</span><span style=\"color: #008000; text-decoration-color: #008000; font-weight: bold\">2024</span>\n",
       "</pre>\n"
      ],
      "text/plain": [
       "\u001b[32mFound \u001b[0m\u001b[1;32m5\u001b[0m\u001b[32m \u001b[0m\u001b[1;32m10\u001b[0m\u001b[32m-K filings for AMZN between \u001b[0m\u001b[1;32m2020\u001b[0m\u001b[32m-\u001b[0m\u001b[1;32m2024\u001b[0m\n"
      ]
     },
     "metadata": {},
     "output_type": "display_data"
    },
    {
     "data": {
      "text/html": [
       "<pre style=\"white-space:pre;overflow-x:auto;line-height:normal;font-family:Menlo,'DejaVu Sans Mono',consolas,'Courier New',monospace\"><span style=\"color: #008000; text-decoration-color: #008000\">Searching for MSFT </span><span style=\"color: #008000; text-decoration-color: #008000; font-weight: bold\">(</span><span style=\"color: #008000; text-decoration-color: #008000\">CIK: </span><span style=\"color: #008000; text-decoration-color: #008000; font-weight: bold\">0000789019</span><span style=\"color: #008000; text-decoration-color: #008000; font-weight: bold\">)</span><span style=\"color: #008000; text-decoration-color: #008000\"> filings between </span><span style=\"color: #008000; text-decoration-color: #008000; font-weight: bold\">2020</span><span style=\"color: #008000; text-decoration-color: #008000\">-</span><span style=\"color: #008000; text-decoration-color: #008000; font-weight: bold\">2024</span>\n",
       "</pre>\n"
      ],
      "text/plain": [
       "\u001b[32mSearching for MSFT \u001b[0m\u001b[1;32m(\u001b[0m\u001b[32mCIK: \u001b[0m\u001b[1;32m0000789019\u001b[0m\u001b[1;32m)\u001b[0m\u001b[32m filings between \u001b[0m\u001b[1;32m2020\u001b[0m\u001b[32m-\u001b[0m\u001b[1;32m2024\u001b[0m\n"
      ]
     },
     "metadata": {},
     "output_type": "display_data"
    },
    {
     "data": {
      "text/html": [
       "<pre style=\"white-space:pre;overflow-x:auto;line-height:normal;font-family:Menlo,'DejaVu Sans Mono',consolas,'Courier New',monospace\"><span style=\"color: #008000; text-decoration-color: #008000\">Fetching filings index from: </span><span style=\"color: #008000; text-decoration-color: #008000; text-decoration: underline\">https://data.sec.gov/submissions/CIK0000789019.json</span>\n",
       "</pre>\n"
      ],
      "text/plain": [
       "\u001b[32mFetching filings index from: \u001b[0m\u001b[4;32mhttps://data.sec.gov/submissions/CIK0000789019.json\u001b[0m\n"
      ]
     },
     "metadata": {},
     "output_type": "display_data"
    },
    {
     "data": {
      "text/html": [
       "<pre style=\"white-space:pre;overflow-x:auto;line-height:normal;font-family:Menlo,'DejaVu Sans Mono',consolas,'Courier New',monospace\"><span style=\"color: #008000; text-decoration-color: #008000\">Successfully fetched filings index for CIK </span><span style=\"color: #008000; text-decoration-color: #008000; font-weight: bold\">0000789019</span>\n",
       "</pre>\n"
      ],
      "text/plain": [
       "\u001b[32mSuccessfully fetched filings index for CIK \u001b[0m\u001b[1;32m0000789019\u001b[0m\n"
      ]
     },
     "metadata": {},
     "output_type": "display_data"
    },
    {
     "data": {
      "text/html": [
       "<pre style=\"white-space:pre;overflow-x:auto;line-height:normal;font-family:Menlo,'DejaVu Sans Mono',consolas,'Courier New',monospace\"><span style=\"color: #008000; text-decoration-color: #008000\">Found </span><span style=\"color: #008000; text-decoration-color: #008000; font-weight: bold\">5</span><span style=\"color: #008000; text-decoration-color: #008000\"> </span><span style=\"color: #008000; text-decoration-color: #008000; font-weight: bold\">10</span><span style=\"color: #008000; text-decoration-color: #008000\">-K filings for MSFT between </span><span style=\"color: #008000; text-decoration-color: #008000; font-weight: bold\">2020</span><span style=\"color: #008000; text-decoration-color: #008000\">-</span><span style=\"color: #008000; text-decoration-color: #008000; font-weight: bold\">2024</span>\n",
       "</pre>\n"
      ],
      "text/plain": [
       "\u001b[32mFound \u001b[0m\u001b[1;32m5\u001b[0m\u001b[32m \u001b[0m\u001b[1;32m10\u001b[0m\u001b[32m-K filings for MSFT between \u001b[0m\u001b[1;32m2020\u001b[0m\u001b[32m-\u001b[0m\u001b[1;32m2024\u001b[0m\n"
      ]
     },
     "metadata": {},
     "output_type": "display_data"
    },
    {
     "data": {
      "text/html": [
       "<pre style=\"white-space:pre;overflow-x:auto;line-height:normal;font-family:Menlo,'DejaVu Sans Mono',consolas,'Courier New',monospace\"><span style=\"color: #008000; text-decoration-color: #008000\">Searching for GOOGL </span><span style=\"color: #008000; text-decoration-color: #008000; font-weight: bold\">(</span><span style=\"color: #008000; text-decoration-color: #008000\">CIK: </span><span style=\"color: #008000; text-decoration-color: #008000; font-weight: bold\">0001652044</span><span style=\"color: #008000; text-decoration-color: #008000; font-weight: bold\">)</span><span style=\"color: #008000; text-decoration-color: #008000\"> filings between </span><span style=\"color: #008000; text-decoration-color: #008000; font-weight: bold\">2020</span><span style=\"color: #008000; text-decoration-color: #008000\">-</span><span style=\"color: #008000; text-decoration-color: #008000; font-weight: bold\">2024</span>\n",
       "</pre>\n"
      ],
      "text/plain": [
       "\u001b[32mSearching for GOOGL \u001b[0m\u001b[1;32m(\u001b[0m\u001b[32mCIK: \u001b[0m\u001b[1;32m0001652044\u001b[0m\u001b[1;32m)\u001b[0m\u001b[32m filings between \u001b[0m\u001b[1;32m2020\u001b[0m\u001b[32m-\u001b[0m\u001b[1;32m2024\u001b[0m\n"
      ]
     },
     "metadata": {},
     "output_type": "display_data"
    },
    {
     "data": {
      "text/html": [
       "<pre style=\"white-space:pre;overflow-x:auto;line-height:normal;font-family:Menlo,'DejaVu Sans Mono',consolas,'Courier New',monospace\"><span style=\"color: #008000; text-decoration-color: #008000\">Fetching filings index from: </span><span style=\"color: #008000; text-decoration-color: #008000; text-decoration: underline\">https://data.sec.gov/submissions/CIK0001652044.json</span>\n",
       "</pre>\n"
      ],
      "text/plain": [
       "\u001b[32mFetching filings index from: \u001b[0m\u001b[4;32mhttps://data.sec.gov/submissions/CIK0001652044.json\u001b[0m\n"
      ]
     },
     "metadata": {},
     "output_type": "display_data"
    },
    {
     "data": {
      "text/html": [
       "<pre style=\"white-space:pre;overflow-x:auto;line-height:normal;font-family:Menlo,'DejaVu Sans Mono',consolas,'Courier New',monospace\"><span style=\"color: #008000; text-decoration-color: #008000\">Successfully fetched filings index for CIK </span><span style=\"color: #008000; text-decoration-color: #008000; font-weight: bold\">0001652044</span>\n",
       "</pre>\n"
      ],
      "text/plain": [
       "\u001b[32mSuccessfully fetched filings index for CIK \u001b[0m\u001b[1;32m0001652044\u001b[0m\n"
      ]
     },
     "metadata": {},
     "output_type": "display_data"
    },
    {
     "data": {
      "text/html": [
       "<pre style=\"white-space:pre;overflow-x:auto;line-height:normal;font-family:Menlo,'DejaVu Sans Mono',consolas,'Courier New',monospace\"><span style=\"color: #008000; text-decoration-color: #008000\">Found </span><span style=\"color: #008000; text-decoration-color: #008000; font-weight: bold\">3</span><span style=\"color: #008000; text-decoration-color: #008000\"> </span><span style=\"color: #008000; text-decoration-color: #008000; font-weight: bold\">10</span><span style=\"color: #008000; text-decoration-color: #008000\">-K filings for GOOGL between </span><span style=\"color: #008000; text-decoration-color: #008000; font-weight: bold\">2020</span><span style=\"color: #008000; text-decoration-color: #008000\">-</span><span style=\"color: #008000; text-decoration-color: #008000; font-weight: bold\">2024</span>\n",
       "</pre>\n"
      ],
      "text/plain": [
       "\u001b[32mFound \u001b[0m\u001b[1;32m3\u001b[0m\u001b[32m \u001b[0m\u001b[1;32m10\u001b[0m\u001b[32m-K filings for GOOGL between \u001b[0m\u001b[1;32m2020\u001b[0m\u001b[32m-\u001b[0m\u001b[1;32m2024\u001b[0m\n"
      ]
     },
     "metadata": {},
     "output_type": "display_data"
    },
    {
     "data": {
      "text/html": [
       "<pre style=\"white-space:pre;overflow-x:auto;line-height:normal;font-family:Menlo,'DejaVu Sans Mono',consolas,'Courier New',monospace\"><span style=\"color: #008000; text-decoration-color: #008000\">Searching for IBM </span><span style=\"color: #008000; text-decoration-color: #008000; font-weight: bold\">(</span><span style=\"color: #008000; text-decoration-color: #008000\">CIK: </span><span style=\"color: #008000; text-decoration-color: #008000; font-weight: bold\">0000051143</span><span style=\"color: #008000; text-decoration-color: #008000; font-weight: bold\">)</span><span style=\"color: #008000; text-decoration-color: #008000\"> filings between </span><span style=\"color: #008000; text-decoration-color: #008000; font-weight: bold\">2020</span><span style=\"color: #008000; text-decoration-color: #008000\">-</span><span style=\"color: #008000; text-decoration-color: #008000; font-weight: bold\">2024</span>\n",
       "</pre>\n"
      ],
      "text/plain": [
       "\u001b[32mSearching for IBM \u001b[0m\u001b[1;32m(\u001b[0m\u001b[32mCIK: \u001b[0m\u001b[1;32m0000051143\u001b[0m\u001b[1;32m)\u001b[0m\u001b[32m filings between \u001b[0m\u001b[1;32m2020\u001b[0m\u001b[32m-\u001b[0m\u001b[1;32m2024\u001b[0m\n"
      ]
     },
     "metadata": {},
     "output_type": "display_data"
    },
    {
     "data": {
      "text/html": [
       "<pre style=\"white-space:pre;overflow-x:auto;line-height:normal;font-family:Menlo,'DejaVu Sans Mono',consolas,'Courier New',monospace\"><span style=\"color: #008000; text-decoration-color: #008000\">Fetching filings index from: </span><span style=\"color: #008000; text-decoration-color: #008000; text-decoration: underline\">https://data.sec.gov/submissions/CIK0000051143.json</span>\n",
       "</pre>\n"
      ],
      "text/plain": [
       "\u001b[32mFetching filings index from: \u001b[0m\u001b[4;32mhttps://data.sec.gov/submissions/CIK0000051143.json\u001b[0m\n"
      ]
     },
     "metadata": {},
     "output_type": "display_data"
    },
    {
     "data": {
      "text/html": [
       "<pre style=\"white-space:pre;overflow-x:auto;line-height:normal;font-family:Menlo,'DejaVu Sans Mono',consolas,'Courier New',monospace\"><span style=\"color: #008000; text-decoration-color: #008000\">Successfully fetched filings index for CIK </span><span style=\"color: #008000; text-decoration-color: #008000; font-weight: bold\">0000051143</span>\n",
       "</pre>\n"
      ],
      "text/plain": [
       "\u001b[32mSuccessfully fetched filings index for CIK \u001b[0m\u001b[1;32m0000051143\u001b[0m\n"
      ]
     },
     "metadata": {},
     "output_type": "display_data"
    },
    {
     "data": {
      "text/html": [
       "<pre style=\"white-space:pre;overflow-x:auto;line-height:normal;font-family:Menlo,'DejaVu Sans Mono',consolas,'Courier New',monospace\"><span style=\"color: #008000; text-decoration-color: #008000\">Found </span><span style=\"color: #008000; text-decoration-color: #008000; font-weight: bold\">5</span><span style=\"color: #008000; text-decoration-color: #008000\"> </span><span style=\"color: #008000; text-decoration-color: #008000; font-weight: bold\">10</span><span style=\"color: #008000; text-decoration-color: #008000\">-K filings for IBM between </span><span style=\"color: #008000; text-decoration-color: #008000; font-weight: bold\">2020</span><span style=\"color: #008000; text-decoration-color: #008000\">-</span><span style=\"color: #008000; text-decoration-color: #008000; font-weight: bold\">2024</span>\n",
       "</pre>\n"
      ],
      "text/plain": [
       "\u001b[32mFound \u001b[0m\u001b[1;32m5\u001b[0m\u001b[32m \u001b[0m\u001b[1;32m10\u001b[0m\u001b[32m-K filings for IBM between \u001b[0m\u001b[1;32m2020\u001b[0m\u001b[32m-\u001b[0m\u001b[1;32m2024\u001b[0m\n"
      ]
     },
     "metadata": {},
     "output_type": "display_data"
    },
    {
     "data": {
      "text/html": [
       "<pre style=\"white-space:pre;overflow-x:auto;line-height:normal;font-family:Menlo,'DejaVu Sans Mono',consolas,'Courier New',monospace\"><span style=\"color: #008000; text-decoration-color: #008000\">Searching for ORCL </span><span style=\"color: #008000; text-decoration-color: #008000; font-weight: bold\">(</span><span style=\"color: #008000; text-decoration-color: #008000\">CIK: </span><span style=\"color: #008000; text-decoration-color: #008000; font-weight: bold\">0001341439</span><span style=\"color: #008000; text-decoration-color: #008000; font-weight: bold\">)</span><span style=\"color: #008000; text-decoration-color: #008000\"> filings between </span><span style=\"color: #008000; text-decoration-color: #008000; font-weight: bold\">2020</span><span style=\"color: #008000; text-decoration-color: #008000\">-</span><span style=\"color: #008000; text-decoration-color: #008000; font-weight: bold\">2024</span>\n",
       "</pre>\n"
      ],
      "text/plain": [
       "\u001b[32mSearching for ORCL \u001b[0m\u001b[1;32m(\u001b[0m\u001b[32mCIK: \u001b[0m\u001b[1;32m0001341439\u001b[0m\u001b[1;32m)\u001b[0m\u001b[32m filings between \u001b[0m\u001b[1;32m2020\u001b[0m\u001b[32m-\u001b[0m\u001b[1;32m2024\u001b[0m\n"
      ]
     },
     "metadata": {},
     "output_type": "display_data"
    },
    {
     "data": {
      "text/html": [
       "<pre style=\"white-space:pre;overflow-x:auto;line-height:normal;font-family:Menlo,'DejaVu Sans Mono',consolas,'Courier New',monospace\"><span style=\"color: #008000; text-decoration-color: #008000\">Fetching filings index from: </span><span style=\"color: #008000; text-decoration-color: #008000; text-decoration: underline\">https://data.sec.gov/submissions/CIK0001341439.json</span>\n",
       "</pre>\n"
      ],
      "text/plain": [
       "\u001b[32mFetching filings index from: \u001b[0m\u001b[4;32mhttps://data.sec.gov/submissions/CIK0001341439.json\u001b[0m\n"
      ]
     },
     "metadata": {},
     "output_type": "display_data"
    },
    {
     "data": {
      "text/html": [
       "<pre style=\"white-space:pre;overflow-x:auto;line-height:normal;font-family:Menlo,'DejaVu Sans Mono',consolas,'Courier New',monospace\"><span style=\"color: #008000; text-decoration-color: #008000\">Successfully fetched filings index for CIK </span><span style=\"color: #008000; text-decoration-color: #008000; font-weight: bold\">0001341439</span>\n",
       "</pre>\n"
      ],
      "text/plain": [
       "\u001b[32mSuccessfully fetched filings index for CIK \u001b[0m\u001b[1;32m0001341439\u001b[0m\n"
      ]
     },
     "metadata": {},
     "output_type": "display_data"
    },
    {
     "data": {
      "text/html": [
       "<pre style=\"white-space:pre;overflow-x:auto;line-height:normal;font-family:Menlo,'DejaVu Sans Mono',consolas,'Courier New',monospace\"><span style=\"color: #008000; text-decoration-color: #008000\">Found </span><span style=\"color: #008000; text-decoration-color: #008000; font-weight: bold\">5</span><span style=\"color: #008000; text-decoration-color: #008000\"> </span><span style=\"color: #008000; text-decoration-color: #008000; font-weight: bold\">10</span><span style=\"color: #008000; text-decoration-color: #008000\">-K filings for ORCL between </span><span style=\"color: #008000; text-decoration-color: #008000; font-weight: bold\">2020</span><span style=\"color: #008000; text-decoration-color: #008000\">-</span><span style=\"color: #008000; text-decoration-color: #008000; font-weight: bold\">2024</span>\n",
       "</pre>\n"
      ],
      "text/plain": [
       "\u001b[32mFound \u001b[0m\u001b[1;32m5\u001b[0m\u001b[32m \u001b[0m\u001b[1;32m10\u001b[0m\u001b[32m-K filings for ORCL between \u001b[0m\u001b[1;32m2020\u001b[0m\u001b[32m-\u001b[0m\u001b[1;32m2024\u001b[0m\n"
      ]
     },
     "metadata": {},
     "output_type": "display_data"
    },
    {
     "data": {
      "text/html": [
       "<pre style=\"white-space:pre;overflow-x:auto;line-height:normal;font-family:Menlo,'DejaVu Sans Mono',consolas,'Courier New',monospace\"><span style=\"color: #008000; text-decoration-color: #008000\">Searching for CRM </span><span style=\"color: #008000; text-decoration-color: #008000; font-weight: bold\">(</span><span style=\"color: #008000; text-decoration-color: #008000\">CIK: </span><span style=\"color: #008000; text-decoration-color: #008000; font-weight: bold\">0001108524</span><span style=\"color: #008000; text-decoration-color: #008000; font-weight: bold\">)</span><span style=\"color: #008000; text-decoration-color: #008000\"> filings between </span><span style=\"color: #008000; text-decoration-color: #008000; font-weight: bold\">2020</span><span style=\"color: #008000; text-decoration-color: #008000\">-</span><span style=\"color: #008000; text-decoration-color: #008000; font-weight: bold\">2024</span>\n",
       "</pre>\n"
      ],
      "text/plain": [
       "\u001b[32mSearching for CRM \u001b[0m\u001b[1;32m(\u001b[0m\u001b[32mCIK: \u001b[0m\u001b[1;32m0001108524\u001b[0m\u001b[1;32m)\u001b[0m\u001b[32m filings between \u001b[0m\u001b[1;32m2020\u001b[0m\u001b[32m-\u001b[0m\u001b[1;32m2024\u001b[0m\n"
      ]
     },
     "metadata": {},
     "output_type": "display_data"
    },
    {
     "data": {
      "text/html": [
       "<pre style=\"white-space:pre;overflow-x:auto;line-height:normal;font-family:Menlo,'DejaVu Sans Mono',consolas,'Courier New',monospace\"><span style=\"color: #008000; text-decoration-color: #008000\">Fetching filings index from: </span><span style=\"color: #008000; text-decoration-color: #008000; text-decoration: underline\">https://data.sec.gov/submissions/CIK0001108524.json</span>\n",
       "</pre>\n"
      ],
      "text/plain": [
       "\u001b[32mFetching filings index from: \u001b[0m\u001b[4;32mhttps://data.sec.gov/submissions/CIK0001108524.json\u001b[0m\n"
      ]
     },
     "metadata": {},
     "output_type": "display_data"
    },
    {
     "data": {
      "text/html": [
       "<pre style=\"white-space:pre;overflow-x:auto;line-height:normal;font-family:Menlo,'DejaVu Sans Mono',consolas,'Courier New',monospace\"><span style=\"color: #008000; text-decoration-color: #008000\">Successfully fetched filings index for CIK </span><span style=\"color: #008000; text-decoration-color: #008000; font-weight: bold\">0001108524</span>\n",
       "</pre>\n"
      ],
      "text/plain": [
       "\u001b[32mSuccessfully fetched filings index for CIK \u001b[0m\u001b[1;32m0001108524\u001b[0m\n"
      ]
     },
     "metadata": {},
     "output_type": "display_data"
    },
    {
     "data": {
      "text/html": [
       "<pre style=\"white-space:pre;overflow-x:auto;line-height:normal;font-family:Menlo,'DejaVu Sans Mono',consolas,'Courier New',monospace\"><span style=\"color: #008000; text-decoration-color: #008000\">Found </span><span style=\"color: #008000; text-decoration-color: #008000; font-weight: bold\">2</span><span style=\"color: #008000; text-decoration-color: #008000\"> </span><span style=\"color: #008000; text-decoration-color: #008000; font-weight: bold\">10</span><span style=\"color: #008000; text-decoration-color: #008000\">-K filings for CRM between </span><span style=\"color: #008000; text-decoration-color: #008000; font-weight: bold\">2020</span><span style=\"color: #008000; text-decoration-color: #008000\">-</span><span style=\"color: #008000; text-decoration-color: #008000; font-weight: bold\">2024</span>\n",
       "</pre>\n"
      ],
      "text/plain": [
       "\u001b[32mFound \u001b[0m\u001b[1;32m2\u001b[0m\u001b[32m \u001b[0m\u001b[1;32m10\u001b[0m\u001b[32m-K filings for CRM between \u001b[0m\u001b[1;32m2020\u001b[0m\u001b[32m-\u001b[0m\u001b[1;32m2024\u001b[0m\n"
      ]
     },
     "metadata": {},
     "output_type": "display_data"
    },
    {
     "data": {
      "text/html": [
       "<pre style=\"white-space:pre;overflow-x:auto;line-height:normal;font-family:Menlo,'DejaVu Sans Mono',consolas,'Courier New',monospace\"><span style=\"color: #008000; text-decoration-color: #008000\">Searching for BABA </span><span style=\"color: #008000; text-decoration-color: #008000; font-weight: bold\">(</span><span style=\"color: #008000; text-decoration-color: #008000\">CIK: </span><span style=\"color: #008000; text-decoration-color: #008000; font-weight: bold\">0001577552</span><span style=\"color: #008000; text-decoration-color: #008000; font-weight: bold\">)</span><span style=\"color: #008000; text-decoration-color: #008000\"> filings between </span><span style=\"color: #008000; text-decoration-color: #008000; font-weight: bold\">2020</span><span style=\"color: #008000; text-decoration-color: #008000\">-</span><span style=\"color: #008000; text-decoration-color: #008000; font-weight: bold\">2024</span>\n",
       "</pre>\n"
      ],
      "text/plain": [
       "\u001b[32mSearching for BABA \u001b[0m\u001b[1;32m(\u001b[0m\u001b[32mCIK: \u001b[0m\u001b[1;32m0001577552\u001b[0m\u001b[1;32m)\u001b[0m\u001b[32m filings between \u001b[0m\u001b[1;32m2020\u001b[0m\u001b[32m-\u001b[0m\u001b[1;32m2024\u001b[0m\n"
      ]
     },
     "metadata": {},
     "output_type": "display_data"
    },
    {
     "data": {
      "text/html": [
       "<pre style=\"white-space:pre;overflow-x:auto;line-height:normal;font-family:Menlo,'DejaVu Sans Mono',consolas,'Courier New',monospace\"><span style=\"color: #008000; text-decoration-color: #008000\">Fetching filings index from: </span><span style=\"color: #008000; text-decoration-color: #008000; text-decoration: underline\">https://data.sec.gov/submissions/CIK0001577552.json</span>\n",
       "</pre>\n"
      ],
      "text/plain": [
       "\u001b[32mFetching filings index from: \u001b[0m\u001b[4;32mhttps://data.sec.gov/submissions/CIK0001577552.json\u001b[0m\n"
      ]
     },
     "metadata": {},
     "output_type": "display_data"
    },
    {
     "data": {
      "text/html": [
       "<pre style=\"white-space:pre;overflow-x:auto;line-height:normal;font-family:Menlo,'DejaVu Sans Mono',consolas,'Courier New',monospace\"><span style=\"color: #008000; text-decoration-color: #008000\">Successfully fetched filings index for CIK </span><span style=\"color: #008000; text-decoration-color: #008000; font-weight: bold\">0001577552</span>\n",
       "</pre>\n"
      ],
      "text/plain": [
       "\u001b[32mSuccessfully fetched filings index for CIK \u001b[0m\u001b[1;32m0001577552\u001b[0m\n"
      ]
     },
     "metadata": {},
     "output_type": "display_data"
    },
    {
     "data": {
      "text/html": [
       "<pre style=\"white-space:pre;overflow-x:auto;line-height:normal;font-family:Menlo,'DejaVu Sans Mono',consolas,'Courier New',monospace\"><span style=\"color: #008000; text-decoration-color: #008000\">No </span><span style=\"color: #008000; text-decoration-color: #008000; font-weight: bold\">10</span><span style=\"color: #008000; text-decoration-color: #008000\">-K filings found in the recent filings for CIK </span><span style=\"color: #008000; text-decoration-color: #008000; font-weight: bold\">0001577552</span><span style=\"color: #008000; text-decoration-color: #008000\">.</span>\n",
       "</pre>\n"
      ],
      "text/plain": [
       "\u001b[32mNo \u001b[0m\u001b[1;32m10\u001b[0m\u001b[32m-K filings found in the recent filings for CIK \u001b[0m\u001b[1;32m0001577552\u001b[0m\u001b[32m.\u001b[0m\n"
      ]
     },
     "metadata": {},
     "output_type": "display_data"
    },
    {
     "data": {
      "text/html": [
       "<pre style=\"white-space:pre;overflow-x:auto;line-height:normal;font-family:Menlo,'DejaVu Sans Mono',consolas,'Courier New',monospace\"><span style=\"color: #008000; text-decoration-color: #008000\">No </span><span style=\"color: #008000; text-decoration-color: #008000; font-weight: bold\">10</span><span style=\"color: #008000; text-decoration-color: #008000\">-K filings found for BABA in period </span><span style=\"color: #008000; text-decoration-color: #008000; font-weight: bold\">2020</span><span style=\"color: #008000; text-decoration-color: #008000\">-</span><span style=\"color: #008000; text-decoration-color: #008000; font-weight: bold\">2024</span><span style=\"color: #008000; text-decoration-color: #008000\">.</span>\n",
       "</pre>\n"
      ],
      "text/plain": [
       "\u001b[32mNo \u001b[0m\u001b[1;32m10\u001b[0m\u001b[32m-K filings found for BABA in period \u001b[0m\u001b[1;32m2020\u001b[0m\u001b[32m-\u001b[0m\u001b[1;32m2024\u001b[0m\u001b[32m.\u001b[0m\n"
      ]
     },
     "metadata": {},
     "output_type": "display_data"
    },
    {
     "data": {
      "text/html": [
       "<pre style=\"white-space:pre;overflow-x:auto;line-height:normal;font-family:Menlo,'DejaVu Sans Mono',consolas,'Courier New',monospace\"><span style=\"color: #008000; text-decoration-color: #008000\">Searching for CSCO </span><span style=\"color: #008000; text-decoration-color: #008000; font-weight: bold\">(</span><span style=\"color: #008000; text-decoration-color: #008000\">CIK: </span><span style=\"color: #008000; text-decoration-color: #008000; font-weight: bold\">0000858877</span><span style=\"color: #008000; text-decoration-color: #008000; font-weight: bold\">)</span><span style=\"color: #008000; text-decoration-color: #008000\"> filings between </span><span style=\"color: #008000; text-decoration-color: #008000; font-weight: bold\">2020</span><span style=\"color: #008000; text-decoration-color: #008000\">-</span><span style=\"color: #008000; text-decoration-color: #008000; font-weight: bold\">2024</span>\n",
       "</pre>\n"
      ],
      "text/plain": [
       "\u001b[32mSearching for CSCO \u001b[0m\u001b[1;32m(\u001b[0m\u001b[32mCIK: \u001b[0m\u001b[1;32m0000858877\u001b[0m\u001b[1;32m)\u001b[0m\u001b[32m filings between \u001b[0m\u001b[1;32m2020\u001b[0m\u001b[32m-\u001b[0m\u001b[1;32m2024\u001b[0m\n"
      ]
     },
     "metadata": {},
     "output_type": "display_data"
    },
    {
     "data": {
      "text/html": [
       "<pre style=\"white-space:pre;overflow-x:auto;line-height:normal;font-family:Menlo,'DejaVu Sans Mono',consolas,'Courier New',monospace\"><span style=\"color: #008000; text-decoration-color: #008000\">Fetching filings index from: </span><span style=\"color: #008000; text-decoration-color: #008000; text-decoration: underline\">https://data.sec.gov/submissions/CIK0000858877.json</span>\n",
       "</pre>\n"
      ],
      "text/plain": [
       "\u001b[32mFetching filings index from: \u001b[0m\u001b[4;32mhttps://data.sec.gov/submissions/CIK0000858877.json\u001b[0m\n"
      ]
     },
     "metadata": {},
     "output_type": "display_data"
    },
    {
     "data": {
      "text/html": [
       "<pre style=\"white-space:pre;overflow-x:auto;line-height:normal;font-family:Menlo,'DejaVu Sans Mono',consolas,'Courier New',monospace\"><span style=\"color: #008000; text-decoration-color: #008000\">Successfully fetched filings index for CIK </span><span style=\"color: #008000; text-decoration-color: #008000; font-weight: bold\">0000858877</span>\n",
       "</pre>\n"
      ],
      "text/plain": [
       "\u001b[32mSuccessfully fetched filings index for CIK \u001b[0m\u001b[1;32m0000858877\u001b[0m\n"
      ]
     },
     "metadata": {},
     "output_type": "display_data"
    },
    {
     "data": {
      "text/html": [
       "<pre style=\"white-space:pre;overflow-x:auto;line-height:normal;font-family:Menlo,'DejaVu Sans Mono',consolas,'Courier New',monospace\"><span style=\"color: #008000; text-decoration-color: #008000\">Found </span><span style=\"color: #008000; text-decoration-color: #008000; font-weight: bold\">5</span><span style=\"color: #008000; text-decoration-color: #008000\"> </span><span style=\"color: #008000; text-decoration-color: #008000; font-weight: bold\">10</span><span style=\"color: #008000; text-decoration-color: #008000\">-K filings for CSCO between </span><span style=\"color: #008000; text-decoration-color: #008000; font-weight: bold\">2020</span><span style=\"color: #008000; text-decoration-color: #008000\">-</span><span style=\"color: #008000; text-decoration-color: #008000; font-weight: bold\">2024</span>\n",
       "</pre>\n"
      ],
      "text/plain": [
       "\u001b[32mFound \u001b[0m\u001b[1;32m5\u001b[0m\u001b[32m \u001b[0m\u001b[1;32m10\u001b[0m\u001b[32m-K filings for CSCO between \u001b[0m\u001b[1;32m2020\u001b[0m\u001b[32m-\u001b[0m\u001b[1;32m2024\u001b[0m\n"
      ]
     },
     "metadata": {},
     "output_type": "display_data"
    },
    {
     "data": {
      "text/html": [
       "<pre style=\"white-space:pre;overflow-x:auto;line-height:normal;font-family:Menlo,'DejaVu Sans Mono',consolas,'Courier New',monospace\"><span style=\"color: #008000; text-decoration-color: #008000\">Searching for AVGO </span><span style=\"color: #008000; text-decoration-color: #008000; font-weight: bold\">(</span><span style=\"color: #008000; text-decoration-color: #008000\">CIK: </span><span style=\"color: #008000; text-decoration-color: #008000; font-weight: bold\">0001730168</span><span style=\"color: #008000; text-decoration-color: #008000; font-weight: bold\">)</span><span style=\"color: #008000; text-decoration-color: #008000\"> filings between </span><span style=\"color: #008000; text-decoration-color: #008000; font-weight: bold\">2020</span><span style=\"color: #008000; text-decoration-color: #008000\">-</span><span style=\"color: #008000; text-decoration-color: #008000; font-weight: bold\">2024</span>\n",
       "</pre>\n"
      ],
      "text/plain": [
       "\u001b[32mSearching for AVGO \u001b[0m\u001b[1;32m(\u001b[0m\u001b[32mCIK: \u001b[0m\u001b[1;32m0001730168\u001b[0m\u001b[1;32m)\u001b[0m\u001b[32m filings between \u001b[0m\u001b[1;32m2020\u001b[0m\u001b[32m-\u001b[0m\u001b[1;32m2024\u001b[0m\n"
      ]
     },
     "metadata": {},
     "output_type": "display_data"
    },
    {
     "data": {
      "text/html": [
       "<pre style=\"white-space:pre;overflow-x:auto;line-height:normal;font-family:Menlo,'DejaVu Sans Mono',consolas,'Courier New',monospace\"><span style=\"color: #008000; text-decoration-color: #008000\">Fetching filings index from: </span><span style=\"color: #008000; text-decoration-color: #008000; text-decoration: underline\">https://data.sec.gov/submissions/CIK0001730168.json</span>\n",
       "</pre>\n"
      ],
      "text/plain": [
       "\u001b[32mFetching filings index from: \u001b[0m\u001b[4;32mhttps://data.sec.gov/submissions/CIK0001730168.json\u001b[0m\n"
      ]
     },
     "metadata": {},
     "output_type": "display_data"
    },
    {
     "data": {
      "text/html": [
       "<pre style=\"white-space:pre;overflow-x:auto;line-height:normal;font-family:Menlo,'DejaVu Sans Mono',consolas,'Courier New',monospace\"><span style=\"color: #008000; text-decoration-color: #008000\">Successfully fetched filings index for CIK </span><span style=\"color: #008000; text-decoration-color: #008000; font-weight: bold\">0001730168</span>\n",
       "</pre>\n"
      ],
      "text/plain": [
       "\u001b[32mSuccessfully fetched filings index for CIK \u001b[0m\u001b[1;32m0001730168\u001b[0m\n"
      ]
     },
     "metadata": {},
     "output_type": "display_data"
    },
    {
     "data": {
      "text/html": [
       "<pre style=\"white-space:pre;overflow-x:auto;line-height:normal;font-family:Menlo,'DejaVu Sans Mono',consolas,'Courier New',monospace\"><span style=\"color: #008000; text-decoration-color: #008000\">Found </span><span style=\"color: #008000; text-decoration-color: #008000; font-weight: bold\">5</span><span style=\"color: #008000; text-decoration-color: #008000\"> </span><span style=\"color: #008000; text-decoration-color: #008000; font-weight: bold\">10</span><span style=\"color: #008000; text-decoration-color: #008000\">-K filings for AVGO between </span><span style=\"color: #008000; text-decoration-color: #008000; font-weight: bold\">2020</span><span style=\"color: #008000; text-decoration-color: #008000\">-</span><span style=\"color: #008000; text-decoration-color: #008000; font-weight: bold\">2024</span>\n",
       "</pre>\n"
      ],
      "text/plain": [
       "\u001b[32mFound \u001b[0m\u001b[1;32m5\u001b[0m\u001b[32m \u001b[0m\u001b[1;32m10\u001b[0m\u001b[32m-K filings for AVGO between \u001b[0m\u001b[1;32m2020\u001b[0m\u001b[32m-\u001b[0m\u001b[1;32m2024\u001b[0m\n"
      ]
     },
     "metadata": {},
     "output_type": "display_data"
    },
    {
     "data": {
      "text/html": [
       "<pre style=\"white-space:pre;overflow-x:auto;line-height:normal;font-family:Menlo,'DejaVu Sans Mono',consolas,'Courier New',monospace\"><span style=\"color: #008000; text-decoration-color: #008000\">Searching for SAP </span><span style=\"color: #008000; text-decoration-color: #008000; font-weight: bold\">(</span><span style=\"color: #008000; text-decoration-color: #008000\">CIK: </span><span style=\"color: #008000; text-decoration-color: #008000; font-weight: bold\">0001000184</span><span style=\"color: #008000; text-decoration-color: #008000; font-weight: bold\">)</span><span style=\"color: #008000; text-decoration-color: #008000\"> filings between </span><span style=\"color: #008000; text-decoration-color: #008000; font-weight: bold\">2020</span><span style=\"color: #008000; text-decoration-color: #008000\">-</span><span style=\"color: #008000; text-decoration-color: #008000; font-weight: bold\">2024</span>\n",
       "</pre>\n"
      ],
      "text/plain": [
       "\u001b[32mSearching for SAP \u001b[0m\u001b[1;32m(\u001b[0m\u001b[32mCIK: \u001b[0m\u001b[1;32m0001000184\u001b[0m\u001b[1;32m)\u001b[0m\u001b[32m filings between \u001b[0m\u001b[1;32m2020\u001b[0m\u001b[32m-\u001b[0m\u001b[1;32m2024\u001b[0m\n"
      ]
     },
     "metadata": {},
     "output_type": "display_data"
    },
    {
     "data": {
      "text/html": [
       "<pre style=\"white-space:pre;overflow-x:auto;line-height:normal;font-family:Menlo,'DejaVu Sans Mono',consolas,'Courier New',monospace\"><span style=\"color: #008000; text-decoration-color: #008000\">Fetching filings index from: </span><span style=\"color: #008000; text-decoration-color: #008000; text-decoration: underline\">https://data.sec.gov/submissions/CIK0001000184.json</span>\n",
       "</pre>\n"
      ],
      "text/plain": [
       "\u001b[32mFetching filings index from: \u001b[0m\u001b[4;32mhttps://data.sec.gov/submissions/CIK0001000184.json\u001b[0m\n"
      ]
     },
     "metadata": {},
     "output_type": "display_data"
    },
    {
     "data": {
      "text/html": [
       "<pre style=\"white-space:pre;overflow-x:auto;line-height:normal;font-family:Menlo,'DejaVu Sans Mono',consolas,'Courier New',monospace\"><span style=\"color: #008000; text-decoration-color: #008000\">Successfully fetched filings index for CIK </span><span style=\"color: #008000; text-decoration-color: #008000; font-weight: bold\">0001000184</span>\n",
       "</pre>\n"
      ],
      "text/plain": [
       "\u001b[32mSuccessfully fetched filings index for CIK \u001b[0m\u001b[1;32m0001000184\u001b[0m\n"
      ]
     },
     "metadata": {},
     "output_type": "display_data"
    },
    {
     "data": {
      "text/html": [
       "<pre style=\"white-space:pre;overflow-x:auto;line-height:normal;font-family:Menlo,'DejaVu Sans Mono',consolas,'Courier New',monospace\"><span style=\"color: #008000; text-decoration-color: #008000\">No </span><span style=\"color: #008000; text-decoration-color: #008000; font-weight: bold\">10</span><span style=\"color: #008000; text-decoration-color: #008000\">-K filings found in the recent filings for CIK </span><span style=\"color: #008000; text-decoration-color: #008000; font-weight: bold\">0001000184</span><span style=\"color: #008000; text-decoration-color: #008000\">.</span>\n",
       "</pre>\n"
      ],
      "text/plain": [
       "\u001b[32mNo \u001b[0m\u001b[1;32m10\u001b[0m\u001b[32m-K filings found in the recent filings for CIK \u001b[0m\u001b[1;32m0001000184\u001b[0m\u001b[32m.\u001b[0m\n"
      ]
     },
     "metadata": {},
     "output_type": "display_data"
    },
    {
     "data": {
      "text/html": [
       "<pre style=\"white-space:pre;overflow-x:auto;line-height:normal;font-family:Menlo,'DejaVu Sans Mono',consolas,'Courier New',monospace\"><span style=\"color: #008000; text-decoration-color: #008000\">No </span><span style=\"color: #008000; text-decoration-color: #008000; font-weight: bold\">10</span><span style=\"color: #008000; text-decoration-color: #008000\">-K filings found for SAP in period </span><span style=\"color: #008000; text-decoration-color: #008000; font-weight: bold\">2020</span><span style=\"color: #008000; text-decoration-color: #008000\">-</span><span style=\"color: #008000; text-decoration-color: #008000; font-weight: bold\">2024</span><span style=\"color: #008000; text-decoration-color: #008000\">.</span>\n",
       "</pre>\n"
      ],
      "text/plain": [
       "\u001b[32mNo \u001b[0m\u001b[1;32m10\u001b[0m\u001b[32m-K filings found for SAP in period \u001b[0m\u001b[1;32m2020\u001b[0m\u001b[32m-\u001b[0m\u001b[1;32m2024\u001b[0m\u001b[32m.\u001b[0m\n"
      ]
     },
     "metadata": {},
     "output_type": "display_data"
    },
    {
     "data": {
      "text/html": [
       "<pre style=\"white-space:pre;overflow-x:auto;line-height:normal;font-family:Menlo,'DejaVu Sans Mono',consolas,'Courier New',monospace\"><span style=\"color: #008000; text-decoration-color: #008000\">Searching for ADBE </span><span style=\"color: #008000; text-decoration-color: #008000; font-weight: bold\">(</span><span style=\"color: #008000; text-decoration-color: #008000\">CIK: </span><span style=\"color: #008000; text-decoration-color: #008000; font-weight: bold\">0000796343</span><span style=\"color: #008000; text-decoration-color: #008000; font-weight: bold\">)</span><span style=\"color: #008000; text-decoration-color: #008000\"> filings between </span><span style=\"color: #008000; text-decoration-color: #008000; font-weight: bold\">2020</span><span style=\"color: #008000; text-decoration-color: #008000\">-</span><span style=\"color: #008000; text-decoration-color: #008000; font-weight: bold\">2024</span>\n",
       "</pre>\n"
      ],
      "text/plain": [
       "\u001b[32mSearching for ADBE \u001b[0m\u001b[1;32m(\u001b[0m\u001b[32mCIK: \u001b[0m\u001b[1;32m0000796343\u001b[0m\u001b[1;32m)\u001b[0m\u001b[32m filings between \u001b[0m\u001b[1;32m2020\u001b[0m\u001b[32m-\u001b[0m\u001b[1;32m2024\u001b[0m\n"
      ]
     },
     "metadata": {},
     "output_type": "display_data"
    },
    {
     "data": {
      "text/html": [
       "<pre style=\"white-space:pre;overflow-x:auto;line-height:normal;font-family:Menlo,'DejaVu Sans Mono',consolas,'Courier New',monospace\"><span style=\"color: #008000; text-decoration-color: #008000\">Fetching filings index from: </span><span style=\"color: #008000; text-decoration-color: #008000; text-decoration: underline\">https://data.sec.gov/submissions/CIK0000796343.json</span>\n",
       "</pre>\n"
      ],
      "text/plain": [
       "\u001b[32mFetching filings index from: \u001b[0m\u001b[4;32mhttps://data.sec.gov/submissions/CIK0000796343.json\u001b[0m\n"
      ]
     },
     "metadata": {},
     "output_type": "display_data"
    },
    {
     "data": {
      "text/html": [
       "<pre style=\"white-space:pre;overflow-x:auto;line-height:normal;font-family:Menlo,'DejaVu Sans Mono',consolas,'Courier New',monospace\"><span style=\"color: #008000; text-decoration-color: #008000\">Successfully fetched filings index for CIK </span><span style=\"color: #008000; text-decoration-color: #008000; font-weight: bold\">0000796343</span>\n",
       "</pre>\n"
      ],
      "text/plain": [
       "\u001b[32mSuccessfully fetched filings index for CIK \u001b[0m\u001b[1;32m0000796343\u001b[0m\n"
      ]
     },
     "metadata": {},
     "output_type": "display_data"
    },
    {
     "data": {
      "text/html": [
       "<pre style=\"white-space:pre;overflow-x:auto;line-height:normal;font-family:Menlo,'DejaVu Sans Mono',consolas,'Courier New',monospace\"><span style=\"color: #008000; text-decoration-color: #008000\">Found </span><span style=\"color: #008000; text-decoration-color: #008000; font-weight: bold\">5</span><span style=\"color: #008000; text-decoration-color: #008000\"> </span><span style=\"color: #008000; text-decoration-color: #008000; font-weight: bold\">10</span><span style=\"color: #008000; text-decoration-color: #008000\">-K filings for ADBE between </span><span style=\"color: #008000; text-decoration-color: #008000; font-weight: bold\">2020</span><span style=\"color: #008000; text-decoration-color: #008000\">-</span><span style=\"color: #008000; text-decoration-color: #008000; font-weight: bold\">2024</span>\n",
       "</pre>\n"
      ],
      "text/plain": [
       "\u001b[32mFound \u001b[0m\u001b[1;32m5\u001b[0m\u001b[32m \u001b[0m\u001b[1;32m10\u001b[0m\u001b[32m-K filings for ADBE between \u001b[0m\u001b[1;32m2020\u001b[0m\u001b[32m-\u001b[0m\u001b[1;32m2024\u001b[0m\n"
      ]
     },
     "metadata": {},
     "output_type": "display_data"
    },
    {
     "data": {
      "text/html": [
       "<pre style=\"white-space:pre;overflow-x:auto;line-height:normal;font-family:Menlo,'DejaVu Sans Mono',consolas,'Courier New',monospace\"><span style=\"color: #008000; text-decoration-color: #008000\">Searching for WDAY </span><span style=\"color: #008000; text-decoration-color: #008000; font-weight: bold\">(</span><span style=\"color: #008000; text-decoration-color: #008000\">CIK: </span><span style=\"color: #008000; text-decoration-color: #008000; font-weight: bold\">0001327811</span><span style=\"color: #008000; text-decoration-color: #008000; font-weight: bold\">)</span><span style=\"color: #008000; text-decoration-color: #008000\"> filings between </span><span style=\"color: #008000; text-decoration-color: #008000; font-weight: bold\">2020</span><span style=\"color: #008000; text-decoration-color: #008000\">-</span><span style=\"color: #008000; text-decoration-color: #008000; font-weight: bold\">2024</span>\n",
       "</pre>\n"
      ],
      "text/plain": [
       "\u001b[32mSearching for WDAY \u001b[0m\u001b[1;32m(\u001b[0m\u001b[32mCIK: \u001b[0m\u001b[1;32m0001327811\u001b[0m\u001b[1;32m)\u001b[0m\u001b[32m filings between \u001b[0m\u001b[1;32m2020\u001b[0m\u001b[32m-\u001b[0m\u001b[1;32m2024\u001b[0m\n"
      ]
     },
     "metadata": {},
     "output_type": "display_data"
    },
    {
     "data": {
      "text/html": [
       "<pre style=\"white-space:pre;overflow-x:auto;line-height:normal;font-family:Menlo,'DejaVu Sans Mono',consolas,'Courier New',monospace\"><span style=\"color: #008000; text-decoration-color: #008000\">Fetching filings index from: </span><span style=\"color: #008000; text-decoration-color: #008000; text-decoration: underline\">https://data.sec.gov/submissions/CIK0001327811.json</span>\n",
       "</pre>\n"
      ],
      "text/plain": [
       "\u001b[32mFetching filings index from: \u001b[0m\u001b[4;32mhttps://data.sec.gov/submissions/CIK0001327811.json\u001b[0m\n"
      ]
     },
     "metadata": {},
     "output_type": "display_data"
    },
    {
     "data": {
      "text/html": [
       "<pre style=\"white-space:pre;overflow-x:auto;line-height:normal;font-family:Menlo,'DejaVu Sans Mono',consolas,'Courier New',monospace\"><span style=\"color: #008000; text-decoration-color: #008000\">Successfully fetched filings index for CIK </span><span style=\"color: #008000; text-decoration-color: #008000; font-weight: bold\">0001327811</span>\n",
       "</pre>\n"
      ],
      "text/plain": [
       "\u001b[32mSuccessfully fetched filings index for CIK \u001b[0m\u001b[1;32m0001327811\u001b[0m\n"
      ]
     },
     "metadata": {},
     "output_type": "display_data"
    },
    {
     "data": {
      "text/html": [
       "<pre style=\"white-space:pre;overflow-x:auto;line-height:normal;font-family:Menlo,'DejaVu Sans Mono',consolas,'Courier New',monospace\"><span style=\"color: #008000; text-decoration-color: #008000\">Found </span><span style=\"color: #008000; text-decoration-color: #008000; font-weight: bold\">5</span><span style=\"color: #008000; text-decoration-color: #008000\"> </span><span style=\"color: #008000; text-decoration-color: #008000; font-weight: bold\">10</span><span style=\"color: #008000; text-decoration-color: #008000\">-K filings for WDAY between </span><span style=\"color: #008000; text-decoration-color: #008000; font-weight: bold\">2020</span><span style=\"color: #008000; text-decoration-color: #008000\">-</span><span style=\"color: #008000; text-decoration-color: #008000; font-weight: bold\">2024</span>\n",
       "</pre>\n"
      ],
      "text/plain": [
       "\u001b[32mFound \u001b[0m\u001b[1;32m5\u001b[0m\u001b[32m \u001b[0m\u001b[1;32m10\u001b[0m\u001b[32m-K filings for WDAY between \u001b[0m\u001b[1;32m2020\u001b[0m\u001b[32m-\u001b[0m\u001b[1;32m2024\u001b[0m\n"
      ]
     },
     "metadata": {},
     "output_type": "display_data"
    },
    {
     "data": {
      "text/html": [
       "<pre style=\"white-space:pre;overflow-x:auto;line-height:normal;font-family:Menlo,'DejaVu Sans Mono',consolas,'Courier New',monospace\"><span style=\"color: #008000; text-decoration-color: #008000\">Searching for ZM </span><span style=\"color: #008000; text-decoration-color: #008000; font-weight: bold\">(</span><span style=\"color: #008000; text-decoration-color: #008000\">CIK: </span><span style=\"color: #008000; text-decoration-color: #008000; font-weight: bold\">0001585521</span><span style=\"color: #008000; text-decoration-color: #008000; font-weight: bold\">)</span><span style=\"color: #008000; text-decoration-color: #008000\"> filings between </span><span style=\"color: #008000; text-decoration-color: #008000; font-weight: bold\">2020</span><span style=\"color: #008000; text-decoration-color: #008000\">-</span><span style=\"color: #008000; text-decoration-color: #008000; font-weight: bold\">2024</span>\n",
       "</pre>\n"
      ],
      "text/plain": [
       "\u001b[32mSearching for ZM \u001b[0m\u001b[1;32m(\u001b[0m\u001b[32mCIK: \u001b[0m\u001b[1;32m0001585521\u001b[0m\u001b[1;32m)\u001b[0m\u001b[32m filings between \u001b[0m\u001b[1;32m2020\u001b[0m\u001b[32m-\u001b[0m\u001b[1;32m2024\u001b[0m\n"
      ]
     },
     "metadata": {},
     "output_type": "display_data"
    },
    {
     "data": {
      "text/html": [
       "<pre style=\"white-space:pre;overflow-x:auto;line-height:normal;font-family:Menlo,'DejaVu Sans Mono',consolas,'Courier New',monospace\"><span style=\"color: #008000; text-decoration-color: #008000\">Fetching filings index from: </span><span style=\"color: #008000; text-decoration-color: #008000; text-decoration: underline\">https://data.sec.gov/submissions/CIK0001585521.json</span>\n",
       "</pre>\n"
      ],
      "text/plain": [
       "\u001b[32mFetching filings index from: \u001b[0m\u001b[4;32mhttps://data.sec.gov/submissions/CIK0001585521.json\u001b[0m\n"
      ]
     },
     "metadata": {},
     "output_type": "display_data"
    },
    {
     "data": {
      "text/html": [
       "<pre style=\"white-space:pre;overflow-x:auto;line-height:normal;font-family:Menlo,'DejaVu Sans Mono',consolas,'Courier New',monospace\"><span style=\"color: #008000; text-decoration-color: #008000\">Successfully fetched filings index for CIK </span><span style=\"color: #008000; text-decoration-color: #008000; font-weight: bold\">0001585521</span>\n",
       "</pre>\n"
      ],
      "text/plain": [
       "\u001b[32mSuccessfully fetched filings index for CIK \u001b[0m\u001b[1;32m0001585521\u001b[0m\n"
      ]
     },
     "metadata": {},
     "output_type": "display_data"
    },
    {
     "data": {
      "text/html": [
       "<pre style=\"white-space:pre;overflow-x:auto;line-height:normal;font-family:Menlo,'DejaVu Sans Mono',consolas,'Courier New',monospace\"><span style=\"color: #008000; text-decoration-color: #008000\">Found </span><span style=\"color: #008000; text-decoration-color: #008000; font-weight: bold\">5</span><span style=\"color: #008000; text-decoration-color: #008000\"> </span><span style=\"color: #008000; text-decoration-color: #008000; font-weight: bold\">10</span><span style=\"color: #008000; text-decoration-color: #008000\">-K filings for ZM between </span><span style=\"color: #008000; text-decoration-color: #008000; font-weight: bold\">2020</span><span style=\"color: #008000; text-decoration-color: #008000\">-</span><span style=\"color: #008000; text-decoration-color: #008000; font-weight: bold\">2024</span>\n",
       "</pre>\n"
      ],
      "text/plain": [
       "\u001b[32mFound \u001b[0m\u001b[1;32m5\u001b[0m\u001b[32m \u001b[0m\u001b[1;32m10\u001b[0m\u001b[32m-K filings for ZM between \u001b[0m\u001b[1;32m2020\u001b[0m\u001b[32m-\u001b[0m\u001b[1;32m2024\u001b[0m\n"
      ]
     },
     "metadata": {},
     "output_type": "display_data"
    },
    {
     "data": {
      "text/html": [
       "<pre style=\"white-space:pre;overflow-x:auto;line-height:normal;font-family:Menlo,'DejaVu Sans Mono',consolas,'Courier New',monospace\"><span style=\"color: #008000; text-decoration-color: #008000\">Searching for NOW </span><span style=\"color: #008000; text-decoration-color: #008000; font-weight: bold\">(</span><span style=\"color: #008000; text-decoration-color: #008000\">CIK: </span><span style=\"color: #008000; text-decoration-color: #008000; font-weight: bold\">0001373715</span><span style=\"color: #008000; text-decoration-color: #008000; font-weight: bold\">)</span><span style=\"color: #008000; text-decoration-color: #008000\"> filings between </span><span style=\"color: #008000; text-decoration-color: #008000; font-weight: bold\">2020</span><span style=\"color: #008000; text-decoration-color: #008000\">-</span><span style=\"color: #008000; text-decoration-color: #008000; font-weight: bold\">2024</span>\n",
       "</pre>\n"
      ],
      "text/plain": [
       "\u001b[32mSearching for NOW \u001b[0m\u001b[1;32m(\u001b[0m\u001b[32mCIK: \u001b[0m\u001b[1;32m0001373715\u001b[0m\u001b[1;32m)\u001b[0m\u001b[32m filings between \u001b[0m\u001b[1;32m2020\u001b[0m\u001b[32m-\u001b[0m\u001b[1;32m2024\u001b[0m\n"
      ]
     },
     "metadata": {},
     "output_type": "display_data"
    },
    {
     "data": {
      "text/html": [
       "<pre style=\"white-space:pre;overflow-x:auto;line-height:normal;font-family:Menlo,'DejaVu Sans Mono',consolas,'Courier New',monospace\"><span style=\"color: #008000; text-decoration-color: #008000\">Fetching filings index from: </span><span style=\"color: #008000; text-decoration-color: #008000; text-decoration: underline\">https://data.sec.gov/submissions/CIK0001373715.json</span>\n",
       "</pre>\n"
      ],
      "text/plain": [
       "\u001b[32mFetching filings index from: \u001b[0m\u001b[4;32mhttps://data.sec.gov/submissions/CIK0001373715.json\u001b[0m\n"
      ]
     },
     "metadata": {},
     "output_type": "display_data"
    },
    {
     "data": {
      "text/html": [
       "<pre style=\"white-space:pre;overflow-x:auto;line-height:normal;font-family:Menlo,'DejaVu Sans Mono',consolas,'Courier New',monospace\"><span style=\"color: #008000; text-decoration-color: #008000\">Successfully fetched filings index for CIK </span><span style=\"color: #008000; text-decoration-color: #008000; font-weight: bold\">0001373715</span>\n",
       "</pre>\n"
      ],
      "text/plain": [
       "\u001b[32mSuccessfully fetched filings index for CIK \u001b[0m\u001b[1;32m0001373715\u001b[0m\n"
      ]
     },
     "metadata": {},
     "output_type": "display_data"
    },
    {
     "data": {
      "text/html": [
       "<pre style=\"white-space:pre;overflow-x:auto;line-height:normal;font-family:Menlo,'DejaVu Sans Mono',consolas,'Courier New',monospace\"><span style=\"color: #008000; text-decoration-color: #008000\">Found </span><span style=\"color: #008000; text-decoration-color: #008000; font-weight: bold\">4</span><span style=\"color: #008000; text-decoration-color: #008000\"> </span><span style=\"color: #008000; text-decoration-color: #008000; font-weight: bold\">10</span><span style=\"color: #008000; text-decoration-color: #008000\">-K filings for NOW between </span><span style=\"color: #008000; text-decoration-color: #008000; font-weight: bold\">2020</span><span style=\"color: #008000; text-decoration-color: #008000\">-</span><span style=\"color: #008000; text-decoration-color: #008000; font-weight: bold\">2024</span>\n",
       "</pre>\n"
      ],
      "text/plain": [
       "\u001b[32mFound \u001b[0m\u001b[1;32m4\u001b[0m\u001b[32m \u001b[0m\u001b[1;32m10\u001b[0m\u001b[32m-K filings for NOW between \u001b[0m\u001b[1;32m2020\u001b[0m\u001b[32m-\u001b[0m\u001b[1;32m2024\u001b[0m\n"
      ]
     },
     "metadata": {},
     "output_type": "display_data"
    },
    {
     "data": {
      "text/html": [
       "<pre style=\"white-space:pre;overflow-x:auto;line-height:normal;font-family:Menlo,'DejaVu Sans Mono',consolas,'Courier New',monospace\"><span style=\"color: #008000; text-decoration-color: #008000\">Searching for NET </span><span style=\"color: #008000; text-decoration-color: #008000; font-weight: bold\">(</span><span style=\"color: #008000; text-decoration-color: #008000\">CIK: </span><span style=\"color: #008000; text-decoration-color: #008000; font-weight: bold\">0001477333</span><span style=\"color: #008000; text-decoration-color: #008000; font-weight: bold\">)</span><span style=\"color: #008000; text-decoration-color: #008000\"> filings between </span><span style=\"color: #008000; text-decoration-color: #008000; font-weight: bold\">2020</span><span style=\"color: #008000; text-decoration-color: #008000\">-</span><span style=\"color: #008000; text-decoration-color: #008000; font-weight: bold\">2024</span>\n",
       "</pre>\n"
      ],
      "text/plain": [
       "\u001b[32mSearching for NET \u001b[0m\u001b[1;32m(\u001b[0m\u001b[32mCIK: \u001b[0m\u001b[1;32m0001477333\u001b[0m\u001b[1;32m)\u001b[0m\u001b[32m filings between \u001b[0m\u001b[1;32m2020\u001b[0m\u001b[32m-\u001b[0m\u001b[1;32m2024\u001b[0m\n"
      ]
     },
     "metadata": {},
     "output_type": "display_data"
    },
    {
     "data": {
      "text/html": [
       "<pre style=\"white-space:pre;overflow-x:auto;line-height:normal;font-family:Menlo,'DejaVu Sans Mono',consolas,'Courier New',monospace\"><span style=\"color: #008000; text-decoration-color: #008000\">Fetching filings index from: </span><span style=\"color: #008000; text-decoration-color: #008000; text-decoration: underline\">https://data.sec.gov/submissions/CIK0001477333.json</span>\n",
       "</pre>\n"
      ],
      "text/plain": [
       "\u001b[32mFetching filings index from: \u001b[0m\u001b[4;32mhttps://data.sec.gov/submissions/CIK0001477333.json\u001b[0m\n"
      ]
     },
     "metadata": {},
     "output_type": "display_data"
    },
    {
     "data": {
      "text/html": [
       "<pre style=\"white-space:pre;overflow-x:auto;line-height:normal;font-family:Menlo,'DejaVu Sans Mono',consolas,'Courier New',monospace\"><span style=\"color: #008000; text-decoration-color: #008000\">Successfully fetched filings index for CIK </span><span style=\"color: #008000; text-decoration-color: #008000; font-weight: bold\">0001477333</span>\n",
       "</pre>\n"
      ],
      "text/plain": [
       "\u001b[32mSuccessfully fetched filings index for CIK \u001b[0m\u001b[1;32m0001477333\u001b[0m\n"
      ]
     },
     "metadata": {},
     "output_type": "display_data"
    },
    {
     "data": {
      "text/html": [
       "<pre style=\"white-space:pre;overflow-x:auto;line-height:normal;font-family:Menlo,'DejaVu Sans Mono',consolas,'Courier New',monospace\"><span style=\"color: #008000; text-decoration-color: #008000\">Found </span><span style=\"color: #008000; text-decoration-color: #008000; font-weight: bold\">5</span><span style=\"color: #008000; text-decoration-color: #008000\"> </span><span style=\"color: #008000; text-decoration-color: #008000; font-weight: bold\">10</span><span style=\"color: #008000; text-decoration-color: #008000\">-K filings for NET between </span><span style=\"color: #008000; text-decoration-color: #008000; font-weight: bold\">2020</span><span style=\"color: #008000; text-decoration-color: #008000\">-</span><span style=\"color: #008000; text-decoration-color: #008000; font-weight: bold\">2024</span>\n",
       "</pre>\n"
      ],
      "text/plain": [
       "\u001b[32mFound \u001b[0m\u001b[1;32m5\u001b[0m\u001b[32m \u001b[0m\u001b[1;32m10\u001b[0m\u001b[32m-K filings for NET between \u001b[0m\u001b[1;32m2020\u001b[0m\u001b[32m-\u001b[0m\u001b[1;32m2024\u001b[0m\n"
      ]
     },
     "metadata": {},
     "output_type": "display_data"
    },
    {
     "data": {
      "text/html": [
       "<pre style=\"white-space:pre;overflow-x:auto;line-height:normal;font-family:Menlo,'DejaVu Sans Mono',consolas,'Courier New',monospace\"><span style=\"color: #008000; text-decoration-color: #008000\">Searching for DDOG </span><span style=\"color: #008000; text-decoration-color: #008000; font-weight: bold\">(</span><span style=\"color: #008000; text-decoration-color: #008000\">CIK: </span><span style=\"color: #008000; text-decoration-color: #008000; font-weight: bold\">0001561550</span><span style=\"color: #008000; text-decoration-color: #008000; font-weight: bold\">)</span><span style=\"color: #008000; text-decoration-color: #008000\"> filings between </span><span style=\"color: #008000; text-decoration-color: #008000; font-weight: bold\">2020</span><span style=\"color: #008000; text-decoration-color: #008000\">-</span><span style=\"color: #008000; text-decoration-color: #008000; font-weight: bold\">2024</span>\n",
       "</pre>\n"
      ],
      "text/plain": [
       "\u001b[32mSearching for DDOG \u001b[0m\u001b[1;32m(\u001b[0m\u001b[32mCIK: \u001b[0m\u001b[1;32m0001561550\u001b[0m\u001b[1;32m)\u001b[0m\u001b[32m filings between \u001b[0m\u001b[1;32m2020\u001b[0m\u001b[32m-\u001b[0m\u001b[1;32m2024\u001b[0m\n"
      ]
     },
     "metadata": {},
     "output_type": "display_data"
    },
    {
     "data": {
      "text/html": [
       "<pre style=\"white-space:pre;overflow-x:auto;line-height:normal;font-family:Menlo,'DejaVu Sans Mono',consolas,'Courier New',monospace\"><span style=\"color: #008000; text-decoration-color: #008000\">Fetching filings index from: </span><span style=\"color: #008000; text-decoration-color: #008000; text-decoration: underline\">https://data.sec.gov/submissions/CIK0001561550.json</span>\n",
       "</pre>\n"
      ],
      "text/plain": [
       "\u001b[32mFetching filings index from: \u001b[0m\u001b[4;32mhttps://data.sec.gov/submissions/CIK0001561550.json\u001b[0m\n"
      ]
     },
     "metadata": {},
     "output_type": "display_data"
    },
    {
     "data": {
      "text/html": [
       "<pre style=\"white-space:pre;overflow-x:auto;line-height:normal;font-family:Menlo,'DejaVu Sans Mono',consolas,'Courier New',monospace\"><span style=\"color: #008000; text-decoration-color: #008000\">Successfully fetched filings index for CIK </span><span style=\"color: #008000; text-decoration-color: #008000; font-weight: bold\">0001561550</span>\n",
       "</pre>\n"
      ],
      "text/plain": [
       "\u001b[32mSuccessfully fetched filings index for CIK \u001b[0m\u001b[1;32m0001561550\u001b[0m\n"
      ]
     },
     "metadata": {},
     "output_type": "display_data"
    },
    {
     "data": {
      "text/html": [
       "<pre style=\"white-space:pre;overflow-x:auto;line-height:normal;font-family:Menlo,'DejaVu Sans Mono',consolas,'Courier New',monospace\"><span style=\"color: #008000; text-decoration-color: #008000\">Found </span><span style=\"color: #008000; text-decoration-color: #008000; font-weight: bold\">4</span><span style=\"color: #008000; text-decoration-color: #008000\"> </span><span style=\"color: #008000; text-decoration-color: #008000; font-weight: bold\">10</span><span style=\"color: #008000; text-decoration-color: #008000\">-K filings for DDOG between </span><span style=\"color: #008000; text-decoration-color: #008000; font-weight: bold\">2020</span><span style=\"color: #008000; text-decoration-color: #008000\">-</span><span style=\"color: #008000; text-decoration-color: #008000; font-weight: bold\">2024</span>\n",
       "</pre>\n"
      ],
      "text/plain": [
       "\u001b[32mFound \u001b[0m\u001b[1;32m4\u001b[0m\u001b[32m \u001b[0m\u001b[1;32m10\u001b[0m\u001b[32m-K filings for DDOG between \u001b[0m\u001b[1;32m2020\u001b[0m\u001b[32m-\u001b[0m\u001b[1;32m2024\u001b[0m\n"
      ]
     },
     "metadata": {},
     "output_type": "display_data"
    },
    {
     "data": {
      "text/html": [
       "<pre style=\"white-space:pre;overflow-x:auto;line-height:normal;font-family:Menlo,'DejaVu Sans Mono',consolas,'Courier New',monospace\"><span style=\"color: #008000; text-decoration-color: #008000\">Combined </span><span style=\"color: #008000; text-decoration-color: #008000; font-weight: bold\">63</span><span style=\"color: #008000; text-decoration-color: #008000\"> filings for universe </span><span style=\"color: #008000; text-decoration-color: #008000\">'Cloud Computing Giants'</span><span style=\"color: #008000; text-decoration-color: #008000\">.</span>\n",
       "</pre>\n"
      ],
      "text/plain": [
       "\u001b[32mCombined \u001b[0m\u001b[1;32m63\u001b[0m\u001b[32m filings for universe \u001b[0m\u001b[32m'Cloud Computing Giants'\u001b[0m\u001b[32m.\u001b[0m\n"
      ]
     },
     "metadata": {},
     "output_type": "display_data"
    },
    {
     "data": {
      "text/html": [
       "<pre style=\"white-space:pre;overflow-x:auto;line-height:normal;font-family:Menlo,'DejaVu Sans Mono',consolas,'Courier New',monospace\"><span style=\"color: #008000; text-decoration-color: #008000\">Successfully fetched </span><span style=\"color: #008000; text-decoration-color: #008000; font-weight: bold\">63</span><span style=\"color: #008000; text-decoration-color: #008000\"> filings from SEC.</span>\n",
       "</pre>\n"
      ],
      "text/plain": [
       "\u001b[32mSuccessfully fetched \u001b[0m\u001b[1;32m63\u001b[0m\u001b[32m filings from SEC.\u001b[0m\n"
      ]
     },
     "metadata": {},
     "output_type": "display_data"
    },
    {
     "data": {
      "text/html": [
       "<pre style=\"white-space:pre;overflow-x:auto;line-height:normal;font-family:Menlo,'DejaVu Sans Mono',consolas,'Courier New',monospace\"><span style=\"color: #008000; text-decoration-color: #008000\">Saved </span><span style=\"color: #008000; text-decoration-color: #008000; font-weight: bold\">63</span><span style=\"color: #008000; text-decoration-color: #008000\"> filings to /Users/forrest.murray/Documents/alphaledger/output/filings/Cloud Computing </span>\n",
       "<span style=\"color: #008000; text-decoration-color: #008000\">Giants/sec_filings_Cloud Computing Giants.parquet</span>\n",
       "</pre>\n"
      ],
      "text/plain": [
       "\u001b[32mSaved \u001b[0m\u001b[1;32m63\u001b[0m\u001b[32m filings to \u001b[0m\u001b[32m/Users/forrest.murray/Documents/alphaledger/output/filings/\u001b[0m\u001b[32mCloud\u001b[0m\u001b[32m Computing \u001b[0m\n",
       "\u001b[32mGiants/sec_filings_Cloud Computing Giants.parquet\u001b[0m\n"
      ]
     },
     "metadata": {},
     "output_type": "display_data"
    },
    {
     "data": {
      "text/html": [
       "<pre style=\"white-space:pre;overflow-x:auto;line-height:normal;font-family:Menlo,'DejaVu Sans Mono',consolas,'Courier New',monospace\"><span style=\"color: #008000; text-decoration-color: #008000\">Saved fetched filings to: /Users/forrest.murray/Documents/alphaledger/output/filings/Cloud Computing </span>\n",
       "<span style=\"color: #008000; text-decoration-color: #008000\">Giants/sec_filings_Cloud Computing Giants.parquet</span>\n",
       "</pre>\n"
      ],
      "text/plain": [
       "\u001b[32mSaved fetched filings to: \u001b[0m\u001b[32m/Users/forrest.murray/Documents/alphaledger/output/filings/\u001b[0m\u001b[32mCloud\u001b[0m\u001b[32m Computing \u001b[0m\n",
       "\u001b[32mGiants/sec_filings_Cloud Computing Giants.parquet\u001b[0m\n"
      ]
     },
     "metadata": {},
     "output_type": "display_data"
    }
   ],
   "source": [
    "universe = load_universe(settings.universe_name, start_year=2020, end_year=2024)"
   ]
  },
  {
   "cell_type": "code",
   "execution_count": 19,
   "metadata": {},
   "outputs": [],
   "source": [
    "filings_df = universe.get_filings()"
   ]
  },
  {
   "cell_type": "code",
   "execution_count": 17,
   "metadata": {},
   "outputs": [
    {
     "data": {
      "text/plain": [
       "{'ticker': shape: (5,)\n",
       " Series: 'ticker' [str]\n",
       " [\n",
       " \t\"AMZN\"\n",
       " \t\"AMZN\"\n",
       " \t\"AMZN\"\n",
       " \t\"AMZN\"\n",
       " \t\"AMZN\"\n",
       " ],\n",
       " 'cik': shape: (5,)\n",
       " Series: 'cik' [str]\n",
       " [\n",
       " \t\"0001018724\"\n",
       " \t\"0001018724\"\n",
       " \t\"0001018724\"\n",
       " \t\"0001018724\"\n",
       " \t\"0001018724\"\n",
       " ],\n",
       " 'form': shape: (5,)\n",
       " Series: 'form' [str]\n",
       " [\n",
       " \t\"10-K\"\n",
       " \t\"10-K\"\n",
       " \t\"10-K\"\n",
       " \t\"10-K\"\n",
       " \t\"10-K\"\n",
       " ],\n",
       " 'accessionNumber': shape: (5,)\n",
       " Series: 'accessionNumber' [str]\n",
       " [\n",
       " \t\"0001018724-24-000008\"\n",
       " \t\"0001018724-23-000004\"\n",
       " \t\"0001018724-22-000005\"\n",
       " \t\"0001018724-21-000004\"\n",
       " \t\"0001018724-20-000004\"\n",
       " ],\n",
       " 'filingDate': shape: (5,)\n",
       " Series: 'filingDate' [str]\n",
       " [\n",
       " \t\"2024-02-02\"\n",
       " \t\"2023-02-03\"\n",
       " \t\"2022-02-04\"\n",
       " \t\"2021-02-03\"\n",
       " \t\"2020-01-31\"\n",
       " ],\n",
       " 'filing_date_dt': shape: (5,)\n",
       " Series: 'filing_date_dt' [date]\n",
       " [\n",
       " \t2024-02-02\n",
       " \t2023-02-03\n",
       " \t2022-02-04\n",
       " \t2021-02-03\n",
       " \t2020-01-31\n",
       " ],\n",
       " 'filing_year': shape: (5,)\n",
       " Series: 'filing_year' [i64]\n",
       " [\n",
       " \t2024\n",
       " \t2023\n",
       " \t2022\n",
       " \t2021\n",
       " \t2020\n",
       " ],\n",
       " 'reportDate': shape: (5,)\n",
       " Series: 'reportDate' [str]\n",
       " [\n",
       " \t\"2023-12-31\"\n",
       " \t\"2022-12-31\"\n",
       " \t\"2021-12-31\"\n",
       " \t\"2020-12-31\"\n",
       " \t\"2019-12-31\"\n",
       " ],\n",
       " 'report_date_dt': shape: (5,)\n",
       " Series: 'report_date_dt' [date]\n",
       " [\n",
       " \t2023-12-31\n",
       " \t2022-12-31\n",
       " \t2021-12-31\n",
       " \t2020-12-31\n",
       " \t2019-12-31\n",
       " ],\n",
       " 'primaryDocument': shape: (5,)\n",
       " Series: 'primaryDocument' [str]\n",
       " [\n",
       " \t\"amzn-20231231.htm\"\n",
       " \t\"amzn-20221231.htm\"\n",
       " \t\"amzn-20211231.htm\"\n",
       " \t\"amzn-20201231.htm\"\n",
       " \t\"amzn-20191231x10k.htm\"\n",
       " ],\n",
       " 'primaryDocDescription': shape: (5,)\n",
       " Series: 'primaryDocDescription' [str]\n",
       " [\n",
       " \t\"10-K\"\n",
       " \t\"10-K\"\n",
       " \t\"10-K\"\n",
       " \t\"10-K\"\n",
       " \t\"10-K\"\n",
       " ],\n",
       " 'documents_url': shape: (5,)\n",
       " Series: 'documents_url' [str]\n",
       " [\n",
       " \t\"https://www.sec.gov/Archives/e…\n",
       " \t\"https://www.sec.gov/Archives/e…\n",
       " \t\"https://www.sec.gov/Archives/e…\n",
       " \t\"https://www.sec.gov/Archives/e…\n",
       " \t\"https://www.sec.gov/Archives/e…\n",
       " ],\n",
       " 'xbrl_instance_url': shape: (5,)\n",
       " Series: 'xbrl_instance_url' [str]\n",
       " [\n",
       " \t\"https://www.sec.gov/Archives/e…\n",
       " \t\"https://www.sec.gov/Archives/e…\n",
       " \t\"https://www.sec.gov/Archives/e…\n",
       " \t\"https://www.sec.gov/Archives/e…\n",
       " \t\"https://www.sec.gov/Archives/e…\n",
       " ],\n",
       " 'processed_datetime': shape: (5,)\n",
       " Series: 'processed_datetime' [datetime[μs]]\n",
       " [\n",
       " \t2025-04-04 17:00:20.992067\n",
       " \t2025-04-04 17:00:20.992067\n",
       " \t2025-04-04 17:00:20.992067\n",
       " \t2025-04-04 17:00:20.992067\n",
       " \t2025-04-04 17:00:20.992067\n",
       " ]}"
      ]
     },
     "execution_count": 17,
     "metadata": {},
     "output_type": "execute_result"
    }
   ],
   "source": [
    "filings_df.head().to_dict()\n"
   ]
  },
  {
   "cell_type": "code",
   "execution_count": 21,
   "metadata": {},
   "outputs": [
    {
     "data": {
      "text/html": [
       "<pre style=\"white-space:pre;overflow-x:auto;line-height:normal;font-family:Menlo,'DejaVu Sans Mono',consolas,'Courier New',monospace\"><span style=\"color: #008000; text-decoration-color: #008000\">Starting revenue time series collection for universe: Cloud Computing Giants</span>\n",
       "</pre>\n"
      ],
      "text/plain": [
       "\u001b[32mStarting revenue time series collection for universe: Cloud Computing Giants\u001b[0m\n"
      ]
     },
     "metadata": {},
     "output_type": "display_data"
    },
    {
     "data": {
      "text/html": [
       "<pre style=\"white-space:pre;overflow-x:auto;line-height:normal;font-family:Menlo,'DejaVu Sans Mono',consolas,'Courier New',monospace\"><span style=\"color: #008000; text-decoration-color: #008000\">Processing </span><span style=\"color: #008000; text-decoration-color: #008000; font-weight: bold\">63</span><span style=\"color: #008000; text-decoration-color: #008000\"> filings from the loaded universe data.</span>\n",
       "</pre>\n"
      ],
      "text/plain": [
       "\u001b[32mProcessing \u001b[0m\u001b[1;32m63\u001b[0m\u001b[32m filings from the loaded universe data.\u001b[0m\n"
      ]
     },
     "metadata": {},
     "output_type": "display_data"
    },
    {
     "data": {
      "text/html": [
       "<pre style=\"white-space:pre;overflow-x:auto;line-height:normal;font-family:Menlo,'DejaVu Sans Mono',consolas,'Courier New',monospace\"><span style=\"color: #008000; text-decoration-color: #008000; font-weight: bold\">200</span><span style=\"color: #008000; text-decoration-color: #008000\"> </span><span style=\"color: #008000; text-decoration-color: #008000; text-decoration: underline\">https://www.sec.gov/Archives/edgar/data/0001018724/000101872424000008/amzn-20231231.htm</span>\n",
       "</pre>\n"
      ],
      "text/plain": [
       "\u001b[1;32m200\u001b[0m\u001b[32m \u001b[0m\u001b[4;32mhttps://www.sec.gov/Archives/edgar/data/0001018724/000101872424000008/amzn-20231231.htm\u001b[0m\n"
      ]
     },
     "metadata": {},
     "output_type": "display_data"
    },
    {
     "data": {
      "text/html": [
       "<pre style=\"white-space:pre;overflow-x:auto;line-height:normal;font-family:Menlo,'DejaVu Sans Mono',consolas,'Courier New',monospace\"><span style=\"color: #008000; text-decoration-color: #008000; font-weight: bold\">200</span><span style=\"color: #008000; text-decoration-color: #008000\"> </span><span style=\"color: #008000; text-decoration-color: #008000; text-decoration: underline\">https://www.sec.gov/Archives/edgar/data/0001018724/000101872424000008/amzn-20231231.xsd</span>\n",
       "</pre>\n"
      ],
      "text/plain": [
       "\u001b[1;32m200\u001b[0m\u001b[32m \u001b[0m\u001b[4;32mhttps://www.sec.gov/Archives/edgar/data/0001018724/000101872424000008/amzn-20231231.xsd\u001b[0m\n"
      ]
     },
     "metadata": {},
     "output_type": "display_data"
    },
    {
     "data": {
      "text/html": [
       "<pre style=\"white-space:pre;overflow-x:auto;line-height:normal;font-family:Menlo,'DejaVu Sans Mono',consolas,'Courier New',monospace\"><span style=\"color: #008000; text-decoration-color: #008000; font-weight: bold\">200</span><span style=\"color: #008000; text-decoration-color: #008000\"> </span><span style=\"color: #008000; text-decoration-color: #008000; text-decoration: underline\">https://xbrl.fasb.org/srt/2023/elts/srt-2023.xsd</span>\n",
       "</pre>\n"
      ],
      "text/plain": [
       "\u001b[1;32m200\u001b[0m\u001b[32m \u001b[0m\u001b[4;32mhttps://xbrl.fasb.org/srt/2023/elts/srt-2023.xsd\u001b[0m\n"
      ]
     },
     "metadata": {},
     "output_type": "display_data"
    },
    {
     "data": {
      "text/html": [
       "<pre style=\"white-space:pre;overflow-x:auto;line-height:normal;font-family:Menlo,'DejaVu Sans Mono',consolas,'Courier New',monospace\"><span style=\"color: #008000; text-decoration-color: #008000; font-weight: bold\">200</span><span style=\"color: #008000; text-decoration-color: #008000\"> </span><span style=\"color: #008000; text-decoration-color: #008000; text-decoration: underline\">http://www.xbrl.org/2003/xbrl-instance-2003-12-31.xsd</span>\n",
       "</pre>\n"
      ],
      "text/plain": [
       "\u001b[1;32m200\u001b[0m\u001b[32m \u001b[0m\u001b[4;32mhttp://www.xbrl.org/2003/xbrl-instance-2003-12-31.xsd\u001b[0m\n"
      ]
     },
     "metadata": {},
     "output_type": "display_data"
    },
    {
     "data": {
      "text/html": [
       "<pre style=\"white-space:pre;overflow-x:auto;line-height:normal;font-family:Menlo,'DejaVu Sans Mono',consolas,'Courier New',monospace\"><span style=\"color: #008000; text-decoration-color: #008000; font-weight: bold\">200</span><span style=\"color: #008000; text-decoration-color: #008000\"> </span><span style=\"color: #008000; text-decoration-color: #008000; text-decoration: underline\">https://www.xbrl.org/dtr/type/2022-03-31/types.xsd</span>\n",
       "</pre>\n"
      ],
      "text/plain": [
       "\u001b[1;32m200\u001b[0m\u001b[32m \u001b[0m\u001b[4;32mhttps://www.xbrl.org/dtr/type/2022-03-31/types.xsd\u001b[0m\n"
      ]
     },
     "metadata": {},
     "output_type": "display_data"
    },
    {
     "data": {
      "text/html": [
       "<pre style=\"white-space:pre;overflow-x:auto;line-height:normal;font-family:Menlo,'DejaVu Sans Mono',consolas,'Courier New',monospace\"><span style=\"color: #008000; text-decoration-color: #008000; font-weight: bold\">200</span><span style=\"color: #008000; text-decoration-color: #008000\"> </span><span style=\"color: #008000; text-decoration-color: #008000; text-decoration: underline\">https://www.xbrl.org/2020/extensible-enumerations-2.0.xsd</span>\n",
       "</pre>\n"
      ],
      "text/plain": [
       "\u001b[1;32m200\u001b[0m\u001b[32m \u001b[0m\u001b[4;32mhttps://www.xbrl.org/2020/extensible-enumerations-2.0.xsd\u001b[0m\n"
      ]
     },
     "metadata": {},
     "output_type": "display_data"
    },
    {
     "data": {
      "text/html": [
       "<pre style=\"white-space:pre;overflow-x:auto;line-height:normal;font-family:Menlo,'DejaVu Sans Mono',consolas,'Courier New',monospace\"><span style=\"color: #008000; text-decoration-color: #008000; font-weight: bold\">200</span><span style=\"color: #008000; text-decoration-color: #008000\"> </span><span style=\"color: #008000; text-decoration-color: #008000; text-decoration: underline\">https://www.xbrl.org/dtr/type/2020-01-21/types.xsd</span>\n",
       "</pre>\n"
      ],
      "text/plain": [
       "\u001b[1;32m200\u001b[0m\u001b[32m \u001b[0m\u001b[4;32mhttps://www.xbrl.org/dtr/type/2020-01-21/types.xsd\u001b[0m\n"
      ]
     },
     "metadata": {},
     "output_type": "display_data"
    },
    {
     "data": {
      "text/html": [
       "<pre style=\"white-space:pre;overflow-x:auto;line-height:normal;font-family:Menlo,'DejaVu Sans Mono',consolas,'Courier New',monospace\"><span style=\"color: #008000; text-decoration-color: #008000; font-weight: bold\">200</span><span style=\"color: #008000; text-decoration-color: #008000\"> </span><span style=\"color: #008000; text-decoration-color: #008000; text-decoration: underline\">http://www.xbrl.org/2005/xbrldt-2005.xsd</span>\n",
       "</pre>\n"
      ],
      "text/plain": [
       "\u001b[1;32m200\u001b[0m\u001b[32m \u001b[0m\u001b[4;32mhttp://www.xbrl.org/2005/xbrldt-2005.xsd\u001b[0m\n"
      ]
     },
     "metadata": {},
     "output_type": "display_data"
    },
    {
     "data": {
      "text/html": [
       "<pre style=\"white-space:pre;overflow-x:auto;line-height:normal;font-family:Menlo,'DejaVu Sans Mono',consolas,'Courier New',monospace\"><span style=\"color: #008000; text-decoration-color: #008000; font-weight: bold\">200</span><span style=\"color: #008000; text-decoration-color: #008000\"> </span><span style=\"color: #008000; text-decoration-color: #008000; text-decoration: underline\">http://www.xbrl.org/2006/ref-2006-02-27.xsd</span>\n",
       "</pre>\n"
      ],
      "text/plain": [
       "\u001b[1;32m200\u001b[0m\u001b[32m \u001b[0m\u001b[4;32mhttp://www.xbrl.org/2006/ref-2006-02-27.xsd\u001b[0m\n"
      ]
     },
     "metadata": {},
     "output_type": "display_data"
    },
    {
     "data": {
      "text/html": [
       "<pre style=\"white-space:pre;overflow-x:auto;line-height:normal;font-family:Menlo,'DejaVu Sans Mono',consolas,'Courier New',monospace\"><span style=\"color: #008000; text-decoration-color: #008000; font-weight: bold\">200</span><span style=\"color: #008000; text-decoration-color: #008000\"> </span><span style=\"color: #008000; text-decoration-color: #008000; text-decoration: underline\">http://www.xbrl.org/2003/xbrl-linkbase-2003-12-31.xsd</span>\n",
       "</pre>\n"
      ],
      "text/plain": [
       "\u001b[1;32m200\u001b[0m\u001b[32m \u001b[0m\u001b[4;32mhttp://www.xbrl.org/2003/xbrl-linkbase-2003-12-31.xsd\u001b[0m\n"
      ]
     },
     "metadata": {},
     "output_type": "display_data"
    },
    {
     "data": {
      "text/html": [
       "<pre style=\"white-space:pre;overflow-x:auto;line-height:normal;font-family:Menlo,'DejaVu Sans Mono',consolas,'Courier New',monospace\"><span style=\"color: #008000; text-decoration-color: #008000; font-weight: bold\">200</span><span style=\"color: #008000; text-decoration-color: #008000\"> </span><span style=\"color: #008000; text-decoration-color: #008000; text-decoration: underline\">https://xbrl.sec.gov/country/2023/country-2023.xsd</span>\n",
       "</pre>\n"
      ],
      "text/plain": [
       "\u001b[1;32m200\u001b[0m\u001b[32m \u001b[0m\u001b[4;32mhttps://xbrl.sec.gov/country/2023/country-2023.xsd\u001b[0m\n"
      ]
     },
     "metadata": {},
     "output_type": "display_data"
    },
    {
     "data": {
      "text/html": [
       "<pre style=\"white-space:pre;overflow-x:auto;line-height:normal;font-family:Menlo,'DejaVu Sans Mono',consolas,'Courier New',monospace\"><span style=\"color: #008000; text-decoration-color: #008000; font-weight: bold\">200</span><span style=\"color: #008000; text-decoration-color: #008000\"> </span><span style=\"color: #008000; text-decoration-color: #008000; text-decoration: underline\">https://xbrl.fasb.org/us-gaap/2023/elts/us-gaap-2023.xsd</span>\n",
       "</pre>\n"
      ],
      "text/plain": [
       "\u001b[1;32m200\u001b[0m\u001b[32m \u001b[0m\u001b[4;32mhttps://xbrl.fasb.org/us-gaap/2023/elts/us-gaap-2023.xsd\u001b[0m\n"
      ]
     },
     "metadata": {},
     "output_type": "display_data"
    },
    {
     "data": {
      "text/html": [
       "<pre style=\"white-space:pre;overflow-x:auto;line-height:normal;font-family:Menlo,'DejaVu Sans Mono',consolas,'Courier New',monospace\"><span style=\"color: #008000; text-decoration-color: #008000; font-weight: bold\">200</span><span style=\"color: #008000; text-decoration-color: #008000\"> </span><span style=\"color: #008000; text-decoration-color: #008000; text-decoration: underline\">https://xbrl.fasb.org/srt/2023/elts/srt-types-2023.xsd</span>\n",
       "</pre>\n"
      ],
      "text/plain": [
       "\u001b[1;32m200\u001b[0m\u001b[32m \u001b[0m\u001b[4;32mhttps://xbrl.fasb.org/srt/2023/elts/srt-types-2023.xsd\u001b[0m\n"
      ]
     },
     "metadata": {},
     "output_type": "display_data"
    },
    {
     "data": {
      "text/html": [
       "<pre style=\"white-space:pre;overflow-x:auto;line-height:normal;font-family:Menlo,'DejaVu Sans Mono',consolas,'Courier New',monospace\"><span style=\"color: #008000; text-decoration-color: #008000; font-weight: bold\">200</span><span style=\"color: #008000; text-decoration-color: #008000\"> </span><span style=\"color: #008000; text-decoration-color: #008000; text-decoration: underline\">http://www.xbrl.org/2003/xlink-2003-12-31.xsd</span>\n",
       "</pre>\n"
      ],
      "text/plain": [
       "\u001b[1;32m200\u001b[0m\u001b[32m \u001b[0m\u001b[4;32mhttp://www.xbrl.org/2003/xlink-2003-12-31.xsd\u001b[0m\n"
      ]
     },
     "metadata": {},
     "output_type": "display_data"
    },
    {
     "data": {
      "text/html": [
       "<pre style=\"white-space:pre;overflow-x:auto;line-height:normal;font-family:Menlo,'DejaVu Sans Mono',consolas,'Courier New',monospace\"><span style=\"color: #008000; text-decoration-color: #008000; font-weight: bold\">200</span><span style=\"color: #008000; text-decoration-color: #008000\"> </span><span style=\"color: #008000; text-decoration-color: #008000; text-decoration: underline\">https://xbrl.sec.gov/dei/2023/dei-2023.xsd</span>\n",
       "</pre>\n"
      ],
      "text/plain": [
       "\u001b[1;32m200\u001b[0m\u001b[32m \u001b[0m\u001b[4;32mhttps://xbrl.sec.gov/dei/2023/dei-2023.xsd\u001b[0m\n"
      ]
     },
     "metadata": {},
     "output_type": "display_data"
    },
    {
     "data": {
      "text/html": [
       "<pre style=\"white-space:pre;overflow-x:auto;line-height:normal;font-family:Menlo,'DejaVu Sans Mono',consolas,'Courier New',monospace\"><span style=\"color: #008000; text-decoration-color: #008000; font-weight: bold\">200</span><span style=\"color: #008000; text-decoration-color: #008000\"> </span><span style=\"color: #008000; text-decoration-color: #008000; text-decoration: underline\">https://xbrl.sec.gov/ecd/2023/ecd-2023.xsd</span>\n",
       "</pre>\n"
      ],
      "text/plain": [
       "\u001b[1;32m200\u001b[0m\u001b[32m \u001b[0m\u001b[4;32mhttps://xbrl.sec.gov/ecd/2023/ecd-2023.xsd\u001b[0m\n"
      ]
     },
     "metadata": {},
     "output_type": "display_data"
    },
    {
     "data": {
      "text/html": [
       "<pre style=\"white-space:pre;overflow-x:auto;line-height:normal;font-family:Menlo,'DejaVu Sans Mono',consolas,'Courier New',monospace\"><span style=\"color: #008000; text-decoration-color: #008000; font-weight: bold\">200</span><span style=\"color: #008000; text-decoration-color: #008000\"> </span><span style=\"color: #008000; text-decoration-color: #008000; text-decoration: underline\">https://xbrl.fasb.org/srt/2023/elts/srt-roles-2023.xsd</span>\n",
       "</pre>\n"
      ],
      "text/plain": [
       "\u001b[1;32m200\u001b[0m\u001b[32m \u001b[0m\u001b[4;32mhttps://xbrl.fasb.org/srt/2023/elts/srt-roles-2023.xsd\u001b[0m\n"
      ]
     },
     "metadata": {},
     "output_type": "display_data"
    },
    {
     "data": {
      "text/html": [
       "<pre style=\"white-space:pre;overflow-x:auto;line-height:normal;font-family:Menlo,'DejaVu Sans Mono',consolas,'Courier New',monospace\"><span style=\"color: #008000; text-decoration-color: #008000; font-weight: bold\">200</span><span style=\"color: #008000; text-decoration-color: #008000\"> </span><span style=\"color: #008000; text-decoration-color: #008000; text-decoration: underline\">https://www.sec.gov/Archives/edgar/data/0001018724/000101872424000008/amzn-20231231_pre.xml</span>\n",
       "</pre>\n"
      ],
      "text/plain": [
       "\u001b[1;32m200\u001b[0m\u001b[32m \u001b[0m\u001b[4;32mhttps://www.sec.gov/Archives/edgar/data/0001018724/000101872424000008/amzn-20231231_pre.xml\u001b[0m\n"
      ]
     },
     "metadata": {},
     "output_type": "display_data"
    },
    {
     "data": {
      "text/html": [
       "<pre style=\"white-space:pre;overflow-x:auto;line-height:normal;font-family:Menlo,'DejaVu Sans Mono',consolas,'Courier New',monospace\"><span style=\"color: #008000; text-decoration-color: #008000; font-weight: bold\">200</span><span style=\"color: #008000; text-decoration-color: #008000\"> </span><span style=\"color: #008000; text-decoration-color: #008000; text-decoration: underline\">https://www.sec.gov/Archives/edgar/data/0001018724/000101872424000008/amzn-20231231_def.xml</span>\n",
       "</pre>\n"
      ],
      "text/plain": [
       "\u001b[1;32m200\u001b[0m\u001b[32m \u001b[0m\u001b[4;32mhttps://www.sec.gov/Archives/edgar/data/0001018724/000101872424000008/amzn-20231231_def.xml\u001b[0m\n"
      ]
     },
     "metadata": {},
     "output_type": "display_data"
    },
    {
     "data": {
      "text/html": [
       "<pre style=\"white-space:pre;overflow-x:auto;line-height:normal;font-family:Menlo,'DejaVu Sans Mono',consolas,'Courier New',monospace\"><span style=\"color: #008000; text-decoration-color: #008000; font-weight: bold\">200</span><span style=\"color: #008000; text-decoration-color: #008000\"> </span><span style=\"color: #008000; text-decoration-color: #008000; text-decoration: underline\">https://www.sec.gov/Archives/edgar/data/0001018724/000101872424000008/amzn-20231231_lab.xml</span>\n",
       "</pre>\n"
      ],
      "text/plain": [
       "\u001b[1;32m200\u001b[0m\u001b[32m \u001b[0m\u001b[4;32mhttps://www.sec.gov/Archives/edgar/data/0001018724/000101872424000008/amzn-20231231_lab.xml\u001b[0m\n"
      ]
     },
     "metadata": {},
     "output_type": "display_data"
    },
    {
     "data": {
      "text/html": [
       "<pre style=\"white-space:pre;overflow-x:auto;line-height:normal;font-family:Menlo,'DejaVu Sans Mono',consolas,'Courier New',monospace\"><span style=\"color: #008000; text-decoration-color: #008000; font-weight: bold\">200</span><span style=\"color: #008000; text-decoration-color: #008000\"> </span><span style=\"color: #008000; text-decoration-color: #008000; text-decoration: underline\">https://www.sec.gov/Archives/edgar/data/0001018724/000101872424000008/amzn-20231231_cal.xml</span>\n",
       "</pre>\n"
      ],
      "text/plain": [
       "\u001b[1;32m200\u001b[0m\u001b[32m \u001b[0m\u001b[4;32mhttps://www.sec.gov/Archives/edgar/data/0001018724/000101872424000008/amzn-20231231_cal.xml\u001b[0m\n"
      ]
     },
     "metadata": {},
     "output_type": "display_data"
    },
    {
     "data": {
      "text/html": [
       "<pre style=\"white-space:pre;overflow-x:auto;line-height:normal;font-family:Menlo,'DejaVu Sans Mono',consolas,'Courier New',monospace\"><span style=\"color: #008000; text-decoration-color: #008000\">Transformation rule durday of registry ixt-sec is not supported. The parser will just parse the value as it is and </span>\n",
       "<span style=\"color: #008000; text-decoration-color: #008000\">not transform it according to the rule.</span>\n",
       "</pre>\n"
      ],
      "text/plain": [
       "\u001b[32mTransformation rule durday of registry ixt-sec is not supported. The parser will just parse the value as it is and \u001b[0m\n",
       "\u001b[32mnot transform it according to the rule.\u001b[0m\n"
      ]
     },
     "metadata": {},
     "output_type": "display_data"
    },
    {
     "data": {
      "text/html": [
       "<pre style=\"white-space:pre;overflow-x:auto;line-height:normal;font-family:Menlo,'DejaVu Sans Mono',consolas,'Courier New',monospace\"><span style=\"color: #008000; text-decoration-color: #008000\">Transformation rule durday of registry ixt-sec is not supported. The parser will just parse the value as it is and </span>\n",
       "<span style=\"color: #008000; text-decoration-color: #008000\">not transform it according to the rule.</span>\n",
       "</pre>\n"
      ],
      "text/plain": [
       "\u001b[32mTransformation rule durday of registry ixt-sec is not supported. The parser will just parse the value as it is and \u001b[0m\n",
       "\u001b[32mnot transform it according to the rule.\u001b[0m\n"
      ]
     },
     "metadata": {},
     "output_type": "display_data"
    },
    {
     "data": {
      "text/html": [
       "<pre style=\"white-space:pre;overflow-x:auto;line-height:normal;font-family:Menlo,'DejaVu Sans Mono',consolas,'Courier New',monospace\"><span style=\"color: #800000; text-decoration-color: #800000\">Error processing XBRL: </span><span style=\"color: #800000; text-decoration-color: #800000\">'Concept'</span><span style=\"color: #800000; text-decoration-color: #800000\"> object has no attribute </span><span style=\"color: #800000; text-decoration-color: #800000\">'prefix'</span>\n",
       "</pre>\n"
      ],
      "text/plain": [
       "\u001b[31mError processing XBRL: \u001b[0m\u001b[31m'Concept'\u001b[0m\u001b[31m object has no attribute \u001b[0m\u001b[31m'prefix'\u001b[0m\n"
      ]
     },
     "metadata": {},
     "output_type": "display_data"
    },
    {
     "data": {
      "text/html": [
       "<pre style=\"white-space:pre;overflow-x:auto;line-height:normal;font-family:Menlo,'DejaVu Sans Mono',consolas,'Courier New',monospace\"><span style=\"color: #808000; text-decoration-color: #808000\">Could not find valid revenue metric in AMZN filing </span><span style=\"color: #808000; text-decoration-color: #808000; font-weight: bold\">0001018724</span><span style=\"color: #808000; text-decoration-color: #808000\">-</span><span style=\"color: #808000; text-decoration-color: #808000; font-weight: bold\">24</span><span style=\"color: #808000; text-decoration-color: #808000\">-</span><span style=\"color: #808000; text-decoration-color: #808000; font-weight: bold\">000008</span><span style=\"color: #808000; text-decoration-color: #808000\"> using URL </span>\n",
       "<span style=\"color: #808000; text-decoration-color: #808000; text-decoration: underline\">https://www.sec.gov/Archives/edgar/data/0001018724/000101872424000008/amzn-20231231.htm.</span>\n",
       "</pre>\n"
      ],
      "text/plain": [
       "\u001b[33mCould not find valid revenue metric in AMZN filing \u001b[0m\u001b[1;33m0001018724\u001b[0m\u001b[33m-\u001b[0m\u001b[1;33m24\u001b[0m\u001b[33m-\u001b[0m\u001b[1;33m000008\u001b[0m\u001b[33m using URL \u001b[0m\n",
       "\u001b[4;33mhttps://www.sec.gov/Archives/edgar/data/0001018724/000101872424000008/amzn-20231231.htm.\u001b[0m\n"
      ]
     },
     "metadata": {},
     "output_type": "display_data"
    },
    {
     "data": {
      "text/html": [
       "<pre style=\"white-space:pre;overflow-x:auto;line-height:normal;font-family:Menlo,'DejaVu Sans Mono',consolas,'Courier New',monospace\"><span style=\"color: #008000; text-decoration-color: #008000; font-weight: bold\">200</span><span style=\"color: #008000; text-decoration-color: #008000\"> </span><span style=\"color: #008000; text-decoration-color: #008000; text-decoration: underline\">https://www.sec.gov/Archives/edgar/data/0001018724/000101872423000004/amzn-20221231.htm</span>\n",
       "</pre>\n"
      ],
      "text/plain": [
       "\u001b[1;32m200\u001b[0m\u001b[32m \u001b[0m\u001b[4;32mhttps://www.sec.gov/Archives/edgar/data/0001018724/000101872423000004/amzn-20221231.htm\u001b[0m\n"
      ]
     },
     "metadata": {},
     "output_type": "display_data"
    },
    {
     "data": {
      "text/html": [
       "<pre style=\"white-space:pre;overflow-x:auto;line-height:normal;font-family:Menlo,'DejaVu Sans Mono',consolas,'Courier New',monospace\"><span style=\"color: #008000; text-decoration-color: #008000; font-weight: bold\">200</span><span style=\"color: #008000; text-decoration-color: #008000\"> </span><span style=\"color: #008000; text-decoration-color: #008000; text-decoration: underline\">https://www.sec.gov/Archives/edgar/data/0001018724/000101872423000004/amzn-20221231.xsd</span>\n",
       "</pre>\n"
      ],
      "text/plain": [
       "\u001b[1;32m200\u001b[0m\u001b[32m \u001b[0m\u001b[4;32mhttps://www.sec.gov/Archives/edgar/data/0001018724/000101872423000004/amzn-20221231.xsd\u001b[0m\n"
      ]
     },
     "metadata": {},
     "output_type": "display_data"
    },
    {
     "data": {
      "text/html": [
       "<pre style=\"white-space:pre;overflow-x:auto;line-height:normal;font-family:Menlo,'DejaVu Sans Mono',consolas,'Courier New',monospace\"><span style=\"color: #008000; text-decoration-color: #008000; font-weight: bold\">200</span><span style=\"color: #008000; text-decoration-color: #008000\"> </span><span style=\"color: #008000; text-decoration-color: #008000; text-decoration: underline\">https://xbrl.fasb.org/srt/2022/elts/srt-2022.xsd</span>\n",
       "</pre>\n"
      ],
      "text/plain": [
       "\u001b[1;32m200\u001b[0m\u001b[32m \u001b[0m\u001b[4;32mhttps://xbrl.fasb.org/srt/2022/elts/srt-2022.xsd\u001b[0m\n"
      ]
     },
     "metadata": {},
     "output_type": "display_data"
    },
    {
     "data": {
      "text/html": [
       "<pre style=\"white-space:pre;overflow-x:auto;line-height:normal;font-family:Menlo,'DejaVu Sans Mono',consolas,'Courier New',monospace\"><span style=\"color: #008000; text-decoration-color: #008000; font-weight: bold\">200</span><span style=\"color: #008000; text-decoration-color: #008000\"> </span><span style=\"color: #008000; text-decoration-color: #008000; text-decoration: underline\">http://www.xbrl.org/2003/xbrl-instance-2003-12-31.xsd</span>\n",
       "</pre>\n"
      ],
      "text/plain": [
       "\u001b[1;32m200\u001b[0m\u001b[32m \u001b[0m\u001b[4;32mhttp://www.xbrl.org/2003/xbrl-instance-2003-12-31.xsd\u001b[0m\n"
      ]
     },
     "metadata": {},
     "output_type": "display_data"
    },
    {
     "data": {
      "text/html": [
       "<pre style=\"white-space:pre;overflow-x:auto;line-height:normal;font-family:Menlo,'DejaVu Sans Mono',consolas,'Courier New',monospace\"><span style=\"color: #008000; text-decoration-color: #008000; font-weight: bold\">200</span><span style=\"color: #008000; text-decoration-color: #008000\"> </span><span style=\"color: #008000; text-decoration-color: #008000; text-decoration: underline\">https://www.xbrl.org/dtr/type/2020-01-21/types.xsd</span>\n",
       "</pre>\n"
      ],
      "text/plain": [
       "\u001b[1;32m200\u001b[0m\u001b[32m \u001b[0m\u001b[4;32mhttps://www.xbrl.org/dtr/type/2020-01-21/types.xsd\u001b[0m\n"
      ]
     },
     "metadata": {},
     "output_type": "display_data"
    },
    {
     "data": {
      "text/html": [
       "<pre style=\"white-space:pre;overflow-x:auto;line-height:normal;font-family:Menlo,'DejaVu Sans Mono',consolas,'Courier New',monospace\"><span style=\"color: #008000; text-decoration-color: #008000; font-weight: bold\">200</span><span style=\"color: #008000; text-decoration-color: #008000\"> </span><span style=\"color: #008000; text-decoration-color: #008000; text-decoration: underline\">https://www.xbrl.org/2020/extensible-enumerations-2.0.xsd</span>\n",
       "</pre>\n"
      ],
      "text/plain": [
       "\u001b[1;32m200\u001b[0m\u001b[32m \u001b[0m\u001b[4;32mhttps://www.xbrl.org/2020/extensible-enumerations-2.0.xsd\u001b[0m\n"
      ]
     },
     "metadata": {},
     "output_type": "display_data"
    },
    {
     "ename": "KeyboardInterrupt",
     "evalue": "",
     "output_type": "error",
     "traceback": [
      "\u001b[31m---------------------------------------------------------------------------\u001b[39m",
      "\u001b[31mKeyboardInterrupt\u001b[39m                         Traceback (most recent call last)",
      "\u001b[36mCell\u001b[39m\u001b[36m \u001b[39m\u001b[32mIn[21]\u001b[39m\u001b[32m, line 2\u001b[39m\n\u001b[32m      1\u001b[39m \u001b[38;5;28;01mfrom\u001b[39;00m\u001b[38;5;250m \u001b[39m\u001b[34;01malphaledger\u001b[39;00m\u001b[34;01m.\u001b[39;00m\u001b[34;01mmetrics\u001b[39;00m\u001b[38;5;250m \u001b[39m\u001b[38;5;28;01mimport\u001b[39;00m get_revenue_time_series\n\u001b[32m----> \u001b[39m\u001b[32m2\u001b[39m revenue_df = \u001b[43mget_revenue_time_series\u001b[49m\u001b[43m(\u001b[49m\u001b[43muniverse\u001b[49m\u001b[43m)\u001b[49m\n\u001b[32m      3\u001b[39m revenue_df.head()\n",
      "\u001b[36mFile \u001b[39m\u001b[32m~/Documents/alphaledger/src/alphaledger/metrics.py:112\u001b[39m, in \u001b[36mget_revenue_time_series\u001b[39m\u001b[34m(universe)\u001b[39m\n\u001b[32m    110\u001b[39m options = ProcessingOptions.PRIMARY_FINANCIALS\n\u001b[32m    111\u001b[39m \u001b[38;5;66;03m# Pass the URL from the filings DataFrame\u001b[39;00m\n\u001b[32m--> \u001b[39m\u001b[32m112\u001b[39m metrics = \u001b[43mextract_financial_metrics\u001b[49m\u001b[43m(\u001b[49m\u001b[43mxbrl_instance_url\u001b[49m\u001b[43m,\u001b[49m\u001b[43m \u001b[49m\u001b[43moptions\u001b[49m\u001b[43m)\u001b[49m\n\u001b[32m    114\u001b[39m revenue_tags_to_check = [\n\u001b[32m    115\u001b[39m     \u001b[33m\"\u001b[39m\u001b[33mRevenueFromContractWithCustomerExcludingAssessedTax\u001b[39m\u001b[33m\"\u001b[39m,\n\u001b[32m    116\u001b[39m     \u001b[33m\"\u001b[39m\u001b[33mRevenues\u001b[39m\u001b[33m\"\u001b[39m,\n\u001b[32m    117\u001b[39m     \u001b[33m\"\u001b[39m\u001b[33mRevenue\u001b[39m\u001b[33m\"\u001b[39m,\n\u001b[32m    118\u001b[39m ]\n\u001b[32m    119\u001b[39m revenue_data = \u001b[38;5;28;01mNone\u001b[39;00m\n",
      "\u001b[36mFile \u001b[39m\u001b[32m<string>:29\u001b[39m, in \u001b[36mextract_financial_metrics\u001b[39m\u001b[34m(raw_filing, options)\u001b[39m\n",
      "\u001b[36mFile \u001b[39m\u001b[32m~/Documents/alphaledger/.venv/lib/python3.11/site-packages/xbrl/instance.py:811\u001b[39m, in \u001b[36mXbrlParser.parse_instance\u001b[39m\u001b[34m(self, uri, instance_url, encoding)\u001b[39m\n\u001b[32m    809\u001b[39m \u001b[38;5;28;01mif\u001b[39;00m uri.split(\u001b[33m'\u001b[39m\u001b[33m.\u001b[39m\u001b[33m'\u001b[39m)[-\u001b[32m1\u001b[39m] == \u001b[33m'\u001b[39m\u001b[33mxml\u001b[39m\u001b[33m'\u001b[39m \u001b[38;5;129;01mor\u001b[39;00m uri.split(\u001b[33m'\u001b[39m\u001b[33m.\u001b[39m\u001b[33m'\u001b[39m)[-\u001b[32m1\u001b[39m] == \u001b[33m'\u001b[39m\u001b[33mxbrl\u001b[39m\u001b[33m'\u001b[39m:\n\u001b[32m    810\u001b[39m     \u001b[38;5;28;01mreturn\u001b[39;00m parse_xbrl_url(uri, \u001b[38;5;28mself\u001b[39m.cache) \u001b[38;5;28;01mif\u001b[39;00m is_url(uri) \u001b[38;5;28;01melse\u001b[39;00m parse_xbrl(uri, \u001b[38;5;28mself\u001b[39m.cache, instance_url)\n\u001b[32m--> \u001b[39m\u001b[32m811\u001b[39m \u001b[38;5;28;01mreturn\u001b[39;00m \u001b[43mparse_ixbrl_url\u001b[49m\u001b[43m(\u001b[49m\u001b[43muri\u001b[49m\u001b[43m,\u001b[49m\u001b[43m \u001b[49m\u001b[38;5;28;43mself\u001b[39;49m\u001b[43m.\u001b[49m\u001b[43mcache\u001b[49m\u001b[43m)\u001b[49m \u001b[38;5;28;01mif\u001b[39;00m is_url(uri) \u001b[38;5;28;01melse\u001b[39;00m parse_ixbrl(uri, \u001b[38;5;28mself\u001b[39m.cache, instance_url, encoding)\n",
      "\u001b[36mFile \u001b[39m\u001b[32m~/Documents/alphaledger/.venv/lib/python3.11/site-packages/xbrl/instance.py:481\u001b[39m, in \u001b[36mparse_ixbrl_url\u001b[39m\u001b[34m(instance_url, cache, encoding)\u001b[39m\n\u001b[32m    472\u001b[39m \u001b[38;5;250m\u001b[39m\u001b[33;03m\"\"\"\u001b[39;00m\n\u001b[32m    473\u001b[39m \u001b[33;03mParses a inline XBRL (iXBRL) instance file.\u001b[39;00m\n\u001b[32m    474\u001b[39m \n\u001b[32m   (...)\u001b[39m\u001b[32m    478\u001b[39m \u001b[33;03m:return: parsed XbrlInstance object containing all facts with additional information\u001b[39;00m\n\u001b[32m    479\u001b[39m \u001b[33;03m\"\"\"\u001b[39;00m\n\u001b[32m    480\u001b[39m instance_path: \u001b[38;5;28mstr\u001b[39m = cache.cache_file(instance_url)\n\u001b[32m--> \u001b[39m\u001b[32m481\u001b[39m \u001b[38;5;28;01mreturn\u001b[39;00m \u001b[43mparse_ixbrl\u001b[49m\u001b[43m(\u001b[49m\u001b[43minstance_path\u001b[49m\u001b[43m,\u001b[49m\u001b[43m \u001b[49m\u001b[43mcache\u001b[49m\u001b[43m,\u001b[49m\u001b[43m \u001b[49m\u001b[43minstance_url\u001b[49m\u001b[43m,\u001b[49m\u001b[43m \u001b[49m\u001b[43mencoding\u001b[49m\u001b[43m)\u001b[49m\n",
      "\u001b[36mFile \u001b[39m\u001b[32m~/Documents/alphaledger/.venv/lib/python3.11/site-packages/xbrl/instance.py:529\u001b[39m, in \u001b[36mparse_ixbrl\u001b[39m\u001b[34m(instance_path, cache, instance_url, encoding, schema_root)\u001b[39m\n\u001b[32m    526\u001b[39m \u001b[38;5;28;01melif\u001b[39;00m instance_url:\n\u001b[32m    527\u001b[39m     \u001b[38;5;66;03m# fetch the taxonomy extension schema from remote by reconstructing the url\u001b[39;00m\n\u001b[32m    528\u001b[39m     schema_url = resolve_uri(instance_url, schema_uri)\n\u001b[32m--> \u001b[39m\u001b[32m529\u001b[39m     taxonomy: TaxonomySchema = \u001b[43mparse_taxonomy_url\u001b[49m\u001b[43m(\u001b[49m\u001b[43mschema_url\u001b[49m\u001b[43m,\u001b[49m\u001b[43m \u001b[49m\u001b[43mcache\u001b[49m\u001b[43m)\u001b[49m\n\u001b[32m    530\u001b[39m \u001b[38;5;28;01melse\u001b[39;00m:\n\u001b[32m    531\u001b[39m     \u001b[38;5;66;03m# try to find the taxonomy extension schema file locally because no full url can be constructed\u001b[39;00m\n\u001b[32m    532\u001b[39m     schema_path = resolve_uri(instance_path, schema_uri)\n",
      "\u001b[36mFile \u001b[39m\u001b[32m~/Documents/alphaledger/.venv/lib/python3.11/site-packages/xbrl/taxonomy.py:630\u001b[39m, in \u001b[36mparse_taxonomy_url\u001b[39m\u001b[34m(schema_url, cache, imported_schema_uris)\u001b[39m\n\u001b[32m    627\u001b[39m \u001b[38;5;28;01mif\u001b[39;00m \u001b[38;5;129;01mnot\u001b[39;00m is_url(schema_url): \u001b[38;5;28;01mraise\u001b[39;00m XbrlParseException(\u001b[33m'\u001b[39m\u001b[33mThis function only parses remotely saved taxonomies. \u001b[39m\u001b[33m'\u001b[39m\n\u001b[32m    628\u001b[39m                                                     \u001b[33m'\u001b[39m\u001b[33mPlease use parse_taxonomy to parse local taxonomy schemas\u001b[39m\u001b[33m'\u001b[39m)\n\u001b[32m    629\u001b[39m schema_path: \u001b[38;5;28mstr\u001b[39m = cache.cache_file(schema_url)\n\u001b[32m--> \u001b[39m\u001b[32m630\u001b[39m \u001b[38;5;28;01mreturn\u001b[39;00m \u001b[43mparse_taxonomy\u001b[49m\u001b[43m(\u001b[49m\u001b[43mschema_path\u001b[49m\u001b[43m,\u001b[49m\u001b[43m \u001b[49m\u001b[43mcache\u001b[49m\u001b[43m,\u001b[49m\u001b[43m \u001b[49m\u001b[43mimported_schema_uris\u001b[49m\u001b[43m,\u001b[49m\u001b[43m \u001b[49m\u001b[43mschema_url\u001b[49m\u001b[43m)\u001b[49m\n",
      "\u001b[36mFile \u001b[39m\u001b[32m~/Documents/alphaledger/.venv/lib/python3.11/site-packages/xbrl/taxonomy.py:672\u001b[39m, in \u001b[36mparse_taxonomy\u001b[39m\u001b[34m(schema_path, cache, imported_schema_uris, schema_url)\u001b[39m\n\u001b[32m    669\u001b[39m \u001b[38;5;66;03m# sometimes the import schema location is relative. i.e schemaLocation=\"xbrl-linkbase-2003-12-31.xsd\"\u001b[39;00m\n\u001b[32m    670\u001b[39m \u001b[38;5;28;01mif\u001b[39;00m is_url(import_uri):\n\u001b[32m    671\u001b[39m     \u001b[38;5;66;03m# fetch the schema file from remote\u001b[39;00m\n\u001b[32m--> \u001b[39m\u001b[32m672\u001b[39m     taxonomy.imports.append(\u001b[43mparse_taxonomy_url\u001b[49m\u001b[43m(\u001b[49m\u001b[43mimport_uri\u001b[49m\u001b[43m,\u001b[49m\u001b[43m \u001b[49m\u001b[43mcache\u001b[49m\u001b[43m)\u001b[49m)\n\u001b[32m    673\u001b[39m \u001b[38;5;28;01melif\u001b[39;00m schema_url:\n\u001b[32m    674\u001b[39m     \u001b[38;5;66;03m# fetch the schema file from remote by reconstructing the full url\u001b[39;00m\n\u001b[32m    675\u001b[39m     import_url = resolve_uri(schema_url, import_uri)\n",
      "\u001b[36mFile \u001b[39m\u001b[32m~/Documents/alphaledger/.venv/lib/python3.11/site-packages/xbrl/taxonomy.py:630\u001b[39m, in \u001b[36mparse_taxonomy_url\u001b[39m\u001b[34m(schema_url, cache, imported_schema_uris)\u001b[39m\n\u001b[32m    627\u001b[39m \u001b[38;5;28;01mif\u001b[39;00m \u001b[38;5;129;01mnot\u001b[39;00m is_url(schema_url): \u001b[38;5;28;01mraise\u001b[39;00m XbrlParseException(\u001b[33m'\u001b[39m\u001b[33mThis function only parses remotely saved taxonomies. \u001b[39m\u001b[33m'\u001b[39m\n\u001b[32m    628\u001b[39m                                                     \u001b[33m'\u001b[39m\u001b[33mPlease use parse_taxonomy to parse local taxonomy schemas\u001b[39m\u001b[33m'\u001b[39m)\n\u001b[32m    629\u001b[39m schema_path: \u001b[38;5;28mstr\u001b[39m = cache.cache_file(schema_url)\n\u001b[32m--> \u001b[39m\u001b[32m630\u001b[39m \u001b[38;5;28;01mreturn\u001b[39;00m \u001b[43mparse_taxonomy\u001b[49m\u001b[43m(\u001b[49m\u001b[43mschema_path\u001b[49m\u001b[43m,\u001b[49m\u001b[43m \u001b[49m\u001b[43mcache\u001b[49m\u001b[43m,\u001b[49m\u001b[43m \u001b[49m\u001b[43mimported_schema_uris\u001b[49m\u001b[43m,\u001b[49m\u001b[43m \u001b[49m\u001b[43mschema_url\u001b[49m\u001b[43m)\u001b[49m\n",
      "\u001b[36mFile \u001b[39m\u001b[32m~/Documents/alphaledger/.venv/lib/python3.11/site-packages/xbrl/taxonomy.py:672\u001b[39m, in \u001b[36mparse_taxonomy\u001b[39m\u001b[34m(schema_path, cache, imported_schema_uris, schema_url)\u001b[39m\n\u001b[32m    669\u001b[39m \u001b[38;5;66;03m# sometimes the import schema location is relative. i.e schemaLocation=\"xbrl-linkbase-2003-12-31.xsd\"\u001b[39;00m\n\u001b[32m    670\u001b[39m \u001b[38;5;28;01mif\u001b[39;00m is_url(import_uri):\n\u001b[32m    671\u001b[39m     \u001b[38;5;66;03m# fetch the schema file from remote\u001b[39;00m\n\u001b[32m--> \u001b[39m\u001b[32m672\u001b[39m     taxonomy.imports.append(\u001b[43mparse_taxonomy_url\u001b[49m\u001b[43m(\u001b[49m\u001b[43mimport_uri\u001b[49m\u001b[43m,\u001b[49m\u001b[43m \u001b[49m\u001b[43mcache\u001b[49m\u001b[43m)\u001b[49m)\n\u001b[32m    673\u001b[39m \u001b[38;5;28;01melif\u001b[39;00m schema_url:\n\u001b[32m    674\u001b[39m     \u001b[38;5;66;03m# fetch the schema file from remote by reconstructing the full url\u001b[39;00m\n\u001b[32m    675\u001b[39m     import_url = resolve_uri(schema_url, import_uri)\n",
      "\u001b[36mFile \u001b[39m\u001b[32m~/Documents/alphaledger/.venv/lib/python3.11/site-packages/xbrl/taxonomy.py:629\u001b[39m, in \u001b[36mparse_taxonomy_url\u001b[39m\u001b[34m(schema_url, cache, imported_schema_uris)\u001b[39m\n\u001b[32m    619\u001b[39m \u001b[38;5;250m\u001b[39m\u001b[33;03m\"\"\"\u001b[39;00m\n\u001b[32m    620\u001b[39m \u001b[33;03mParses a taxonomy schema file from the internet\u001b[39;00m\n\u001b[32m    621\u001b[39m \n\u001b[32m   (...)\u001b[39m\u001b[32m    625\u001b[39m \u001b[33;03m:return: parsed :class:`xbrl.taxonomy.TaxonomySchema` object\u001b[39;00m\n\u001b[32m    626\u001b[39m \u001b[33;03m\"\"\"\u001b[39;00m\n\u001b[32m    627\u001b[39m \u001b[38;5;28;01mif\u001b[39;00m \u001b[38;5;129;01mnot\u001b[39;00m is_url(schema_url): \u001b[38;5;28;01mraise\u001b[39;00m XbrlParseException(\u001b[33m'\u001b[39m\u001b[33mThis function only parses remotely saved taxonomies. \u001b[39m\u001b[33m'\u001b[39m\n\u001b[32m    628\u001b[39m                                                     \u001b[33m'\u001b[39m\u001b[33mPlease use parse_taxonomy to parse local taxonomy schemas\u001b[39m\u001b[33m'\u001b[39m)\n\u001b[32m--> \u001b[39m\u001b[32m629\u001b[39m schema_path: \u001b[38;5;28mstr\u001b[39m = \u001b[43mcache\u001b[49m\u001b[43m.\u001b[49m\u001b[43mcache_file\u001b[49m\u001b[43m(\u001b[49m\u001b[43mschema_url\u001b[49m\u001b[43m)\u001b[49m\n\u001b[32m    630\u001b[39m \u001b[38;5;28;01mreturn\u001b[39;00m parse_taxonomy(schema_path, cache, imported_schema_uris, schema_url)\n",
      "\u001b[36mFile \u001b[39m\u001b[32m~/Documents/alphaledger/.venv/lib/python3.11/site-packages/xbrl/cache.py:81\u001b[39m, in \u001b[36mHttpCache.cache_file\u001b[39m\u001b[34m(self, file_url)\u001b[39m\n\u001b[32m     78\u001b[39m \u001b[38;5;28;01mif\u001b[39;00m \u001b[38;5;129;01mnot\u001b[39;00m os.path.isdir(file_dir_path):\n\u001b[32m     79\u001b[39m     os.makedirs(file_dir_path)\n\u001b[32m---> \u001b[39m\u001b[32m81\u001b[39m query_response = \u001b[38;5;28;43mself\u001b[39;49m\u001b[43m.\u001b[49m\u001b[43mconnection_manager\u001b[49m\u001b[43m.\u001b[49m\u001b[43mdownload\u001b[49m\u001b[43m(\u001b[49m\u001b[43mfile_url\u001b[49m\u001b[43m,\u001b[49m\u001b[43m \u001b[49m\u001b[43mheaders\u001b[49m\u001b[43m=\u001b[49m\u001b[38;5;28;43mself\u001b[39;49m\u001b[43m.\u001b[49m\u001b[43mheaders\u001b[49m\u001b[43m)\u001b[49m\n\u001b[32m     83\u001b[39m \u001b[38;5;28;01mif\u001b[39;00m \u001b[38;5;129;01mnot\u001b[39;00m query_response.status_code == \u001b[32m200\u001b[39m:\n\u001b[32m     84\u001b[39m     \u001b[38;5;28;01mif\u001b[39;00m query_response.status_code == \u001b[32m404\u001b[39m:\n",
      "\u001b[36mFile \u001b[39m\u001b[32m~/Documents/alphaledger/.venv/lib/python3.11/site-packages/xbrl/helper/connection_manager.py:49\u001b[39m, in \u001b[36mConnectionManager.download\u001b[39m\u001b[34m(self, url, headers)\u001b[39m\n\u001b[32m     47\u001b[39m \u001b[38;5;28;01mdef\u001b[39;00m\u001b[38;5;250m \u001b[39m\u001b[34mdownload\u001b[39m(\u001b[38;5;28mself\u001b[39m, url: \u001b[38;5;28mstr\u001b[39m, headers: \u001b[38;5;28mstr\u001b[39m):\n\u001b[32m     48\u001b[39m     \u001b[38;5;66;03m# make sure last post-delay elapsed, to rate limit API usage\u001b[39;00m\n\u001b[32m---> \u001b[39m\u001b[32m49\u001b[39m     time.sleep(\u001b[38;5;28mmax\u001b[39m(\u001b[32m0\u001b[39m, \u001b[38;5;28mself\u001b[39m.next_try_systime_ms - \u001b[38;5;28mself\u001b[39m._get_systime_ms()) / \u001b[32m1000\u001b[39m)\n\u001b[32m     51\u001b[39m     response = \u001b[38;5;28mself\u001b[39m._session.get(url, headers=headers, allow_redirects=\u001b[38;5;28;01mTrue\u001b[39;00m, verify=\u001b[38;5;28mself\u001b[39m.verify_https)\n\u001b[32m     52\u001b[39m     \u001b[38;5;28;01mif\u001b[39;00m \u001b[38;5;28mself\u001b[39m.logs: logger.info(\u001b[38;5;28mstr\u001b[39m(response.status_code) + \u001b[33m\"\u001b[39m\u001b[33m \u001b[39m\u001b[33m\"\u001b[39m + url)\n",
      "\u001b[31mKeyboardInterrupt\u001b[39m: "
     ]
    }
   ],
   "source": [
    "from alphaledger.metrics import get_revenue_time_series\n",
    "revenue_df = get_revenue_time_series(universe)\n",
    "revenue_df.head()"
   ]
  },
  {
   "cell_type": "code",
   "execution_count": null,
   "metadata": {},
   "outputs": [],
   "source": []
  }
 ],
 "metadata": {
  "kernelspec": {
   "display_name": ".venv",
   "language": "python",
   "name": "python3"
  },
  "language_info": {
   "codemirror_mode": {
    "name": "ipython",
    "version": 3
   },
   "file_extension": ".py",
   "mimetype": "text/x-python",
   "name": "python",
   "nbconvert_exporter": "python",
   "pygments_lexer": "ipython3",
   "version": "3.11.10"
  }
 },
 "nbformat": 4,
 "nbformat_minor": 2
}
